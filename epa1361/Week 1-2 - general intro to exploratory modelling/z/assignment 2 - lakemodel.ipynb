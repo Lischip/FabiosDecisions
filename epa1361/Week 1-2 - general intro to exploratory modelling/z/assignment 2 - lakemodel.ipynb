{
 "cells": [
  {
   "cell_type": "markdown",
   "metadata": {},
   "source": [
    "# Lake model\n",
    "\n",
    "see also [this general introduction to the workbench](https://waterprogramming.wordpress.com/2017/11/01/using-the-exploratory-modelling-workbench/) as a source of inspiration for completing the assignment below\n",
    "\n",
    "## the lake model\n",
    "The exploratory modeling workbench includes an example folder. This folder contains a variety of examples that demonstrate the functionality of the workbench. Many of these examples have been drawn from published cases. Here, we use the Lake Problem as an example for demonstrating some of the key functionality of the workbench. \n",
    "\n",
    "We demonstrate some of the key capabilities of the exploratory modeling workbench using the Lake problem. The lake problem is a stylized and hypothetical decision problem where the population of a city has to decide on the amount of annual pollution it will put into a lake. It the pollution in the lake passes a threshold, it will suffer irreversible eutrophication. \n",
    "\n",
    "\\begin{equation}\n",
    "    X_{(t+1)}=X_t+a_t+\\frac{(X_t^q)}{(1+X_t^q )}- bX_t+\\epsilon_t\n",
    "\\end{equation}\n",
    "\n",
    "where $X_t$ is the pollution at time $t$, $a_t$ is the rate of anthropogenic pollution at time $t$, $b$ is the lake’s natural removal rate, $q$ is the lake's natural recycling rate, $\\epsilon_t$ is the rate of natural pollution at time $t$. The rate of anthropogenic pollution $a_t$ is the decision variable and is somewhere between 0, and 0.1. So $a_t \\in [0,0.1]$. The natural pollution $\\epsilon_t$ is modeled, following Singh et al. (2015), as a log normal distribution with mean $\\mu$ and standard deviation $\\sigma$. \n",
    "There are four outcomes of interest. The first is the average concentration of phosphor in the lake. \n",
    "\n",
    "\\begin{equation}\n",
    "    f_{phosphorus}=  \\frac{1}{\\left\\vert{T}\\right\\vert} \\sum\\limits_{t\\in{T}} X_t \n",
    "\\end{equation}\n",
    "\n",
    "where $\\left\\vert{T}\\right\\vert$ is the cardinality of the set of points in time. \n",
    "The second objective is the economic benefit derived from polluting the lake. Following Singh et al. (2015), this is defined as the discounted benefit of pollution mines the costs of having a polluted lake\n",
    "\n",
    "\\begin{equation}\n",
    "    f_{economic} = \\sum\\limits_{t \\in {T}}\\alpha a_t \\delta^t \n",
    "\\end{equation}\n",
    "\n",
    "where $\\alpha$ is the utility derived from polluting and $\\delta$ is the discount rate. By default, $\\alpha$ is 0.04.\n",
    "The third objective is related to the year over year change in the anthropogenic pollution rate. \n",
    "\n",
    "\\begin{equation}\n",
    "    f_{inertia} =\\frac{1}{\\left\\vert{T}\\right\\vert-1} \\sum\\limits_{t=1}^{\\left\\vert{T}\\right\\vert} I(|a_{t}-a_{t-1} |>\\tau)   \n",
    "\\end{equation}\n",
    "\n",
    "where $I$ is an indicator function that is 0 if the statement is false, and 1 if the statement is true, $\\tau$ is the threshold that is deemed undesirable, and is for illustrative purposes et to 0.2. Effectively, f_{inertia} is the fraction of years where the absolute value of the change in anthropogenic pollution is larger then $\\tau$.\n",
    "The fourth objective is the fraction of years where the pollution in the lake is below the critical threshold.\n",
    "\n",
    "\\begin{equation}\n",
    "    f_{reliability} =  \\frac{1}{\\left\\vert{T}\\right\\vert} \\sum\\limits_{t \\in T}I(X_{t}<X_{crit} ) \n",
    "\\end{equation}\n",
    "\n",
    "where $I$ is an indicator function that is 0 if the statement is false, and 1 if the statement is true, $X_{crit}$ is the critical threshold of pollution and is a function of both $b$ and $q$.\n",
    "\n",
    "The lake problem is characterized by both stochastic uncertainty and deep uncertainty. The stochastic uncertainty arises from the natural inflow. To reduce this stochastic uncertainty, multiple replications are performed and the average over the replication is taken. Deep uncertainty is presented by uncertainty about the mean $\\mu$ and standard deviation $sigma$ of the lognormal distribution characterizing the natural inflow, the natural removal rate of the lake $\\beta$, the natural recycling rate of the lake $q$, and the discount rate $\\delta$. The table below specifies the ranges for the deeply uncertain factors, as well as their best estimate or default values. \n",
    "\n",
    "\n",
    "## Assignment\n",
    "1. Given the Python implementation of the lake problem in lakemodel_function.py, adapt this code and connect it to the workbench\n",
    "\n",
    "for the uncertainties, use the following table\n",
    "\n",
    "|Parameter\t|Range\t        |Default value|\n",
    "|-----------|--------------:|------------:|\n",
    "|$\\mu$    \t|0.01 – 0.05\t|0.02         |\n",
    "|$\\sigma$\t|0.001 – 0.005 \t|0.0017       |\n",
    "|$b$      \t|0.1 – 0.45\t    |0.42         |\n",
    "|$q$\t    |2 – 4.5\t    |2            |\n",
    "|$\\delta$\t|0.93 – 0.99\t|0.98         |\n",
    "\n",
    "For now, assume that for each year a release decision is made. The release is between 0 and 0.1. Carefully look at line 24 in lake_model.py to identify the name to use for each lever.\n",
    "\n",
    "\n"
   ]
  },
  {
   "cell_type": "code",
   "execution_count": 1,
   "metadata": {},
   "outputs": [],
   "source": [
    "#lmf.lake_problem(mean=0.02, stdev=0.0017, b=0.42, q=2.0, delta=0.98)"
   ]
  },
  {
   "cell_type": "code",
   "execution_count": 2,
   "metadata": {},
   "outputs": [],
   "source": [
    "from ema_workbench import Model, RealParameter, ScalarOutcome\n",
    "import zlakemodel_function as lmf\n",
    "\n",
    "model = Model('Lakemodel', function=lmf.lake_problem)\n",
    "\n",
    "model.uncertainties = [RealParameter('mean', 0.01, 0.5),\n",
    "                       RealParameter('stdev', 0.001, 0.005),\n",
    "                       RealParameter('b', 0.1, 0.45),\n",
    "                       RealParameter('q', 2, 4.5),\n",
    "                       RealParameter('delta', 0.93, 0.99)]\n",
    "\n",
    "model.levers = [RealParameter(\"l\" + str(number),0,0.1) for number in range(0,100)]\n",
    "\n",
    "model.outcomes = [ScalarOutcome('max_P', ScalarOutcome.MINIMIZE),\n",
    "                  ScalarOutcome('utility', ScalarOutcome.MAXIMIZE),\n",
    "                  ScalarOutcome('intertia', ScalarOutcome.MAXIMIZE),\n",
    "                  ScalarOutcome('reliability', ScalarOutcome.MAXIMIZE)]"
   ]
  },
  {
   "cell_type": "markdown",
   "metadata": {},
   "source": [
    "2. Explore the behavior of the system in the absence of any release using 1000 scenarios, and the default sampling approach.\n",
    "    * visualize the outcomes of interest, are there any apparent trade-offs?\n",
    "    * can you visually identify the uncertainties that drive system behavior?\n"
   ]
  },
  {
   "cell_type": "code",
   "execution_count": 3,
   "metadata": {},
   "outputs": [],
   "source": [
    "from ema_workbench import SequentialEvaluator\n",
    "\n",
    "with SequentialEvaluator(model) as evaluator:\n",
    "    experiments, outcomes = evaluator.perform_experiments(scenarios=1000)"
   ]
  },
  {
   "cell_type": "code",
   "execution_count": 4,
   "metadata": {},
   "outputs": [
    {
     "data": {
      "image/png": "[encoded data removed]",
      "text/plain": [
       "<Figure size 432x288 with 16 Axes>"
      ]
     },
     "metadata": {
      "needs_background": "light"
     },
     "output_type": "display_data"
    }
   ],
   "source": [
    "import matplotlib.pyplot as plt\n",
    "from ema_workbench.analysis.pairs_plotting import (pairs_lines, pairs_scatter,\n",
    "                                                   pairs_density)\n",
    "pairs_scatter(experiments, outcomes)\n",
    "plt.show()"
   ]
  },
  {
   "cell_type": "code",
   "execution_count": 5,
   "metadata": {},
   "outputs": [],
   "source": [
    "# https://waterprogramming.wordpress.com/2017/11/19/open-exploration-with-the-exploratory-modelling-workbench/"
   ]
  },
  {
   "cell_type": "markdown",
   "metadata": {},
   "source": [
    "3. Explore the behavior of the system over 1000 scenarios for 4 randomly sampled candidate strategies.\n",
    "    * visualize the outcomes of interest\n",
    "    * what can you say about how the release decision influences the system?"
   ]
  },
  {
   "cell_type": "markdown",
   "metadata": {},
   "source": [
    "4. If you have not used parallelization in the foregoing, try to adapt your code to use parallelization. The workbench comes with two evaluators for parallelization. The `MultiProcessingingEvaluator` and the `IpyparallelEvaluator`. When can you use each? Adapt your code from above and sue the `MultiProcessingingEvaluator`. Use the time library to check how much faster the computation for 1000 scenarios completes. \n",
    "\n",
    "Using multiprocessing within a jupyter notebook is tricky. On linux it will work in general just fine. On mac it depends on the version of Mac OS and the version of Python. If you are on the latest version of Mac OS in combination with Python 3.8, it might work but no guarantees. On older versions of Python it should work fine. On Windows it is always a problem. \n",
    "\n",
    "The underlying explanation is quite technical. It has to do with how your operating system creates the additional python processes. On windows, and the latest version of Mac OS in combination with Python 3.8. A completely new Python process is spawned. This new process does **not** inherit what is defined in memory of the parent process. The new child process will try to replicate what is in memory of the parent process by executing many of the import statements that have also been executed within the python process. Thus, if you define a model in the main process, it is not guaranteed to be known in the child processes. This is in particular true if you define the model within a jupyter notebook. Then the child processes will **never** know this function. Within jupyter notebooks, therefore, the best practice is to define your model within a .py file and import this .py file into the notebook. Now, each of the child processes will also execute this import statement and thus know the function. \n"
   ]
  },
  {
   "cell_type": "markdown",
   "metadata": {},
   "source": [
    "## MultiProcessingEvaluator"
   ]
  },
  {
   "cell_type": "code",
   "execution_count": 6,
   "metadata": {},
   "outputs": [
    {
     "name": "stderr",
     "output_type": "stream",
     "text": [
      "[MainProcess/INFO] pool started\n",
      "[MainProcess/INFO] performing 1000 scenarios * 4 policies * 1 model(s) = 4000 experiments\n",
      "[MainProcess/INFO] 400 cases completed\n",
      "[MainProcess/INFO] 800 cases completed\n",
      "[MainProcess/INFO] 1200 cases completed\n",
      "[MainProcess/INFO] 1600 cases completed\n",
      "[MainProcess/INFO] 2000 cases completed\n",
      "[MainProcess/INFO] 2400 cases completed\n",
      "[MainProcess/INFO] 2800 cases completed\n",
      "[MainProcess/INFO] 3200 cases completed\n",
      "[MainProcess/INFO] 3600 cases completed\n",
      "[MainProcess/INFO] 4000 cases completed\n",
      "[MainProcess/INFO] experiments finished\n",
      "[MainProcess/INFO] terminating pool\n"
     ]
    }
   ],
   "source": [
    "from ema_workbench import (MultiprocessingEvaluator, ema_logging,\n",
    "                           perform_experiments)\n",
    "ema_logging.log_to_stderr(ema_logging.INFO)\n",
    "\n",
    "with MultiprocessingEvaluator(model, n_processes=20) as evaluator:\n",
    "    experiments, outcomes = evaluator.perform_experiments(scenarios=1000, policies=4)"
   ]
  },
  {
   "cell_type": "code",
   "execution_count": 7,
   "metadata": {},
   "outputs": [
    {
     "name": "stderr",
     "output_type": "stream",
     "text": [
      "[MainProcess/INFO] pool started\n",
      "[MainProcess/INFO] generation 0: 0/250 nfe\n",
      "[MainProcess/INFO] optimization completed, found 4 solutions\n",
      "[MainProcess/INFO] terminating pool\n"
     ]
    }
   ],
   "source": [
    "#DIRECTED SEARCH BITCH\n",
    "from ema_workbench import MultiprocessingEvaluator, ema_logging\n",
    "\n",
    "ema_logging.log_to_stderr(ema_logging.INFO)\n",
    "\n",
    "with MultiprocessingEvaluator(model, n_processes=20) as evaluator:\n",
    "    results = evaluator.optimize(nfe=250, searchover='levers', epsilons=[0.1,]*len(model.outcomes))"
   ]
  },
  {
   "cell_type": "markdown",
   "metadata": {},
   "source": [
    "## IpyparallelEvaluator"
   ]
  },
  {
   "cell_type": "code",
   "execution_count": 8,
   "metadata": {},
   "outputs": [],
   "source": [
    "# cd to this folder\n",
    "# start cluster with ipcluster start -n ##\n",
    "import ipyparallel\n",
    "client = ipyparallel.Client()"
   ]
  },
  {
   "cell_type": "code",
   "execution_count": 9,
   "metadata": {},
   "outputs": [
    {
     "data": {
      "text/plain": [
       "[0, 1, 2, 3, 4, 5]"
      ]
     },
     "execution_count": 9,
     "metadata": {},
     "output_type": "execute_result"
    }
   ],
   "source": [
    "client.ids"
   ]
  },
  {
   "cell_type": "code",
   "execution_count": 10,
   "metadata": {},
   "outputs": [
    {
     "name": "stderr",
     "output_type": "stream",
     "text": [
      "[MainProcess/INFO] performing experiments using ipyparallel\n",
      "Exception in thread Thread-13:\n",
      "Traceback (most recent call last):\n",
      "  File \"c:\\users\\joren\\anaconda3\\envs\\mbdm\\lib\\threading.py\", line 932, in _bootstrap_inner\n",
      "    self.run()\n",
      "  File \"c:\\users\\joren\\anaconda3\\envs\\mbdm\\lib\\threading.py\", line 870, in run\n",
      "    self._target(*self._args, **self._kwargs)\n",
      "  File \"c:\\users\\joren\\anaconda3\\envs\\mbdm\\lib\\site-packages\\ema_workbench\\em_framework\\ema_ipyparallel.py\", line 77, in starter\n",
      "[MainProcess/INFO] performing 1000 scenarios * 1 policies * 1 model(s) = 1000 experiments\n",
      "    logwatcher.loop.start()\n",
      "  File \"c:\\users\\joren\\anaconda3\\envs\\mbdm\\lib\\site-packages\\tornado\\platform\\asyncio.py\", line 199, in start\n",
      "    self.asyncio_loop.run_forever()\n",
      "  File \"c:\\users\\joren\\anaconda3\\envs\\mbdm\\lib\\asyncio\\windows_events.py\", line 314, in run_forever\n",
      "    assert self._self_reading_future is None\n",
      "AssertionError\n",
      "[MainProcess/INFO] 100 cases completed\n",
      "[MainProcess/INFO] 200 cases completed\n",
      "[MainProcess/INFO] 300 cases completed\n",
      "[MainProcess/INFO] 400 cases completed\n",
      "[MainProcess/INFO] 500 cases completed\n",
      "[MainProcess/INFO] 600 cases completed\n",
      "[MainProcess/INFO] 700 cases completed\n",
      "[MainProcess/INFO] 800 cases completed\n",
      "[MainProcess/INFO] 900 cases completed\n",
      "[MainProcess/INFO] 1000 cases completed\n",
      "[MainProcess/INFO] experiments finished\n",
      "Exception in thread Tornado selector:\n",
      "Traceback (most recent call last):\n",
      "  File \"c:\\users\\joren\\anaconda3\\envs\\mbdm\\lib\\threading.py\", line 932, in _bootstrap_inner\n",
      "    self.run()\n",
      "  File \"c:\\users\\joren\\anaconda3\\envs\\mbdm\\lib\\threading.py\", line 870, in run\n",
      "    self._target(*self._args, **self._kwargs)\n",
      "  File \"c:\\users\\joren\\anaconda3\\envs\\mbdm\\lib\\site-packages\\tornado\\platform\\asyncio.py\", line 551, in _run_select\n",
      "    rs, ws, xs = select.select(to_read, to_write, to_write)\n",
      "OSError: [WinError 10038] An operation was attempted on something that is not a socket\n"
     ]
    }
   ],
   "source": [
    "from ema_workbench import (IpyparallelEvaluator, ema_logging,\n",
    "                           perform_experiments)\n",
    "\n",
    "ema_logging.log_to_stderr(ema_logging.INFO)\n",
    "\n",
    "with IpyparallelEvaluator(model, client) as evaluator:\n",
    "    results =  evaluator.perform_experiments(scenarios=1000)"
   ]
  }
 ],
 "metadata": {
  "anaconda-cloud": {},
  "kernelspec": {
   "display_name": "Python 3",
   "language": "python",
   "name": "python3"
  },
  "language_info": {
   "codemirror_mode": {
    "name": "ipython",
    "version": 3
   },
   "file_extension": ".py",
   "mimetype": "text/x-python",
   "name": "python",
   "nbconvert_exporter": "python",
   "pygments_lexer": "ipython3",
   "version": "3.8.8"
  },
  "latex_envs": {
   "LaTeX_envs_menu_present": true,
   "autocomplete": true,
   "bibliofile": "biblio.bib",
   "cite_by": "apalike",
   "current_citInitial": 1,
   "eqLabelWithNumbers": true,
   "eqNumInitial": 1,
   "hotkeys": {
    "equation": "Ctrl-E",
    "itemize": "Ctrl-I"
   },
   "labels_anchors": false,
   "latex_user_defs": false,
   "report_style_numbering": false,
   "user_envs_cfg": false
  }
 },
 "nbformat": 4,
 "nbformat_minor": 4
}
