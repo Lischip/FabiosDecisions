{
 "cells": [
  {
   "cell_type": "code",
   "execution_count": 1,
   "metadata": {},
   "outputs": [],
   "source": [
    "#%%html\n",
    "#<link rel=\"stylesheet\" href=\"style/style.css\">"
   ]
  },
  {
   "cell_type": "markdown",
   "metadata": {},
   "source": [
    "# Lake model continued\n",
    "\n",
    "In the previous week you used the lake problem as a means of getting aquinted with the workbench. In this assignment we will continue with the lake problem, focussing explicitly on using it for open exploration. You can use the second part of [this tutorial](https://emaworkbench.readthedocs.io/en/latest/indepth_tutorial/open-exploration.html) for help.\n",
    "\n",
    "**It is paramount that you are using the lake problem with 100 decision variables, rather than the one found on the website with the seperate anthropogenic release decision**\n",
    "\n",
    "## Apply sensitivity analysis\n",
    "There is substantial support in the ema_workbench for global sensitivity. For this, the workbench relies on [SALib](https://salib.readthedocs.io/en/latest/) and feature scoring which is a machine learning alternative for global sensitivity analysis. \n",
    "\n",
    "\n",
    "1. Apply Sobol with 3 seperate release policies (0, 0.05, and 0.1) and analyse the results for each release policy seperately focusing on the reliability objective. Do the sensitivities change depending on the release policy? Can you explain why or why not?\n",
    "\n",
    "*hint: you can use sobol sampling for the uncertainties, and set policies to a list with the 3 different release policies. Next, for the analysis using logical indexing on the experiment.policy column you can select the results for each seperate release policy and apply sobol to each of the three seperate release policies. If this sounds too complicated, just do it on each release policy seperately.*\n",
    "\n"
   ]
  },
  {
   "cell_type": "markdown",
   "metadata": {},
   "source": [
    "Use the Sobol sampling functionality included in the Workbench to perform experiments with a sample size of N=50, then analyze the results with SALib for the same three indicators. This requires specifying the keyword argument 'uncertainty_sampling' of perform_experiments. Note that when using Sobol sampling, the meaning of the keyword argument scenarios changes a bit. In order to properly estimate Sobol scores as well as interaction effects, you require N * (2D+2) scenarios, where D is the number of uncertain parameters, and N is the value for scenarios passed to perform_experiments. Repeat the analysis for larger sample sizes, with N=250 and N=1000. How can we interpret the first-order and total indices? Are these sample sizes sufficient for a stable estimation of the indices? You'll need to use the get_SALib_problem function to convert your Workbench experiments to a problem definition that you can pass to the SALib analysis function.\n",
    "\n"
   ]
  },
  {
   "cell_type": "code",
   "execution_count": 2,
   "metadata": {},
   "outputs": [],
   "source": [
    "import numpy as np\n",
    "import matplotlib.pyplot as plt\n",
    "import statsmodels.api as sm\n",
    "from ema_workbench import (Model, RealParameter, Constant, ScalarOutcome, TimeSeriesOutcome, perform_experiments, ema_logging, SequentialEvaluator, MultiprocessingEvaluator)\n",
    "from ema_workbench.em_framework.evaluators import LHS, SOBOL, MORRIS\n",
    "from ema_workbench.analysis import feature_scoring, pairs_plotting\n",
    "from ema_workbench.analysis.scenario_discovery_util import RuleInductionType\n",
    "from ema_workbench.em_framework.salib_samplers import get_SALib_problem\n",
    "from SALib.analyze import sobol\n",
    "import pandas as pd\n",
    "import seaborn as sns"
   ]
  },
  {
   "cell_type": "code",
   "execution_count": 3,
   "metadata": {},
   "outputs": [],
   "source": [
    "# Set up model\n",
    "\n",
    "import lakemodel_function as lake\n",
    "\n",
    "model = Model('Lakemodel', function=lake.lake_problem)\n",
    "\n",
    "uncertainties = [RealParameter('mean', 0.01, 0.5),\n",
    "                 RealParameter('stdev', 0.001, 0.005),\n",
    "                 RealParameter('b', 0.1, 0.45),\n",
    "                 RealParameter('q', 2, 4.5),\n",
    "                 RealParameter('delta', 0.93, 0.99)]\n",
    "\n",
    "outcomes = [ScalarOutcome('max_P', ScalarOutcome.MINIMIZE),\n",
    "            ScalarOutcome('utility', ScalarOutcome.MAXIMIZE),\n",
    "            ScalarOutcome('inertia', ScalarOutcome.INFO),\n",
    "            ScalarOutcome('reliability', ScalarOutcome.MAXIMIZE)]\n",
    "# assumption that inertia does not matter and is only there to provide info.\n",
    "\n",
    "model.uncertainties = uncertainties\n",
    "\n",
    "# model.levers = [RealParameter(\"l\" + str(number),0,0.1) for number in range(0,100)]\n",
    "\n",
    "model.outcomes = outcomes"
   ]
  },
  {
   "cell_type": "code",
   "execution_count": 4,
   "metadata": {},
   "outputs": [
    {
     "name": "stdout",
     "output_type": "stream",
     "text": [
      "Scenarios to perform: 600\n",
      "Release decision: 0\n"
     ]
    },
    {
     "name": "stderr",
     "output_type": "stream",
     "text": [
      "[MainProcess/INFO] pool started\n",
      "C:\\Users\\David2\\anaconda3\\envs\\gds\\lib\\site-packages\\SALib\\sample\\saltelli.py:52: FutureWarning: \n",
      "        Convergence properties of the Sobol' sequence is only valid if `N` = 2^n.\n",
      "        SALib will continue on, but results may have issues.\n",
      "        In future, this will raise an error.\n",
      "        \n",
      "  warnings.warn(msg, FutureWarning)\n",
      "[MainProcess/INFO] performing 600 scenarios * 1 policies * 1 model(s) = 600 experiments\n",
      "[MainProcess/INFO] 60 cases completed\n",
      "[MainProcess/INFO] 120 cases completed\n",
      "[MainProcess/INFO] 180 cases completed\n",
      "[MainProcess/INFO] 240 cases completed\n",
      "[MainProcess/INFO] 300 cases completed\n",
      "[MainProcess/INFO] 360 cases completed\n",
      "[MainProcess/INFO] 420 cases completed\n",
      "[MainProcess/INFO] 480 cases completed\n",
      "[MainProcess/INFO] 540 cases completed\n",
      "[MainProcess/INFO] 600 cases completed\n",
      "[MainProcess/INFO] experiments finished\n",
      "[MainProcess/INFO] terminating pool\n"
     ]
    },
    {
     "name": "stdout",
     "output_type": "stream",
     "text": [
      "Scenarios to perform: 3000\n",
      "Release decision: 0\n"
     ]
    },
    {
     "name": "stderr",
     "output_type": "stream",
     "text": [
      "[MainProcess/INFO] pool started\n",
      "[MainProcess/INFO] performing 3000 scenarios * 1 policies * 1 model(s) = 3000 experiments\n",
      "[MainProcess/INFO] 300 cases completed\n",
      "[MainProcess/INFO] 600 cases completed\n",
      "[MainProcess/INFO] 900 cases completed\n",
      "[MainProcess/INFO] 1200 cases completed\n",
      "[MainProcess/INFO] 1500 cases completed\n",
      "[MainProcess/INFO] 1800 cases completed\n",
      "[MainProcess/INFO] 2100 cases completed\n",
      "[MainProcess/INFO] 2400 cases completed\n",
      "[MainProcess/INFO] 2700 cases completed\n",
      "[MainProcess/INFO] 3000 cases completed\n",
      "[MainProcess/INFO] experiments finished\n",
      "[MainProcess/INFO] terminating pool\n"
     ]
    },
    {
     "name": "stdout",
     "output_type": "stream",
     "text": [
      "Scenarios to perform: 12000\n",
      "Release decision: 0\n"
     ]
    },
    {
     "name": "stderr",
     "output_type": "stream",
     "text": [
      "[MainProcess/INFO] pool started\n",
      "[MainProcess/INFO] performing 12000 scenarios * 1 policies * 1 model(s) = 12000 experiments\n",
      "[MainProcess/INFO] 1200 cases completed\n",
      "[MainProcess/INFO] 2400 cases completed\n",
      "[MainProcess/INFO] 3600 cases completed\n",
      "[MainProcess/INFO] 4800 cases completed\n",
      "[MainProcess/INFO] 6000 cases completed\n",
      "[MainProcess/INFO] 7200 cases completed\n",
      "[MainProcess/INFO] 8400 cases completed\n",
      "[MainProcess/INFO] 9600 cases completed\n",
      "[MainProcess/INFO] 10800 cases completed\n",
      "[MainProcess/INFO] 12000 cases completed\n",
      "[MainProcess/INFO] experiments finished\n",
      "[MainProcess/INFO] terminating pool\n"
     ]
    },
    {
     "name": "stdout",
     "output_type": "stream",
     "text": [
      "Scenarios to perform: 600\n",
      "Release decision: 0.05\n"
     ]
    },
    {
     "name": "stderr",
     "output_type": "stream",
     "text": [
      "[MainProcess/INFO] pool started\n",
      "[MainProcess/INFO] performing 600 scenarios * 1 policies * 1 model(s) = 600 experiments\n",
      "[MainProcess/INFO] 60 cases completed\n",
      "[MainProcess/INFO] 120 cases completed\n",
      "[MainProcess/INFO] 180 cases completed\n",
      "[MainProcess/INFO] 240 cases completed\n",
      "[MainProcess/INFO] 300 cases completed\n",
      "[MainProcess/INFO] 360 cases completed\n",
      "[MainProcess/INFO] 420 cases completed\n",
      "[MainProcess/INFO] 480 cases completed\n",
      "[MainProcess/INFO] 540 cases completed\n",
      "[MainProcess/INFO] 600 cases completed\n",
      "[MainProcess/INFO] experiments finished\n",
      "[MainProcess/INFO] terminating pool\n"
     ]
    },
    {
     "name": "stdout",
     "output_type": "stream",
     "text": [
      "Scenarios to perform: 3000\n",
      "Release decision: 0.05\n"
     ]
    },
    {
     "name": "stderr",
     "output_type": "stream",
     "text": [
      "[MainProcess/INFO] pool started\n",
      "[MainProcess/INFO] performing 3000 scenarios * 1 policies * 1 model(s) = 3000 experiments\n",
      "[MainProcess/INFO] 300 cases completed\n",
      "[MainProcess/INFO] 600 cases completed\n",
      "[MainProcess/INFO] 900 cases completed\n",
      "[MainProcess/INFO] 1200 cases completed\n",
      "[MainProcess/INFO] 1500 cases completed\n",
      "[MainProcess/INFO] 1800 cases completed\n",
      "[MainProcess/INFO] 2100 cases completed\n",
      "[MainProcess/INFO] 2400 cases completed\n",
      "[MainProcess/INFO] 2700 cases completed\n",
      "[MainProcess/INFO] 3000 cases completed\n",
      "[MainProcess/INFO] experiments finished\n",
      "[MainProcess/INFO] terminating pool\n"
     ]
    },
    {
     "name": "stdout",
     "output_type": "stream",
     "text": [
      "Scenarios to perform: 12000\n",
      "Release decision: 0.05\n"
     ]
    },
    {
     "name": "stderr",
     "output_type": "stream",
     "text": [
      "[MainProcess/INFO] pool started\n",
      "[MainProcess/INFO] performing 12000 scenarios * 1 policies * 1 model(s) = 12000 experiments\n",
      "[MainProcess/INFO] 1200 cases completed\n",
      "[MainProcess/INFO] 2400 cases completed\n",
      "[MainProcess/INFO] 3600 cases completed\n",
      "[MainProcess/INFO] 4800 cases completed\n",
      "[MainProcess/INFO] 6000 cases completed\n",
      "[MainProcess/INFO] 7200 cases completed\n",
      "[MainProcess/INFO] 8400 cases completed\n",
      "[MainProcess/INFO] 9600 cases completed\n",
      "[MainProcess/INFO] 10800 cases completed\n",
      "[MainProcess/INFO] 12000 cases completed\n",
      "[MainProcess/INFO] experiments finished\n",
      "[MainProcess/INFO] terminating pool\n"
     ]
    },
    {
     "name": "stdout",
     "output_type": "stream",
     "text": [
      "Scenarios to perform: 600\n",
      "Release decision: 0.1\n"
     ]
    },
    {
     "name": "stderr",
     "output_type": "stream",
     "text": [
      "[MainProcess/INFO] pool started\n",
      "[MainProcess/INFO] performing 600 scenarios * 1 policies * 1 model(s) = 600 experiments\n",
      "[MainProcess/INFO] 60 cases completed\n",
      "[MainProcess/INFO] 120 cases completed\n",
      "[MainProcess/INFO] 180 cases completed\n",
      "[MainProcess/INFO] 240 cases completed\n",
      "[MainProcess/INFO] 300 cases completed\n",
      "[MainProcess/INFO] 360 cases completed\n",
      "[MainProcess/INFO] 420 cases completed\n",
      "[MainProcess/INFO] 480 cases completed\n",
      "[MainProcess/INFO] 540 cases completed\n",
      "[MainProcess/INFO] 600 cases completed\n",
      "[MainProcess/INFO] experiments finished\n",
      "[MainProcess/INFO] terminating pool\n"
     ]
    },
    {
     "name": "stdout",
     "output_type": "stream",
     "text": [
      "Scenarios to perform: 3000\n",
      "Release decision: 0.1\n"
     ]
    },
    {
     "name": "stderr",
     "output_type": "stream",
     "text": [
      "[MainProcess/INFO] pool started\n",
      "[MainProcess/INFO] performing 3000 scenarios * 1 policies * 1 model(s) = 3000 experiments\n",
      "[MainProcess/INFO] 300 cases completed\n",
      "[MainProcess/INFO] 600 cases completed\n",
      "[MainProcess/INFO] 900 cases completed\n",
      "[MainProcess/INFO] 1200 cases completed\n",
      "[MainProcess/INFO] 1500 cases completed\n",
      "[MainProcess/INFO] 1800 cases completed\n",
      "[MainProcess/INFO] 2100 cases completed\n",
      "[MainProcess/INFO] 2400 cases completed\n",
      "[MainProcess/INFO] 2700 cases completed\n",
      "[MainProcess/INFO] 3000 cases completed\n",
      "[MainProcess/INFO] experiments finished\n",
      "[MainProcess/INFO] terminating pool\n"
     ]
    },
    {
     "name": "stdout",
     "output_type": "stream",
     "text": [
      "Scenarios to perform: 12000\n",
      "Release decision: 0.1\n"
     ]
    },
    {
     "name": "stderr",
     "output_type": "stream",
     "text": [
      "[MainProcess/INFO] pool started\n",
      "[MainProcess/INFO] performing 12000 scenarios * 1 policies * 1 model(s) = 12000 experiments\n",
      "[MainProcess/INFO] 1200 cases completed\n",
      "[MainProcess/INFO] 2400 cases completed\n",
      "[MainProcess/INFO] 3600 cases completed\n",
      "[MainProcess/INFO] 4800 cases completed\n",
      "[MainProcess/INFO] 6000 cases completed\n",
      "[MainProcess/INFO] 7200 cases completed\n",
      "[MainProcess/INFO] 8400 cases completed\n",
      "[MainProcess/INFO] 9600 cases completed\n",
      "[MainProcess/INFO] 10800 cases completed\n",
      "[MainProcess/INFO] 12000 cases completed\n",
      "[MainProcess/INFO] experiments finished\n",
      "[MainProcess/INFO] terminating pool\n"
     ]
    }
   ],
   "source": [
    "# Model run\n",
    "processes = 8\n",
    "D = len(uncertainties)\n",
    "i = 0\n",
    "experiments = {}\n",
    "outcomes = {}\n",
    "\n",
    "for l_value in [0, 0.05, 0.1]:\n",
    "\n",
    "    model.constants = [Constant('l' + str(i), l_value) for i in range(100)]\n",
    "\n",
    "    for N in [50, 250, 1000]:\n",
    "\n",
    "        n_scenarios = N * (2 * D + 2)\n",
    "        print('Scenarios to perform:',str(n_scenarios))\n",
    "        print('Release decision:',str(l_value))\n",
    "        # It seems like the code already does this transformation for us, then wtf Jan? That was pretty stupid confusing.\n",
    "\n",
    "        # This bit of code is actually preventing a warning from SAlib for some reason, the one about the 2^n scenarios\n",
    "        ema_logging.log_to_stderr(ema_logging.INFO)\n",
    "        # Why 7200 cases when it is 600 scenarios wtf? Maybe related to the previous?\n",
    "\n",
    "        with MultiprocessingEvaluator(model, processes) as evaluator:\n",
    "            # I think no policies because levers is a constant?\n",
    "            experiments['l'+str(l_value)+'_N'+str(N)], outcomes['l'+str(l_value)+'_N'+str(N)] = evaluator.perform_experiments(scenarios = N, uncertainty_sampling=SOBOL)\n",
    "            # Still have to add more Sobol crap here"
   ]
  },
  {
   "cell_type": "code",
   "execution_count": 6,
   "metadata": {},
   "outputs": [
    {
     "name": "stderr",
     "output_type": "stream",
     "text": [
      "[MainProcess/INFO] no time dimension found in results\n"
     ]
    },
    {
     "data": {
      "image/png": "[encoded data removed]",
      "text/plain": [
       "<Figure size 576x576 with 16 Axes>"
      ]
     },
     "metadata": {
      "needs_background": "light"
     },
     "output_type": "display_data"
    }
   ],
   "source": [
    "fig, axes = pairs_plotting.pairs_scatter(experiments['l0_N50'], outcomes['l0_N50'], legend=False)\n",
    "fig.set_size_inches(8,8)\n",
    "plt.show()"
   ]
  },
  {
   "cell_type": "markdown",
   "metadata": {},
   "source": [
    "<div class=\"analysis\">\n",
    "I am David the inventor of S3x u can call me fishdoorbellguy.    \n",
    "</div>\n",
    "\n",
    "<div style=\"color: GREEN\">\n",
    "David: wut"
   ]
  },
  {
   "cell_type": "markdown",
   "metadata": {},
   "source": [
    "2. Repeat the above analysis for the 3 release policies but now with extra trees feature scoring and for all outcomes of interest. As a bonus, use the sobol experiment results as input for extra trees, and compare the results with those resulting from latin hypercube sampling.\n",
    "\n",
    "*hint: you can use [seaborn heatmaps](https://seaborn.pydata.org/generated/seaborn.heatmap.html) for a nice figure of the results*\n"
   ]
  }
 ],
 "metadata": {
  "kernelspec": {
   "display_name": "Python 3",
   "language": "python",
   "name": "python3"
  },
  "language_info": {
   "codemirror_mode": {
    "name": "ipython",
    "version": 3
   },
   "file_extension": ".py",
   "mimetype": "text/x-python",
   "name": "python",
   "nbconvert_exporter": "python",
   "pygments_lexer": "ipython3",
   "version": "3.7.9"
  }
 },
 "nbformat": 4,
 "nbformat_minor": 4
}
