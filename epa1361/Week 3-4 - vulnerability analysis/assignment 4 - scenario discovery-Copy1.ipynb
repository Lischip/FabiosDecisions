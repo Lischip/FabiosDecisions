{
 "cells": [
  {
   "cell_type": "markdown",
   "metadata": {},
   "source": [
    "# Replication assignment\n",
    "\n",
    "Replicate the results found in [Bryant et al  (2010)](https://doi.org/10.1016/j.techfore.2009.08.002), [Rozenberg et al (2014)](https://link.springer.com/content/pdf/10.1007/s10584-013-0904-3.pdf), and [Hamarat et al (2013)](https://doi.org/10.1016/j.techfore.2012.10.004). The data files are named accordingly. You can also look at [Kwakkel & Jaxa-Rozen (2016)](https://www.sciencedirect.com/science/article/pii/S1364815215301092), which gives a succint summary of these three cases. \n",
    "\n",
    "An additional useful, if dated, resource for Bryant et al is https://waterprogramming.wordpress.com/2015/08/05/scenario-discovery-in-python/ \n",
    "\n"
   ]
  },
  {
   "cell_type": "markdown",
   "metadata": {},
   "source": [
    "# Bryant & Lempert\n",
    "\n",
    "Load the data using pandas. The experiments are in colums 2-10, while the outcome is in column 15. If you look at the paper carefully, you will see that they change the peel_alpha in PRIM. This controls the leniency of the algorithm.\n"
   ]
  },
  {
   "cell_type": "code",
   "execution_count": 1,
   "metadata": {},
   "outputs": [
    {
     "data": {
      "text/html": [
       "<div>\n",
       "<style scoped>\n",
       "    .dataframe tbody tr th:only-of-type {\n",
       "        vertical-align: middle;\n",
       "    }\n",
       "\n",
       "    .dataframe tbody tr th {\n",
       "        vertical-align: top;\n",
       "    }\n",
       "\n",
       "    .dataframe thead th {\n",
       "        text-align: right;\n",
       "    }\n",
       "</style>\n",
       "<table border=\"1\" class=\"dataframe\">\n",
       "  <thead>\n",
       "    <tr style=\"text-align: right;\">\n",
       "      <th></th>\n",
       "      <th>renew req %</th>\n",
       "      <th>Pricing</th>\n",
       "      <th>Cellulosic cost</th>\n",
       "      <th>Total biomass</th>\n",
       "      <th>Feedstock distribution</th>\n",
       "      <th>Cellulosic yield</th>\n",
       "      <th>Oil elasticity</th>\n",
       "      <th>Demand elasticity</th>\n",
       "      <th>Electricity coproduction</th>\n",
       "      <th>oil supply shift</th>\n",
       "      <th>Biomass backstop price</th>\n",
       "      <th>input record</th>\n",
       "      <th>Expen change</th>\n",
       "      <th>Incremental cost</th>\n",
       "      <th>Less than 10%</th>\n",
       "      <th>Greater than 90%</th>\n",
       "    </tr>\n",
       "  </thead>\n",
       "  <tbody>\n",
       "    <tr>\n",
       "      <th>0</th>\n",
       "      <td>0.25</td>\n",
       "      <td>1</td>\n",
       "      <td>124.900001</td>\n",
       "      <td>612.799988</td>\n",
       "      <td>0.04</td>\n",
       "      <td>89.500000</td>\n",
       "      <td>0.206</td>\n",
       "      <td>-0.469</td>\n",
       "      <td>1.83</td>\n",
       "      <td>0.078</td>\n",
       "      <td>162.199997</td>\n",
       "      <td>1001</td>\n",
       "      <td>60.00</td>\n",
       "      <td>276.47</td>\n",
       "      <td>0</td>\n",
       "      <td>0</td>\n",
       "    </tr>\n",
       "    <tr>\n",
       "      <th>1</th>\n",
       "      <td>0.25</td>\n",
       "      <td>1</td>\n",
       "      <td>67.300003</td>\n",
       "      <td>837.200012</td>\n",
       "      <td>0.18</td>\n",
       "      <td>95.900002</td>\n",
       "      <td>0.277</td>\n",
       "      <td>-0.380</td>\n",
       "      <td>0.01</td>\n",
       "      <td>-0.032</td>\n",
       "      <td>150.300003</td>\n",
       "      <td>1002</td>\n",
       "      <td>19.42</td>\n",
       "      <td>85.07</td>\n",
       "      <td>0</td>\n",
       "      <td>0</td>\n",
       "    </tr>\n",
       "    <tr>\n",
       "      <th>2</th>\n",
       "      <td>0.25</td>\n",
       "      <td>1</td>\n",
       "      <td>71.000000</td>\n",
       "      <td>740.400024</td>\n",
       "      <td>0.80</td>\n",
       "      <td>83.500000</td>\n",
       "      <td>0.445</td>\n",
       "      <td>-0.778</td>\n",
       "      <td>0.25</td>\n",
       "      <td>-0.093</td>\n",
       "      <td>135.800003</td>\n",
       "      <td>1003</td>\n",
       "      <td>17.76</td>\n",
       "      <td>200.11</td>\n",
       "      <td>0</td>\n",
       "      <td>0</td>\n",
       "    </tr>\n",
       "    <tr>\n",
       "      <th>3</th>\n",
       "      <td>0.25</td>\n",
       "      <td>1</td>\n",
       "      <td>80.099998</td>\n",
       "      <td>995.599976</td>\n",
       "      <td>0.58</td>\n",
       "      <td>82.400002</td>\n",
       "      <td>0.291</td>\n",
       "      <td>-0.334</td>\n",
       "      <td>0.08</td>\n",
       "      <td>-0.086</td>\n",
       "      <td>98.800003</td>\n",
       "      <td>1004</td>\n",
       "      <td>37.88</td>\n",
       "      <td>130.86</td>\n",
       "      <td>0</td>\n",
       "      <td>0</td>\n",
       "    </tr>\n",
       "    <tr>\n",
       "      <th>4</th>\n",
       "      <td>0.25</td>\n",
       "      <td>1</td>\n",
       "      <td>76.400002</td>\n",
       "      <td>476.399994</td>\n",
       "      <td>0.79</td>\n",
       "      <td>97.500000</td>\n",
       "      <td>0.443</td>\n",
       "      <td>-0.205</td>\n",
       "      <td>1.59</td>\n",
       "      <td>0.073</td>\n",
       "      <td>163.500000</td>\n",
       "      <td>1006</td>\n",
       "      <td>66.13</td>\n",
       "      <td>180.11</td>\n",
       "      <td>0</td>\n",
       "      <td>0</td>\n",
       "    </tr>\n",
       "    <tr>\n",
       "      <th>...</th>\n",
       "      <td>...</td>\n",
       "      <td>...</td>\n",
       "      <td>...</td>\n",
       "      <td>...</td>\n",
       "      <td>...</td>\n",
       "      <td>...</td>\n",
       "      <td>...</td>\n",
       "      <td>...</td>\n",
       "      <td>...</td>\n",
       "      <td>...</td>\n",
       "      <td>...</td>\n",
       "      <td>...</td>\n",
       "      <td>...</td>\n",
       "      <td>...</td>\n",
       "      <td>...</td>\n",
       "      <td>...</td>\n",
       "    </tr>\n",
       "    <tr>\n",
       "      <th>877</th>\n",
       "      <td>0.25</td>\n",
       "      <td>1</td>\n",
       "      <td>99.199997</td>\n",
       "      <td>511.600006</td>\n",
       "      <td>0.45</td>\n",
       "      <td>89.099998</td>\n",
       "      <td>0.363</td>\n",
       "      <td>-0.387</td>\n",
       "      <td>1.75</td>\n",
       "      <td>-0.015</td>\n",
       "      <td>170.500000</td>\n",
       "      <td>1995</td>\n",
       "      <td>74.22</td>\n",
       "      <td>265.56</td>\n",
       "      <td>0</td>\n",
       "      <td>0</td>\n",
       "    </tr>\n",
       "    <tr>\n",
       "      <th>878</th>\n",
       "      <td>0.25</td>\n",
       "      <td>1</td>\n",
       "      <td>102.400002</td>\n",
       "      <td>751.400024</td>\n",
       "      <td>0.91</td>\n",
       "      <td>86.800003</td>\n",
       "      <td>0.318</td>\n",
       "      <td>-0.471</td>\n",
       "      <td>0.75</td>\n",
       "      <td>0.023</td>\n",
       "      <td>96.199997</td>\n",
       "      <td>1996</td>\n",
       "      <td>35.97</td>\n",
       "      <td>163.70</td>\n",
       "      <td>0</td>\n",
       "      <td>0</td>\n",
       "    </tr>\n",
       "    <tr>\n",
       "      <th>879</th>\n",
       "      <td>0.25</td>\n",
       "      <td>1</td>\n",
       "      <td>100.000000</td>\n",
       "      <td>527.000000</td>\n",
       "      <td>0.59</td>\n",
       "      <td>91.099998</td>\n",
       "      <td>0.410</td>\n",
       "      <td>-0.567</td>\n",
       "      <td>0.22</td>\n",
       "      <td>0.062</td>\n",
       "      <td>137.100006</td>\n",
       "      <td>1997</td>\n",
       "      <td>35.96</td>\n",
       "      <td>200.64</td>\n",
       "      <td>0</td>\n",
       "      <td>0</td>\n",
       "    </tr>\n",
       "    <tr>\n",
       "      <th>880</th>\n",
       "      <td>0.25</td>\n",
       "      <td>1</td>\n",
       "      <td>108.300003</td>\n",
       "      <td>694.200012</td>\n",
       "      <td>0.65</td>\n",
       "      <td>99.800003</td>\n",
       "      <td>0.355</td>\n",
       "      <td>-0.368</td>\n",
       "      <td>1.62</td>\n",
       "      <td>0.017</td>\n",
       "      <td>145.399994</td>\n",
       "      <td>1998</td>\n",
       "      <td>41.42</td>\n",
       "      <td>126.74</td>\n",
       "      <td>0</td>\n",
       "      <td>0</td>\n",
       "    </tr>\n",
       "    <tr>\n",
       "      <th>881</th>\n",
       "      <td>0.25</td>\n",
       "      <td>1</td>\n",
       "      <td>121.099999</td>\n",
       "      <td>588.599976</td>\n",
       "      <td>0.35</td>\n",
       "      <td>94.599998</td>\n",
       "      <td>0.283</td>\n",
       "      <td>-0.332</td>\n",
       "      <td>1.18</td>\n",
       "      <td>-0.007</td>\n",
       "      <td>124.300003</td>\n",
       "      <td>1999</td>\n",
       "      <td>62.17</td>\n",
       "      <td>207.96</td>\n",
       "      <td>0</td>\n",
       "      <td>0</td>\n",
       "    </tr>\n",
       "  </tbody>\n",
       "</table>\n",
       "<p>882 rows × 16 columns</p>\n",
       "</div>"
      ],
      "text/plain": [
       "     renew req %  Pricing  Cellulosic cost  Total biomass  \\\n",
       "0           0.25        1       124.900001     612.799988   \n",
       "1           0.25        1        67.300003     837.200012   \n",
       "2           0.25        1        71.000000     740.400024   \n",
       "3           0.25        1        80.099998     995.599976   \n",
       "4           0.25        1        76.400002     476.399994   \n",
       "..           ...      ...              ...            ...   \n",
       "877         0.25        1        99.199997     511.600006   \n",
       "878         0.25        1       102.400002     751.400024   \n",
       "879         0.25        1       100.000000     527.000000   \n",
       "880         0.25        1       108.300003     694.200012   \n",
       "881         0.25        1       121.099999     588.599976   \n",
       "\n",
       "     Feedstock distribution  Cellulosic yield  Oil elasticity  \\\n",
       "0                      0.04         89.500000           0.206   \n",
       "1                      0.18         95.900002           0.277   \n",
       "2                      0.80         83.500000           0.445   \n",
       "3                      0.58         82.400002           0.291   \n",
       "4                      0.79         97.500000           0.443   \n",
       "..                      ...               ...             ...   \n",
       "877                    0.45         89.099998           0.363   \n",
       "878                    0.91         86.800003           0.318   \n",
       "879                    0.59         91.099998           0.410   \n",
       "880                    0.65         99.800003           0.355   \n",
       "881                    0.35         94.599998           0.283   \n",
       "\n",
       "     Demand elasticity  Electricity coproduction  oil supply shift  \\\n",
       "0               -0.469                      1.83             0.078   \n",
       "1               -0.380                      0.01            -0.032   \n",
       "2               -0.778                      0.25            -0.093   \n",
       "3               -0.334                      0.08            -0.086   \n",
       "4               -0.205                      1.59             0.073   \n",
       "..                 ...                       ...               ...   \n",
       "877             -0.387                      1.75            -0.015   \n",
       "878             -0.471                      0.75             0.023   \n",
       "879             -0.567                      0.22             0.062   \n",
       "880             -0.368                      1.62             0.017   \n",
       "881             -0.332                      1.18            -0.007   \n",
       "\n",
       "     Biomass backstop price  input record  Expen change  Incremental cost  \\\n",
       "0                162.199997          1001         60.00            276.47   \n",
       "1                150.300003          1002         19.42             85.07   \n",
       "2                135.800003          1003         17.76            200.11   \n",
       "3                 98.800003          1004         37.88            130.86   \n",
       "4                163.500000          1006         66.13            180.11   \n",
       "..                      ...           ...           ...               ...   \n",
       "877              170.500000          1995         74.22            265.56   \n",
       "878               96.199997          1996         35.97            163.70   \n",
       "879              137.100006          1997         35.96            200.64   \n",
       "880              145.399994          1998         41.42            126.74   \n",
       "881              124.300003          1999         62.17            207.96   \n",
       "\n",
       "     Less than 10%  Greater than 90%  \n",
       "0                0                 0  \n",
       "1                0                 0  \n",
       "2                0                 0  \n",
       "3                0                 0  \n",
       "4                0                 0  \n",
       "..             ...               ...  \n",
       "877              0                 0  \n",
       "878              0                 0  \n",
       "879              0                 0  \n",
       "880              0                 0  \n",
       "881              0                 0  \n",
       "\n",
       "[882 rows x 16 columns]"
      ]
     },
     "execution_count": 1,
     "metadata": {},
     "output_type": "execute_result"
    }
   ],
   "source": [
    "import pandas as pd\n",
    "\n",
    "data = pd.read_csv('data/Bryant et al 2010.csv')\n",
    "\n",
    "data\n",
    "\n",
    "# LHS sampling\n",
    "# 1000 points experimental design\n",
    "\n"
   ]
  },
  {
   "cell_type": "code",
   "execution_count": 2,
   "metadata": {},
   "outputs": [],
   "source": [
    "from ema_workbench.analysis import prim\n",
    "\n",
    "# 9 uncertainties = columns 2-10\n",
    "x = data.iloc[:, 2:11]\n",
    "\n",
    "# results =  column 15\n",
    "y = data.iloc[:, 15]\n",
    "\n",
    "# assigns a value of unity for cases whose costs fall above the 90th percentile (threshold = 0.9?) and zero otherwise\n",
    "\n",
    "prim_alg = prim.Prim(x, y, threshold=0.9, peel_alpha=0.1)\n",
    "boxA = prim_alg.find_box()"
   ]
  },
  {
   "cell_type": "code",
   "execution_count": 5,
   "metadata": {},
   "outputs": [
    {
     "data": {
      "image/png": "[encoded data removed]",
      "text/plain": [
       "<Figure size 432x288 with 2 Axes>"
      ]
     },
     "metadata": {
      "needs_background": "light"
     },
     "output_type": "display_data"
    }
   ],
   "source": [
    "import matplotlib.pyplot as plt\n",
    " \n",
    "boxA.show_tradeoff()\n",
    "plt.show()"
   ]
  },
  {
   "cell_type": "markdown",
   "metadata": {},
   "source": [
    "# Rozenberg et al\n",
    "\n",
    "\n",
    "* The experiments are the first seven columns. The remainder specify whether a given experiment belongs to a given SSP.\n",
    "* Apply prim separately for each SSP\n",
    "* you have to play with the threshold for each SSP, the default of 0.8 is at times too high\n",
    "* if you look at the paper carefully, you will discover that they change some of the default parameters of PRIM\n"
   ]
  },
  {
   "cell_type": "markdown",
   "metadata": {},
   "source": [
    "#### Methodology based on\\n\",\n",
    "1. priori identification of potential drivers of mitigation and adaption challenges;\n",
    "2. a modelling exercise to transform these drives into a large set of scenarios\n",
    "3. a posteriori selection of a few SSPs among these usins clustier finding algorithms\n",
    "\n",
    "- PRIM = Patient Rule Induction Method\n",
    "- 286 scenarios spanning the range of adaption and mitigation indicators\n",
    "- Model used IMACLIM-R model by some felows..\n",
    "\n",
    "#### Usage of Prim acording to paper:\n",
    "- PRIM is used on different subsamples of the dataset, and notes the fraction of subsamples for which each parameter emerges as an import driver of the scenario definition.,\n",
    "- Greater then 50% means significant\n",
    "- Coverage/Denisty was rounded to 5% and explains how much of the values in the area (figure 3) are according to the results)\n"
   ]
  },
  {
   "cell_type": "code",
   "execution_count": 1,
   "metadata": {},
   "outputs": [
    {
     "name": "stdout",
     "output_type": "stream",
     "text": [
      "shape of data: (286, 12)\n"
     ]
    },
    {
     "data": {
      "text/html": [
       "<div>\n",
       "<style scoped>\n",
       "    .dataframe tbody tr th:only-of-type {\n",
       "        vertical-align: middle;\n",
       "    }\n",
       "\n",
       "    .dataframe tbody tr th {\n",
       "        vertical-align: top;\n",
       "    }\n",
       "\n",
       "    .dataframe thead th {\n",
       "        text-align: right;\n",
       "    }\n",
       "</style>\n",
       "<table border=\"1\" class=\"dataframe\">\n",
       "  <thead>\n",
       "    <tr style=\"text-align: right;\">\n",
       "      <th></th>\n",
       "      <th>inequalities</th>\n",
       "      <th>convergence</th>\n",
       "      <th>population</th>\n",
       "      <th>behaviors</th>\n",
       "      <th>technologies</th>\n",
       "      <th>fossils</th>\n",
       "      <th>capital markets</th>\n",
       "      <th>SSP1</th>\n",
       "      <th>SSP2</th>\n",
       "      <th>SSP3</th>\n",
       "      <th>SSP4</th>\n",
       "      <th>SSP5</th>\n",
       "    </tr>\n",
       "  </thead>\n",
       "  <tbody>\n",
       "    <tr>\n",
       "      <th>0</th>\n",
       "      <td>0</td>\n",
       "      <td>2</td>\n",
       "      <td>0</td>\n",
       "      <td>0</td>\n",
       "      <td>0</td>\n",
       "      <td>0</td>\n",
       "      <td>0</td>\n",
       "      <td>0</td>\n",
       "      <td>0</td>\n",
       "      <td>0</td>\n",
       "      <td>0</td>\n",
       "      <td>0</td>\n",
       "    </tr>\n",
       "    <tr>\n",
       "      <th>1</th>\n",
       "      <td>0</td>\n",
       "      <td>2</td>\n",
       "      <td>0</td>\n",
       "      <td>0</td>\n",
       "      <td>0</td>\n",
       "      <td>0</td>\n",
       "      <td>1</td>\n",
       "      <td>0</td>\n",
       "      <td>0</td>\n",
       "      <td>0</td>\n",
       "      <td>0</td>\n",
       "      <td>0</td>\n",
       "    </tr>\n",
       "    <tr>\n",
       "      <th>2</th>\n",
       "      <td>0</td>\n",
       "      <td>2</td>\n",
       "      <td>0</td>\n",
       "      <td>0</td>\n",
       "      <td>0</td>\n",
       "      <td>1</td>\n",
       "      <td>0</td>\n",
       "      <td>0</td>\n",
       "      <td>0</td>\n",
       "      <td>0</td>\n",
       "      <td>0</td>\n",
       "      <td>0</td>\n",
       "    </tr>\n",
       "    <tr>\n",
       "      <th>3</th>\n",
       "      <td>0</td>\n",
       "      <td>2</td>\n",
       "      <td>0</td>\n",
       "      <td>0</td>\n",
       "      <td>0</td>\n",
       "      <td>1</td>\n",
       "      <td>1</td>\n",
       "      <td>0</td>\n",
       "      <td>0</td>\n",
       "      <td>0</td>\n",
       "      <td>0</td>\n",
       "      <td>0</td>\n",
       "    </tr>\n",
       "    <tr>\n",
       "      <th>4</th>\n",
       "      <td>0</td>\n",
       "      <td>2</td>\n",
       "      <td>0</td>\n",
       "      <td>0</td>\n",
       "      <td>1</td>\n",
       "      <td>0</td>\n",
       "      <td>0</td>\n",
       "      <td>0</td>\n",
       "      <td>1</td>\n",
       "      <td>0</td>\n",
       "      <td>0</td>\n",
       "      <td>0</td>\n",
       "    </tr>\n",
       "  </tbody>\n",
       "</table>\n",
       "</div>"
      ],
      "text/plain": [
       "   inequalities  convergence  population  behaviors  technologies  fossils  \\\n",
       "0             0            2           0          0             0        0   \n",
       "1             0            2           0          0             0        0   \n",
       "2             0            2           0          0             0        1   \n",
       "3             0            2           0          0             0        1   \n",
       "4             0            2           0          0             1        0   \n",
       "\n",
       "   capital markets  SSP1  SSP2  SSP3  SSP4  SSP5  \n",
       "0                0     0     0     0     0     0  \n",
       "1                1     0     0     0     0     0  \n",
       "2                0     0     0     0     0     0  \n",
       "3                1     0     0     0     0     0  \n",
       "4                0     0     1     0     0     0  "
      ]
     },
     "execution_count": 1,
     "metadata": {},
     "output_type": "execute_result"
    }
   ],
   "source": [
    "import pandas as pd\n",
    "data_rozenberg = pd.read_csv('data/Rozenberg et al 2014.csv')\n",
    "print('shape of data:', data_rozenberg.shape)\n",
    "data_rozenberg.head()"
   ]
  },
  {
   "cell_type": "code",
   "execution_count": 58,
   "metadata": {},
   "outputs": [],
   "source": [
    "import matplotlib.pyplot as plt\n",
    "from ema_workbench.analysis import prim\n",
    "\n",
    "#prim.prim needs a 1D array witht he outcome/dependent variable\\n\",\n",
    "#Time to split up the df\\n\",\n",
    "\n",
    "#SSP1\\n\",\n",
    "\n",
    "\n",
    "def prim_analyse(df, ssp,treshold_value):\n",
    "    #Take the first 7 as experiments\n",
    "    x = df.loc[:, 'inequalities': 'capital markets']\n",
    "    \n",
    "    #Take the last SSP as outcome\n",
    "    y = df[ssp]\n",
    "    y.reset_index(drop = True, inplace = True)\n",
    "    y.name = ssp\n",
    "    y_series = y.squeeze()\n",
    "    prim_alg = prim.Prim(x, y_series, threshold=treshold_value, peel_alpha=0.1)\n",
    "    boxA = prim_alg.find_box()\n",
    "    boxA.show_tradeoff()\n",
    "    plt.show()"
   ]
  },
  {
   "cell_type": "code",
   "execution_count": 59,
   "metadata": {},
   "outputs": [
    {
     "data": {
      "image/png": "[encoded data removed]",
      "text/plain": [
       "<Figure size 432x288 with 2 Axes>"
      ]
     },
     "metadata": {
      "needs_background": "light"
     },
     "output_type": "display_data"
    }
   ],
   "source": [
    "prim_analyse(data_rozenberg, 'SSP1', 0.8)"
   ]
  },
  {
   "cell_type": "code",
   "execution_count": 69,
   "metadata": {},
   "outputs": [
    {
     "data": {
      "image/png": "[encoded data removed]",
      "text/plain": [
       "<Figure size 432x288 with 2 Axes>"
      ]
     },
     "metadata": {
      "needs_background": "light"
     },
     "output_type": "display_data"
    }
   ],
   "source": [
    "prim_analyse(data_rozenberg, 'SSP2', 0.5)"
   ]
  },
  {
   "cell_type": "code",
   "execution_count": 61,
   "metadata": {},
   "outputs": [
    {
     "data": {
      "image/png": "[encoded data removed]",
      "text/plain": [
       "<Figure size 432x288 with 2 Axes>"
      ]
     },
     "metadata": {
      "needs_background": "light"
     },
     "output_type": "display_data"
    }
   ],
   "source": [
    "prim_analyse(data_rozenberg, 'SSP3', 0.8)\n"
   ]
  },
  {
   "cell_type": "code",
   "execution_count": 67,
   "metadata": {},
   "outputs": [
    {
     "data": {
      "image/png": "[encoded data removed]",
      "text/plain": [
       "<Figure size 432x288 with 2 Axes>"
      ]
     },
     "metadata": {
      "needs_background": "light"
     },
     "output_type": "display_data"
    }
   ],
   "source": [
    "prim_analyse(data_rozenberg, 'SSP4', 0.8)\n"
   ]
  },
  {
   "cell_type": "code",
   "execution_count": 66,
   "metadata": {},
   "outputs": [
    {
     "data": {
      "image/png": "[encoded data removed]",
      "text/plain": [
       "<Figure size 432x288 with 2 Axes>"
      ]
     },
     "metadata": {
      "needs_background": "light"
     },
     "output_type": "display_data"
    }
   ],
   "source": [
    "prim_analyse(data_rozenberg, 'SSP5', 0.4)\n"
   ]
  },
  {
   "cell_type": "markdown",
   "metadata": {},
   "source": [
    "# Hamarat et al\n",
    "\n",
    "this is the most difficult dataset to analyze with prim. It has been generated using the ema_workbench and can be loaded with the `load_results` function. Experiments are of interest if the end state for `'fraction renewables'` is lower than the initial value.\n",
    "\n",
    "* PRIM struggles with finding a good explanation for this case, why?\n",
    "* [Dalal et al (2013)](https://www.sciencedirect.com/science/article/pii/S1364815213001345) suggest using PCA preprocessing. The ema_workbench supports this with the `pca_preprocess` function. See also examples/prim_PCA_preprocess.py. Does PCA preprocessing makes a difference for this case?\n"
   ]
  },
  {
   "cell_type": "code",
   "execution_count": 40,
   "metadata": {},
   "outputs": [
    {
     "ename": "NameError",
     "evalue": "name 'outcomes' is not defined",
     "output_type": "error",
     "traceback": [
      "\u001b[1;31m---------------------------------------------------------------------------\u001b[0m",
      "\u001b[1;31mNameError\u001b[0m                                 Traceback (most recent call last)",
      "\u001b[1;32m<ipython-input-40-c09b4d418bf4>\u001b[0m in \u001b[0;36m<module>\u001b[1;34m\u001b[0m\n\u001b[1;32m----> 1\u001b[1;33m \u001b[0mdata\u001b[0m \u001b[1;33m=\u001b[0m \u001b[0moutcomes\u001b[0m\u001b[1;33m[\u001b[0m\u001b[1;34m'fraction renewables'\u001b[0m\u001b[1;33m]\u001b[0m\u001b[1;33m\u001b[0m\u001b[1;33m\u001b[0m\u001b[0m\n\u001b[0m\u001b[0;32m      2\u001b[0m \u001b[1;31m# y = data[0,:] < data[-1, :]\u001b[0m\u001b[1;33m\u001b[0m\u001b[1;33m\u001b[0m\u001b[1;33m\u001b[0m\u001b[0m\n\u001b[0;32m      3\u001b[0m \u001b[0mr1\u001b[0m \u001b[1;33m=\u001b[0m \u001b[0moutcomes\u001b[0m\u001b[1;33m[\u001b[0m\u001b[0my1\u001b[0m\u001b[1;33m]\u001b[0m \u001b[1;33m<\u001b[0m \u001b[0mt1\u001b[0m\u001b[1;33m\u001b[0m\u001b[1;33m\u001b[0m\u001b[0m\n\u001b[0;32m      4\u001b[0m \u001b[0mr2\u001b[0m \u001b[1;33m=\u001b[0m \u001b[0moutcomes\u001b[0m\u001b[1;33m[\u001b[0m\u001b[0my2\u001b[0m\u001b[1;33m]\u001b[0m \u001b[1;33m>\u001b[0m \u001b[0mt2\u001b[0m\u001b[1;33m\u001b[0m\u001b[1;33m\u001b[0m\u001b[0m\n\u001b[0;32m      5\u001b[0m \u001b[0mr3\u001b[0m \u001b[1;33m=\u001b[0m \u001b[0moutocmes\u001b[0m\u001b[1;33m[\u001b[0m\u001b[0my3\u001b[0m\u001b[1;33m]\u001b[0m \u001b[1;33m<\u001b[0m \u001b[0mt3\u001b[0m\u001b[1;33m\u001b[0m\u001b[1;33m\u001b[0m\u001b[0m\n",
      "\u001b[1;31mNameError\u001b[0m: name 'outcomes' is not defined"
     ]
    }
   ],
   "source": [
    "data = outcomes['fraction renewables']\n",
    "# y = data[0,:] < data[-1, :]\n",
    "r1 = outcomes[y1] < t1\n",
    "r2 = outcomes[y2] > t2\n",
    "r3 = outocmes[y3] < t3\n",
    "rc = r1 or (r2 or r3)\n",
    "\n"
   ]
  },
  {
   "cell_type": "code",
   "execution_count": null,
   "metadata": {},
   "outputs": [],
   "source": []
  },
  {
   "cell_type": "code",
   "execution_count": null,
   "metadata": {},
   "outputs": [],
   "source": []
  }
 ],
 "metadata": {
  "anaconda-cloud": {},
  "kernelspec": {
   "display_name": "Python 3",
   "language": "python",
   "name": "python3"
  },
  "language_info": {
   "codemirror_mode": {
    "name": "ipython",
    "version": 3
   },
   "file_extension": ".py",
   "mimetype": "text/x-python",
   "name": "python",
   "nbconvert_exporter": "python",
   "pygments_lexer": "ipython3",
   "version": "3.8.8"
  },
  "latex_envs": {
   "LaTeX_envs_menu_present": true,
   "autocomplete": true,
   "bibliofile": "biblio.bib",
   "cite_by": "apalike",
   "current_citInitial": 1,
   "eqLabelWithNumbers": true,
   "eqNumInitial": 1,
   "hotkeys": {
    "equation": "Ctrl-E",
    "itemize": "Ctrl-I"
   },
   "labels_anchors": false,
   "latex_user_defs": false,
   "report_style_numbering": false,
   "user_envs_cfg": false
  }
 },
 "nbformat": 4,
 "nbformat_minor": 4
}
