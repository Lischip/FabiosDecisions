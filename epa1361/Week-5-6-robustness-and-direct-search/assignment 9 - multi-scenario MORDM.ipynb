{
 "cells": [
  {
   "cell_type": "markdown",
   "metadata": {},
   "source": [
    "# Multi-Scenario MORDM\n",
    "\n",
    "\n",
    "Multi-scenario MORMD is an extension of normal MORDM to better include robustness considerations within the search phase. It starts from the scenario discovery results resulting from MORDM. Next, from the experiments within this box, a set of scenarios is selected. \n",
    "\n",
    "There are many ways of selecting the additional scenarios. The original paper which introduced multi-scenario MORMD [Watson and Kaspzryk (2017)](https://doi.org/10.1016/j.envsoft.2016.12.001) did it in a more or less adhoc manner. [Eker and Kwakkel (2018)](https://doi.org/10.1016/j.envsoft.2018.03.029) introduced a more formal selection approach, the code of which can be found on [GitHub](https://github.com/sibeleker/MORDM---Multi-scenario-search). \n",
    "\n",
    "For this assignment, make an informed selection of 4 scenarios, using an approach of your choice. Motivate carefully your selection procedure. \n"
   ]
  },
  {
   "cell_type": "code",
   "execution_count": 1,
   "metadata": {},
   "outputs": [],
   "source": [
    "# 1) import model and functionalities\n",
    "from ema_workbench import Model, RealParameter, ScalarOutcome, SequentialEvaluator, MultiprocessingEvaluator, ema_logging, Policy"
   ]
  },
  {
   "cell_type": "code",
   "execution_count": 2,
   "metadata": {},
   "outputs": [],
   "source": [
    "from scipy.optimize import brentq\n",
    "import math\n",
    "nfe_value = 3000"
   ]
  },
  {
   "cell_type": "code",
   "execution_count": 3,
   "metadata": {},
   "outputs": [],
   "source": [
    "import numpy as np\n",
    "\n",
    "#THE FUNCTION FOR ANTHROPOGENIC POLLUTION FOR CLOSED LOOP CONTROL\n",
    "def a_t(X, #x is a scalar, pollution at time t\n",
    "        c=[],\n",
    "        r=[],\n",
    "        w=[],\n",
    "        n=2):\n",
    "\n",
    "    a = sum([w[j]*(abs((X-c[j])/r[j]))**3 for j in range(n)])\n",
    "    return min(max(a, 0.01), 0.1)"
   ]
  },
  {
   "cell_type": "code",
   "execution_count": 4,
   "metadata": {},
   "outputs": [
    {
     "ename": "AttributeError",
     "evalue": "'Model' object has no attribute 'decisions'",
     "output_type": "error",
     "traceback": [
      "\u001b[0;31m---------------------------------------------------------------------------\u001b[0m",
      "\u001b[0;31mAttributeError\u001b[0m                            Traceback (most recent call last)",
      "\u001b[0;32m<ipython-input-4-6b4462f6373e>\u001b[0m in \u001b[0;36m<module>\u001b[0;34m\u001b[0m\n\u001b[1;32m     30\u001b[0m                        ScalarOutcome('reliability', kind=ScalarOutcome.MAXIMIZE, expected_range=(0,1))]\n\u001b[1;32m     31\u001b[0m \u001b[0;34m\u001b[0m\u001b[0m\n\u001b[0;32m---> 32\u001b[0;31m \u001b[0mtest\u001b[0m \u001b[0;34m=\u001b[0m \u001b[0mlake_model\u001b[0m\u001b[0;34m.\u001b[0m\u001b[0mdecisions\u001b[0m\u001b[0;34m\u001b[0m\u001b[0;34m\u001b[0m\u001b[0m\n\u001b[0m",
      "\u001b[0;31mAttributeError\u001b[0m: 'Model' object has no attribute 'decisions'"
     ]
    }
   ],
   "source": [
    "import numpy as np\n",
    "from ema_workbench import (Model, RealParameter, ScalarOutcome, Constant)\n",
    "from dps_lake_model import lake_model\n",
    "from ema_workbench.em_framework.optimization import (HyperVolume, EpsilonProgress)\n",
    "\n",
    "\n",
    "\n",
    "ema_logging.log_to_stderr(ema_logging.INFO)\n",
    "lake_model = Model('lakeproblem', function=lake_model)\n",
    "lake_model.time_horizon = 100 \n",
    "\n",
    "#specify uncertainties\n",
    "lake_model.uncertainties = [RealParameter('mean', 0.01, 0.05),\n",
    "                            RealParameter('stdev', 0.001, 0.005),\n",
    "                            RealParameter('b', 0.1, 0.45),\n",
    "                            RealParameter('q', 2.0, 4.5),\n",
    "                            RealParameter('delta', 0.93, 0.99)]\n",
    "\n",
    "#set levers\n",
    "lake_model.levers = [RealParameter(\"c1\", -2, 2),\n",
    "                     RealParameter(\"c2\", -2, 2),\n",
    "                     RealParameter(\"r1\", 0, 2),\n",
    "                     RealParameter(\"r2\", 0, 2),\n",
    "                     RealParameter(\"w1\", 0, 1)]\n",
    "\n",
    "#specify outcomes \n",
    "lake_model.outcomes = [ScalarOutcome('max_P', kind=ScalarOutcome.MINIMIZE, expected_range=(0,5)),\n",
    "                       ScalarOutcome('utility', kind=ScalarOutcome.MAXIMIZE, expected_range=(0,2)),\n",
    "                       ScalarOutcome('inertia', kind=ScalarOutcome.MINIMIZE, expected_range=(0,1)),\n",
    "                       ScalarOutcome('reliability', kind=ScalarOutcome.MAXIMIZE, expected_range=(0,1))]\n",
    "\n",
    "test = lake_model.decisions"
   ]
  },
  {
   "cell_type": "code",
   "execution_count": null,
   "metadata": {},
   "outputs": [],
   "source": [
    "#convergence metrics\n",
    "convergence_metrics = [HyperVolume.from_outcomes(lake_model.outcomes),\n",
    "                       EpsilonProgress()]"
   ]
  },
  {
   "cell_type": "code",
   "execution_count": null,
   "metadata": {},
   "outputs": [],
   "source": [
    "import os\n",
    "\n",
    "from ema_workbench import (perform_experiments, ema_logging, save_results, \n",
    "                           load_results, Policy)\n",
    "from ema_workbench.em_framework import samplers\n",
    "from ema_workbench.em_framework import sample_levers\n",
    "\n",
    "# turn on logging\n",
    "ema_logging.log_to_stderr(ema_logging.INFO)\n",
    "\n",
    "# perform experiments\n",
    "nr_experiments = 500\n",
    "\n",
    "policies = sample_levers(lake_model,n_samples=5)\n",
    "results = perform_experiments(lake_model, nr_experiments, policies=policies)\n"
   ]
  },
  {
   "cell_type": "markdown",
   "metadata": {},
   "source": [
    "#### From Quakkels website\n",
    "Step 2.2: Select policy relevant scenarios based on the exploration results:\n",
    "   - max_P >= median(~ 5)\n",
    "   - reliability <= median (~0.5)\n",
    "   - inertia <= median (~1)\n",
    "   - utility <= median (~0.15)"
   ]
  },
  {
   "cell_type": "markdown",
   "metadata": {},
   "source": [
    "#### Create four scenarios?\n",
    "# Step 2.2: Select policy relevant scenarios based on the exploration results:\n",
    "This was done in the paper by Kwakkel et al by tresholds for values calculated out of the outcomes, and then from these 4 maximally diverse scenarios are chosen to make sure that there is a big enoug representation of the data set.\n"
   ]
  },
  {
   "cell_type": "code",
   "execution_count": null,
   "metadata": {},
   "outputs": [],
   "source": [
    "experiments, outcomes = results\n",
    "oois = sorted(outcomes.keys())"
   ]
  },
  {
   "cell_type": "code",
   "execution_count": null,
   "metadata": {},
   "outputs": [],
   "source": [
    "print(outcomes)"
   ]
  },
  {
   "cell_type": "code",
   "execution_count": null,
   "metadata": {},
   "outputs": [],
   "source": [
    "#here, the policy-relevant scenarios defined by median thresholds are selected\n",
    "indices = []\n",
    "for ooi in oois:\n",
    "    if ooi in ['max_P', 'inertia']:\n",
    "        a = outcomes[ooi] > np.median(outcomes[ooi])     \n",
    "    else: \n",
    "        a = outcomes[ooi] < np.median(outcomes[ooi])\n",
    "    indices.append(a)\n",
    "indices = np.swapaxes(indices, 0, 1)\n",
    "logical_index = np.array([index.all() for index in indices])\n",
    "newExperiments = experiments[logical_index]\n",
    "newOutcomes = {}\n",
    "for ooi in oois:\n",
    "    newOutcomes[ooi] = outcomes[ooi][logical_index]\n",
    "newResults = newExperiments, newOutcomes"
   ]
  },
  {
   "cell_type": "code",
   "execution_count": null,
   "metadata": {},
   "outputs": [],
   "source": [
    "print(len(newOutcomes['max_P']))"
   ]
  },
  {
   "cell_type": "code",
   "execution_count": null,
   "metadata": {},
   "outputs": [],
   "source": [
    "new_fn = '206_experiments_openloop_Apollution.tar.gz'\n",
    "save_results(newResults, new_fn)"
   ]
  },
  {
   "cell_type": "markdown",
   "metadata": {},
   "source": [
    "Now these results can be analyzed with the scenario-selection file.\n",
    "\n",
    "Results: maximum diversity and solutions: 1.0307457510054456, [[array([ 21,  28,  33, 104])]]"
   ]
  },
  {
   "cell_type": "code",
   "execution_count": null,
   "metadata": {},
   "outputs": [],
   "source": [
    "#Find the Maximally diverse: \n",
    "import pandas as pd\n",
    "import copy\n",
    "#0 : non policy-relevant scenarios\n",
    "#1 : policy-relevant scenarios\n",
    "#2 : prim results\n",
    "#3 : diverse SELECTED\n",
    "#4 : random selected\n",
    "\n",
    "sel_column = logical_index.astype(int)\n",
    "selected = [ 21,  28,  33, 104]\n",
    "random_selected = [81, 289, 391, 257]\n",
    "count = 0\n",
    "for index, i in enumerate(sel_column):\n",
    "    \n",
    "    if logical_index[index]: #this is computed at the bottom of  the notebook\n",
    "        sel_column[index] = 2\n",
    "    if i:\n",
    "        if count in selected:\n",
    "            sel_column[index] = 3\n",
    "        count +=1 #the reason for the count is that the selected indices correspond to the dataset of 206 scenarios \n",
    "            \n",
    "    if index in random_selected:\n",
    "        sel_column[index] = 4\n",
    "        \n",
    "print(len(sel_column))"
   ]
  },
  {
   "cell_type": "code",
   "execution_count": null,
   "metadata": {},
   "outputs": [],
   "source": [
    "set(sel_column)\n"
   ]
  },
  {
   "cell_type": "code",
   "execution_count": null,
   "metadata": {},
   "outputs": [],
   "source": []
  },
  {
   "cell_type": "code",
   "execution_count": null,
   "metadata": {
    "scrolled": true
   },
   "outputs": [],
   "source": [
    "import seaborn as sns\n",
    "import itertools\n",
    "import matplotlib.pyplot as plt\n",
    "\n",
    "data = copy.copy(outcomes)\n",
    "data['selected'] = sel_column\n",
    "data = pd.DataFrame(data)\n",
    "\n",
    "sns.set(style=\"ticks\", color_codes=True)    \n",
    "sns.axes_style('white')\n",
    "colors = [\"light grey\", \"greyish\"]\n",
    "\n",
    "for entry, name in zip(np.unique(sel_column), ['any', 'policy relevant','prim', 'diversity_selected', 'random_selected']):\n",
    "    data.replace(entry, name, inplace=True)\n",
    "\n",
    "g = sns.pairplot(data, hue='selected', height=2, markers = ['o', 'o'],\n",
    "             palette=sns.xkcd_palette(colors), vars=oois)\n",
    "\n",
    "plt.suptitle(\"Scenario space of the four outcomes of interest, with the 4 systematically and randomly selected scenarios\", y=1.02)\n",
    "\n",
    "tag_indices = {0: 'inertia', 1: 'max_P', 2: 'reliability', 3: 'utility'}   \n",
    "\n",
    "g.savefig('./scatter_diverse_random_prim.png', dpi=600)\n",
    "plt.show()\n"
   ]
  },
  {
   "cell_type": "markdown",
   "metadata": {},
   "source": [
    "## Search for each scenario\n",
    "\n",
    "For each of the four selected scenarios, use many-objective optimization to find a pareto approximate set using the same approach as for assignment 8. Remember to check for convergence (and time permitting, seed analysis), and be careful in what epsilon values to use (not to coarse, not too small). \n",
    "\n",
    "Store the resulting set of pareto solutions in a smart way for subsequent analysis.\n"
   ]
  },
  {
   "cell_type": "markdown",
   "metadata": {},
   "source": [
    "#### Prepare the scenarios for usage"
   ]
  },
  {
   "cell_type": "code",
   "execution_count": null,
   "metadata": {},
   "outputs": [],
   "source": [
    "np.partition(outcomes[\"utility\"],4)[:4]"
   ]
  },
  {
   "cell_type": "code",
   "execution_count": null,
   "metadata": {},
   "outputs": [],
   "source": [
    "list_utility = outcomes[\"utility\"].tolist()"
   ]
  },
  {
   "cell_type": "code",
   "execution_count": null,
   "metadata": {},
   "outputs": [],
   "source": [
    "list_chosen = sorted(range(len(list_utility)), key=lambda k: list_utility[k])[:4]  \n",
    "sorted(range(len(list_utility)), key=lambda k: list_utility[k])[:4]"
   ]
  },
  {
   "cell_type": "code",
   "execution_count": null,
   "metadata": {},
   "outputs": [],
   "source": [
    "#list_chosen = [169, 162, 170, 140]\n",
    "selected_scenarios = experiments.iloc[list_chosen,:].copy()\n",
    "scenarios_dictlist = selected_scenarios.to_dict(\"records\")\n",
    "selected_scenarios\n"
   ]
  },
  {
   "cell_type": "code",
   "execution_count": null,
   "metadata": {},
   "outputs": [],
   "source": [
    "selected_scenarios.drop(columns = ['c1','model', 'c2', 'r1', 'r2', 'w1', 'scenario', 'policy'], inplace = True)\n"
   ]
  },
  {
   "cell_type": "code",
   "execution_count": null,
   "metadata": {},
   "outputs": [],
   "source": [
    "selected_scenarios\n",
    "scenarios_dictlist = selected_scenarios.to_dict(\"records\")\n"
   ]
  },
  {
   "cell_type": "markdown",
   "metadata": {},
   "source": [
    "#### Use the found scenarios"
   ]
  },
  {
   "cell_type": "code",
   "execution_count": null,
   "metadata": {},
   "outputs": [],
   "source": [
    "from ema_workbench import Scenario\n",
    "scenario_1 = Scenario(\"1\", **scenarios_dictlist[0])\n",
    "scenario_2 = Scenario(\"2\", **scenarios_dictlist[1])\n",
    "scenario_3 = Scenario(\"3\", **scenarios_dictlist[2])\n",
    "scenario_4 = Scenario(\"4\", **scenarios_dictlist[3])"
   ]
  },
  {
   "cell_type": "code",
   "execution_count": null,
   "metadata": {},
   "outputs": [],
   "source": [
    "from ema_workbench.em_framework.optimization import (HyperVolume,\n",
    "                                                     EpsilonProgress)\n",
    "from ema_workbench import Constraint\n",
    "\n",
    "constraints = [Constraint(\"max pollution\", outcome_names=\"max_P\",\n",
    "                          function=lambda x:max(0, x-1))]"
   ]
  },
  {
   "cell_type": "code",
   "execution_count": null,
   "metadata": {},
   "outputs": [],
   "source": [
    "print(constraints)"
   ]
  },
  {
   "cell_type": "code",
   "execution_count": null,
   "metadata": {},
   "outputs": [],
   "source": [
    "#convergence_metrics = [HyperVolume(minimum=[0,0,0,0], maximum=[1,1.01,1.01,1.01]),\n",
    "#                      EpsilonProgress()]\n",
    "convergence_metrics = [HyperVolume.from_outcomes(lake_model.outcomes),\n",
    "                       EpsilonProgress()]\n",
    "print(convergence_metrics)"
   ]
  },
  {
   "cell_type": "code",
   "execution_count": null,
   "metadata": {},
   "outputs": [],
   "source": [
    "print(scenario_1)"
   ]
  },
  {
   "cell_type": "code",
   "execution_count": null,
   "metadata": {},
   "outputs": [],
   "source": []
  },
  {
   "cell_type": "code",
   "execution_count": null,
   "metadata": {},
   "outputs": [],
   "source": [
    "from ema_workbench import MultiprocessingEvaluator\n",
    "from ema_workbench import ema_logging\n",
    "\n",
    "with MultiprocessingEvaluator(lake_model) as evaluator:\n",
    "    results_c, convergence = evaluator.optimize(nfe=nfe_value, searchover='levers',\n",
    "                                    epsilons=[0.1, 0.1], reference = scenario_1, convergence=convergence_metrics, constraints=constraints)"
   ]
  },
  {
   "cell_type": "code",
   "execution_count": null,
   "metadata": {},
   "outputs": [],
   "source": [
    "solutions_list = []\n",
    "solutions_list.append(results_c)"
   ]
  },
  {
   "cell_type": "code",
   "execution_count": null,
   "metadata": {},
   "outputs": [],
   "source": [
    "print(results_c)"
   ]
  },
  {
   "cell_type": "code",
   "execution_count": null,
   "metadata": {},
   "outputs": [],
   "source": [
    "\n",
    "import matplotlib.pyplot as plt\n",
    "\n",
    "fig, (ax1, ax2) = plt.subplots(ncols=2, sharex=True, figsize=(8,4))\n",
    "ax1.plot(convergence.nfe, convergence.epsilon_progress)\n",
    "ax1.set_ylabel('$\\epsilon$-progress')\n",
    "ax2.plot(convergence.nfe, convergence.hypervolume)\n",
    "ax2.set_ylabel('hypervolume')\n",
    "\n",
    "ax1.set_xlabel('number of function evaluations')\n",
    "ax2.set_xlabel('number of function evaluations')\n",
    "plt.show()"
   ]
  },
  {
   "cell_type": "code",
   "execution_count": null,
   "metadata": {},
   "outputs": [],
   "source": [
    "with MultiprocessingEvaluator(lake_model) as evaluator:\n",
    "    results_c, convergence = evaluator.optimize(nfe=nfe_value, searchover='levers',\n",
    "                                    epsilons=[0.1, 0.1, 0.01, 0.1],\n",
    "                                    convergence=convergence_metrics,\n",
    "                                    constraints=constraints, reference = scenario_2)\n",
    "solutions_list.append(results_c)"
   ]
  },
  {
   "cell_type": "code",
   "execution_count": null,
   "metadata": {},
   "outputs": [],
   "source": [
    "with MultiprocessingEvaluator(lake_model) as evaluator:\n",
    "    results_c, convergence = evaluator.optimize(nfe=nfe_value, searchover='levers',\n",
    "                                    epsilons=[0.1, 0.1, 0.01, 0.1],\n",
    "                                    convergence=convergence_metrics,\n",
    "                                    constraints=constraints, reference = scenario_3)\n",
    "solutions_list.append(results_c)"
   ]
  },
  {
   "cell_type": "code",
   "execution_count": null,
   "metadata": {},
   "outputs": [],
   "source": [
    "with MultiprocessingEvaluator(lake_model) as evaluator:\n",
    "    results_c, convergence = evaluator.optimize(nfe=nfe_value, searchover='levers',\n",
    "                                    epsilons=[0.1, 0.1, 0.01, 0.1],\n",
    "                                    convergence=convergence_metrics,\n",
    "                                    constraints=constraints, reference = scenario_4)\n",
    "solutions_list.append(results_c)"
   ]
  },
  {
   "cell_type": "code",
   "execution_count": null,
   "metadata": {},
   "outputs": [],
   "source": [
    "solutions_list"
   ]
  },
  {
   "cell_type": "code",
   "execution_count": null,
   "metadata": {},
   "outputs": [],
   "source": []
  },
  {
   "cell_type": "code",
   "execution_count": null,
   "metadata": {},
   "outputs": [],
   "source": [
    "import pandas as pd\n",
    "all_solutions = pd.concat([solutions_list[0], solutions_list[1], solutions_list[2], solutions_list[3]])\n",
    "all_solutions = all_solutions.reset_index(drop = True)"
   ]
  },
  {
   "cell_type": "code",
   "execution_count": null,
   "metadata": {},
   "outputs": [],
   "source": [
    "chosen_solutions = []\n",
    "chosen_solutions.append(all_solutions.max_P.idxmax())\n",
    "chosen_solutions.append(all_solutions.max_P.idxmin())\n",
    "chosen_solutions.append(all_solutions.utility.idxmax())\n",
    "chosen_solutions.append(all_solutions.utility.idxmin())\n",
    "chosen_solutions.append(all_solutions.inertia.idxmax())\n",
    "chosen_solutions.append(all_solutions.inertia.idxmin())\n",
    "chosen_solutions.append(all_solutions.reliability.idxmax())\n",
    "chosen_solutions.append(all_solutions.reliability.idxmin())"
   ]
  },
  {
   "cell_type": "code",
   "execution_count": null,
   "metadata": {},
   "outputs": [],
   "source": [
    "solutions = all_solutions.iloc[chosen_solutions,:].drop_duplicates()"
   ]
  },
  {
   "cell_type": "code",
   "execution_count": null,
   "metadata": {},
   "outputs": [],
   "source": [
    "def max_regret(data):\n",
    "    maximum = data.max()\n",
    "    regret = []\n",
    "    for value in data:\n",
    "        temp = maximum - value\n",
    "        regret.append(temp)\n",
    "    return max(regret)"
   ]
  },
  {
   "cell_type": "code",
   "execution_count": null,
   "metadata": {},
   "outputs": [],
   "source": [
    "from ema_workbench.analysis import parcoords\n",
    "\n",
    "data = all_solutions.loc[:, [o.name for o in lake_model.outcomes]]\n",
    "limits = parcoords.get_limits(data)\n",
    "limits.loc[0, ['utility', 'inertia', 'reliability', 'max_P']] = 0\n",
    "limits.loc[1, ['utility', 'inertia', 'reliability']] = 1\n",
    "\n",
    "paraxes = parcoords.ParallelAxes(limits)\n",
    "paraxes.plot(data)\n",
    "paraxes.invert_axis('max_P')\n",
    "plt.show()"
   ]
  },
  {
   "cell_type": "markdown",
   "metadata": {},
   "source": [
    "## Re-evaluate under deep uncertainty\n",
    "\n",
    "Combine the pareto set of solutions found for each scenario. Next, turn each solution into a policy object. If you have a very large number of policies, you can choose to down sample your policies in some reasoned way (*e.g.*, picking min and max on each objective, slicing across the pareto front with a particular step size). As a rule of thumb, try to limit the set of policies to at most 50. \n",
    "\n",
    "Re-evaluate the combined set of solutions over 1000 scenarios sampled using LHS.\n"
   ]
  },
  {
   "cell_type": "code",
   "execution_count": null,
   "metadata": {},
   "outputs": [],
   "source": [
    "all_solutions"
   ]
  },
  {
   "cell_type": "code",
   "execution_count": null,
   "metadata": {},
   "outputs": [],
   "source": [
    "all_solutions.dtypes"
   ]
  },
  {
   "cell_type": "code",
   "execution_count": null,
   "metadata": {},
   "outputs": [],
   "source": [
    "new_results = all_solutions[all_solutions['reliability'] > 0.9]"
   ]
  },
  {
   "cell_type": "code",
   "execution_count": null,
   "metadata": {},
   "outputs": [],
   "source": [
    "# define policy designs of interest in a dict {key=lever, value=value}\n",
    "inputs = [\"c1\", \"c2\", \"r1\", \"r2\", \"w1\"]\n",
    "policies = []\n",
    "\n",
    "for nr, entry in new_results.iterrows():\n",
    "    policy_dict = {}\n",
    "    \n",
    "    for i in inputs:\n",
    "        policy_dict[i] = entry[i]\n",
    "    \n",
    "    policies.append(Policy(policy_dict))"
   ]
  },
  {
   "cell_type": "code",
   "execution_count": null,
   "metadata": {},
   "outputs": [],
   "source": [
    "# evaluate these policies under 1000 scenarios\n",
    "\n",
    "scenarios = 100 \n",
    "with MultiprocessingEvaluator(lake_model) as evaluator:\n",
    "    newest_experiments, newest_outcomes = evaluator.perform_experiments(scenarios=scenarios, policies=policies)"
   ]
  },
  {
   "cell_type": "code",
   "execution_count": null,
   "metadata": {},
   "outputs": [],
   "source": [
    "# signal to ratio = mean / std\n",
    "\n",
    "newest_outcomes_df = pd.DataFrame(newest_outcomes)\n",
    "# Get the policy from each result\n",
    "newest_outcomes_df['policy'] = newest_experiments['policy']\n",
    "# Make the policy into a format I can group\n",
    "newest_outcomes_df['policy'] = newest_outcomes_df['policy'].apply(lambda x: tuple(x.items()))\n",
    "    # Change policy value to something more readable\n",
    "temp_dict = {}\n",
    "for i in range(len(newest_outcomes_df['policy'].unique())):\n",
    "    temp_dict[newest_outcomes_df['policy'].unique()[i]] = i+1\n",
    "newest_outcomes_df['policy'] = newest_outcomes_df['policy'].apply(lambda x: temp_dict[x])\n",
    "newest_outcomes_df"
   ]
  },
  {
   "cell_type": "code",
   "execution_count": null,
   "metadata": {},
   "outputs": [],
   "source": [
    "# Make calculations\n",
    "\n",
    "mean_df = newest_outcomes_df.groupby(by='policy').mean()\n",
    "std_df = newest_outcomes_df.groupby(by='policy').std()\n",
    "\n",
    "signal_ratio_df = pd.DataFrame(columns = ['max_P', 'reliability', 'inertia', 'utility'])\n",
    "\n",
    "signal_ratio_df['max_P'] = mean_df['max_P'] / std_df['max_P']\n",
    "signal_ratio_df['utility'] = mean_df['utility'] / std_df['utility']\n",
    "signal_ratio_df['inertia'] = mean_df['inertia'] / std_df['inertia']\n",
    "signal_ratio_df['reliability'] = mean_df['reliability'] / std_df['reliability']\n",
    "signal_ratio_df"
   ]
  },
  {
   "cell_type": "code",
   "execution_count": null,
   "metadata": {},
   "outputs": [],
   "source": [
    "limits = parcoords.get_limits(signal_ratio_df)\n",
    "axes = parcoords.ParallelAxes(limits)\n",
    "axes.plot(signal_ratio_df)\n",
    "\n",
    "plt.legend(signal_ratio_df.index.values)\n",
    "plt.title('Signal-to-noise ratio per policy', fontsize=20)\n",
    "plt.show()"
   ]
  },
  {
   "cell_type": "markdown",
   "metadata": {},
   "source": [
    "Calculate both the maximum regret, and the domain criterion using the values provided in [Bartholomew and Kwakkel (2020)](https://doi.org/10.1016/j.envsoft.2020.104699). Ignore the max_P objective.\n",
    "\n",
    "visualize the results in parallel coordinate plot. \n",
    "\n",
    "Are there any promising compromise solutions which balance performance in both the reference scenarios as well as in terms of their robustness?\n"
   ]
  },
  {
   "cell_type": "code",
   "execution_count": null,
   "metadata": {},
   "outputs": [],
   "source": [
    "# Get the most desirable values for each result\n",
    "best_results = {'max_P': 0, 'reliability': 1, 'inertia': 1, 'utility': newest_outcomes_df['utility'].max()}\n",
    "# Is there a better way to get the maximum utility?????\n",
    "\n",
    "# Calculate regret\n",
    "regret_df = pd.DataFrame(columns = ['max_P', 'reliability', 'inertia', 'utility','policy'])\n",
    "regret_df['max_P'] = newest_outcomes_df['max_P'] - best_results['max_P']\n",
    "regret_df['reliability'] = best_results['reliability'] - newest_outcomes_df['reliability']\n",
    "regret_df['inertia'] = best_results['inertia'] - newest_outcomes_df['inertia']\n",
    "regret_df['utility'] = best_results['utility'] - newest_outcomes_df['utility']\n",
    "regret_df['policy'] = newest_outcomes_df['policy']\n",
    "regret_df = regret_df.groupby(by='policy').max()\n",
    "\n",
    "regret_df"
   ]
  },
  {
   "cell_type": "code",
   "execution_count": null,
   "metadata": {},
   "outputs": [],
   "source": [
    "limits = parcoords.get_limits(regret_df)\n",
    "axes = parcoords.ParallelAxes(limits)\n",
    "axes.plot(regret_df)\n",
    "\n",
    "# invert axes so it is more intuitive to read, higher regret is down, so higher desirability is up\n",
    "axes.invert_axis(['max_P', 'reliability', 'inertia', 'utility']) \n",
    "plt.legend(regret_df.index.values)\n",
    "plt.title('Maximum regret per policy', fontsize=20)\n",
    "plt.show()"
   ]
  },
  {
   "cell_type": "code",
   "execution_count": null,
   "metadata": {},
   "outputs": [],
   "source": [
    "\n",
    "#dom_results = {}\n",
    "#for scenario, value in lake_model.decisions.items():\n",
    "#    dom_results[scenario] = value.copy()   \n",
    "#    \n",
    "#thresholds = {'max_P' : 1,\n",
    "#              'inertia' : .05,\n",
    "#              'utility' : 2,\n",
    "#              'reliability' : 1}\n",
    "#for ooi, obj in ooi_obj.items():\n",
    "#    print(ooi, obj)\n",
    "#    for i, s in enumerate(scenarios):\n",
    "#        for sol in dom_results[s].index:\n",
    "#            data = outcomes[ooi][experiments['policy'] == str(s)+'_'+str(sol)]\n",
    "#            th_data = [d  for d in data if (d*obj) >= (thresholds[ooi]*obj)]\n",
    "#            rob = len(th_data)/len(data)\n",
    "##             if ooi in ['reliability', 'max_P']:\n",
    "##                 print(s, sol, ooi, rob)\n",
    "##             #print(s, sol, ooi, rob)\n",
    "#            dom_results[s].set_value(sol, ooi, rob)"
   ]
  },
  {
   "cell_type": "code",
   "execution_count": null,
   "metadata": {},
   "outputs": [],
   "source": []
  },
  {
   "cell_type": "code",
   "execution_count": null,
   "metadata": {},
   "outputs": [],
   "source": [
    "domain_criterion_1 = []\n",
    "for i in range(0,700,100):\n",
    "    x = newest_outcomes[\"reliability\"][i:i+100] >= 0.8\n",
    "    domain_criterion_reliability = np.sum(x) / len(x)\n",
    "    domain_criterion_1.append(domain_criterion_reliability)"
   ]
  },
  {
   "cell_type": "code",
   "execution_count": null,
   "metadata": {},
   "outputs": [],
   "source": [
    "domain_criterion_1"
   ]
  },
  {
   "cell_type": "code",
   "execution_count": null,
   "metadata": {},
   "outputs": [],
   "source": [
    "domain_criterion_2 = []\n",
    "for i in range(0,700,100):\n",
    "    x = newest_outcomes[\"utility\"][i:i+100] >= 0.75\n",
    "    domain_criterion_utility = np.sum(x) / len(x)\n",
    "    domain_criterion_2.append(domain_criterion_utility)"
   ]
  },
  {
   "cell_type": "code",
   "execution_count": null,
   "metadata": {},
   "outputs": [],
   "source": [
    "domain_criterion_3 = []\n",
    "for i in range(0,700,100):\n",
    "    x = newest_outcomes[\"inertia\"][i:i+100] >= 0.99\n",
    "    domain_criterion_inertia = np.sum(x) / len(x)\n",
    "    domain_criterion_3.append(domain_criterion_inertia)"
   ]
  },
  {
   "cell_type": "code",
   "execution_count": null,
   "metadata": {},
   "outputs": [],
   "source": [
    "domain = pd.DataFrame({\"policy\" : [1,2,3,4,5,6,7], \"utility\" : domain_criterion_2, \"inertia\" : domain_criterion_3, \"reliability\" : domain_criterion_1})"
   ]
  },
  {
   "cell_type": "code",
   "execution_count": null,
   "metadata": {},
   "outputs": [],
   "source": [
    "domain"
   ]
  },
  {
   "cell_type": "code",
   "execution_count": null,
   "metadata": {},
   "outputs": [],
   "source": [
    "from ema_workbench.analysis import parcoords\n",
    "outcomes_domain = domain.loc[:,[\"utility\", \"inertia\",\"reliability\"]]\n",
    "limits = parcoords.get_limits(outcomes_domain)\n",
    "axes = parcoords.ParallelAxes(limits)\n",
    "axes.plot(outcomes_domain)\n",
    "\n",
    "# we invert this axis so direction of desirability is the same \n",
    "#axes.invert_axis('max_P') \n",
    "plt.show()"
   ]
  }
 ],
 "metadata": {
  "anaconda-cloud": {},
  "kernelspec": {
   "display_name": "Python 3",
   "language": "python",
   "name": "python3"
  },
  "language_info": {
   "codemirror_mode": {
    "name": "ipython",
    "version": 3
   },
   "file_extension": ".py",
   "mimetype": "text/x-python",
   "name": "python",
   "nbconvert_exporter": "python",
   "pygments_lexer": "ipython3",
   "version": "3.7.8"
  },
  "latex_envs": {
   "LaTeX_envs_menu_present": true,
   "autocomplete": true,
   "bibliofile": "biblio.bib",
   "cite_by": "apalike",
   "current_citInitial": 1,
   "eqLabelWithNumbers": true,
   "eqNumInitial": 1,
   "hotkeys": {
    "equation": "Ctrl-E",
    "itemize": "Ctrl-I"
   },
   "labels_anchors": false,
   "latex_user_defs": false,
   "report_style_numbering": false,
   "user_envs_cfg": false
  }
 },
 "nbformat": 4,
 "nbformat_minor": 4
}
