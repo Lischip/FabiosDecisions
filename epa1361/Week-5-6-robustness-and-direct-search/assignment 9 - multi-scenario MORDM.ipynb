{
 "cells": [
  {
   "cell_type": "markdown",
   "metadata": {},
   "source": [
    "# Multi-Scenario MORDM\n",
    "\n",
    "Multi-scenario MORMD is an extension of normal MORDM to better include robustness considerations within the search phase. It starts from the scenario discovery results resulting from MORDM. Next, from the experiments within this box, a set of scenarios is selected. \n",
    "\n",
    "There are many ways of selecting the additional scenarios. The original paper which introduced multi-scenario MORMD [Watson and Kaspzryk (2017)](https://doi.org/10.1016/j.envsoft.2016.12.001) did it in a more or less adhoc manner. [Eker and Kwakkel (2018)](https://doi.org/10.1016/j.envsoft.2018.03.029) introduced a more formal selection approach, the code of which can be found on [GitHub](https://github.com/sibeleker/MORDM---Multi-scenario-search). \n",
    "\n",
    "For this assignment, make an informed selection of 4 scenarios, using an approach of your choice. Motivate carefully your selection procedure. \n"
   ]
  },
  {
   "cell_type": "code",
   "execution_count": 1,
   "metadata": {},
   "outputs": [],
   "source": [
    "# 1) import model and functionalities\n",
    "from ema_workbench import Model, RealParameter, ScalarOutcome, SequentialEvaluator, MultiprocessingEvaluator, ema_logging, Policy"
   ]
  },
  {
   "cell_type": "code",
   "execution_count": 2,
   "metadata": {},
   "outputs": [],
   "source": [
    "\n",
    "from scipy.optimize import brentq\n",
    "import math\n",
    "def lake_problem_openloop(\n",
    "         b = 0.42,          # decay rate for P in lake (0.42 = irreversible)\n",
    "         q = 2.0,           # recycling exponent\n",
    "         mean = 0.02,       # mean of natural inflows\n",
    "         stdev = 0.001,     # future utility discount rate\n",
    "         delta = 0.98,      # standard deviation of natural inflows\n",
    "         \n",
    "         alpha = 0.4,       # utility from pollution\n",
    "         nsamples = 100,    # Monte Carlo sampling of natural inflows\n",
    "         timehorizon = 100, # simulation time\n",
    "         **kwargs):         \n",
    "\n",
    "    decisions = [kwargs[str(i)] for i in range(timehorizon)]\n",
    "    \n",
    "    Pcrit = brentq(lambda x: x**q/(1+x**q) - b*x, 0.01, 1.5)\n",
    "    nvars = int(timehorizon)\n",
    "    X = np.zeros((nvars,))\n",
    "    average_daily_P = np.zeros((nvars,))\n",
    "    decisions = np.array(decisions)\n",
    "\n",
    "    reliability = 0.0\n",
    "\n",
    "    for _ in range(nsamples):\n",
    "        X[0] = 0.0\n",
    "\n",
    "        natural_inflows = np.random.lognormal(\n",
    "                math.log(mean**2 / math.sqrt(stdev**2 + mean**2)),\n",
    "                math.sqrt(math.log(1.0 + stdev**2 / mean**2)),\n",
    "                size = nvars)\n",
    "  \n",
    "        for t in range(1,nvars):\n",
    "            \n",
    "            X[t] = (1-b)*X[t-1] + X[t-1]**q/(1+X[t-1]**q) +\\\n",
    "                    decisions[t-1] +\\\n",
    "                    natural_inflows[t-1]\n",
    "            average_daily_P[t] += X[t]/float(nsamples)\n",
    "        \n",
    "        reliability += np.sum(X < Pcrit)/float(nsamples*nvars)\n",
    "\n",
    "    utility = np.sum(alpha*decisions*np.power(delta,np.arange(nvars)))\n",
    "    inertia = np.sum(np.absolute(np.diff(decisions)) > 0.02)/float(nvars-1)\n",
    "      \n",
    "    max_P = np.max(average_daily_P)\n",
    "    return max_P, utility, inertia, reliability"
   ]
  },
  {
   "cell_type": "code",
   "execution_count": 3,
   "metadata": {},
   "outputs": [],
   "source": [
    "import numpy as np\n",
    "#THE FUNCTION FOR ANTHROPOGENIC POLLUTION FOR CLOSED LOOP CONTROL\n",
    "def a_t(X, #x is a scalar, pollution at time t\n",
    "        c=[],\n",
    "        r=[],\n",
    "        w=[],\n",
    "        n=2):\n",
    "\n",
    "    a = sum([w[j]*(abs((X-c[j])/r[j]))**3 for j in range(n)])\n",
    "    return min(max(a, 0.01), 0.1)"
   ]
  },
  {
   "cell_type": "code",
   "execution_count": 4,
   "metadata": {},
   "outputs": [],
   "source": [
    "import numpy as np\n",
    "from ema_workbench import (Model, RealParameter, ScalarOutcome, Constant)\n",
    "\n",
    "#instantiate the model\n",
    "lake_model = Model('lakeproblem', function=lake_problem_openloop)\n",
    "lake_model.time_horizon = 100\n",
    "#specify uncertainties\n",
    "lake_model.uncertainties = [RealParameter('b', 0.1, 0.45),\n",
    "                            RealParameter('q', 2.0, 4.5),\n",
    "                            RealParameter('mean', 0.01, 0.05),\n",
    "                            RealParameter('stdev', 0.001, 0.005),\n",
    "                            RealParameter('delta', 0.93, 0.99)]\n",
    "\n",
    "# set levers, one for each time step\n",
    "lake_model.levers = [RealParameter(str(i), 0, 0.1) for i in \n",
    "                     range(lake_model.time_horizon)]\n",
    "\n",
    "#specify outcomes \n",
    "lake_model.outcomes = [ScalarOutcome('max_P', kind=ScalarOutcome.MINIMIZE),\n",
    "                       ScalarOutcome('utility', kind=ScalarOutcome.MAXIMIZE),\n",
    "                       ScalarOutcome('inertia', kind=ScalarOutcome.MINIMIZE),\n",
    "                       ScalarOutcome('reliability', kind=ScalarOutcome.MAXIMIZE)]\n",
    "\n",
    "# override some of the defaults of the model\n",
    "lake_model.constants = [Constant('alpha', 0.41),\n",
    "                        Constant('nsamples', 100),\n",
    "                        Constant('timehorizon', lake_model.time_horizon),\n",
    "                       ]"
   ]
  },
  {
   "cell_type": "code",
   "execution_count": 5,
   "metadata": {},
   "outputs": [
    {
     "name": "stderr",
     "output_type": "stream",
     "text": [
      "[MainProcess/INFO] performing 500 scenarios * 5 policies * 1 model(s) = 2500 experiments\n",
      "[MainProcess/INFO] performing experiments sequentially\n",
      "[MainProcess/INFO] 250 cases completed\n",
      "[MainProcess/INFO] 500 cases completed\n",
      "[MainProcess/INFO] 750 cases completed\n",
      "[MainProcess/INFO] 1000 cases completed\n",
      "[MainProcess/INFO] 1250 cases completed\n",
      "[MainProcess/INFO] 1500 cases completed\n",
      "[MainProcess/INFO] 1750 cases completed\n",
      "[MainProcess/INFO] 2000 cases completed\n",
      "[MainProcess/INFO] 2250 cases completed\n",
      "[MainProcess/INFO] 2500 cases completed\n",
      "[MainProcess/INFO] experiments finished\n"
     ]
    }
   ],
   "source": [
    "import os\n",
    "\n",
    "from ema_workbench import (perform_experiments, ema_logging, save_results, \n",
    "                           load_results, Policy)\n",
    "from ema_workbench.em_framework import samplers\n",
    "from ema_workbench.em_framework import sample_levers\n",
    "\n",
    "# turn on logging\n",
    "ema_logging.log_to_stderr(ema_logging.INFO)\n",
    "\n",
    "# perform experiments\n",
    "nr_experiments = 500\n",
    "\n",
    "policies = sample_levers(lake_model,n_samples=5)\n",
    "results = perform_experiments(lake_model, nr_experiments, policies=policies)\n"
   ]
  },
  {
   "cell_type": "code",
   "execution_count": 6,
   "metadata": {},
   "outputs": [
    {
     "name": "stdout",
     "output_type": "stream",
     "text": [
      "(             b     delta      mean         q     stdev         0         1  \\\n",
      "0     0.284668  0.969907  0.047840  2.258785  0.003215  0.031045  0.003917   \n",
      "1     0.272469  0.965890  0.032180  2.438869  0.002213  0.031045  0.003917   \n",
      "2     0.184670  0.932181  0.015606  2.858968  0.004511  0.031045  0.003917   \n",
      "3     0.385461  0.960650  0.012724  3.685616  0.003863  0.031045  0.003917   \n",
      "4     0.393267  0.942691  0.042526  2.484626  0.001383  0.031045  0.003917   \n",
      "...        ...       ...       ...       ...       ...       ...       ...   \n",
      "2495  0.350140  0.964376  0.045362  3.433236  0.003427  0.007866  0.055149   \n",
      "2496  0.279139  0.965295  0.027868  3.792441  0.003980  0.007866  0.055149   \n",
      "2497  0.300083  0.967456  0.030569  4.073815  0.001503  0.007866  0.055149   \n",
      "2498  0.143138  0.963131  0.048717  2.689432  0.002637  0.007866  0.055149   \n",
      "2499  0.316704  0.961733  0.013303  2.970484  0.001694  0.007866  0.055149   \n",
      "\n",
      "            10        11        12  ...        93        94        95  \\\n",
      "0     0.030775  0.058464  0.049781  ...  0.074755  0.058160  0.085016   \n",
      "1     0.030775  0.058464  0.049781  ...  0.074755  0.058160  0.085016   \n",
      "2     0.030775  0.058464  0.049781  ...  0.074755  0.058160  0.085016   \n",
      "3     0.030775  0.058464  0.049781  ...  0.074755  0.058160  0.085016   \n",
      "4     0.030775  0.058464  0.049781  ...  0.074755  0.058160  0.085016   \n",
      "...        ...       ...       ...  ...       ...       ...       ...   \n",
      "2495  0.089467  0.023017  0.004284  ...  0.032319  0.010765  0.008947   \n",
      "2496  0.089467  0.023017  0.004284  ...  0.032319  0.010765  0.008947   \n",
      "2497  0.089467  0.023017  0.004284  ...  0.032319  0.010765  0.008947   \n",
      "2498  0.089467  0.023017  0.004284  ...  0.032319  0.010765  0.008947   \n",
      "2499  0.089467  0.023017  0.004284  ...  0.032319  0.010765  0.008947   \n",
      "\n",
      "            96        97        98        99  scenario  policy        model  \n",
      "0     0.032476  0.052404  0.092571  0.064739         0       0  lakeproblem  \n",
      "1     0.032476  0.052404  0.092571  0.064739         1       0  lakeproblem  \n",
      "2     0.032476  0.052404  0.092571  0.064739         2       0  lakeproblem  \n",
      "3     0.032476  0.052404  0.092571  0.064739         3       0  lakeproblem  \n",
      "4     0.032476  0.052404  0.092571  0.064739         4       0  lakeproblem  \n",
      "...        ...       ...       ...       ...       ...     ...          ...  \n",
      "2495  0.085605  0.089809  0.013984  0.004988       495       4  lakeproblem  \n",
      "2496  0.085605  0.089809  0.013984  0.004988       496       4  lakeproblem  \n",
      "2497  0.085605  0.089809  0.013984  0.004988       497       4  lakeproblem  \n",
      "2498  0.085605  0.089809  0.013984  0.004988       498       4  lakeproblem  \n",
      "2499  0.085605  0.089809  0.013984  0.004988       499       4  lakeproblem  \n",
      "\n",
      "[2500 rows x 108 columns], {'max_P': array([3.77688281, 3.93594828, 5.84337537, ..., 0.40610171, 7.77378013,\n",
      "       0.627473  ]), 'utility': array([0.63407755, 0.56477626, 0.27878759, ..., 0.60929501, 0.54661597,\n",
      "       0.52882172]), 'inertia': array([0.62626263, 0.62626263, 0.62626263, ..., 0.52525253, 0.52525253,\n",
      "       0.52525253]), 'reliability': array([0.07  , 0.09  , 0.0998, ..., 1.    , 0.0428, 0.9902])})\n"
     ]
    }
   ],
   "source": [
    "print(results)"
   ]
  },
  {
   "cell_type": "markdown",
   "metadata": {},
   "source": [
    "#### From Quakkels website\n",
    "Step 2.2: Select policy relevant scenarios based on the exploration results:\n",
    "   - max_P >= median(~ 5)\n",
    "   - reliability <= median (~0.5)\n",
    "   - inertia <= median (~1)\n",
    "   - utility <= median (~0.15)"
   ]
  },
  {
   "cell_type": "markdown",
   "metadata": {},
   "source": [
    "#### Create four scenarios?\n",
    "# Step 2.2: Select policy relevant scenarios based on the exploration results:\n",
    "This was done in the paper by Kwakkel et al by tresholds for values calculated out of the outcomes, and then from these 4 maximally diverse scenarios are chosen to make sure that there is a big enoug representation of the data set.\n"
   ]
  },
  {
   "cell_type": "code",
   "execution_count": 7,
   "metadata": {},
   "outputs": [],
   "source": [
    "experiments, outcomes = results\n",
    "oois = sorted(outcomes.keys())\n",
    "\n"
   ]
  },
  {
   "cell_type": "code",
   "execution_count": 8,
   "metadata": {},
   "outputs": [
    {
     "name": "stdout",
     "output_type": "stream",
     "text": [
      "{'max_P': array([3.77688281, 3.93594828, 5.84337537, ..., 0.40610171, 7.77378013,\n",
      "       0.627473  ]), 'utility': array([0.63407755, 0.56477626, 0.27878759, ..., 0.60929501, 0.54661597,\n",
      "       0.52882172]), 'inertia': array([0.62626263, 0.62626263, 0.62626263, ..., 0.52525253, 0.52525253,\n",
      "       0.52525253]), 'reliability': array([0.07  , 0.09  , 0.0998, ..., 1.    , 0.0428, 0.9902])}\n"
     ]
    }
   ],
   "source": [
    "print(outcomes)"
   ]
  },
  {
   "cell_type": "code",
   "execution_count": 9,
   "metadata": {},
   "outputs": [],
   "source": [
    "#here, the policy-relevant scenarios defined by median thresholds are selected\n",
    "indices = []\n",
    "for ooi in oois:\n",
    "    if ooi in ['max_P', 'inertia']:\n",
    "        a = outcomes[ooi] > np.median(outcomes[ooi])     \n",
    "    else: \n",
    "        a = outcomes[ooi] < np.median(outcomes[ooi])\n",
    "    indices.append(a)\n",
    "indices = np.swapaxes(indices, 0, 1)\n",
    "logical_index = np.array([index.all() for index in indices])\n",
    "newExperiments = experiments[logical_index]\n",
    "newOutcomes = {}\n",
    "for ooi in oois:\n",
    "    newOutcomes[ooi] = outcomes[ooi][logical_index]\n",
    "newResults = newExperiments, newOutcomes"
   ]
  },
  {
   "cell_type": "code",
   "execution_count": 10,
   "metadata": {},
   "outputs": [
    {
     "name": "stdout",
     "output_type": "stream",
     "text": [
      "107\n"
     ]
    }
   ],
   "source": [
    "print(len(newOutcomes['max_P']))"
   ]
  },
  {
   "cell_type": "code",
   "execution_count": 13,
   "metadata": {},
   "outputs": [
    {
     "name": "stderr",
     "output_type": "stream",
     "text": [
      "[MainProcess/INFO] results saved successfully to C:\\Users\\joren\\OneDrive\\Documenten\\Universiteit\\Delft\\Q4-2020\\Model-based-Decision-making\\Assignments\\FabiosDecisions\\epa1361\\Week 5-6 - robustness and direct search\\206_experiments_openloop_Apollution.tar.gz\n"
     ]
    }
   ],
   "source": [
    "new_fn = '206_experiments_openloop_Apollution.tar.gz'\n",
    "save_results(newResults, new_fn)"
   ]
  },
  {
   "cell_type": "code",
   "execution_count": null,
   "metadata": {},
   "outputs": [],
   "source": []
  },
  {
   "cell_type": "code",
   "execution_count": 12,
   "metadata": {},
   "outputs": [
    {
     "name": "stdout",
     "output_type": "stream",
     "text": [
      "2500\n"
     ]
    }
   ],
   "source": [
    "#Find the Maximally diverse: \n",
    "import pandas as pd\n",
    "import copy\n",
    "#0 : non policy-relevant scenarios\n",
    "#1 : policy-relevant scenarios\n",
    "#2 : prim results\n",
    "#3 : diverse SELECTED\n",
    "#4 : random selected\n",
    "\n",
    "sel_column = logical_index.astype(int)\n",
    "#selected = [153, 160, 197, 207] #========SELECTED=================\n",
    "selected = [77,  96, 130, 181]\n",
    "random_selected = [81, 289, 391, 257]\n",
    "count = 0\n",
    "for index, i in enumerate(sel_column):\n",
    "    \n",
    "    if logical_index[index]: #this is computed at the bottom of  the notebook\n",
    "        sel_column[index] = 2\n",
    "    if i:\n",
    "        if count in selected:\n",
    "            sel_column[index] = 3\n",
    "        count +=1 #the reason for the count is that the selected indices correspond to the dataset of 206 scenarios \n",
    "            \n",
    "    if index in random_selected:\n",
    "        sel_column[index] = 4\n",
    "        \n",
    "\n",
    "print(len(sel_column))"
   ]
  },
  {
   "cell_type": "code",
   "execution_count": null,
   "metadata": {},
   "outputs": [],
   "source": []
  },
  {
   "cell_type": "markdown",
   "metadata": {},
   "source": [
    "## Search for each scenario\n",
    "\n",
    "For each of the four selected scenarios, use many-objective optimization to find a pareto approximate set using the same approach as for assignment 8. Remember to check for convergence (and time permitting, seed analysis), and be careful in what epsilon values to use (not to coarse, not too small). \n",
    "\n",
    "Store the resulting set of pareto solutions in a smart way for subsequent analysis.\n"
   ]
  },
  {
   "cell_type": "code",
   "execution_count": null,
   "metadata": {},
   "outputs": [],
   "source": []
  },
  {
   "cell_type": "markdown",
   "metadata": {},
   "source": [
    "## Re-evaluate under deep uncertainty\n",
    "\n",
    "Combine the pareto set of solutions found for each scenario. Next, turn each solution into a policy object. If you have a very large number of policies, you can choose to down sample your policies in some reasoned way (*e.g.*, picking min and max on each objective, slicing across the pareto front with a particular step size). As a rule of thumb, try to limit the set of policies to at most 50. \n",
    "\n",
    "Re-evaluate the combined set of solutions over 1000 scenarios sampled using LHS.\n"
   ]
  },
  {
   "cell_type": "code",
   "execution_count": null,
   "metadata": {},
   "outputs": [],
   "source": []
  },
  {
   "cell_type": "markdown",
   "metadata": {},
   "source": [
    "Calculate both the maximum regret, and the domain criterion using the values provided in [Bartholomew and Kwakkel (2020)](https://doi.org/10.1016/j.envsoft.2020.104699). Ignore the max_P objective.\n",
    "\n",
    "visualize the results in parallel coordinate plot. \n",
    "\n",
    "Are there any promising compromise solutions which balance performance in both the reference scenarios as well as in terms of their robustness?\n"
   ]
  },
  {
   "cell_type": "code",
   "execution_count": null,
   "metadata": {},
   "outputs": [],
   "source": []
  },
  {
   "cell_type": "code",
   "execution_count": null,
   "metadata": {},
   "outputs": [],
   "source": []
  }
 ],
 "metadata": {
  "anaconda-cloud": {},
  "kernelspec": {
   "display_name": "Python 3",
   "language": "python",
   "name": "python3"
  },
  "language_info": {
   "codemirror_mode": {
    "name": "ipython",
    "version": 3
   },
   "file_extension": ".py",
   "mimetype": "text/x-python",
   "name": "python",
   "nbconvert_exporter": "python",
   "pygments_lexer": "ipython3",
   "version": "3.8.8"
  },
  "latex_envs": {
   "LaTeX_envs_menu_present": true,
   "autocomplete": true,
   "bibliofile": "biblio.bib",
   "cite_by": "apalike",
   "current_citInitial": 1,
   "eqLabelWithNumbers": true,
   "eqNumInitial": 1,
   "hotkeys": {
    "equation": "Ctrl-E",
    "itemize": "Ctrl-I"
   },
   "labels_anchors": false,
   "latex_user_defs": false,
   "report_style_numbering": false,
   "user_envs_cfg": false
  }
 },
 "nbformat": 4,
 "nbformat_minor": 4
}
