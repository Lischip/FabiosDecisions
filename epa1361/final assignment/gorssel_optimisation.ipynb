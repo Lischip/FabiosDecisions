{
 "cells": [
  {
   "cell_type": "code",
   "execution_count": 91,
   "id": "chronic-growing",
   "metadata": {},
   "outputs": [],
   "source": [
    "from ema_workbench import Scenario, Policy, MultiprocessingEvaluator, ema_logging, load_results, save_results\n",
    "from ema_workbench.analysis import prim\n",
    "from problem_formulation import get_model_for_problem_formulation\n",
    "from ema_workbench.em_framework.evaluators import BaseEvaluator\n",
    "\n",
    "from ema_workbench.em_framework.optimization import (HyperVolume,\n",
    "                                                     EpsilonProgress)\n",
    "import matplotlib.pyplot as plt\n",
    "import pandas as pd\n",
    "import numpy as np\n",
    "from ema_workbench.analysis import parcoords\n",
    "import seaborn as sns"
   ]
  },
  {
   "cell_type": "code",
   "execution_count": 92,
   "id": "dangerous-killing",
   "metadata": {},
   "outputs": [],
   "source": [
    "ACTORNAME = \"Gorssel\"\n",
    "dike_model, planning_steps = get_model_for_problem_formulation(ACTORNAME)\n",
    "outcomekeys = [outcome.name for outcome in dike_model.outcomes]"
   ]
  },
  {
   "cell_type": "markdown",
   "id": "loved-verification",
   "metadata": {},
   "source": [
    "# Scenario selection"
   ]
  },
  {
   "cell_type": "code",
   "execution_count": 93,
   "id": "pressed-candy",
   "metadata": {},
   "outputs": [],
   "source": [
    "ACTOR = \"genscen_Gorssel_50000_12-06-2021-03-06-15.tar.gz\"\n",
    "experiments, outcomes = load_results(\"data/generated/\" + ACTOR)\n",
    "outcomes_df = pd.DataFrame(outcomes)"
   ]
  },
  {
   "cell_type": "code",
   "execution_count": 94,
   "id": "developmental-demand",
   "metadata": {},
   "outputs": [
    {
     "data": {
      "text/plain": [
       "['Difference in Expected Annual Damage Gorssel-Deventer',\n",
       " 'Difference in Expected Number of Deaths Gorssel-Deventer',\n",
       " 'Gorssel Expected Annual Damage',\n",
       " 'Gorssel Expected Number of Deaths',\n",
       " 'Gorssel Budget Overrun',\n",
       " 'Gorssel Total Costs']"
      ]
     },
     "execution_count": 94,
     "metadata": {},
     "output_type": "execute_result"
    }
   ],
   "source": [
    "outcomes_df.columns.values.tolist()"
   ]
  },
  {
   "cell_type": "code",
   "execution_count": 95,
   "id": "homeless-laser",
   "metadata": {},
   "outputs": [
    {
     "data": {
      "text/html": [
       "<div>\n",
       "<style scoped>\n",
       "    .dataframe tbody tr th:only-of-type {\n",
       "        vertical-align: middle;\n",
       "    }\n",
       "\n",
       "    .dataframe tbody tr th {\n",
       "        vertical-align: top;\n",
       "    }\n",
       "\n",
       "    .dataframe thead th {\n",
       "        text-align: right;\n",
       "    }\n",
       "</style>\n",
       "<table border=\"1\" class=\"dataframe\">\n",
       "  <thead>\n",
       "    <tr style=\"text-align: right;\">\n",
       "      <th></th>\n",
       "      <th>Difference in Expected Annual Damage Gorssel-Deventer</th>\n",
       "      <th>Difference in Expected Number of Deaths Gorssel-Deventer</th>\n",
       "      <th>Gorssel Expected Annual Damage</th>\n",
       "      <th>Gorssel Expected Number of Deaths</th>\n",
       "      <th>Gorssel Budget Overrun</th>\n",
       "      <th>Gorssel Total Costs</th>\n",
       "    </tr>\n",
       "  </thead>\n",
       "  <tbody>\n",
       "    <tr>\n",
       "      <th>0</th>\n",
       "      <td>-1219.596387</td>\n",
       "      <td>-9.711846e-07</td>\n",
       "      <td>9.488213e+06</td>\n",
       "      <td>0.004926</td>\n",
       "      <td>0</td>\n",
       "      <td>0.0</td>\n",
       "    </tr>\n",
       "    <tr>\n",
       "      <th>1</th>\n",
       "      <td>-393.024418</td>\n",
       "      <td>-2.241158e-07</td>\n",
       "      <td>3.958503e+07</td>\n",
       "      <td>0.022573</td>\n",
       "      <td>0</td>\n",
       "      <td>0.0</td>\n",
       "    </tr>\n",
       "    <tr>\n",
       "      <th>2</th>\n",
       "      <td>-1511.088849</td>\n",
       "      <td>-6.855404e-07</td>\n",
       "      <td>1.521954e+08</td>\n",
       "      <td>0.069047</td>\n",
       "      <td>0</td>\n",
       "      <td>0.0</td>\n",
       "    </tr>\n",
       "    <tr>\n",
       "      <th>3</th>\n",
       "      <td>-149.944611</td>\n",
       "      <td>-9.245500e-08</td>\n",
       "      <td>1.510227e+07</td>\n",
       "      <td>0.009312</td>\n",
       "      <td>0</td>\n",
       "      <td>0.0</td>\n",
       "    </tr>\n",
       "    <tr>\n",
       "      <th>4</th>\n",
       "      <td>-536.744525</td>\n",
       "      <td>-3.516669e-07</td>\n",
       "      <td>5.406037e+07</td>\n",
       "      <td>0.035420</td>\n",
       "      <td>0</td>\n",
       "      <td>0.0</td>\n",
       "    </tr>\n",
       "    <tr>\n",
       "      <th>...</th>\n",
       "      <td>...</td>\n",
       "      <td>...</td>\n",
       "      <td>...</td>\n",
       "      <td>...</td>\n",
       "      <td>...</td>\n",
       "      <td>...</td>\n",
       "    </tr>\n",
       "    <tr>\n",
       "      <th>49995</th>\n",
       "      <td>-695.221991</td>\n",
       "      <td>-3.872856e-07</td>\n",
       "      <td>7.002206e+07</td>\n",
       "      <td>0.039007</td>\n",
       "      <td>0</td>\n",
       "      <td>0.0</td>\n",
       "    </tr>\n",
       "    <tr>\n",
       "      <th>49996</th>\n",
       "      <td>-3266.659209</td>\n",
       "      <td>-2.565056e-06</td>\n",
       "      <td>7.221858e+07</td>\n",
       "      <td>0.034183</td>\n",
       "      <td>0</td>\n",
       "      <td>0.0</td>\n",
       "    </tr>\n",
       "    <tr>\n",
       "      <th>49997</th>\n",
       "      <td>-300.839149</td>\n",
       "      <td>-1.813858e-07</td>\n",
       "      <td>1.075421e+07</td>\n",
       "      <td>0.004638</td>\n",
       "      <td>0</td>\n",
       "      <td>0.0</td>\n",
       "    </tr>\n",
       "    <tr>\n",
       "      <th>49998</th>\n",
       "      <td>-6792.876649</td>\n",
       "      <td>-5.842054e-06</td>\n",
       "      <td>1.203924e+07</td>\n",
       "      <td>0.005334</td>\n",
       "      <td>0</td>\n",
       "      <td>0.0</td>\n",
       "    </tr>\n",
       "    <tr>\n",
       "      <th>49999</th>\n",
       "      <td>-1081.757564</td>\n",
       "      <td>-4.979500e-07</td>\n",
       "      <td>9.712141e+07</td>\n",
       "      <td>0.040641</td>\n",
       "      <td>0</td>\n",
       "      <td>0.0</td>\n",
       "    </tr>\n",
       "  </tbody>\n",
       "</table>\n",
       "<p>50000 rows × 6 columns</p>\n",
       "</div>"
      ],
      "text/plain": [
       "       Difference in Expected Annual Damage Gorssel-Deventer  \\\n",
       "0                                           -1219.596387       \n",
       "1                                            -393.024418       \n",
       "2                                           -1511.088849       \n",
       "3                                            -149.944611       \n",
       "4                                            -536.744525       \n",
       "...                                                  ...       \n",
       "49995                                        -695.221991       \n",
       "49996                                       -3266.659209       \n",
       "49997                                        -300.839149       \n",
       "49998                                       -6792.876649       \n",
       "49999                                       -1081.757564       \n",
       "\n",
       "       Difference in Expected Number of Deaths Gorssel-Deventer  \\\n",
       "0                                          -9.711846e-07          \n",
       "1                                          -2.241158e-07          \n",
       "2                                          -6.855404e-07          \n",
       "3                                          -9.245500e-08          \n",
       "4                                          -3.516669e-07          \n",
       "...                                                  ...          \n",
       "49995                                      -3.872856e-07          \n",
       "49996                                      -2.565056e-06          \n",
       "49997                                      -1.813858e-07          \n",
       "49998                                      -5.842054e-06          \n",
       "49999                                      -4.979500e-07          \n",
       "\n",
       "       Gorssel Expected Annual Damage  Gorssel Expected Number of Deaths  \\\n",
       "0                        9.488213e+06                           0.004926   \n",
       "1                        3.958503e+07                           0.022573   \n",
       "2                        1.521954e+08                           0.069047   \n",
       "3                        1.510227e+07                           0.009312   \n",
       "4                        5.406037e+07                           0.035420   \n",
       "...                               ...                                ...   \n",
       "49995                    7.002206e+07                           0.039007   \n",
       "49996                    7.221858e+07                           0.034183   \n",
       "49997                    1.075421e+07                           0.004638   \n",
       "49998                    1.203924e+07                           0.005334   \n",
       "49999                    9.712141e+07                           0.040641   \n",
       "\n",
       "       Gorssel Budget Overrun  Gorssel Total Costs  \n",
       "0                           0                  0.0  \n",
       "1                           0                  0.0  \n",
       "2                           0                  0.0  \n",
       "3                           0                  0.0  \n",
       "4                           0                  0.0  \n",
       "...                       ...                  ...  \n",
       "49995                       0                  0.0  \n",
       "49996                       0                  0.0  \n",
       "49997                       0                  0.0  \n",
       "49998                       0                  0.0  \n",
       "49999                       0                  0.0  \n",
       "\n",
       "[50000 rows x 6 columns]"
      ]
     },
     "execution_count": 95,
     "metadata": {},
     "output_type": "execute_result"
    }
   ],
   "source": [
    "outcomes_df"
   ]
  },
  {
   "cell_type": "code",
   "execution_count": 96,
   "id": "fancy-circle",
   "metadata": {},
   "outputs": [],
   "source": [
    "DAMAGE = outcomes_df.columns[2]\n",
    "DEATHS = outcomes_df.columns[3]\n",
    "COSTS = outcomes_df.columns[5]"
   ]
  },
  {
   "cell_type": "markdown",
   "id": "residential-georgia",
   "metadata": {},
   "source": [
    "We are interested in the correlation between Deaths and Damage"
   ]
  },
  {
   "cell_type": "code",
   "execution_count": 97,
   "id": "specialized-native",
   "metadata": {},
   "outputs": [
    {
     "data": {
      "text/plain": [
       "0.9776021595504573"
      ]
     },
     "execution_count": 97,
     "metadata": {},
     "output_type": "execute_result"
    }
   ],
   "source": [
    "outcomes_df[DAMAGE].corr(outcomes_df[DEATHS])"
   ]
  },
  {
   "cell_type": "markdown",
   "id": "popular-chest",
   "metadata": {},
   "source": [
    "So the correlation is INSANE"
   ]
  },
  {
   "cell_type": "code",
   "execution_count": 98,
   "id": "vital-prison",
   "metadata": {},
   "outputs": [],
   "source": [
    "results = pd.concat([experiments, outcomes_df], axis=1)"
   ]
  },
  {
   "cell_type": "code",
   "execution_count": 99,
   "id": "corrected-shuttle",
   "metadata": {},
   "outputs": [],
   "source": [
    "worst_damage_df = results.loc[results[DAMAGE] > np.percentile(a=outcomes[DAMAGE], q=90)]\n",
    "worst_deaths_df = results.loc[results[DEATHS] > np.percentile(a=outcomes[DEATHS], q=90)]\n",
    "worst_ix =set(worst_damage_df[\"scenario\"].tolist()) & set(worst_deaths_df[\"scenario\"].tolist())"
   ]
  },
  {
   "cell_type": "code",
   "execution_count": 100,
   "id": "integrated-ivory",
   "metadata": {},
   "outputs": [],
   "source": [
    "worst_case = results.iloc[list(worst_ix)].sample(n=1, random_state=1)"
   ]
  },
  {
   "cell_type": "code",
   "execution_count": 101,
   "id": "static-navigator",
   "metadata": {},
   "outputs": [],
   "source": [
    "best_damage_df = results.loc[results[DAMAGE] <= np.percentile(a=outcomes[DAMAGE], q=10)]\n",
    "best_deaths_df = results.loc[results[DEATHS] <= np.percentile(a=outcomes[DEATHS], q=10)]\n",
    "best_ix = set(best_damage_df[\"scenario\"].tolist()) & set(best_deaths_df[\"scenario\"].tolist())"
   ]
  },
  {
   "cell_type": "code",
   "execution_count": 102,
   "id": "executive-greene",
   "metadata": {},
   "outputs": [],
   "source": [
    "best_case = results.iloc[list(best_ix)].sample(n=1, random_state=1)"
   ]
  },
  {
   "cell_type": "code",
   "execution_count": 103,
   "id": "effective-uniform",
   "metadata": {},
   "outputs": [],
   "source": [
    "middle_damage_df = results.loc[(results[DAMAGE] > np.percentile(a=outcomes[DAMAGE], q=45)) & (results[DAMAGE] <= np.percentile(a=outcomes[DAMAGE], q=55))]\n",
    "middle_deaths_df = results.loc[(results[DEATHS] > np.percentile(a=outcomes[DEATHS], q=45)) & (results[DEATHS] <= np.percentile(a=outcomes[DEATHS], q=55))]\n",
    "middle_ix =set(middle_damage_df[\"scenario\"].tolist()) & set(middle_deaths_df[\"scenario\"].tolist())"
   ]
  },
  {
   "cell_type": "code",
   "execution_count": 104,
   "id": "iraqi-integrity",
   "metadata": {},
   "outputs": [],
   "source": [
    "middle_case = results.iloc[list(middle_ix)].sample(n=1, random_state=1)"
   ]
  },
  {
   "cell_type": "code",
   "execution_count": 105,
   "id": "utility-valuation",
   "metadata": {},
   "outputs": [],
   "source": [
    "low_damage_df = results.loc[(results[DAMAGE] > np.percentile(a=outcomes[DAMAGE], q=25)) & (results[DAMAGE] <= np.percentile(a=outcomes[DAMAGE], q=30))]\n",
    "low_deaths_df = results.loc[(results[DEATHS] > np.percentile(a=outcomes[DEATHS], q=25)) & (results[DEATHS] <= np.percentile(a=outcomes[DEATHS], q=30))]\n",
    "low_ix =set(low_damage_df[\"scenario\"].tolist()) & set(low_deaths_df[\"scenario\"].tolist())"
   ]
  },
  {
   "cell_type": "code",
   "execution_count": 106,
   "id": "handy-element",
   "metadata": {},
   "outputs": [],
   "source": [
    "high_damage_df = results.loc[(results[DAMAGE] > np.percentile(a=outcomes[DAMAGE], q=70)) & (results[DAMAGE] <= np.percentile(a=outcomes[DAMAGE], q=75))]\n",
    "high_deaths_df = results.loc[(results[DEATHS] > np.percentile(a=outcomes[DEATHS], q=70)) & (results[DEATHS] <= np.percentile(a=outcomes[DEATHS], q=75))]\n",
    "high_ix =set(high_damage_df[\"scenario\"].tolist()) & set(high_deaths_df[\"scenario\"].tolist())"
   ]
  },
  {
   "cell_type": "code",
   "execution_count": 107,
   "id": "mental-biology",
   "metadata": {},
   "outputs": [],
   "source": [
    "low_case = results.iloc[list(low_ix)].sample(n=1, random_state=1)\n",
    "high_case = results.iloc[list(high_ix)].sample(n=1, random_state=1)"
   ]
  },
  {
   "cell_type": "code",
   "execution_count": 108,
   "id": "complex-distance",
   "metadata": {},
   "outputs": [],
   "source": [
    "uncertainties =list(dike_model.uncertainties._data.keys())"
   ]
  },
  {
   "cell_type": "code",
   "execution_count": 109,
   "id": "atomic-regulation",
   "metadata": {},
   "outputs": [],
   "source": [
    "selected = pd.concat([best_case.loc[:, uncertainties], low_case.loc[:, uncertainties], middle_case.loc[:, uncertainties], high_case.loc[:, uncertainties], worst_case.loc[:, uncertainties]], axis=0)"
   ]
  },
  {
   "cell_type": "code",
   "execution_count": 110,
   "id": "sporting-championship",
   "metadata": {},
   "outputs": [],
   "source": [
    "cases = {0: \"best\", 1: \"low\", 2: \"middle\", 3: \"high\", 4: \"worst\"}"
   ]
  },
  {
   "cell_type": "code",
   "execution_count": 111,
   "id": "logical-staff",
   "metadata": {},
   "outputs": [],
   "source": [
    "from sklearn import preprocessing\n",
    "min_max_scaler = preprocessing.MinMaxScaler()\n",
    "damage_scaled = min_max_scaler.fit_transform(pd.DataFrame(outcomes[DAMAGE]).values)\n",
    "deaths_scaled = min_max_scaler.fit_transform(pd.DataFrame(outcomes[DEATHS]).values)\n",
    "scaled = (damage_scaled + deaths_scaled)/2"
   ]
  },
  {
   "cell_type": "code",
   "execution_count": 112,
   "id": "suspected-distributor",
   "metadata": {},
   "outputs": [],
   "source": [
    "outcomes_df[\"Scaled\"] = scaled"
   ]
  },
  {
   "cell_type": "code",
   "execution_count": 113,
   "id": "sized-sympathy",
   "metadata": {},
   "outputs": [
    {
     "name": "stdout",
     "output_type": "stream",
     "text": [
      "Difference in Expected Annual Damage Gorssel-Deventer        138\n",
      "Difference in Expected Number of Deaths Gorssel-Deventer     138\n",
      "Gorssel Expected Annual Damage                              6013\n",
      "Gorssel Expected Number of Deaths                            631\n",
      "Gorssel Budget Overrun                                         0\n",
      "Gorssel Total Costs                                            0\n",
      "Scaled                                                      6013\n",
      "dtype: int64\n",
      "Difference in Expected Annual Damage Gorssel-Deventer       47744\n",
      "Difference in Expected Number of Deaths Gorssel-Deventer    22031\n",
      "Gorssel Expected Annual Damage                                  7\n",
      "Gorssel Expected Number of Deaths                               7\n",
      "Gorssel Budget Overrun                                          0\n",
      "Gorssel Total Costs                                             0\n",
      "Scaled                                                          7\n",
      "dtype: int64\n"
     ]
    }
   ],
   "source": [
    "print(outcomes_df.idxmax())\n",
    "print(outcomes_df.idxmin())"
   ]
  },
  {
   "cell_type": "code",
   "execution_count": 114,
   "id": "informed-bahamas",
   "metadata": {},
   "outputs": [
    {
     "data": {
      "text/html": [
       "<div>\n",
       "<style scoped>\n",
       "    .dataframe tbody tr th:only-of-type {\n",
       "        vertical-align: middle;\n",
       "    }\n",
       "\n",
       "    .dataframe tbody tr th {\n",
       "        vertical-align: top;\n",
       "    }\n",
       "\n",
       "    .dataframe thead th {\n",
       "        text-align: right;\n",
       "    }\n",
       "</style>\n",
       "<table border=\"1\" class=\"dataframe\">\n",
       "  <thead>\n",
       "    <tr style=\"text-align: right;\">\n",
       "      <th></th>\n",
       "      <th>Difference in Expected Annual Damage Gorssel-Deventer</th>\n",
       "      <th>Difference in Expected Number of Deaths Gorssel-Deventer</th>\n",
       "      <th>Gorssel Expected Annual Damage</th>\n",
       "      <th>Gorssel Expected Number of Deaths</th>\n",
       "      <th>Gorssel Budget Overrun</th>\n",
       "      <th>Gorssel Total Costs</th>\n",
       "      <th>Scaled</th>\n",
       "    </tr>\n",
       "  </thead>\n",
       "  <tbody>\n",
       "    <tr>\n",
       "      <th>41957</th>\n",
       "      <td>-79.727020</td>\n",
       "      <td>-6.765041e-08</td>\n",
       "      <td>0.000000e+00</td>\n",
       "      <td>0.000000</td>\n",
       "      <td>0</td>\n",
       "      <td>0.0</td>\n",
       "      <td>0.000000</td>\n",
       "    </tr>\n",
       "    <tr>\n",
       "      <th>6720</th>\n",
       "      <td>-110.264860</td>\n",
       "      <td>-1.525149e-07</td>\n",
       "      <td>0.000000e+00</td>\n",
       "      <td>0.000000</td>\n",
       "      <td>0</td>\n",
       "      <td>0.0</td>\n",
       "      <td>0.000000</td>\n",
       "    </tr>\n",
       "    <tr>\n",
       "      <th>13643</th>\n",
       "      <td>0.000000</td>\n",
       "      <td>0.000000e+00</td>\n",
       "      <td>0.000000e+00</td>\n",
       "      <td>0.000000</td>\n",
       "      <td>0</td>\n",
       "      <td>0.0</td>\n",
       "      <td>0.000000</td>\n",
       "    </tr>\n",
       "    <tr>\n",
       "      <th>27472</th>\n",
       "      <td>-76.744440</td>\n",
       "      <td>-1.072117e-07</td>\n",
       "      <td>0.000000e+00</td>\n",
       "      <td>0.000000</td>\n",
       "      <td>0</td>\n",
       "      <td>0.0</td>\n",
       "      <td>0.000000</td>\n",
       "    </tr>\n",
       "    <tr>\n",
       "      <th>31993</th>\n",
       "      <td>-143.821957</td>\n",
       "      <td>-1.272312e-07</td>\n",
       "      <td>0.000000e+00</td>\n",
       "      <td>0.000000</td>\n",
       "      <td>0</td>\n",
       "      <td>0.0</td>\n",
       "      <td>0.000000</td>\n",
       "    </tr>\n",
       "    <tr>\n",
       "      <th>...</th>\n",
       "      <td>...</td>\n",
       "      <td>...</td>\n",
       "      <td>...</td>\n",
       "      <td>...</td>\n",
       "      <td>...</td>\n",
       "      <td>...</td>\n",
       "      <td>...</td>\n",
       "    </tr>\n",
       "    <tr>\n",
       "      <th>35427</th>\n",
       "      <td>-2204.550061</td>\n",
       "      <td>-7.125139e-07</td>\n",
       "      <td>2.220401e+08</td>\n",
       "      <td>0.071764</td>\n",
       "      <td>0</td>\n",
       "      <td>0.0</td>\n",
       "      <td>0.959412</td>\n",
       "    </tr>\n",
       "    <tr>\n",
       "      <th>6039</th>\n",
       "      <td>-2115.200271</td>\n",
       "      <td>-7.491584e-07</td>\n",
       "      <td>2.130409e+08</td>\n",
       "      <td>0.075454</td>\n",
       "      <td>0</td>\n",
       "      <td>0.0</td>\n",
       "      <td>0.964258</td>\n",
       "    </tr>\n",
       "    <tr>\n",
       "      <th>18662</th>\n",
       "      <td>-2239.850653</td>\n",
       "      <td>-7.256149e-07</td>\n",
       "      <td>2.255955e+08</td>\n",
       "      <td>0.073083</td>\n",
       "      <td>0</td>\n",
       "      <td>0.0</td>\n",
       "      <td>0.975904</td>\n",
       "    </tr>\n",
       "    <tr>\n",
       "      <th>35763</th>\n",
       "      <td>-2661.862343</td>\n",
       "      <td>-9.880909e-07</td>\n",
       "      <td>2.274771e+08</td>\n",
       "      <td>0.074069</td>\n",
       "      <td>0</td>\n",
       "      <td>0.0</td>\n",
       "      <td>0.986540</td>\n",
       "    </tr>\n",
       "    <tr>\n",
       "      <th>6013</th>\n",
       "      <td>-2278.042745</td>\n",
       "      <td>-7.440245e-07</td>\n",
       "      <td>2.294422e+08</td>\n",
       "      <td>0.074937</td>\n",
       "      <td>0</td>\n",
       "      <td>0.0</td>\n",
       "      <td>0.996574</td>\n",
       "    </tr>\n",
       "  </tbody>\n",
       "</table>\n",
       "<p>50000 rows × 7 columns</p>\n",
       "</div>"
      ],
      "text/plain": [
       "       Difference in Expected Annual Damage Gorssel-Deventer  \\\n",
       "41957                                         -79.727020       \n",
       "6720                                         -110.264860       \n",
       "13643                                           0.000000       \n",
       "27472                                         -76.744440       \n",
       "31993                                        -143.821957       \n",
       "...                                                  ...       \n",
       "35427                                       -2204.550061       \n",
       "6039                                        -2115.200271       \n",
       "18662                                       -2239.850653       \n",
       "35763                                       -2661.862343       \n",
       "6013                                        -2278.042745       \n",
       "\n",
       "       Difference in Expected Number of Deaths Gorssel-Deventer  \\\n",
       "41957                                      -6.765041e-08          \n",
       "6720                                       -1.525149e-07          \n",
       "13643                                       0.000000e+00          \n",
       "27472                                      -1.072117e-07          \n",
       "31993                                      -1.272312e-07          \n",
       "...                                                  ...          \n",
       "35427                                      -7.125139e-07          \n",
       "6039                                       -7.491584e-07          \n",
       "18662                                      -7.256149e-07          \n",
       "35763                                      -9.880909e-07          \n",
       "6013                                       -7.440245e-07          \n",
       "\n",
       "       Gorssel Expected Annual Damage  Gorssel Expected Number of Deaths  \\\n",
       "41957                    0.000000e+00                           0.000000   \n",
       "6720                     0.000000e+00                           0.000000   \n",
       "13643                    0.000000e+00                           0.000000   \n",
       "27472                    0.000000e+00                           0.000000   \n",
       "31993                    0.000000e+00                           0.000000   \n",
       "...                               ...                                ...   \n",
       "35427                    2.220401e+08                           0.071764   \n",
       "6039                     2.130409e+08                           0.075454   \n",
       "18662                    2.255955e+08                           0.073083   \n",
       "35763                    2.274771e+08                           0.074069   \n",
       "6013                     2.294422e+08                           0.074937   \n",
       "\n",
       "       Gorssel Budget Overrun  Gorssel Total Costs    Scaled  \n",
       "41957                       0                  0.0  0.000000  \n",
       "6720                        0                  0.0  0.000000  \n",
       "13643                       0                  0.0  0.000000  \n",
       "27472                       0                  0.0  0.000000  \n",
       "31993                       0                  0.0  0.000000  \n",
       "...                       ...                  ...       ...  \n",
       "35427                       0                  0.0  0.959412  \n",
       "6039                        0                  0.0  0.964258  \n",
       "18662                       0                  0.0  0.975904  \n",
       "35763                       0                  0.0  0.986540  \n",
       "6013                        0                  0.0  0.996574  \n",
       "\n",
       "[50000 rows x 7 columns]"
      ]
     },
     "execution_count": 114,
     "metadata": {},
     "output_type": "execute_result"
    }
   ],
   "source": [
    " outcomes_df.sort_values(by=\"Scaled\")"
   ]
  },
  {
   "cell_type": "code",
   "execution_count": 115,
   "id": "organizational-brush",
   "metadata": {},
   "outputs": [],
   "source": [
    "twentyfive = outcomes_df.sort_values(by=\"Scaled\").iloc[int(0.25 * outcomes_df.shape[0])].name"
   ]
  },
  {
   "cell_type": "code",
   "execution_count": 116,
   "id": "running-humanitarian",
   "metadata": {},
   "outputs": [],
   "source": [
    "fifty = outcomes_df.sort_values(by=\"Scaled\").iloc[int(0.5 * outcomes_df.shape[0])].name"
   ]
  },
  {
   "cell_type": "code",
   "execution_count": 117,
   "id": "insured-appendix",
   "metadata": {},
   "outputs": [],
   "source": [
    "seventyfive = outcomes_df.sort_values(by=\"Scaled\").iloc[int(0.75 * outcomes_df.shape[0])].name"
   ]
  },
  {
   "cell_type": "code",
   "execution_count": 118,
   "id": "crucial-business",
   "metadata": {},
   "outputs": [],
   "source": [
    "absoluteworst = outcomes_df.sort_values(by=\"Scaled\").iloc[-1].name"
   ]
  },
  {
   "cell_type": "code",
   "execution_count": 119,
   "id": "serious-pricing",
   "metadata": {},
   "outputs": [],
   "source": [
    "idx = [outcomes_df.idxmin()[DAMAGE], twentyfive, fifty, seventyfive, outcomes_df.idxmax()[DEATHS], outcomes_df.idxmax()[DAMAGE]]"
   ]
  },
  {
   "cell_type": "code",
   "execution_count": null,
   "id": "extensive-attachment",
   "metadata": {},
   "outputs": [],
   "source": [
    "cases = {0: \"best\", 1: \"low\", 2: \"middle\", 3: \"high\", 4: \"worst deaths\", 5: \"absolute worst\"}"
   ]
  },
  {
   "cell_type": "code",
   "execution_count": 120,
   "id": "czech-newman",
   "metadata": {},
   "outputs": [],
   "source": [
    "selected = results.iloc[idx]"
   ]
  },
  {
   "cell_type": "code",
   "execution_count": 121,
   "id": "chronic-joint",
   "metadata": {},
   "outputs": [
    {
     "data": {
      "text/html": [
       "<div>\n",
       "<style scoped>\n",
       "    .dataframe tbody tr th:only-of-type {\n",
       "        vertical-align: middle;\n",
       "    }\n",
       "\n",
       "    .dataframe tbody tr th {\n",
       "        vertical-align: top;\n",
       "    }\n",
       "\n",
       "    .dataframe thead th {\n",
       "        text-align: right;\n",
       "    }\n",
       "</style>\n",
       "<table border=\"1\" class=\"dataframe\">\n",
       "  <thead>\n",
       "    <tr style=\"text-align: right;\">\n",
       "      <th></th>\n",
       "      <th>0_RfR 0</th>\n",
       "      <th>0_RfR 1</th>\n",
       "      <th>0_RfR 2</th>\n",
       "      <th>1_RfR 0</th>\n",
       "      <th>1_RfR 1</th>\n",
       "      <th>1_RfR 2</th>\n",
       "      <th>2_RfR 0</th>\n",
       "      <th>2_RfR 1</th>\n",
       "      <th>2_RfR 2</th>\n",
       "      <th>A.0_ID flood wave shape</th>\n",
       "      <th>...</th>\n",
       "      <th>A.5_DikeIncrease 2</th>\n",
       "      <th>scenario</th>\n",
       "      <th>policy</th>\n",
       "      <th>model</th>\n",
       "      <th>Difference in Expected Annual Damage Gorssel-Deventer</th>\n",
       "      <th>Difference in Expected Number of Deaths Gorssel-Deventer</th>\n",
       "      <th>Gorssel Expected Annual Damage</th>\n",
       "      <th>Gorssel Expected Number of Deaths</th>\n",
       "      <th>Gorssel Budget Overrun</th>\n",
       "      <th>Gorssel Total Costs</th>\n",
       "    </tr>\n",
       "  </thead>\n",
       "  <tbody>\n",
       "    <tr>\n",
       "      <th>7</th>\n",
       "      <td>1.0</td>\n",
       "      <td>0.0</td>\n",
       "      <td>1.0</td>\n",
       "      <td>1.0</td>\n",
       "      <td>0.0</td>\n",
       "      <td>0.0</td>\n",
       "      <td>0.0</td>\n",
       "      <td>0.0</td>\n",
       "      <td>1.0</td>\n",
       "      <td>23.0</td>\n",
       "      <td>...</td>\n",
       "      <td>0.0</td>\n",
       "      <td>7</td>\n",
       "      <td>Policy 0</td>\n",
       "      <td>dikesnet</td>\n",
       "      <td>-1488.812909</td>\n",
       "      <td>-1.303142e-06</td>\n",
       "      <td>0.000000e+00</td>\n",
       "      <td>0.000000</td>\n",
       "      <td>0</td>\n",
       "      <td>0.0</td>\n",
       "    </tr>\n",
       "    <tr>\n",
       "      <th>42749</th>\n",
       "      <td>0.0</td>\n",
       "      <td>0.0</td>\n",
       "      <td>1.0</td>\n",
       "      <td>1.0</td>\n",
       "      <td>1.0</td>\n",
       "      <td>0.0</td>\n",
       "      <td>0.0</td>\n",
       "      <td>0.0</td>\n",
       "      <td>1.0</td>\n",
       "      <td>88.0</td>\n",
       "      <td>...</td>\n",
       "      <td>0.0</td>\n",
       "      <td>42749</td>\n",
       "      <td>Policy 0</td>\n",
       "      <td>dikesnet</td>\n",
       "      <td>-11743.104561</td>\n",
       "      <td>-8.921829e-06</td>\n",
       "      <td>8.512142e+06</td>\n",
       "      <td>0.004270</td>\n",
       "      <td>0</td>\n",
       "      <td>0.0</td>\n",
       "    </tr>\n",
       "    <tr>\n",
       "      <th>48953</th>\n",
       "      <td>0.0</td>\n",
       "      <td>1.0</td>\n",
       "      <td>1.0</td>\n",
       "      <td>0.0</td>\n",
       "      <td>0.0</td>\n",
       "      <td>1.0</td>\n",
       "      <td>1.0</td>\n",
       "      <td>1.0</td>\n",
       "      <td>0.0</td>\n",
       "      <td>78.0</td>\n",
       "      <td>...</td>\n",
       "      <td>0.0</td>\n",
       "      <td>48953</td>\n",
       "      <td>Policy 0</td>\n",
       "      <td>dikesnet</td>\n",
       "      <td>-2505.996332</td>\n",
       "      <td>-2.595945e-06</td>\n",
       "      <td>1.739861e+07</td>\n",
       "      <td>0.010771</td>\n",
       "      <td>0</td>\n",
       "      <td>0.0</td>\n",
       "    </tr>\n",
       "    <tr>\n",
       "      <th>42320</th>\n",
       "      <td>1.0</td>\n",
       "      <td>0.0</td>\n",
       "      <td>0.0</td>\n",
       "      <td>1.0</td>\n",
       "      <td>1.0</td>\n",
       "      <td>0.0</td>\n",
       "      <td>1.0</td>\n",
       "      <td>1.0</td>\n",
       "      <td>1.0</td>\n",
       "      <td>119.0</td>\n",
       "      <td>...</td>\n",
       "      <td>0.0</td>\n",
       "      <td>42320</td>\n",
       "      <td>Policy 0</td>\n",
       "      <td>dikesnet</td>\n",
       "      <td>-2594.729105</td>\n",
       "      <td>-2.230841e-06</td>\n",
       "      <td>6.533525e+07</td>\n",
       "      <td>0.034430</td>\n",
       "      <td>0</td>\n",
       "      <td>0.0</td>\n",
       "    </tr>\n",
       "    <tr>\n",
       "      <th>631</th>\n",
       "      <td>1.0</td>\n",
       "      <td>0.0</td>\n",
       "      <td>0.0</td>\n",
       "      <td>1.0</td>\n",
       "      <td>1.0</td>\n",
       "      <td>1.0</td>\n",
       "      <td>1.0</td>\n",
       "      <td>0.0</td>\n",
       "      <td>0.0</td>\n",
       "      <td>81.0</td>\n",
       "      <td>...</td>\n",
       "      <td>0.0</td>\n",
       "      <td>631</td>\n",
       "      <td>Policy 0</td>\n",
       "      <td>dikesnet</td>\n",
       "      <td>-1736.273653</td>\n",
       "      <td>-7.491584e-07</td>\n",
       "      <td>1.748757e+08</td>\n",
       "      <td>0.075454</td>\n",
       "      <td>0</td>\n",
       "      <td>0.0</td>\n",
       "    </tr>\n",
       "    <tr>\n",
       "      <th>6013</th>\n",
       "      <td>0.0</td>\n",
       "      <td>1.0</td>\n",
       "      <td>0.0</td>\n",
       "      <td>0.0</td>\n",
       "      <td>1.0</td>\n",
       "      <td>1.0</td>\n",
       "      <td>0.0</td>\n",
       "      <td>0.0</td>\n",
       "      <td>1.0</td>\n",
       "      <td>33.0</td>\n",
       "      <td>...</td>\n",
       "      <td>0.0</td>\n",
       "      <td>6013</td>\n",
       "      <td>Policy 0</td>\n",
       "      <td>dikesnet</td>\n",
       "      <td>-2278.042745</td>\n",
       "      <td>-7.440245e-07</td>\n",
       "      <td>2.294422e+08</td>\n",
       "      <td>0.074937</td>\n",
       "      <td>0</td>\n",
       "      <td>0.0</td>\n",
       "    </tr>\n",
       "  </tbody>\n",
       "</table>\n",
       "<p>6 rows × 59 columns</p>\n",
       "</div>"
      ],
      "text/plain": [
       "       0_RfR 0  0_RfR 1  0_RfR 2  1_RfR 0  1_RfR 1  1_RfR 2  2_RfR 0  2_RfR 1  \\\n",
       "7          1.0      0.0      1.0      1.0      0.0      0.0      0.0      0.0   \n",
       "42749      0.0      0.0      1.0      1.0      1.0      0.0      0.0      0.0   \n",
       "48953      0.0      1.0      1.0      0.0      0.0      1.0      1.0      1.0   \n",
       "42320      1.0      0.0      0.0      1.0      1.0      0.0      1.0      1.0   \n",
       "631        1.0      0.0      0.0      1.0      1.0      1.0      1.0      0.0   \n",
       "6013       0.0      1.0      0.0      0.0      1.0      1.0      0.0      0.0   \n",
       "\n",
       "       2_RfR 2  A.0_ID flood wave shape  ...  A.5_DikeIncrease 2 scenario  \\\n",
       "7          1.0                     23.0  ...                 0.0        7   \n",
       "42749      1.0                     88.0  ...                 0.0    42749   \n",
       "48953      0.0                     78.0  ...                 0.0    48953   \n",
       "42320      1.0                    119.0  ...                 0.0    42320   \n",
       "631        0.0                     81.0  ...                 0.0      631   \n",
       "6013       1.0                     33.0  ...                 0.0     6013   \n",
       "\n",
       "         policy     model  \\\n",
       "7      Policy 0  dikesnet   \n",
       "42749  Policy 0  dikesnet   \n",
       "48953  Policy 0  dikesnet   \n",
       "42320  Policy 0  dikesnet   \n",
       "631    Policy 0  dikesnet   \n",
       "6013   Policy 0  dikesnet   \n",
       "\n",
       "       Difference in Expected Annual Damage Gorssel-Deventer  \\\n",
       "7                                           -1488.812909       \n",
       "42749                                      -11743.104561       \n",
       "48953                                       -2505.996332       \n",
       "42320                                       -2594.729105       \n",
       "631                                         -1736.273653       \n",
       "6013                                        -2278.042745       \n",
       "\n",
       "       Difference in Expected Number of Deaths Gorssel-Deventer  \\\n",
       "7                                          -1.303142e-06          \n",
       "42749                                      -8.921829e-06          \n",
       "48953                                      -2.595945e-06          \n",
       "42320                                      -2.230841e-06          \n",
       "631                                        -7.491584e-07          \n",
       "6013                                       -7.440245e-07          \n",
       "\n",
       "       Gorssel Expected Annual Damage Gorssel Expected Number of Deaths  \\\n",
       "7                        0.000000e+00                          0.000000   \n",
       "42749                    8.512142e+06                          0.004270   \n",
       "48953                    1.739861e+07                          0.010771   \n",
       "42320                    6.533525e+07                          0.034430   \n",
       "631                      1.748757e+08                          0.075454   \n",
       "6013                     2.294422e+08                          0.074937   \n",
       "\n",
       "       Gorssel Budget Overrun  Gorssel Total Costs  \n",
       "7                           0                  0.0  \n",
       "42749                       0                  0.0  \n",
       "48953                       0                  0.0  \n",
       "42320                       0                  0.0  \n",
       "631                         0                  0.0  \n",
       "6013                        0                  0.0  \n",
       "\n",
       "[6 rows x 59 columns]"
      ]
     },
     "execution_count": 121,
     "metadata": {},
     "output_type": "execute_result"
    }
   ],
   "source": [
    "selected"
   ]
  },
  {
   "cell_type": "code",
   "execution_count": 122,
   "id": "consolidated-morning",
   "metadata": {},
   "outputs": [],
   "source": [
    "scenarios = [Scenario(f\"{index}\", **row) for index, row in selected.iterrows()]"
   ]
  },
  {
   "cell_type": "markdown",
   "id": "narrow-collect",
   "metadata": {},
   "source": [
    "# Optimisation"
   ]
  },
  {
   "cell_type": "code",
   "execution_count": 18,
   "id": "forty-rental",
   "metadata": {},
   "outputs": [],
   "source": [
    "hypervolumemin = [0,0,0]\n",
    "hypervolumemax = outcomes_df[outcomekeys[2:]].max(axis=0).values.tolist()"
   ]
  },
  {
   "cell_type": "code",
   "execution_count": 19,
   "id": "cheap-gabriel",
   "metadata": {},
   "outputs": [],
   "source": [
    "hypervolumemax[2] = 1.15e9"
   ]
  },
  {
   "cell_type": "code",
   "execution_count": null,
   "id": "acquired-spirit",
   "metadata": {},
   "outputs": [
    {
     "name": "stderr",
     "output_type": "stream",
     "text": [
      "[MainProcess/INFO] pool started\n",
      "[MainProcess/INFO] generation 0: 0/4000 nfe\n",
      "[MainProcess/INFO] generation 5: 497/4000 nfe\n",
      "[MainProcess/INFO] generation 10: 996/4000 nfe\n",
      "[MainProcess/INFO] generation 15: 1492/4000 nfe\n",
      "[MainProcess/INFO] generation 20: 1992/4000 nfe\n",
      "[MainProcess/INFO] generation 25: 2491/4000 nfe\n",
      "[MainProcess/INFO] generation 30: 2990/4000 nfe\n",
      "[MainProcess/INFO] generation 35: 3487/4000 nfe\n",
      "[MainProcess/INFO] generation 40: 3983/4000 nfe\n",
      "[MainProcess/INFO] optimization completed, found 1 solutions\n",
      "[MainProcess/INFO] terminating pool\n",
      "[MainProcess/INFO] pool started\n",
      "[MainProcess/INFO] generation 0: 0/4000 nfe\n",
      "[MainProcess/INFO] generation 5: 497/4000 nfe\n",
      "[MainProcess/INFO] generation 10: 996/4000 nfe\n",
      "[MainProcess/INFO] generation 15: 1494/4000 nfe\n",
      "[MainProcess/INFO] generation 20: 1987/4000 nfe\n",
      "[MainProcess/INFO] generation 25: 2486/4000 nfe\n",
      "[MainProcess/INFO] generation 30: 2983/4000 nfe\n",
      "[MainProcess/INFO] generation 35: 3480/4000 nfe\n",
      "[MainProcess/INFO] generation 40: 3979/4000 nfe\n",
      "[MainProcess/INFO] optimization completed, found 1 solutions\n",
      "[MainProcess/INFO] terminating pool\n",
      "[MainProcess/INFO] pool started\n",
      "[MainProcess/INFO] generation 0: 0/4000 nfe\n",
      "[MainProcess/INFO] generation 5: 498/4000 nfe\n",
      "[MainProcess/INFO] generation 10: 994/4000 nfe\n",
      "[MainProcess/INFO] generation 15: 1492/4000 nfe\n",
      "[MainProcess/INFO] generation 20: 1992/4000 nfe\n",
      "[MainProcess/INFO] generation 25: 2490/4000 nfe\n",
      "[MainProcess/INFO] generation 30: 2986/4000 nfe\n",
      "[MainProcess/INFO] generation 35: 3483/4000 nfe\n"
     ]
    }
   ],
   "source": [
    "ema_logging.log_to_stderr(ema_logging.INFO)\n",
    "\n",
    "nfe = 3000 + 1000\n",
    "\n",
    "def optimize(scenario, nfe, model, converge_metrics, epsilons):\n",
    "\n",
    "\n",
    "    with MultiprocessingEvaluator(model) as evaluator:\n",
    "        results, convergence = evaluator.optimize(nfe=nfe, searchover='levers',\n",
    "                                     convergence=convergence_metrics,\n",
    "                                     epsilons=epsilons,\n",
    "                                     reference=scenario, convergence_freq=200)\n",
    "    return results, convergence\n",
    "\n",
    "\n",
    "results = []\n",
    "for scenario in scenarios:\n",
    "    convergence_metrics = [HyperVolume(minimum=hypervolumemin, maximum=hypervolumemax),\n",
    "                           EpsilonProgress()]\n",
    "    epsilons = [1e3] * len(outcomekeys[2:])\n",
    "    \n",
    "    \n",
    "    \n",
    "    results.append(optimize(scenario, nfe, dike_model, convergence_metrics, epsilons))\n"
   ]
  },
  {
   "cell_type": "code",
   "execution_count": null,
   "id": "blank-january",
   "metadata": {
    "scrolled": true
   },
   "outputs": [],
   "source": [
    "fig, (ax1, ax2) = plt.subplots(ncols=2,sharex=True)\n",
    "for i, (_, convergence) in enumerate(results):\n",
    "    ax1.plot(convergence.nfe, convergence.hypervolume, label=f'scenario {i}')\n",
    "    ax2.plot(convergence.nfe, convergence.epsilon_progress, label=f'scenario {i}')\n",
    "\n",
    "ax1.set_ylabel('hypervolume')\n",
    "ax1.set_xlabel('nfe')\n",
    "ax2.set_ylabel('$\\epsilon$ progress')\n",
    "ax2.set_xlabel('nfe')\n",
    "fig.legend()\n",
    "plt.show()"
   ]
  },
  {
   "cell_type": "markdown",
   "id": "eleven-muscle",
   "metadata": {},
   "source": [
    "# Saving"
   ]
  },
  {
   "cell_type": "code",
   "execution_count": 20,
   "id": "radio-nudist",
   "metadata": {},
   "outputs": [],
   "source": [
    "for i, (result, convergence) in enumerate(results):\n",
    "    result.to_csv(\"data/optimisation/\" + ACTORNAME + \"/results_\" + cases[i] +\".csv\", index=False)\n",
    "    convergence.to_csv(\"data/optimisation/\" + ACTORNAME + \"/convergence_\" + cases[i] +\".csv\", index=False)"
   ]
  },
  {
   "cell_type": "code",
   "execution_count": 21,
   "id": "adjacent-support",
   "metadata": {},
   "outputs": [],
   "source": [
    "selected.to_csv(\"data/optimisation/\" + ACTORNAME + \"/selected.csv\", index=False)"
   ]
  },
  {
   "cell_type": "markdown",
   "id": "reverse-dynamics",
   "metadata": {},
   "source": [
    "# Re-evaluate under deep uncertainty"
   ]
  },
  {
   "cell_type": "code",
   "execution_count": 28,
   "id": "caring-surge",
   "metadata": {},
   "outputs": [],
   "source": [
    "n_scenarios = 1000"
   ]
  },
  {
   "cell_type": "code",
   "execution_count": 39,
   "id": "every-sacramento",
   "metadata": {},
   "outputs": [],
   "source": [
    "levers = [lever.name for lever in dike_model.levers]"
   ]
  },
  {
   "cell_type": "code",
   "execution_count": 40,
   "id": "interracial-facing",
   "metadata": {},
   "outputs": [],
   "source": [
    "policies = []\n",
    "for i, (result, _) in enumerate(results):\n",
    "    result = result.loc[:, levers]\n",
    "    for j, row in result.iterrows():\n",
    "        policy = Policy(f'scenario {cases[i]} option {j}', **row.to_dict())\n",
    "        policies.append(policy)"
   ]
  },
  {
   "cell_type": "code",
   "execution_count": 41,
   "id": "prepared-array",
   "metadata": {},
   "outputs": [
    {
     "name": "stderr",
     "output_type": "stream",
     "text": [
      "[MainProcess/INFO] pool started\n",
      "[MainProcess/INFO] performing 1000 scenarios * 16 policies * 1 model(s) = 16000 experiments\n",
      "[MainProcess/INFO] 1600 cases completed\n",
      "[MainProcess/INFO] 3200 cases completed\n",
      "[MainProcess/INFO] 4800 cases completed\n",
      "[MainProcess/INFO] 6400 cases completed\n",
      "[MainProcess/INFO] 8000 cases completed\n",
      "[MainProcess/INFO] 9600 cases completed\n",
      "[MainProcess/INFO] 11200 cases completed\n",
      "[MainProcess/INFO] 12800 cases completed\n",
      "[MainProcess/INFO] 14400 cases completed\n",
      "[MainProcess/INFO] 16000 cases completed\n",
      "[MainProcess/INFO] experiments finished\n",
      "[MainProcess/INFO] terminating pool\n"
     ]
    }
   ],
   "source": [
    "with MultiprocessingEvaluator(dike_model) as evaluator:\n",
    "    reevaluation_results = evaluator.perform_experiments(n_scenarios, policies=policies)"
   ]
  },
  {
   "cell_type": "markdown",
   "id": "about-elder",
   "metadata": {},
   "source": [
    "# Saving"
   ]
  },
  {
   "cell_type": "code",
   "execution_count": null,
   "id": "mediterranean-insight",
   "metadata": {},
   "outputs": [],
   "source": [
    "save_results(reevaluation_results, \"data/optimisation/du_scen_\" + n_scenarios + \"_\" + ACTORNAME + \".tar.gz\")"
   ]
  }
 ],
 "metadata": {
  "kernelspec": {
   "display_name": "Python 3",
   "language": "python",
   "name": "python3"
  },
  "language_info": {
   "codemirror_mode": {
    "name": "ipython",
    "version": 3
   },
   "file_extension": ".py",
   "mimetype": "text/x-python",
   "name": "python",
   "nbconvert_exporter": "python",
   "pygments_lexer": "ipython3",
   "version": "3.7.9"
  }
 },
 "nbformat": 4,
 "nbformat_minor": 5
}
