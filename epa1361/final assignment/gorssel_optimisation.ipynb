{
 "cells": [
  {
   "cell_type": "code",
   "execution_count": 1,
   "id": "vanilla-chance",
   "metadata": {},
   "outputs": [],
   "source": [
    "from ema_workbench import Scenario, Policy, MultiprocessingEvaluator, ema_logging, load_results, save_results\n",
    "from ema_workbench.analysis import prim\n",
    "from problem_formulation import get_model_for_problem_formulation\n",
    "from ema_workbench.em_framework.evaluators import BaseEvaluator\n",
    "\n",
    "from ema_workbench.em_framework.optimization import (HyperVolume,\n",
    "                                                     EpsilonProgress)\n",
    "import matplotlib.pyplot as plt\n",
    "import pandas as pd\n",
    "import numpy as np\n",
    "from ema_workbench.analysis import parcoords\n",
    "import seaborn as sns\n",
    "import random"
   ]
  },
  {
   "cell_type": "code",
   "execution_count": 2,
   "id": "short-arrest",
   "metadata": {},
   "outputs": [],
   "source": [
    "ACTORNAME = \"Gorssel\"\n",
    "dike_model, planning_steps = get_model_for_problem_formulation(ACTORNAME)\n",
    "outcomekeys = [outcome.name for outcome in dike_model.outcomes]"
   ]
  },
  {
   "cell_type": "markdown",
   "id": "regional-kinase",
   "metadata": {},
   "source": [
    "# Scenario selection"
   ]
  },
  {
   "cell_type": "code",
   "execution_count": 3,
   "id": "opposite-warren",
   "metadata": {},
   "outputs": [],
   "source": [
    "ACTOR = \"genscen_Gorssel_50000_12-06-2021-03-06-15.tar.gz\"\n",
    "experiments, outcomes = load_results(\"data/generated/\" + ACTOR)\n",
    "outcomes_df = pd.DataFrame(outcomes)"
   ]
  },
  {
   "cell_type": "code",
   "execution_count": 4,
   "id": "entire-gender",
   "metadata": {},
   "outputs": [
    {
     "data": {
      "text/plain": [
       "['Difference in Expected Annual Damage Gorssel-Deventer',\n",
       " 'Difference in Expected Number of Deaths Gorssel-Deventer',\n",
       " 'Gorssel Expected Annual Damage',\n",
       " 'Gorssel Expected Number of Deaths',\n",
       " 'Gorssel Budget Overrun',\n",
       " 'Gorssel Total Costs']"
      ]
     },
     "execution_count": 4,
     "metadata": {},
     "output_type": "execute_result"
    }
   ],
   "source": [
    "outcomes_df.columns.values.tolist()"
   ]
  },
  {
   "cell_type": "code",
   "execution_count": 5,
   "id": "certified-thesis",
   "metadata": {},
   "outputs": [
    {
     "data": {
      "text/html": [
       "<div>\n",
       "<style scoped>\n",
       "    .dataframe tbody tr th:only-of-type {\n",
       "        vertical-align: middle;\n",
       "    }\n",
       "\n",
       "    .dataframe tbody tr th {\n",
       "        vertical-align: top;\n",
       "    }\n",
       "\n",
       "    .dataframe thead th {\n",
       "        text-align: right;\n",
       "    }\n",
       "</style>\n",
       "<table border=\"1\" class=\"dataframe\">\n",
       "  <thead>\n",
       "    <tr style=\"text-align: right;\">\n",
       "      <th></th>\n",
       "      <th>Difference in Expected Annual Damage Gorssel-Deventer</th>\n",
       "      <th>Difference in Expected Number of Deaths Gorssel-Deventer</th>\n",
       "      <th>Gorssel Expected Annual Damage</th>\n",
       "      <th>Gorssel Expected Number of Deaths</th>\n",
       "      <th>Gorssel Budget Overrun</th>\n",
       "      <th>Gorssel Total Costs</th>\n",
       "    </tr>\n",
       "  </thead>\n",
       "  <tbody>\n",
       "    <tr>\n",
       "      <th>0</th>\n",
       "      <td>-1219.596387</td>\n",
       "      <td>-9.711846e-07</td>\n",
       "      <td>9.488213e+06</td>\n",
       "      <td>0.004926</td>\n",
       "      <td>0</td>\n",
       "      <td>0.0</td>\n",
       "    </tr>\n",
       "    <tr>\n",
       "      <th>1</th>\n",
       "      <td>-393.024418</td>\n",
       "      <td>-2.241158e-07</td>\n",
       "      <td>3.958503e+07</td>\n",
       "      <td>0.022573</td>\n",
       "      <td>0</td>\n",
       "      <td>0.0</td>\n",
       "    </tr>\n",
       "    <tr>\n",
       "      <th>2</th>\n",
       "      <td>-1511.088849</td>\n",
       "      <td>-6.855404e-07</td>\n",
       "      <td>1.521954e+08</td>\n",
       "      <td>0.069047</td>\n",
       "      <td>0</td>\n",
       "      <td>0.0</td>\n",
       "    </tr>\n",
       "    <tr>\n",
       "      <th>3</th>\n",
       "      <td>-149.944611</td>\n",
       "      <td>-9.245500e-08</td>\n",
       "      <td>1.510227e+07</td>\n",
       "      <td>0.009312</td>\n",
       "      <td>0</td>\n",
       "      <td>0.0</td>\n",
       "    </tr>\n",
       "    <tr>\n",
       "      <th>4</th>\n",
       "      <td>-536.744525</td>\n",
       "      <td>-3.516669e-07</td>\n",
       "      <td>5.406037e+07</td>\n",
       "      <td>0.035420</td>\n",
       "      <td>0</td>\n",
       "      <td>0.0</td>\n",
       "    </tr>\n",
       "    <tr>\n",
       "      <th>...</th>\n",
       "      <td>...</td>\n",
       "      <td>...</td>\n",
       "      <td>...</td>\n",
       "      <td>...</td>\n",
       "      <td>...</td>\n",
       "      <td>...</td>\n",
       "    </tr>\n",
       "    <tr>\n",
       "      <th>49995</th>\n",
       "      <td>-695.221991</td>\n",
       "      <td>-3.872856e-07</td>\n",
       "      <td>7.002206e+07</td>\n",
       "      <td>0.039007</td>\n",
       "      <td>0</td>\n",
       "      <td>0.0</td>\n",
       "    </tr>\n",
       "    <tr>\n",
       "      <th>49996</th>\n",
       "      <td>-3266.659209</td>\n",
       "      <td>-2.565056e-06</td>\n",
       "      <td>7.221858e+07</td>\n",
       "      <td>0.034183</td>\n",
       "      <td>0</td>\n",
       "      <td>0.0</td>\n",
       "    </tr>\n",
       "    <tr>\n",
       "      <th>49997</th>\n",
       "      <td>-300.839149</td>\n",
       "      <td>-1.813858e-07</td>\n",
       "      <td>1.075421e+07</td>\n",
       "      <td>0.004638</td>\n",
       "      <td>0</td>\n",
       "      <td>0.0</td>\n",
       "    </tr>\n",
       "    <tr>\n",
       "      <th>49998</th>\n",
       "      <td>-6792.876649</td>\n",
       "      <td>-5.842054e-06</td>\n",
       "      <td>1.203924e+07</td>\n",
       "      <td>0.005334</td>\n",
       "      <td>0</td>\n",
       "      <td>0.0</td>\n",
       "    </tr>\n",
       "    <tr>\n",
       "      <th>49999</th>\n",
       "      <td>-1081.757564</td>\n",
       "      <td>-4.979500e-07</td>\n",
       "      <td>9.712141e+07</td>\n",
       "      <td>0.040641</td>\n",
       "      <td>0</td>\n",
       "      <td>0.0</td>\n",
       "    </tr>\n",
       "  </tbody>\n",
       "</table>\n",
       "<p>50000 rows × 6 columns</p>\n",
       "</div>"
      ],
      "text/plain": [
       "       Difference in Expected Annual Damage Gorssel-Deventer  \\\n",
       "0                                           -1219.596387       \n",
       "1                                            -393.024418       \n",
       "2                                           -1511.088849       \n",
       "3                                            -149.944611       \n",
       "4                                            -536.744525       \n",
       "...                                                  ...       \n",
       "49995                                        -695.221991       \n",
       "49996                                       -3266.659209       \n",
       "49997                                        -300.839149       \n",
       "49998                                       -6792.876649       \n",
       "49999                                       -1081.757564       \n",
       "\n",
       "       Difference in Expected Number of Deaths Gorssel-Deventer  \\\n",
       "0                                          -9.711846e-07          \n",
       "1                                          -2.241158e-07          \n",
       "2                                          -6.855404e-07          \n",
       "3                                          -9.245500e-08          \n",
       "4                                          -3.516669e-07          \n",
       "...                                                  ...          \n",
       "49995                                      -3.872856e-07          \n",
       "49996                                      -2.565056e-06          \n",
       "49997                                      -1.813858e-07          \n",
       "49998                                      -5.842054e-06          \n",
       "49999                                      -4.979500e-07          \n",
       "\n",
       "       Gorssel Expected Annual Damage  Gorssel Expected Number of Deaths  \\\n",
       "0                        9.488213e+06                           0.004926   \n",
       "1                        3.958503e+07                           0.022573   \n",
       "2                        1.521954e+08                           0.069047   \n",
       "3                        1.510227e+07                           0.009312   \n",
       "4                        5.406037e+07                           0.035420   \n",
       "...                               ...                                ...   \n",
       "49995                    7.002206e+07                           0.039007   \n",
       "49996                    7.221858e+07                           0.034183   \n",
       "49997                    1.075421e+07                           0.004638   \n",
       "49998                    1.203924e+07                           0.005334   \n",
       "49999                    9.712141e+07                           0.040641   \n",
       "\n",
       "       Gorssel Budget Overrun  Gorssel Total Costs  \n",
       "0                           0                  0.0  \n",
       "1                           0                  0.0  \n",
       "2                           0                  0.0  \n",
       "3                           0                  0.0  \n",
       "4                           0                  0.0  \n",
       "...                       ...                  ...  \n",
       "49995                       0                  0.0  \n",
       "49996                       0                  0.0  \n",
       "49997                       0                  0.0  \n",
       "49998                       0                  0.0  \n",
       "49999                       0                  0.0  \n",
       "\n",
       "[50000 rows x 6 columns]"
      ]
     },
     "execution_count": 5,
     "metadata": {},
     "output_type": "execute_result"
    }
   ],
   "source": [
    "outcomes_df"
   ]
  },
  {
   "cell_type": "code",
   "execution_count": 6,
   "id": "retained-overview",
   "metadata": {},
   "outputs": [],
   "source": [
    "DAMAGE = outcomes_df.columns[2]\n",
    "DEATHS = outcomes_df.columns[3]\n",
    "COSTS = outcomes_df.columns[4]"
   ]
  },
  {
   "cell_type": "markdown",
   "id": "taken-fraud",
   "metadata": {},
   "source": [
    "We are interested in the correlation between Deaths and Damage"
   ]
  },
  {
   "cell_type": "code",
   "execution_count": 7,
   "id": "pleased-melbourne",
   "metadata": {},
   "outputs": [
    {
     "data": {
      "text/plain": [
       "0.9776021595504573"
      ]
     },
     "execution_count": 7,
     "metadata": {},
     "output_type": "execute_result"
    }
   ],
   "source": [
    "outcomes_df[DAMAGE].corr(outcomes_df[DEATHS])"
   ]
  },
  {
   "cell_type": "markdown",
   "id": "swedish-carrier",
   "metadata": {},
   "source": [
    "So the correlation is INSANE"
   ]
  },
  {
   "cell_type": "code",
   "execution_count": 8,
   "id": "behind-arbitration",
   "metadata": {},
   "outputs": [],
   "source": [
    "results = pd.concat([experiments, outcomes_df], axis=1)"
   ]
  },
  {
   "cell_type": "code",
   "execution_count": 9,
   "id": "balanced-primary",
   "metadata": {},
   "outputs": [],
   "source": [
    "middle_damage_df = results.loc[(results[DAMAGE] > np.percentile(a=outcomes[DAMAGE], q=45)) & (results[DAMAGE] <= np.percentile(a=outcomes[DAMAGE], q=55))]\n",
    "middle_deaths_df = results.loc[(results[DEATHS] > np.percentile(a=outcomes[DEATHS], q=45)) & (results[DEATHS] <= np.percentile(a=outcomes[DEATHS], q=55))]\n",
    "middle_ix =set(middle_damage_df[\"scenario\"].tolist()) & set(middle_deaths_df[\"scenario\"].tolist())"
   ]
  },
  {
   "cell_type": "code",
   "execution_count": 10,
   "id": "precise-belgium",
   "metadata": {},
   "outputs": [],
   "source": [
    "middle_case = results.iloc[list(middle_ix)].sample(n=1, random_state=1)"
   ]
  },
  {
   "cell_type": "code",
   "execution_count": 11,
   "id": "funded-speaker",
   "metadata": {},
   "outputs": [],
   "source": [
    "uncertainties =list(dike_model.uncertainties._data.keys())"
   ]
  },
  {
   "cell_type": "code",
   "execution_count": 12,
   "id": "driving-possible",
   "metadata": {},
   "outputs": [
    {
     "name": "stdout",
     "output_type": "stream",
     "text": [
      "Difference in Expected Annual Damage Gorssel-Deventer        138\n",
      "Difference in Expected Number of Deaths Gorssel-Deventer     138\n",
      "Gorssel Expected Annual Damage                              6013\n",
      "Gorssel Expected Number of Deaths                            631\n",
      "Gorssel Budget Overrun                                         0\n",
      "Gorssel Total Costs                                            0\n",
      "dtype: int64\n",
      "Difference in Expected Annual Damage Gorssel-Deventer       47744\n",
      "Difference in Expected Number of Deaths Gorssel-Deventer    22031\n",
      "Gorssel Expected Annual Damage                                  7\n",
      "Gorssel Expected Number of Deaths                               7\n",
      "Gorssel Budget Overrun                                          0\n",
      "Gorssel Total Costs                                             0\n",
      "dtype: int64\n"
     ]
    }
   ],
   "source": [
    "print(outcomes_df.idxmax())\n",
    "print(outcomes_df.idxmin())"
   ]
  },
  {
   "cell_type": "code",
   "execution_count": 13,
   "id": "universal-cornwall",
   "metadata": {},
   "outputs": [],
   "source": [
    "middle_damage_df = results.loc[(results[DAMAGE] > np.percentile(a=outcomes[DAMAGE], q=23)) & (results[DAMAGE] <= np.percentile(a=outcomes[DAMAGE], q=27))]\n",
    "middle_deaths_df = results.loc[(results[DEATHS] > np.percentile(a=outcomes[DEATHS], q=23)) & (results[DEATHS] <= np.percentile(a=outcomes[DEATHS], q=27))]\n",
    "twentyfive = random.choice(list(set(middle_damage_df[\"scenario\"].tolist()) & set(middle_deaths_df[\"scenario\"].tolist())))"
   ]
  },
  {
   "cell_type": "code",
   "execution_count": 14,
   "id": "located-oakland",
   "metadata": {},
   "outputs": [],
   "source": [
    "middle_damage_df = results.loc[(results[DAMAGE] > np.percentile(a=outcomes[DAMAGE], q=48)) & (results[DAMAGE] <= np.percentile(a=outcomes[DAMAGE], q=52))]\n",
    "middle_deaths_df = results.loc[(results[DEATHS] > np.percentile(a=outcomes[DEATHS], q=48)) & (results[DEATHS] <= np.percentile(a=outcomes[DEATHS], q=52))]\n",
    "fifty = random.choice(list(set(middle_damage_df[\"scenario\"].tolist()) & set(middle_deaths_df[\"scenario\"].tolist())))"
   ]
  },
  {
   "cell_type": "code",
   "execution_count": 15,
   "id": "derived-necessity",
   "metadata": {},
   "outputs": [],
   "source": [
    "middle_damage_df = results.loc[(results[DAMAGE] > np.percentile(a=outcomes[DAMAGE], q=73)) & (results[DAMAGE] <= np.percentile(a=outcomes[DAMAGE], q=77))]\n",
    "middle_deaths_df = results.loc[(results[DEATHS] > np.percentile(a=outcomes[DEATHS], q=73)) & (results[DEATHS] <= np.percentile(a=outcomes[DEATHS], q=77))]\n",
    "seventyfive = random.choice(list(set(middle_damage_df[\"scenario\"].tolist()) & set(middle_deaths_df[\"scenario\"].tolist())))"
   ]
  },
  {
   "cell_type": "code",
   "execution_count": 63,
   "id": "linear-reader",
   "metadata": {},
   "outputs": [],
   "source": [
    "min_max_scaler = preprocessing.MinMaxScaler()\n",
    "damage_scaled = min_max_scaler.fit_transform(pd.DataFrame(outcomes[DAMAGE]).values)\n",
    "deaths_scaled = min_max_scaler.fit_transform(pd.DataFrame(outcomes[DEATHS]).values)\n",
    "scaled = (damage_scaled + deaths_scaled)/2"
   ]
  },
  {
   "cell_type": "code",
   "execution_count": 64,
   "id": "indie-lindsay",
   "metadata": {},
   "outputs": [],
   "source": [
    "outcomes_df[\"Scaled\"] = scaled\n",
    "SCALED = 'Scaled'"
   ]
  },
  {
   "cell_type": "code",
   "execution_count": 72,
   "id": "bibliographic-offer",
   "metadata": {},
   "outputs": [
    {
     "data": {
      "text/plain": [
       "16362"
      ]
     },
     "execution_count": 72,
     "metadata": {},
     "output_type": "execute_result"
    }
   ],
   "source": [
    "outcomes_df.sort_values(by=\"Scaled\", ascending=False).head(1).index[0]"
   ]
  },
  {
   "cell_type": "markdown",
   "id": "sixth-franklin",
   "metadata": {},
   "source": [
    "Observation: Gorssel more damage die absolute worst\n",
    "explanation: less densely populated"
   ]
  },
  {
   "cell_type": "code",
   "execution_count": 16,
   "id": "settled-willow",
   "metadata": {},
   "outputs": [],
   "source": [
    "idx = [outcomes_df.idxmin()[DAMAGE], twentyfive, fifty, seventyfive, outcomes_df.idxmax()[DEATHS], outcomes_df.idxmax()[DAMAGE]]"
   ]
  },
  {
   "cell_type": "code",
   "execution_count": 17,
   "id": "moved-celtic",
   "metadata": {},
   "outputs": [],
   "source": [
    "cases = {0: \"best\", 1: \"low\", 2: \"middle\", 3: \"high\", 4: \"worst deaths\", 5: \"absolute worst\"}"
   ]
  },
  {
   "cell_type": "code",
   "execution_count": 18,
   "id": "younger-chorus",
   "metadata": {},
   "outputs": [],
   "source": [
    "selected = results.iloc[idx]"
   ]
  },
  {
   "cell_type": "code",
   "execution_count": 19,
   "id": "exciting-printing",
   "metadata": {},
   "outputs": [],
   "source": [
    "selected = selected.loc[:,  uncertainties]"
   ]
  },
  {
   "cell_type": "code",
   "execution_count": 20,
   "id": "equivalent-consultation",
   "metadata": {},
   "outputs": [],
   "source": [
    "scenarios = [Scenario(f\"{index}\", **row) for index, row in selected.iterrows()]"
   ]
  },
  {
   "cell_type": "code",
   "execution_count": 21,
   "id": "duplicate-threshold",
   "metadata": {},
   "outputs": [
    {
     "data": {
      "text/html": [
       "<div>\n",
       "<style scoped>\n",
       "    .dataframe tbody tr th:only-of-type {\n",
       "        vertical-align: middle;\n",
       "    }\n",
       "\n",
       "    .dataframe tbody tr th {\n",
       "        vertical-align: top;\n",
       "    }\n",
       "\n",
       "    .dataframe thead th {\n",
       "        text-align: right;\n",
       "    }\n",
       "</style>\n",
       "<table border=\"1\" class=\"dataframe\">\n",
       "  <thead>\n",
       "    <tr style=\"text-align: right;\">\n",
       "      <th></th>\n",
       "      <th>Difference in Expected Annual Damage Gorssel-Deventer</th>\n",
       "      <th>Difference in Expected Number of Deaths Gorssel-Deventer</th>\n",
       "      <th>Gorssel Expected Annual Damage</th>\n",
       "      <th>Gorssel Expected Number of Deaths</th>\n",
       "      <th>Gorssel Budget Overrun</th>\n",
       "      <th>Gorssel Total Costs</th>\n",
       "    </tr>\n",
       "  </thead>\n",
       "  <tbody>\n",
       "    <tr>\n",
       "      <th>count</th>\n",
       "      <td>50000.000000</td>\n",
       "      <td>5.000000e+04</td>\n",
       "      <td>5.000000e+04</td>\n",
       "      <td>50000.000000</td>\n",
       "      <td>50000.0</td>\n",
       "      <td>50000.0</td>\n",
       "    </tr>\n",
       "    <tr>\n",
       "      <th>mean</th>\n",
       "      <td>-2195.842747</td>\n",
       "      <td>-1.820303e-06</td>\n",
       "      <td>4.394637e+07</td>\n",
       "      <td>0.021209</td>\n",
       "      <td>0.0</td>\n",
       "      <td>0.0</td>\n",
       "    </tr>\n",
       "    <tr>\n",
       "      <th>std</th>\n",
       "      <td>2558.744855</td>\n",
       "      <td>2.280280e-06</td>\n",
       "      <td>4.660492e+07</td>\n",
       "      <td>0.020512</td>\n",
       "      <td>0.0</td>\n",
       "      <td>0.0</td>\n",
       "    </tr>\n",
       "    <tr>\n",
       "      <th>min</th>\n",
       "      <td>-16316.748534</td>\n",
       "      <td>-1.057313e-05</td>\n",
       "      <td>0.000000e+00</td>\n",
       "      <td>0.000000</td>\n",
       "      <td>0.0</td>\n",
       "      <td>0.0</td>\n",
       "    </tr>\n",
       "    <tr>\n",
       "      <th>25%</th>\n",
       "      <td>-2541.739195</td>\n",
       "      <td>-2.238291e-06</td>\n",
       "      <td>7.665181e+06</td>\n",
       "      <td>0.004574</td>\n",
       "      <td>0.0</td>\n",
       "      <td>0.0</td>\n",
       "    </tr>\n",
       "    <tr>\n",
       "      <th>50%</th>\n",
       "      <td>-1213.798597</td>\n",
       "      <td>-7.219704e-07</td>\n",
       "      <td>1.998865e+07</td>\n",
       "      <td>0.010051</td>\n",
       "      <td>0.0</td>\n",
       "      <td>0.0</td>\n",
       "    </tr>\n",
       "    <tr>\n",
       "      <th>75%</th>\n",
       "      <td>-622.485415</td>\n",
       "      <td>-3.796526e-07</td>\n",
       "      <td>6.780248e+07</td>\n",
       "      <td>0.033520</td>\n",
       "      <td>0.0</td>\n",
       "      <td>0.0</td>\n",
       "    </tr>\n",
       "    <tr>\n",
       "      <th>max</th>\n",
       "      <td>0.000000</td>\n",
       "      <td>0.000000e+00</td>\n",
       "      <td>2.294422e+08</td>\n",
       "      <td>0.075454</td>\n",
       "      <td>0.0</td>\n",
       "      <td>0.0</td>\n",
       "    </tr>\n",
       "  </tbody>\n",
       "</table>\n",
       "</div>"
      ],
      "text/plain": [
       "       Difference in Expected Annual Damage Gorssel-Deventer  \\\n",
       "count                                       50000.000000       \n",
       "mean                                        -2195.842747       \n",
       "std                                          2558.744855       \n",
       "min                                        -16316.748534       \n",
       "25%                                         -2541.739195       \n",
       "50%                                         -1213.798597       \n",
       "75%                                          -622.485415       \n",
       "max                                             0.000000       \n",
       "\n",
       "       Difference in Expected Number of Deaths Gorssel-Deventer  \\\n",
       "count                                       5.000000e+04          \n",
       "mean                                       -1.820303e-06          \n",
       "std                                         2.280280e-06          \n",
       "min                                        -1.057313e-05          \n",
       "25%                                        -2.238291e-06          \n",
       "50%                                        -7.219704e-07          \n",
       "75%                                        -3.796526e-07          \n",
       "max                                         0.000000e+00          \n",
       "\n",
       "       Gorssel Expected Annual Damage  Gorssel Expected Number of Deaths  \\\n",
       "count                    5.000000e+04                       50000.000000   \n",
       "mean                     4.394637e+07                           0.021209   \n",
       "std                      4.660492e+07                           0.020512   \n",
       "min                      0.000000e+00                           0.000000   \n",
       "25%                      7.665181e+06                           0.004574   \n",
       "50%                      1.998865e+07                           0.010051   \n",
       "75%                      6.780248e+07                           0.033520   \n",
       "max                      2.294422e+08                           0.075454   \n",
       "\n",
       "       Gorssel Budget Overrun  Gorssel Total Costs  \n",
       "count                 50000.0              50000.0  \n",
       "mean                      0.0                  0.0  \n",
       "std                       0.0                  0.0  \n",
       "min                       0.0                  0.0  \n",
       "25%                       0.0                  0.0  \n",
       "50%                       0.0                  0.0  \n",
       "75%                       0.0                  0.0  \n",
       "max                       0.0                  0.0  "
      ]
     },
     "execution_count": 21,
     "metadata": {},
     "output_type": "execute_result"
    }
   ],
   "source": [
    "outcomes_df.describe()"
   ]
  },
  {
   "cell_type": "markdown",
   "id": "enclosed-entity",
   "metadata": {},
   "source": [
    "# Optimisation"
   ]
  },
  {
   "cell_type": "code",
   "execution_count": 22,
   "id": "hindu-assessment",
   "metadata": {},
   "outputs": [],
   "source": [
    "hypervolumemin = [0,0,0]\n",
    "hypervolumemax = outcomes_df[outcomekeys[2:]].max(axis=0).values.tolist()"
   ]
  },
  {
   "cell_type": "code",
   "execution_count": 23,
   "id": "placed-produce",
   "metadata": {},
   "outputs": [],
   "source": [
    "hypervolumemax[2] = 1.15e9"
   ]
  },
  {
   "cell_type": "code",
   "execution_count": 26,
   "id": "homeless-probability",
   "metadata": {},
   "outputs": [
    {
     "name": "stderr",
     "output_type": "stream",
     "text": [
      "[MainProcess/INFO] pool started\n",
      "[MainProcess/INFO] generation 0: 0/4000 nfe\n",
      "[MainProcess/INFO] generation 5: 499/4000 nfe\n",
      "[MainProcess/INFO] generation 10: 999/4000 nfe\n",
      "[MainProcess/INFO] generation 15: 1495/4000 nfe\n",
      "[MainProcess/INFO] generation 20: 1990/4000 nfe\n",
      "[MainProcess/INFO] generation 25: 2488/4000 nfe\n",
      "[MainProcess/INFO] generation 30: 2982/4000 nfe\n",
      "[MainProcess/INFO] generation 35: 3478/4000 nfe\n",
      "[MainProcess/INFO] generation 40: 3976/4000 nfe\n",
      "[MainProcess/INFO] optimization completed, found 9 solutions\n",
      "[MainProcess/INFO] terminating pool\n"
     ]
    }
   ],
   "source": [
    "ema_logging.log_to_stderr(ema_logging.INFO)\n",
    "\n",
    "nfe = 2000 + 1000\n",
    "\n",
    "def optimize(scenario, nfe, model, converge_metrics, epsilons):\n",
    "\n",
    "\n",
    "    with MultiprocessingEvaluator(model) as evaluator:\n",
    "        results, convergence = evaluator.optimize(nfe=nfe, searchover='levers',\n",
    "                                     convergence=convergence_metrics,\n",
    "                                     epsilons=epsilons,\n",
    "                                     reference=scenario, convergence_freq=200)\n",
    "    return results, convergence\n",
    "\n",
    "results = []\n",
    "for scenario in scenarios:\n",
    "    convergence_metrics = [HyperVolume(minimum=hypervolumemin, maximum=hypervolumemax),\n",
    "                           EpsilonProgress()]\n",
    "    epsilons = [1e3, 0.001, 1e5]\n",
    "    \n",
    "    \n",
    "    \n",
    "    results.append(optimize(scenario, nfe, dike_model, convergence_metrics, epsilons))\n"
   ]
  },
  {
   "cell_type": "code",
   "execution_count": 27,
   "id": "finished-injury",
   "metadata": {
    "scrolled": true
   },
   "outputs": [
    {
     "data": {
      "image/png": "[encoded data removed]",
      "text/plain": [
       "<Figure size 432x288 with 2 Axes>"
      ]
     },
     "metadata": {
      "needs_background": "light"
     },
     "output_type": "display_data"
    }
   ],
   "source": [
    "fig, (ax1, ax2) = plt.subplots(ncols=2,sharex=True)\n",
    "for i, (_, convergence) in enumerate(results):\n",
    "    ax1.plot(convergence.nfe, convergence.hypervolume, label=f'scenario {i}')\n",
    "    ax2.plot(convergence.nfe, convergence.epsilon_progress, label=f'scenario {i}')\n",
    "\n",
    "ax1.set_ylabel('hypervolume')\n",
    "ax1.set_xlabel('nfe')\n",
    "ax2.set_ylabel('$\\epsilon$ progress')\n",
    "ax2.set_xlabel('nfe')\n",
    "fig.legend()\n",
    "plt.show()"
   ]
  },
  {
   "cell_type": "markdown",
   "id": "leading-february",
   "metadata": {},
   "source": [
    "# Saving"
   ]
  },
  {
   "cell_type": "code",
   "execution_count": 38,
   "id": "expected-probability",
   "metadata": {},
   "outputs": [],
   "source": [
    "for i, (result, convergence) in enumerate(results):\n",
    "    result.to_csv(\"data/optimisation/\" + ACTORNAME + \"/results_\" + cases[i] +\".csv\", index=False)\n",
    "    convergence.to_csv(\"data/optimisation/\" + ACTORNAME + \"/convergence_\" + cases[i] +\".csv\", index=False)"
   ]
  },
  {
   "cell_type": "code",
   "execution_count": 39,
   "id": "generic-rubber",
   "metadata": {},
   "outputs": [],
   "source": [
    "selected.to_csv(\"data/optimisation/\" + ACTORNAME + \"/selected.csv\", index=False)"
   ]
  },
  {
   "cell_type": "markdown",
   "id": "rocky-yemen",
   "metadata": {},
   "source": [
    "# Re-evaluate under deep uncertainty"
   ]
  },
  {
   "cell_type": "code",
   "execution_count": 40,
   "id": "sacred-attempt",
   "metadata": {},
   "outputs": [],
   "source": [
    "n_scenarios = 1000"
   ]
  },
  {
   "cell_type": "code",
   "execution_count": 41,
   "id": "supposed-squad",
   "metadata": {},
   "outputs": [],
   "source": [
    "levers = [lever.name for lever in dike_model.levers]"
   ]
  },
  {
   "cell_type": "code",
   "execution_count": 42,
   "id": "utility-sullivan",
   "metadata": {},
   "outputs": [],
   "source": [
    "policies = []\n",
    "for i, (result, _) in enumerate(results):\n",
    "    result = result.loc[:, levers]\n",
    "    for j, row in result.iterrows():\n",
    "        policy = Policy(f'scenario {cases[i]} option {j}', **row.to_dict())\n",
    "        policies.append(policy)"
   ]
  },
  {
   "cell_type": "code",
   "execution_count": 43,
   "id": "positive-pharmacology",
   "metadata": {},
   "outputs": [
    {
     "name": "stderr",
     "output_type": "stream",
     "text": [
      "[MainProcess/INFO] pool started\n",
      "[MainProcess/INFO] performing 1000 scenarios * 14 policies * 1 model(s) = 14000 experiments\n",
      "[MainProcess/INFO] 1400 cases completed\n",
      "[MainProcess/INFO] 2800 cases completed\n",
      "[MainProcess/INFO] 4200 cases completed\n",
      "[MainProcess/INFO] 5600 cases completed\n",
      "[MainProcess/INFO] 7000 cases completed\n",
      "[MainProcess/INFO] 8400 cases completed\n",
      "[MainProcess/INFO] 9800 cases completed\n",
      "[MainProcess/INFO] 11200 cases completed\n",
      "[MainProcess/INFO] 12600 cases completed\n",
      "[MainProcess/INFO] 14000 cases completed\n",
      "[MainProcess/INFO] experiments finished\n",
      "[MainProcess/INFO] terminating pool\n"
     ]
    }
   ],
   "source": [
    "with MultiprocessingEvaluator(dike_model) as evaluator:\n",
    "    reevaluation_results = evaluator.perform_experiments(n_scenarios, policies=policies)"
   ]
  },
  {
   "cell_type": "markdown",
   "id": "victorian-recognition",
   "metadata": {},
   "source": [
    "# Saving"
   ]
  },
  {
   "cell_type": "code",
   "execution_count": 45,
   "id": "according-smile",
   "metadata": {},
   "outputs": [
    {
     "name": "stderr",
     "output_type": "stream",
     "text": [
      "[MainProcess/INFO] results saved successfully to /Users/emilyryan/Dropbox/EPA/EPA1361/FabiosDecisions/epa1361/final assignment/data/optimisation/du_scen_1000_Gorssel.tar.gz\n"
     ]
    }
   ],
   "source": [
    "save_results(reevaluation_results, \"data/optimisation/du_scen_\" + str(n_scenarios) + \"_\" + ACTORNAME + \".tar.gz\")"
   ]
  },
  {
   "cell_type": "code",
   "execution_count": null,
   "id": "legendary-violence",
   "metadata": {},
   "outputs": [],
   "source": []
  }
 ],
 "metadata": {
  "kernelspec": {
   "display_name": "Python 3",
   "language": "python",
   "name": "python3"
  },
  "language_info": {
   "codemirror_mode": {
    "name": "ipython",
    "version": 3
   },
   "file_extension": ".py",
   "mimetype": "text/x-python",
   "name": "python",
   "nbconvert_exporter": "python",
   "pygments_lexer": "ipython3",
   "version": "3.7.9"
  }
 },
 "nbformat": 4,
 "nbformat_minor": 5
}
