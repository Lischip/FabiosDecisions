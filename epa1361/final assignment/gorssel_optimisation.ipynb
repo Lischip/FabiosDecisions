{
 "cells": [
  {
   "cell_type": "code",
   "execution_count": 1,
   "id": "portable-tracker",
   "metadata": {},
   "outputs": [],
   "source": [
    "from ema_workbench import Scenario, Policy, MultiprocessingEvaluator, ema_logging, load_results\n",
    "from ema_workbench.analysis import prim\n",
    "from problem_formulation import get_model_for_problem_formulation\n",
    "from ema_workbench.em_framework.evaluators import BaseEvaluator\n",
    "\n",
    "from ema_workbench.em_framework.optimization import (HyperVolume,\n",
    "                                                     EpsilonProgress)\n",
    "import matplotlib.pyplot as plt\n",
    "import pandas as pd\n",
    "import numpy as np\n",
    "from ema_workbench.analysis import parcoords\n",
    "import seaborn as sns"
   ]
  },
  {
   "cell_type": "code",
   "execution_count": 116,
   "id": "spectacular-summit",
   "metadata": {},
   "outputs": [],
   "source": [
    "ACTORNAME = \"Gorssel\"\n",
    "dike_model, planning_steps = get_model_for_problem_formulation(ACTORNAME)\n",
    "outcomekeys = [outcome.name for outcome in dike_model.outcomes]"
   ]
  },
  {
   "cell_type": "markdown",
   "id": "german-officer",
   "metadata": {},
   "source": [
    "# Scenario selection"
   ]
  },
  {
   "cell_type": "code",
   "execution_count": 3,
   "id": "timely-missouri",
   "metadata": {},
   "outputs": [],
   "source": [
    "ACTOR = \"genscen_Gorssel_50000_09-06-2021-01-38-16.tar.gz\"\n",
    "experiments, outcomes = load_results(\"data/generated/\" + ACTOR)\n",
    "outcomes_df = pd.DataFrame(outcomes)"
   ]
  },
  {
   "cell_type": "code",
   "execution_count": 4,
   "id": "smart-finger",
   "metadata": {},
   "outputs": [
    {
     "data": {
      "text/plain": [
       "['Difference in Expected Annual Damage Gorssel-Deventer',\n",
       " 'Difference in Expected Number of Deaths Gorssel-Deventer',\n",
       " 'Gorssel Expected Annual Damage',\n",
       " 'Gorssel Expected Number of Deaths',\n",
       " 'Total Costs of Policies']"
      ]
     },
     "execution_count": 4,
     "metadata": {},
     "output_type": "execute_result"
    }
   ],
   "source": [
    "outcomes_df.columns.values.tolist()"
   ]
  },
  {
   "cell_type": "code",
   "execution_count": 5,
   "id": "third-bulletin",
   "metadata": {},
   "outputs": [],
   "source": [
    "DAMAGE = outcomes_df.columns[2]\n",
    "DEATHS = outcomes_df.columns[3]\n",
    "COSTS = outcomes_df.columns[4]"
   ]
  },
  {
   "cell_type": "code",
   "execution_count": 6,
   "id": "equipped-helicopter",
   "metadata": {},
   "outputs": [],
   "source": [
    "results = pd.concat([experiments, outcomes_df], axis=1)"
   ]
  },
  {
   "cell_type": "code",
   "execution_count": 7,
   "id": "healthy-banner",
   "metadata": {},
   "outputs": [],
   "source": [
    "worst_damage_df = results.loc[results[DAMAGE] > np.percentile(a=outcomes[DAMAGE], q=90)]\n",
    "worst_deaths_df = results.loc[results[DEATHS] > np.percentile(a=outcomes[DEATHS], q=90)]\n",
    "worst_cost_df = results.loc[results[COSTS] > np.percentile(a=outcomes[COSTS], q=90)]\n",
    "worst_ix =set(worst_damage_df[\"scenario\"].tolist()) & set(worst_deaths_df[\"scenario\"].tolist()) & set(worst_cost_df[\"scenario\"].tolist())"
   ]
  },
  {
   "cell_type": "code",
   "execution_count": 8,
   "id": "architectural-consortium",
   "metadata": {},
   "outputs": [],
   "source": [
    "worst_case = results.iloc[list(worst_ix)].sample(n=1, random_state=1)"
   ]
  },
  {
   "cell_type": "code",
   "execution_count": 9,
   "id": "antique-examination",
   "metadata": {},
   "outputs": [],
   "source": [
    "best_damage_df = results.loc[results[DAMAGE] <= np.percentile(a=outcomes[DAMAGE], q=10)]\n",
    "best_deaths_df = results.loc[results[DEATHS] <= np.percentile(a=outcomes[DEATHS], q=10)]\n",
    "best_cost_df = results.loc[results[COSTS] <= np.percentile(a=outcomes[COSTS], q=10)]\n",
    "best_ix = set(best_damage_df[\"scenario\"].tolist()) & set(best_deaths_df[\"scenario\"].tolist()) & set(best_cost_df[\"scenario\"].tolist())"
   ]
  },
  {
   "cell_type": "code",
   "execution_count": 10,
   "id": "occupational-nurse",
   "metadata": {},
   "outputs": [],
   "source": [
    "best_case = results.iloc[list(best_ix)].sample(n=1, random_state=1)"
   ]
  },
  {
   "cell_type": "code",
   "execution_count": 11,
   "id": "involved-roman",
   "metadata": {},
   "outputs": [
    {
     "data": {
      "text/plain": [
       "30946"
      ]
     },
     "execution_count": 11,
     "metadata": {},
     "output_type": "execute_result"
    }
   ],
   "source": [
    "len(set(results[\"scenario\"].tolist()) - set(best_damage_df[\"scenario\"].tolist()) - set(best_deaths_df[\"scenario\"].tolist()) - set(best_cost_df[\"scenario\"].tolist()) - set(worst_damage_df[\"scenario\"].tolist()) - set(worst_deaths_df[\"scenario\"].tolist()) - set(worst_cost_df[\"scenario\"].tolist()) )"
   ]
  },
  {
   "cell_type": "code",
   "execution_count": 12,
   "id": "danish-metropolitan",
   "metadata": {},
   "outputs": [],
   "source": [
    "middleground = set(results[\"scenario\"].tolist()) - set(best_damage_df[\"scenario\"].tolist()) - set(best_deaths_df[\"scenario\"].tolist()) - set(best_cost_df[\"scenario\"].tolist()) - set(worst_damage_df[\"scenario\"].tolist()) - set(worst_deaths_df[\"scenario\"].tolist()) - set(worst_cost_df[\"scenario\"].tolist())"
   ]
  },
  {
   "cell_type": "code",
   "execution_count": 13,
   "id": "sharp-twenty",
   "metadata": {},
   "outputs": [
    {
     "data": {
      "text/html": [
       "<div>\n",
       "<style scoped>\n",
       "    .dataframe tbody tr th:only-of-type {\n",
       "        vertical-align: middle;\n",
       "    }\n",
       "\n",
       "    .dataframe tbody tr th {\n",
       "        vertical-align: top;\n",
       "    }\n",
       "\n",
       "    .dataframe thead th {\n",
       "        text-align: right;\n",
       "    }\n",
       "</style>\n",
       "<table border=\"1\" class=\"dataframe\">\n",
       "  <thead>\n",
       "    <tr style=\"text-align: right;\">\n",
       "      <th></th>\n",
       "      <th>0_RfR 0</th>\n",
       "      <th>0_RfR 1</th>\n",
       "      <th>0_RfR 2</th>\n",
       "      <th>1_RfR 0</th>\n",
       "      <th>1_RfR 1</th>\n",
       "      <th>1_RfR 2</th>\n",
       "      <th>2_RfR 0</th>\n",
       "      <th>2_RfR 1</th>\n",
       "      <th>2_RfR 2</th>\n",
       "      <th>A.0_ID flood wave shape</th>\n",
       "      <th>...</th>\n",
       "      <th>A.5_DikeIncrease 1</th>\n",
       "      <th>A.5_DikeIncrease 2</th>\n",
       "      <th>scenario</th>\n",
       "      <th>policy</th>\n",
       "      <th>model</th>\n",
       "      <th>Difference in Expected Annual Damage Gorssel-Deventer</th>\n",
       "      <th>Difference in Expected Number of Deaths Gorssel-Deventer</th>\n",
       "      <th>Gorssel Expected Annual Damage</th>\n",
       "      <th>Gorssel Expected Number of Deaths</th>\n",
       "      <th>Total Costs of Policies</th>\n",
       "    </tr>\n",
       "  </thead>\n",
       "  <tbody>\n",
       "    <tr>\n",
       "      <th>0</th>\n",
       "      <td>1.0</td>\n",
       "      <td>0.0</td>\n",
       "      <td>0.0</td>\n",
       "      <td>1.0</td>\n",
       "      <td>0.0</td>\n",
       "      <td>1.0</td>\n",
       "      <td>1.0</td>\n",
       "      <td>1.0</td>\n",
       "      <td>0.0</td>\n",
       "      <td>94.0</td>\n",
       "      <td>...</td>\n",
       "      <td>0.0</td>\n",
       "      <td>0.0</td>\n",
       "      <td>0</td>\n",
       "      <td>Policy 0</td>\n",
       "      <td>dikesnet</td>\n",
       "      <td>-2930.727911</td>\n",
       "      <td>-2.443679e-06</td>\n",
       "      <td>9.233263e+06</td>\n",
       "      <td>0.004710</td>\n",
       "      <td>1.170471e+09</td>\n",
       "    </tr>\n",
       "    <tr>\n",
       "      <th>1</th>\n",
       "      <td>0.0</td>\n",
       "      <td>0.0</td>\n",
       "      <td>0.0</td>\n",
       "      <td>1.0</td>\n",
       "      <td>0.0</td>\n",
       "      <td>0.0</td>\n",
       "      <td>0.0</td>\n",
       "      <td>0.0</td>\n",
       "      <td>0.0</td>\n",
       "      <td>47.0</td>\n",
       "      <td>...</td>\n",
       "      <td>0.0</td>\n",
       "      <td>0.0</td>\n",
       "      <td>1</td>\n",
       "      <td>Policy 0</td>\n",
       "      <td>dikesnet</td>\n",
       "      <td>-761.528933</td>\n",
       "      <td>-4.818763e-07</td>\n",
       "      <td>7.670043e+07</td>\n",
       "      <td>0.048534</td>\n",
       "      <td>8.411319e+08</td>\n",
       "    </tr>\n",
       "    <tr>\n",
       "      <th>2</th>\n",
       "      <td>0.0</td>\n",
       "      <td>0.0</td>\n",
       "      <td>0.0</td>\n",
       "      <td>1.0</td>\n",
       "      <td>0.0</td>\n",
       "      <td>0.0</td>\n",
       "      <td>0.0</td>\n",
       "      <td>0.0</td>\n",
       "      <td>1.0</td>\n",
       "      <td>118.0</td>\n",
       "      <td>...</td>\n",
       "      <td>0.0</td>\n",
       "      <td>0.0</td>\n",
       "      <td>2</td>\n",
       "      <td>Policy 0</td>\n",
       "      <td>dikesnet</td>\n",
       "      <td>-989.243308</td>\n",
       "      <td>-7.561254e-07</td>\n",
       "      <td>1.770776e+07</td>\n",
       "      <td>0.008808</td>\n",
       "      <td>8.851280e+08</td>\n",
       "    </tr>\n",
       "    <tr>\n",
       "      <th>3</th>\n",
       "      <td>0.0</td>\n",
       "      <td>0.0</td>\n",
       "      <td>0.0</td>\n",
       "      <td>0.0</td>\n",
       "      <td>1.0</td>\n",
       "      <td>1.0</td>\n",
       "      <td>0.0</td>\n",
       "      <td>1.0</td>\n",
       "      <td>1.0</td>\n",
       "      <td>60.0</td>\n",
       "      <td>...</td>\n",
       "      <td>0.0</td>\n",
       "      <td>0.0</td>\n",
       "      <td>3</td>\n",
       "      <td>Policy 0</td>\n",
       "      <td>dikesnet</td>\n",
       "      <td>-2033.608427</td>\n",
       "      <td>-1.979461e-06</td>\n",
       "      <td>1.397205e+07</td>\n",
       "      <td>0.008365</td>\n",
       "      <td>1.210445e+09</td>\n",
       "    </tr>\n",
       "    <tr>\n",
       "      <th>6</th>\n",
       "      <td>1.0</td>\n",
       "      <td>0.0</td>\n",
       "      <td>0.0</td>\n",
       "      <td>0.0</td>\n",
       "      <td>0.0</td>\n",
       "      <td>1.0</td>\n",
       "      <td>0.0</td>\n",
       "      <td>0.0</td>\n",
       "      <td>0.0</td>\n",
       "      <td>35.0</td>\n",
       "      <td>...</td>\n",
       "      <td>0.0</td>\n",
       "      <td>0.0</td>\n",
       "      <td>6</td>\n",
       "      <td>Policy 0</td>\n",
       "      <td>dikesnet</td>\n",
       "      <td>-1605.437106</td>\n",
       "      <td>-1.998324e-06</td>\n",
       "      <td>7.055392e+06</td>\n",
       "      <td>0.005666</td>\n",
       "      <td>9.590660e+08</td>\n",
       "    </tr>\n",
       "    <tr>\n",
       "      <th>...</th>\n",
       "      <td>...</td>\n",
       "      <td>...</td>\n",
       "      <td>...</td>\n",
       "      <td>...</td>\n",
       "      <td>...</td>\n",
       "      <td>...</td>\n",
       "      <td>...</td>\n",
       "      <td>...</td>\n",
       "      <td>...</td>\n",
       "      <td>...</td>\n",
       "      <td>...</td>\n",
       "      <td>...</td>\n",
       "      <td>...</td>\n",
       "      <td>...</td>\n",
       "      <td>...</td>\n",
       "      <td>...</td>\n",
       "      <td>...</td>\n",
       "      <td>...</td>\n",
       "      <td>...</td>\n",
       "      <td>...</td>\n",
       "      <td>...</td>\n",
       "    </tr>\n",
       "    <tr>\n",
       "      <th>49994</th>\n",
       "      <td>0.0</td>\n",
       "      <td>0.0</td>\n",
       "      <td>0.0</td>\n",
       "      <td>0.0</td>\n",
       "      <td>1.0</td>\n",
       "      <td>1.0</td>\n",
       "      <td>0.0</td>\n",
       "      <td>0.0</td>\n",
       "      <td>0.0</td>\n",
       "      <td>80.0</td>\n",
       "      <td>...</td>\n",
       "      <td>0.0</td>\n",
       "      <td>0.0</td>\n",
       "      <td>49994</td>\n",
       "      <td>Policy 0</td>\n",
       "      <td>dikesnet</td>\n",
       "      <td>-2991.995273</td>\n",
       "      <td>-3.699884e-06</td>\n",
       "      <td>2.388620e+07</td>\n",
       "      <td>0.016028</td>\n",
       "      <td>7.249075e+08</td>\n",
       "    </tr>\n",
       "    <tr>\n",
       "      <th>49995</th>\n",
       "      <td>1.0</td>\n",
       "      <td>1.0</td>\n",
       "      <td>1.0</td>\n",
       "      <td>0.0</td>\n",
       "      <td>0.0</td>\n",
       "      <td>0.0</td>\n",
       "      <td>1.0</td>\n",
       "      <td>1.0</td>\n",
       "      <td>0.0</td>\n",
       "      <td>79.0</td>\n",
       "      <td>...</td>\n",
       "      <td>0.0</td>\n",
       "      <td>0.0</td>\n",
       "      <td>49995</td>\n",
       "      <td>Policy 0</td>\n",
       "      <td>dikesnet</td>\n",
       "      <td>-8720.108753</td>\n",
       "      <td>-7.120719e-06</td>\n",
       "      <td>9.918798e+06</td>\n",
       "      <td>0.005282</td>\n",
       "      <td>7.280721e+08</td>\n",
       "    </tr>\n",
       "    <tr>\n",
       "      <th>49997</th>\n",
       "      <td>0.0</td>\n",
       "      <td>0.0</td>\n",
       "      <td>1.0</td>\n",
       "      <td>0.0</td>\n",
       "      <td>0.0</td>\n",
       "      <td>1.0</td>\n",
       "      <td>1.0</td>\n",
       "      <td>0.0</td>\n",
       "      <td>0.0</td>\n",
       "      <td>120.0</td>\n",
       "      <td>...</td>\n",
       "      <td>0.0</td>\n",
       "      <td>0.0</td>\n",
       "      <td>49997</td>\n",
       "      <td>Policy 0</td>\n",
       "      <td>dikesnet</td>\n",
       "      <td>-846.480657</td>\n",
       "      <td>-3.498559e-07</td>\n",
       "      <td>8.525669e+07</td>\n",
       "      <td>0.035237</td>\n",
       "      <td>1.008833e+09</td>\n",
       "    </tr>\n",
       "    <tr>\n",
       "      <th>49998</th>\n",
       "      <td>0.0</td>\n",
       "      <td>0.0</td>\n",
       "      <td>1.0</td>\n",
       "      <td>0.0</td>\n",
       "      <td>1.0</td>\n",
       "      <td>0.0</td>\n",
       "      <td>0.0</td>\n",
       "      <td>0.0</td>\n",
       "      <td>0.0</td>\n",
       "      <td>80.0</td>\n",
       "      <td>...</td>\n",
       "      <td>0.0</td>\n",
       "      <td>0.0</td>\n",
       "      <td>49998</td>\n",
       "      <td>Policy 0</td>\n",
       "      <td>dikesnet</td>\n",
       "      <td>-5219.987758</td>\n",
       "      <td>-3.757513e-06</td>\n",
       "      <td>1.133016e+07</td>\n",
       "      <td>0.005143</td>\n",
       "      <td>9.024871e+08</td>\n",
       "    </tr>\n",
       "    <tr>\n",
       "      <th>49999</th>\n",
       "      <td>0.0</td>\n",
       "      <td>0.0</td>\n",
       "      <td>1.0</td>\n",
       "      <td>0.0</td>\n",
       "      <td>0.0</td>\n",
       "      <td>1.0</td>\n",
       "      <td>1.0</td>\n",
       "      <td>0.0</td>\n",
       "      <td>1.0</td>\n",
       "      <td>17.0</td>\n",
       "      <td>...</td>\n",
       "      <td>0.0</td>\n",
       "      <td>0.0</td>\n",
       "      <td>49999</td>\n",
       "      <td>Policy 0</td>\n",
       "      <td>dikesnet</td>\n",
       "      <td>-318.230556</td>\n",
       "      <td>-1.512037e-07</td>\n",
       "      <td>3.026446e+07</td>\n",
       "      <td>0.013594</td>\n",
       "      <td>7.381740e+08</td>\n",
       "    </tr>\n",
       "  </tbody>\n",
       "</table>\n",
       "<p>30946 rows × 58 columns</p>\n",
       "</div>"
      ],
      "text/plain": [
       "       0_RfR 0  0_RfR 1  0_RfR 2  1_RfR 0  1_RfR 1  1_RfR 2  2_RfR 0  2_RfR 1  \\\n",
       "0          1.0      0.0      0.0      1.0      0.0      1.0      1.0      1.0   \n",
       "1          0.0      0.0      0.0      1.0      0.0      0.0      0.0      0.0   \n",
       "2          0.0      0.0      0.0      1.0      0.0      0.0      0.0      0.0   \n",
       "3          0.0      0.0      0.0      0.0      1.0      1.0      0.0      1.0   \n",
       "6          1.0      0.0      0.0      0.0      0.0      1.0      0.0      0.0   \n",
       "...        ...      ...      ...      ...      ...      ...      ...      ...   \n",
       "49994      0.0      0.0      0.0      0.0      1.0      1.0      0.0      0.0   \n",
       "49995      1.0      1.0      1.0      0.0      0.0      0.0      1.0      1.0   \n",
       "49997      0.0      0.0      1.0      0.0      0.0      1.0      1.0      0.0   \n",
       "49998      0.0      0.0      1.0      0.0      1.0      0.0      0.0      0.0   \n",
       "49999      0.0      0.0      1.0      0.0      0.0      1.0      1.0      0.0   \n",
       "\n",
       "       2_RfR 2  A.0_ID flood wave shape  ...  A.5_DikeIncrease 1  \\\n",
       "0          0.0                     94.0  ...                 0.0   \n",
       "1          0.0                     47.0  ...                 0.0   \n",
       "2          1.0                    118.0  ...                 0.0   \n",
       "3          1.0                     60.0  ...                 0.0   \n",
       "6          0.0                     35.0  ...                 0.0   \n",
       "...        ...                      ...  ...                 ...   \n",
       "49994      0.0                     80.0  ...                 0.0   \n",
       "49995      0.0                     79.0  ...                 0.0   \n",
       "49997      0.0                    120.0  ...                 0.0   \n",
       "49998      0.0                     80.0  ...                 0.0   \n",
       "49999      1.0                     17.0  ...                 0.0   \n",
       "\n",
       "      A.5_DikeIncrease 2  scenario    policy     model  \\\n",
       "0                    0.0         0  Policy 0  dikesnet   \n",
       "1                    0.0         1  Policy 0  dikesnet   \n",
       "2                    0.0         2  Policy 0  dikesnet   \n",
       "3                    0.0         3  Policy 0  dikesnet   \n",
       "6                    0.0         6  Policy 0  dikesnet   \n",
       "...                  ...       ...       ...       ...   \n",
       "49994                0.0     49994  Policy 0  dikesnet   \n",
       "49995                0.0     49995  Policy 0  dikesnet   \n",
       "49997                0.0     49997  Policy 0  dikesnet   \n",
       "49998                0.0     49998  Policy 0  dikesnet   \n",
       "49999                0.0     49999  Policy 0  dikesnet   \n",
       "\n",
       "       Difference in Expected Annual Damage Gorssel-Deventer  \\\n",
       "0                                           -2930.727911       \n",
       "1                                            -761.528933       \n",
       "2                                            -989.243308       \n",
       "3                                           -2033.608427       \n",
       "6                                           -1605.437106       \n",
       "...                                                  ...       \n",
       "49994                                       -2991.995273       \n",
       "49995                                       -8720.108753       \n",
       "49997                                        -846.480657       \n",
       "49998                                       -5219.987758       \n",
       "49999                                        -318.230556       \n",
       "\n",
       "       Difference in Expected Number of Deaths Gorssel-Deventer  \\\n",
       "0                                          -2.443679e-06          \n",
       "1                                          -4.818763e-07          \n",
       "2                                          -7.561254e-07          \n",
       "3                                          -1.979461e-06          \n",
       "6                                          -1.998324e-06          \n",
       "...                                                  ...          \n",
       "49994                                      -3.699884e-06          \n",
       "49995                                      -7.120719e-06          \n",
       "49997                                      -3.498559e-07          \n",
       "49998                                      -3.757513e-06          \n",
       "49999                                      -1.512037e-07          \n",
       "\n",
       "      Gorssel Expected Annual Damage  Gorssel Expected Number of Deaths  \\\n",
       "0                       9.233263e+06                           0.004710   \n",
       "1                       7.670043e+07                           0.048534   \n",
       "2                       1.770776e+07                           0.008808   \n",
       "3                       1.397205e+07                           0.008365   \n",
       "6                       7.055392e+06                           0.005666   \n",
       "...                              ...                                ...   \n",
       "49994                   2.388620e+07                           0.016028   \n",
       "49995                   9.918798e+06                           0.005282   \n",
       "49997                   8.525669e+07                           0.035237   \n",
       "49998                   1.133016e+07                           0.005143   \n",
       "49999                   3.026446e+07                           0.013594   \n",
       "\n",
       "       Total Costs of Policies  \n",
       "0                 1.170471e+09  \n",
       "1                 8.411319e+08  \n",
       "2                 8.851280e+08  \n",
       "3                 1.210445e+09  \n",
       "6                 9.590660e+08  \n",
       "...                        ...  \n",
       "49994             7.249075e+08  \n",
       "49995             7.280721e+08  \n",
       "49997             1.008833e+09  \n",
       "49998             9.024871e+08  \n",
       "49999             7.381740e+08  \n",
       "\n",
       "[30946 rows x 58 columns]"
      ]
     },
     "execution_count": 13,
     "metadata": {},
     "output_type": "execute_result"
    }
   ],
   "source": [
    "results.iloc[list(middleground)]"
   ]
  },
  {
   "cell_type": "code",
   "execution_count": 11,
   "id": "mineral-genealogy",
   "metadata": {},
   "outputs": [],
   "source": [
    "middle_damage_df = results.loc[(results[DAMAGE] > np.percentile(a=outcomes[DAMAGE], q=45)) & (results[DAMAGE] <= np.percentile(a=outcomes[DAMAGE], q=55))]\n",
    "middle_deaths_df = results.loc[(results[DEATHS] > np.percentile(a=outcomes[DEATHS], q=45)) & (results[DEATHS] <= np.percentile(a=outcomes[DEATHS], q=55))]\n",
    "middle_cost_df = results.loc[(results[COSTS] > np.percentile(a=outcomes[COSTS], q=45)) & (results[COSTS] <= np.percentile(a=outcomes[COSTS], q=55))]\n",
    "middle_ix =set(middle_damage_df[\"scenario\"].tolist()) & set(middle_deaths_df[\"scenario\"].tolist()) & set(middle_cost_df[\"scenario\"].tolist())"
   ]
  },
  {
   "cell_type": "code",
   "execution_count": 12,
   "id": "ranking-remainder",
   "metadata": {},
   "outputs": [],
   "source": [
    "middle_case = results.iloc[list(middle_ix)].sample(n=1, random_state=1)"
   ]
  },
  {
   "cell_type": "code",
   "execution_count": 13,
   "id": "strong-basis",
   "metadata": {},
   "outputs": [],
   "source": [
    "uncertainties =list(dike_model.uncertainties._data.keys())"
   ]
  },
  {
   "cell_type": "code",
   "execution_count": 14,
   "id": "stuck-solomon",
   "metadata": {},
   "outputs": [
    {
     "data": {
      "text/html": [
       "<div>\n",
       "<style scoped>\n",
       "    .dataframe tbody tr th:only-of-type {\n",
       "        vertical-align: middle;\n",
       "    }\n",
       "\n",
       "    .dataframe tbody tr th {\n",
       "        vertical-align: top;\n",
       "    }\n",
       "\n",
       "    .dataframe thead th {\n",
       "        text-align: right;\n",
       "    }\n",
       "</style>\n",
       "<table border=\"1\" class=\"dataframe\">\n",
       "  <thead>\n",
       "    <tr style=\"text-align: right;\">\n",
       "      <th></th>\n",
       "      <th>discount rate 0</th>\n",
       "      <th>discount rate 1</th>\n",
       "      <th>discount rate 2</th>\n",
       "      <th>A.0_ID flood wave shape</th>\n",
       "      <th>A.1_Bmax</th>\n",
       "      <th>A.1_pfail</th>\n",
       "      <th>A.1_Brate</th>\n",
       "      <th>A.2_Bmax</th>\n",
       "      <th>A.2_pfail</th>\n",
       "      <th>A.2_Brate</th>\n",
       "      <th>...</th>\n",
       "      <th>2_RfR 2</th>\n",
       "      <th>A.1_DikeIncrease 0</th>\n",
       "      <th>A.1_DikeIncrease 1</th>\n",
       "      <th>A.1_DikeIncrease 2</th>\n",
       "      <th>A.2_DikeIncrease 0</th>\n",
       "      <th>A.2_DikeIncrease 1</th>\n",
       "      <th>A.2_DikeIncrease 2</th>\n",
       "      <th>A.3_DikeIncrease 0</th>\n",
       "      <th>A.3_DikeIncrease 1</th>\n",
       "      <th>A.3_DikeIncrease 2</th>\n",
       "    </tr>\n",
       "  </thead>\n",
       "  <tbody>\n",
       "    <tr>\n",
       "      <th>5569</th>\n",
       "      <td>3.5</td>\n",
       "      <td>3.5</td>\n",
       "      <td>2.5</td>\n",
       "      <td>82.0</td>\n",
       "      <td>108.796933</td>\n",
       "      <td>0.175097</td>\n",
       "      <td>1.0</td>\n",
       "      <td>274.649688</td>\n",
       "      <td>0.546471</td>\n",
       "      <td>10.0</td>\n",
       "      <td>...</td>\n",
       "      <td>1.0</td>\n",
       "      <td>5.0</td>\n",
       "      <td>5.0</td>\n",
       "      <td>3.0</td>\n",
       "      <td>8.0</td>\n",
       "      <td>1.0</td>\n",
       "      <td>10.0</td>\n",
       "      <td>7.0</td>\n",
       "      <td>5.0</td>\n",
       "      <td>4.0</td>\n",
       "    </tr>\n",
       "  </tbody>\n",
       "</table>\n",
       "<p>1 rows × 37 columns</p>\n",
       "</div>"
      ],
      "text/plain": [
       "     discount rate 0 discount rate 1 discount rate 2  A.0_ID flood wave shape  \\\n",
       "5569             3.5             3.5             2.5                     82.0   \n",
       "\n",
       "        A.1_Bmax  A.1_pfail A.1_Brate    A.2_Bmax  A.2_pfail A.2_Brate  ...  \\\n",
       "5569  108.796933   0.175097       1.0  274.649688   0.546471      10.0  ...   \n",
       "\n",
       "      2_RfR 2  A.1_DikeIncrease 0 A.1_DikeIncrease 1  A.1_DikeIncrease 2  \\\n",
       "5569      1.0                 5.0                5.0                 3.0   \n",
       "\n",
       "      A.2_DikeIncrease 0 A.2_DikeIncrease 1  A.2_DikeIncrease 2  \\\n",
       "5569                 8.0                1.0                10.0   \n",
       "\n",
       "      A.3_DikeIncrease 0 A.3_DikeIncrease 1  A.3_DikeIncrease 2  \n",
       "5569                 7.0                5.0                 4.0  \n",
       "\n",
       "[1 rows x 37 columns]"
      ]
     },
     "execution_count": 14,
     "metadata": {},
     "output_type": "execute_result"
    }
   ],
   "source": [
    "middle_case.loc[:, uncertainties]"
   ]
  },
  {
   "cell_type": "code",
   "execution_count": 15,
   "id": "exempt-elevation",
   "metadata": {},
   "outputs": [],
   "source": [
    "selected = pd.concat([middle_case.loc[:, uncertainties], best_case.loc[:, uncertainties], worst_case.loc[:, uncertainties]], axis=0)"
   ]
  },
  {
   "cell_type": "code",
   "execution_count": 16,
   "id": "breeding-friendship",
   "metadata": {},
   "outputs": [],
   "source": [
    "scenarios = [Scenario(f\"{index}\", **row) for index, row in selected.iterrows()]"
   ]
  },
  {
   "cell_type": "markdown",
   "id": "valid-planning",
   "metadata": {},
   "source": [
    "# Optimisation"
   ]
  },
  {
   "cell_type": "code",
   "execution_count": 19,
   "id": "demographic-martin",
   "metadata": {},
   "outputs": [
    {
     "name": "stderr",
     "output_type": "stream",
     "text": [
      "[MainProcess/INFO] pool started\n",
      "[MainProcess/INFO] generation 0: 0/3000 nfe\n",
      "[MainProcess/INFO] generation 5: 500/3000 nfe\n",
      "[MainProcess/INFO] generation 10: 996/3000 nfe\n",
      "[MainProcess/INFO] generation 15: 1484/3000 nfe\n",
      "[MainProcess/INFO] generation 20: 1961/3000 nfe\n",
      "[MainProcess/INFO] generation 25: 2411/3000 nfe\n",
      "[MainProcess/INFO] generation 30: 2851/3000 nfe\n",
      "[MainProcess/INFO] optimization completed, found 6 solutions\n",
      "[MainProcess/INFO] terminating pool\n",
      "[MainProcess/INFO] pool started\n",
      "[MainProcess/INFO] generation 0: 0/3000 nfe\n",
      "[MainProcess/INFO] generation 5: 497/3000 nfe\n",
      "[MainProcess/INFO] generation 10: 990/3000 nfe\n",
      "[MainProcess/INFO] generation 15: 1477/3000 nfe\n",
      "[MainProcess/INFO] generation 20: 1928/3000 nfe\n",
      "[MainProcess/INFO] generation 25: 2291/3000 nfe\n",
      "[MainProcess/INFO] generation 30: 2597/3000 nfe\n",
      "[MainProcess/INFO] generation 35: 2934/3000 nfe\n",
      "[MainProcess/INFO] optimization completed, found 1 solutions\n",
      "[MainProcess/INFO] terminating pool\n",
      "[MainProcess/INFO] pool started\n",
      "[MainProcess/INFO] generation 0: 0/3000 nfe\n",
      "[MainProcess/INFO] generation 5: 499/3000 nfe\n",
      "[MainProcess/INFO] generation 10: 998/3000 nfe\n",
      "[MainProcess/INFO] generation 15: 1496/3000 nfe\n",
      "[MainProcess/INFO] generation 20: 1969/3000 nfe\n",
      "[MainProcess/INFO] generation 25: 2423/3000 nfe\n",
      "[MainProcess/INFO] generation 30: 2880/3000 nfe\n",
      "[MainProcess/INFO] optimization completed, found 9 solutions\n",
      "[MainProcess/INFO] terminating pool\n"
     ]
    }
   ],
   "source": [
    "ema_logging.log_to_stderr(ema_logging.INFO)\n",
    "\n",
    "nfe = 3000\n",
    "\n",
    "def optimize(scenario, nfe, model, converge_metrics, epsilons):\n",
    "\n",
    "\n",
    "    with MultiprocessingEvaluator(model) as evaluator:\n",
    "        results, convergence = evaluator.optimize(nfe=nfe, searchover='levers',\n",
    "                                     convergence=convergence_metrics,\n",
    "                                     epsilons=epsilons,\n",
    "                                     reference=scenario, convergence_freq=200)\n",
    "    return results, convergence\n",
    "\n",
    "\n",
    "results = []\n",
    "for scenario in scenarios:\n",
    "    convergence_metrics = [HyperVolume(minimum=hypervolumemin, maximum=hypervolumemax),\n",
    "                           EpsilonProgress()]\n",
    "    epsilons = [1e3] * len(dike_model.outcomes)\n",
    "    \n",
    "    \n",
    "    \n",
    "    results.append(optimize(scenario, nfe, dike_model, convergence_metrics, epsilons))\n"
   ]
  },
  {
   "cell_type": "code",
   "execution_count": 23,
   "id": "unauthorized-grocery",
   "metadata": {
    "scrolled": true
   },
   "outputs": [
    {
     "data": {
      "image/png": "[encoded data removed]",
      "text/plain": [
       "<Figure size 432x288 with 2 Axes>"
      ]
     },
     "metadata": {
      "needs_background": "light"
     },
     "output_type": "display_data"
    }
   ],
   "source": [
    "fig, (ax1, ax2) = plt.subplots(ncols=2,sharex=True)\n",
    "for i, (_, convergence) in enumerate(results):\n",
    "    ax1.plot(convergence.nfe, convergence.hypervolume, label=f'scenario {i}')\n",
    "    ax2.plot(convergence.nfe, convergence.epsilon_progress, label=f'scenario {i}')\n",
    "\n",
    "ax1.set_ylabel('hypervolume')\n",
    "ax1.set_xlabel('nfe')\n",
    "ax2.set_ylabel('$\\epsilon$ progress')\n",
    "ax2.set_xlabel('nfe')\n",
    "fig.legend()\n",
    "plt.show()"
   ]
  },
  {
   "cell_type": "code",
   "execution_count": 107,
   "id": "finnish-generator",
   "metadata": {},
   "outputs": [],
   "source": [
    "opt_df = pd.DataFrame()\n",
    "conv_df = pd.DataFrame()\n",
    "for i, (result, convergence) in enumerate(results):\n",
    "    convergence[\"scenario\"] = cases[i]\n",
    "    result[\"scenario\"] = cases[i]\n",
    "    opt_df = pd.concat([opt_df, result], axis=0)\n",
    "    conv_df = pd.concat([conv_df, convergence], axis=0)"
   ]
  },
  {
   "cell_type": "code",
   "execution_count": 114,
   "id": "insured-trunk",
   "metadata": {},
   "outputs": [],
   "source": [
    "opt_df.to_csv(\"data/optimisation/Gorssel/optimisation.csv\", index=False)\n",
    "conv_df.to_csv(\"data/optimisation/Gorssel/convergence.csv\", index=False)"
   ]
  },
  {
   "cell_type": "code",
   "execution_count": 119,
   "id": "double-disorder",
   "metadata": {},
   "outputs": [],
   "source": [
    "policyoutcomes = opt_df.loc[:, outcomekeys[2:]]"
   ]
  },
  {
   "cell_type": "markdown",
   "id": "burning-return",
   "metadata": {},
   "source": [
    "Below we plot per scenario "
   ]
  },
  {
   "cell_type": "code",
   "execution_count": 130,
   "id": "dietary-species",
   "metadata": {},
   "outputs": [
    {
     "data": {
      "image/png": "[encoded data removed]",
      "text/plain": [
       "<Figure size 360x648 with 2 Axes>"
      ]
     },
     "metadata": {},
     "output_type": "display_data"
    }
   ],
   "source": [
    "colors = iter(sns.color_palette())\n",
    "limits = parcoords.get_limits(policyoutcomes)\n",
    "\n",
    "# limits.loc[0, ['inertia', 'reliability']] = 1\n",
    "# limits.loc[0, 'max_P'] = 4 # max over results based on quick inspection not shown here\n",
    "# limits.loc[0, 'utility'] = 1 # max over results based on quick inspection not shown here\n",
    "# limits.loc[1, :] = 0\n",
    "paraxes = parcoords.ParallelAxes(limits)\n",
    "\n",
    "\n",
    "for i, (result, _) in enumerate(results):\n",
    "    color = next(colors)\n",
    "    data = result.loc[:,  outcomekeys[2:]]\n",
    "    paraxes.plot(data, label=f'scenario {cases[i]}', color=color)\n",
    "\n",
    "paraxes.legend()\n",
    "plt.rcParams[\"figure.figsize\"] = (5,15)\n",
    "plt.show()\n"
   ]
  },
  {
   "cell_type": "markdown",
   "id": "plastic-twist",
   "metadata": {},
   "source": [
    "# Re-evaluate under deep uncertainty"
   ]
  },
  {
   "cell_type": "code",
   "execution_count": 39,
   "id": "asian-dependence",
   "metadata": {},
   "outputs": [],
   "source": [
    "levers = [lever.name for lever in dike_model.levers]"
   ]
  },
  {
   "cell_type": "code",
   "execution_count": 40,
   "id": "british-trouble",
   "metadata": {},
   "outputs": [],
   "source": [
    "policies = []\n",
    "for i, (result, _) in enumerate(results):\n",
    "    result = result.loc[:, levers]\n",
    "    for j, row in result.iterrows():\n",
    "        policy = Policy(f'scenario {cases[i]} option {j}', **row.to_dict())\n",
    "        policies.append(policy)"
   ]
  },
  {
   "cell_type": "code",
   "execution_count": 41,
   "id": "dominant-veteran",
   "metadata": {},
   "outputs": [
    {
     "name": "stderr",
     "output_type": "stream",
     "text": [
      "[MainProcess/INFO] pool started\n",
      "[MainProcess/INFO] performing 1000 scenarios * 16 policies * 1 model(s) = 16000 experiments\n",
      "[MainProcess/INFO] 1600 cases completed\n",
      "[MainProcess/INFO] 3200 cases completed\n",
      "[MainProcess/INFO] 4800 cases completed\n",
      "[MainProcess/INFO] 6400 cases completed\n",
      "[MainProcess/INFO] 8000 cases completed\n",
      "[MainProcess/INFO] 9600 cases completed\n",
      "[MainProcess/INFO] 11200 cases completed\n",
      "[MainProcess/INFO] 12800 cases completed\n",
      "[MainProcess/INFO] 14400 cases completed\n",
      "[MainProcess/INFO] 16000 cases completed\n",
      "[MainProcess/INFO] experiments finished\n",
      "[MainProcess/INFO] terminating pool\n"
     ]
    }
   ],
   "source": [
    "with MultiprocessingEvaluator(dike_model) as evaluator:\n",
    "    reevaluation_results = evaluator.perform_experiments(1000, policies=policies)"
   ]
  },
  {
   "cell_type": "code",
   "execution_count": 131,
   "id": "standard-superior",
   "metadata": {},
   "outputs": [],
   "source": [
    "du_experiments, du_outcomes = reevaluation_results"
   ]
  },
  {
   "cell_type": "code",
   "execution_count": 136,
   "id": "demographic-membrane",
   "metadata": {},
   "outputs": [],
   "source": [
    "du_experiments.to_csv(\"data/optimisation/Gorssel/du_experiments.csv\", index=False)"
   ]
  },
  {
   "cell_type": "code",
   "execution_count": 135,
   "id": "wireless-python",
   "metadata": {},
   "outputs": [],
   "source": [
    "pd.DataFrame(du_outcomes).to_csv(\"data/optimisation/Gorssel/du_outcomes.csv\", index=False)"
   ]
  },
  {
   "cell_type": "markdown",
   "id": "blessed-biodiversity",
   "metadata": {},
   "source": [
    "## Regret\n",
    "Comparing alternatives\n",
    "\"With a regret view, a decision maker wants to minimize the regret of choosing incorrectly, where regret is the loss in performance. This regret could be the cost of assuming the wrong future scenario or the cost of choosing the wrong alternative. In the first case, maximum regret of an alternative is the difference between its performances in the best estimate future scenario and in the scenario where it shows the worst performance, for example, as applied by Kasprzyk et al. (2013). In the second case, the regret of an alternative in a certain future scenario is the difference between its performance and the best-performing alternative, as proposed by Savage (1951). Maximum regret of an alternative is its highest regret achieved over all future scenarios. In both regret cases, the alternative with the smallest maximum regret is the most robust.\"\n",
    "\n",
    "https://link.springer.com/article/10.1007/s13595-017-0641-2"
   ]
  },
  {
   "cell_type": "markdown",
   "id": "flexible-bristol",
   "metadata": {},
   "source": [
    "### Kwakkels stuff - still have to test and adept but laptop sloooow"
   ]
  },
  {
   "cell_type": "code",
   "execution_count": 92,
   "id": "expired-cutting",
   "metadata": {},
   "outputs": [],
   "source": [
    "overall_scores = {}\n",
    "regret = []\n",
    "for scenario in du_experiments.scenario.unique():\n",
    "    logical = du_experiments.scenario==scenario\n",
    "    temp_results = {k:v[logical] for k,v in du_outcomes.items()}\n",
    "    temp_results = pd.DataFrame(temp_results)\n",
    "    temp_experiments = du_experiments[du_experiments.scenario==scenario]\n",
    "    \n",
    "    best = temp_results.max()\n",
    "    best['max_P'] = temp_results[outcomekeys[0]].min()\n",
    "    scenario_regret = scenario - best\n",
    "    scenario_regret['policy'] = temp_experiments.policy.values\n",
    "    regret.append(scenario_regret.T)"
   ]
  },
  {
   "cell_type": "code",
   "execution_count": 94,
   "id": "traditional-precipitation",
   "metadata": {},
   "outputs": [],
   "source": [
    "regret = pd.DataFrame(regret)\n",
    "regret['policy'] = regret['policy'].astype(str)\n",
    "maxregret = regret.groupby('policy').max()"
   ]
  },
  {
   "cell_type": "code",
   "execution_count": 96,
   "id": "broadband-representative",
   "metadata": {},
   "outputs": [
    {
     "data": {
      "image/png": "[encoded data removed]",
      "text/plain": [
       "<Figure size 720x2160 with 5 Axes>"
      ]
     },
     "metadata": {},
     "output_type": "display_data"
    }
   ],
   "source": [
    "limits = parcoords.get_limits(maxregret)\n",
    "paraxes = parcoords.ParallelAxes(maxregret)\n",
    "paraxes.plot(maxregret)\n",
    "plt.show()"
   ]
  },
  {
   "cell_type": "markdown",
   "id": "varied-architecture",
   "metadata": {},
   "source": [
    "## Satisficing\n",
    "Performance threshold\n",
    "\"seeks a decision alternative that meets his or her performance requirements over the range of plausible future scenarios. \""
   ]
  },
  {
   "cell_type": "code",
   "execution_count": null,
   "id": "cheap-advertising",
   "metadata": {},
   "outputs": [],
   "source": [
    "thresholds = {}"
   ]
  }
 ],
 "metadata": {
  "kernelspec": {
   "display_name": "Python 3",
   "language": "python",
   "name": "python3"
  },
  "language_info": {
   "codemirror_mode": {
    "name": "ipython",
    "version": 3
   },
   "file_extension": ".py",
   "mimetype": "text/x-python",
   "name": "python",
   "nbconvert_exporter": "python",
   "pygments_lexer": "ipython3",
   "version": "3.7.9"
  }
 },
 "nbformat": 4,
 "nbformat_minor": 5
}
