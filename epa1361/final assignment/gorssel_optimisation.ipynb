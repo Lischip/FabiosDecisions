{
 "cells": [
  {
   "cell_type": "code",
   "execution_count": 1,
   "id": "systematic-webcam",
   "metadata": {},
   "outputs": [],
   "source": [
    "from ema_workbench import Scenario, Policy, MultiprocessingEvaluator, ema_logging, load_results, save_results\n",
    "from ema_workbench.analysis import prim\n",
    "from problem_formulation import get_model_for_problem_formulation\n",
    "from ema_workbench.em_framework.evaluators import BaseEvaluator\n",
    "\n",
    "from ema_workbench.em_framework.optimization import (HyperVolume,\n",
    "                                                     EpsilonProgress)\n",
    "import matplotlib.pyplot as plt\n",
    "import pandas as pd\n",
    "import numpy as np\n",
    "from ema_workbench.analysis import parcoords\n",
    "import seaborn as sns"
   ]
  },
  {
   "cell_type": "code",
   "execution_count": 2,
   "id": "banned-honor",
   "metadata": {},
   "outputs": [],
   "source": [
    "ACTORNAME = \"Gorssel\"\n",
    "dike_model, planning_steps = get_model_for_problem_formulation(ACTORNAME)\n",
    "outcomekeys = [outcome.name for outcome in dike_model.outcomes]"
   ]
  },
  {
   "cell_type": "markdown",
   "id": "spoken-mobility",
   "metadata": {},
   "source": [
    "# Scenario selection"
   ]
  },
  {
   "cell_type": "code",
   "execution_count": 3,
   "id": "adjacent-headset",
   "metadata": {},
   "outputs": [],
   "source": [
    "ACTOR = \"genscen_Gorssel_50000_12-06-2021-03-06-15.tar.gz\"\n",
    "experiments, outcomes = load_results(\"data/generated/\" + ACTOR)\n",
    "outcomes_df = pd.DataFrame(outcomes)"
   ]
  },
  {
   "cell_type": "code",
   "execution_count": 4,
   "id": "welsh-jungle",
   "metadata": {},
   "outputs": [
    {
     "data": {
      "text/plain": [
       "['Difference in Expected Annual Damage Gorssel-Deventer',\n",
       " 'Difference in Expected Number of Deaths Gorssel-Deventer',\n",
       " 'Gorssel Expected Annual Damage',\n",
       " 'Gorssel Expected Number of Deaths',\n",
       " 'Gorssel Budget Overrun',\n",
       " 'Gorssel Total Costs']"
      ]
     },
     "execution_count": 4,
     "metadata": {},
     "output_type": "execute_result"
    }
   ],
   "source": [
    "outcomes_df.columns.values.tolist()"
   ]
  },
  {
   "cell_type": "code",
   "execution_count": 5,
   "id": "differential-consolidation",
   "metadata": {},
   "outputs": [
    {
     "data": {
      "text/html": [
       "<div>\n",
       "<style scoped>\n",
       "    .dataframe tbody tr th:only-of-type {\n",
       "        vertical-align: middle;\n",
       "    }\n",
       "\n",
       "    .dataframe tbody tr th {\n",
       "        vertical-align: top;\n",
       "    }\n",
       "\n",
       "    .dataframe thead th {\n",
       "        text-align: right;\n",
       "    }\n",
       "</style>\n",
       "<table border=\"1\" class=\"dataframe\">\n",
       "  <thead>\n",
       "    <tr style=\"text-align: right;\">\n",
       "      <th></th>\n",
       "      <th>Difference in Expected Annual Damage Gorssel-Deventer</th>\n",
       "      <th>Difference in Expected Number of Deaths Gorssel-Deventer</th>\n",
       "      <th>Gorssel Expected Annual Damage</th>\n",
       "      <th>Gorssel Expected Number of Deaths</th>\n",
       "      <th>Gorssel Budget Overrun</th>\n",
       "      <th>Gorssel Total Costs</th>\n",
       "    </tr>\n",
       "  </thead>\n",
       "  <tbody>\n",
       "    <tr>\n",
       "      <th>0</th>\n",
       "      <td>-1219.596387</td>\n",
       "      <td>-9.711846e-07</td>\n",
       "      <td>9.488213e+06</td>\n",
       "      <td>0.004926</td>\n",
       "      <td>0</td>\n",
       "      <td>0.0</td>\n",
       "    </tr>\n",
       "    <tr>\n",
       "      <th>1</th>\n",
       "      <td>-393.024418</td>\n",
       "      <td>-2.241158e-07</td>\n",
       "      <td>3.958503e+07</td>\n",
       "      <td>0.022573</td>\n",
       "      <td>0</td>\n",
       "      <td>0.0</td>\n",
       "    </tr>\n",
       "    <tr>\n",
       "      <th>2</th>\n",
       "      <td>-1511.088849</td>\n",
       "      <td>-6.855404e-07</td>\n",
       "      <td>1.521954e+08</td>\n",
       "      <td>0.069047</td>\n",
       "      <td>0</td>\n",
       "      <td>0.0</td>\n",
       "    </tr>\n",
       "    <tr>\n",
       "      <th>3</th>\n",
       "      <td>-149.944611</td>\n",
       "      <td>-9.245500e-08</td>\n",
       "      <td>1.510227e+07</td>\n",
       "      <td>0.009312</td>\n",
       "      <td>0</td>\n",
       "      <td>0.0</td>\n",
       "    </tr>\n",
       "    <tr>\n",
       "      <th>4</th>\n",
       "      <td>-536.744525</td>\n",
       "      <td>-3.516669e-07</td>\n",
       "      <td>5.406037e+07</td>\n",
       "      <td>0.035420</td>\n",
       "      <td>0</td>\n",
       "      <td>0.0</td>\n",
       "    </tr>\n",
       "    <tr>\n",
       "      <th>...</th>\n",
       "      <td>...</td>\n",
       "      <td>...</td>\n",
       "      <td>...</td>\n",
       "      <td>...</td>\n",
       "      <td>...</td>\n",
       "      <td>...</td>\n",
       "    </tr>\n",
       "    <tr>\n",
       "      <th>49995</th>\n",
       "      <td>-695.221991</td>\n",
       "      <td>-3.872856e-07</td>\n",
       "      <td>7.002206e+07</td>\n",
       "      <td>0.039007</td>\n",
       "      <td>0</td>\n",
       "      <td>0.0</td>\n",
       "    </tr>\n",
       "    <tr>\n",
       "      <th>49996</th>\n",
       "      <td>-3266.659209</td>\n",
       "      <td>-2.565056e-06</td>\n",
       "      <td>7.221858e+07</td>\n",
       "      <td>0.034183</td>\n",
       "      <td>0</td>\n",
       "      <td>0.0</td>\n",
       "    </tr>\n",
       "    <tr>\n",
       "      <th>49997</th>\n",
       "      <td>-300.839149</td>\n",
       "      <td>-1.813858e-07</td>\n",
       "      <td>1.075421e+07</td>\n",
       "      <td>0.004638</td>\n",
       "      <td>0</td>\n",
       "      <td>0.0</td>\n",
       "    </tr>\n",
       "    <tr>\n",
       "      <th>49998</th>\n",
       "      <td>-6792.876649</td>\n",
       "      <td>-5.842054e-06</td>\n",
       "      <td>1.203924e+07</td>\n",
       "      <td>0.005334</td>\n",
       "      <td>0</td>\n",
       "      <td>0.0</td>\n",
       "    </tr>\n",
       "    <tr>\n",
       "      <th>49999</th>\n",
       "      <td>-1081.757564</td>\n",
       "      <td>-4.979500e-07</td>\n",
       "      <td>9.712141e+07</td>\n",
       "      <td>0.040641</td>\n",
       "      <td>0</td>\n",
       "      <td>0.0</td>\n",
       "    </tr>\n",
       "  </tbody>\n",
       "</table>\n",
       "<p>50000 rows × 6 columns</p>\n",
       "</div>"
      ],
      "text/plain": [
       "       Difference in Expected Annual Damage Gorssel-Deventer  \\\n",
       "0                                           -1219.596387       \n",
       "1                                            -393.024418       \n",
       "2                                           -1511.088849       \n",
       "3                                            -149.944611       \n",
       "4                                            -536.744525       \n",
       "...                                                  ...       \n",
       "49995                                        -695.221991       \n",
       "49996                                       -3266.659209       \n",
       "49997                                        -300.839149       \n",
       "49998                                       -6792.876649       \n",
       "49999                                       -1081.757564       \n",
       "\n",
       "       Difference in Expected Number of Deaths Gorssel-Deventer  \\\n",
       "0                                          -9.711846e-07          \n",
       "1                                          -2.241158e-07          \n",
       "2                                          -6.855404e-07          \n",
       "3                                          -9.245500e-08          \n",
       "4                                          -3.516669e-07          \n",
       "...                                                  ...          \n",
       "49995                                      -3.872856e-07          \n",
       "49996                                      -2.565056e-06          \n",
       "49997                                      -1.813858e-07          \n",
       "49998                                      -5.842054e-06          \n",
       "49999                                      -4.979500e-07          \n",
       "\n",
       "       Gorssel Expected Annual Damage  Gorssel Expected Number of Deaths  \\\n",
       "0                        9.488213e+06                           0.004926   \n",
       "1                        3.958503e+07                           0.022573   \n",
       "2                        1.521954e+08                           0.069047   \n",
       "3                        1.510227e+07                           0.009312   \n",
       "4                        5.406037e+07                           0.035420   \n",
       "...                               ...                                ...   \n",
       "49995                    7.002206e+07                           0.039007   \n",
       "49996                    7.221858e+07                           0.034183   \n",
       "49997                    1.075421e+07                           0.004638   \n",
       "49998                    1.203924e+07                           0.005334   \n",
       "49999                    9.712141e+07                           0.040641   \n",
       "\n",
       "       Gorssel Budget Overrun  Gorssel Total Costs  \n",
       "0                           0                  0.0  \n",
       "1                           0                  0.0  \n",
       "2                           0                  0.0  \n",
       "3                           0                  0.0  \n",
       "4                           0                  0.0  \n",
       "...                       ...                  ...  \n",
       "49995                       0                  0.0  \n",
       "49996                       0                  0.0  \n",
       "49997                       0                  0.0  \n",
       "49998                       0                  0.0  \n",
       "49999                       0                  0.0  \n",
       "\n",
       "[50000 rows x 6 columns]"
      ]
     },
     "execution_count": 5,
     "metadata": {},
     "output_type": "execute_result"
    }
   ],
   "source": [
    "outcomes_df"
   ]
  },
  {
   "cell_type": "code",
   "execution_count": 6,
   "id": "aware-stocks",
   "metadata": {},
   "outputs": [],
   "source": [
    "DAMAGE = outcomes_df.columns[2]\n",
    "DEATHS = outcomes_df.columns[3]\n",
    "COSTS = outcomes_df.columns[5]"
   ]
  },
  {
   "cell_type": "markdown",
   "id": "educated-substance",
   "metadata": {},
   "source": [
    "We are interested in the correlation between Deaths and Damage"
   ]
  },
  {
   "cell_type": "code",
   "execution_count": 7,
   "id": "exotic-footwear",
   "metadata": {},
   "outputs": [
    {
     "data": {
      "text/plain": [
       "0.9776021595504573"
      ]
     },
     "execution_count": 7,
     "metadata": {},
     "output_type": "execute_result"
    }
   ],
   "source": [
    "outcomes_df[DAMAGE].corr(outcomes_df[DEATHS])"
   ]
  },
  {
   "cell_type": "markdown",
   "id": "endangered-vegetation",
   "metadata": {},
   "source": [
    "So the correlation is INSANE"
   ]
  },
  {
   "cell_type": "code",
   "execution_count": 8,
   "id": "suffering-layer",
   "metadata": {},
   "outputs": [],
   "source": [
    "results = pd.concat([experiments, outcomes_df], axis=1)"
   ]
  },
  {
   "cell_type": "code",
   "execution_count": 9,
   "id": "supreme-direction",
   "metadata": {},
   "outputs": [],
   "source": [
    "worst_damage_df = results.loc[results[DAMAGE] > np.percentile(a=outcomes[DAMAGE], q=90)]\n",
    "worst_deaths_df = results.loc[results[DEATHS] > np.percentile(a=outcomes[DEATHS], q=90)]\n",
    "worst_ix =set(worst_damage_df[\"scenario\"].tolist()) & set(worst_deaths_df[\"scenario\"].tolist())"
   ]
  },
  {
   "cell_type": "code",
   "execution_count": 10,
   "id": "bacterial-composition",
   "metadata": {},
   "outputs": [],
   "source": [
    "worst_case = results.iloc[list(worst_ix)].sample(n=1, random_state=1)"
   ]
  },
  {
   "cell_type": "code",
   "execution_count": 11,
   "id": "streaming-transmission",
   "metadata": {},
   "outputs": [],
   "source": [
    "best_damage_df = results.loc[results[DAMAGE] <= np.percentile(a=outcomes[DAMAGE], q=10)]\n",
    "best_deaths_df = results.loc[results[DEATHS] <= np.percentile(a=outcomes[DEATHS], q=10)]\n",
    "best_ix = set(best_damage_df[\"scenario\"].tolist()) & set(best_deaths_df[\"scenario\"].tolist())"
   ]
  },
  {
   "cell_type": "code",
   "execution_count": 12,
   "id": "crazy-season",
   "metadata": {},
   "outputs": [],
   "source": [
    "best_case = results.iloc[list(best_ix)].sample(n=1, random_state=1)"
   ]
  },
  {
   "cell_type": "code",
   "execution_count": 13,
   "id": "grand-parcel",
   "metadata": {},
   "outputs": [],
   "source": [
    "inverse = outcomes_df.index.isin(list(worst_ix) + list(best_ix))"
   ]
  },
  {
   "cell_type": "code",
   "execution_count": 14,
   "id": "independent-boulder",
   "metadata": {},
   "outputs": [],
   "source": [
    "inverse_df =outcomes_df[~inverse]"
   ]
  },
  {
   "cell_type": "code",
   "execution_count": 15,
   "id": "higher-concern",
   "metadata": {},
   "outputs": [],
   "source": [
    "middle_damage_df = results.loc[(results[DAMAGE] > np.percentile(a=outcomes[DAMAGE], q=45)) & (results[DAMAGE] <= np.percentile(a=outcomes[DAMAGE], q=55))]\n",
    "middle_deaths_df = results.loc[(results[DEATHS] > np.percentile(a=outcomes[DEATHS], q=45)) & (results[DEATHS] <= np.percentile(a=outcomes[DEATHS], q=55))]\n",
    "middle_ix =set(middle_damage_df[\"scenario\"].tolist()) & set(middle_deaths_df[\"scenario\"].tolist())"
   ]
  },
  {
   "cell_type": "code",
   "execution_count": 16,
   "id": "parental-primary",
   "metadata": {},
   "outputs": [],
   "source": [
    "middle_case = results.iloc[list(middle_ix)].sample(n=1, random_state=1)"
   ]
  },
  {
   "cell_type": "code",
   "execution_count": 17,
   "id": "available-decrease",
   "metadata": {},
   "outputs": [],
   "source": [
    "low_damage_df = results.loc[(results[DAMAGE] > np.percentile(a=outcomes[DAMAGE], q=10)) & (results[DAMAGE] <= np.percentile(a=outcomes[DAMAGE], q=45))]\n",
    "low_deaths_df = results.loc[(results[DEATHS] > np.percentile(a=outcomes[DEATHS], q=10)) & (results[DEATHS] <= np.percentile(a=outcomes[DEATHS], q=45))]\n",
    "low_ix =set(low_damage_df[\"scenario\"].tolist()) & set(low_deaths_df[\"scenario\"].tolist())"
   ]
  },
  {
   "cell_type": "code",
   "execution_count": 18,
   "id": "stopped-money",
   "metadata": {},
   "outputs": [],
   "source": [
    "high_damage_df = results.loc[(results[DAMAGE] > np.percentile(a=outcomes[DAMAGE], q=55)) & (results[DAMAGE] <= np.percentile(a=outcomes[DAMAGE], q=90))]\n",
    "high_deaths_df = results.loc[(results[DEATHS] > np.percentile(a=outcomes[DEATHS], q=55)) & (results[DEATHS] <= np.percentile(a=outcomes[DEATHS], q=90))]\n",
    "high_ix =set(high_damage_df[\"scenario\"].tolist()) & set(high_deaths_df[\"scenario\"].tolist())"
   ]
  },
  {
   "cell_type": "code",
   "execution_count": 20,
   "id": "driven-plenty",
   "metadata": {},
   "outputs": [],
   "source": [
    "low_case = results.iloc[list(low_ix)].sample(n=1, random_state=1)\n",
    "high_case = results.iloc[list(high_ix)].sample(n=1, random_state=1)"
   ]
  },
  {
   "cell_type": "code",
   "execution_count": 21,
   "id": "caring-danish",
   "metadata": {},
   "outputs": [],
   "source": [
    "uncertainties =list(dike_model.uncertainties._data.keys())"
   ]
  },
  {
   "cell_type": "code",
   "execution_count": 23,
   "id": "floppy-salem",
   "metadata": {},
   "outputs": [],
   "source": [
    "selected = pd.concat([best_case.loc[:, uncertainties], low_case.loc[:, uncertainties], middle_case.loc[:, uncertainties], high_case.loc[:, uncertainties], worst_case.loc[:, uncertainties]], axis=0)"
   ]
  },
  {
   "cell_type": "code",
   "execution_count": 24,
   "id": "consistent-blanket",
   "metadata": {},
   "outputs": [],
   "source": [
    "cases = {0: \"best\", 1: \"low\", 2: \"middle\", 3: \"high\", 4: \"worst\"}"
   ]
  },
  {
   "cell_type": "code",
   "execution_count": 25,
   "id": "proper-travel",
   "metadata": {},
   "outputs": [],
   "source": [
    "scenarios = [Scenario(f\"{index}\", **row) for index, row in selected.iterrows()]"
   ]
  },
  {
   "cell_type": "markdown",
   "id": "surgical-berlin",
   "metadata": {},
   "source": [
    "# Optimisation"
   ]
  },
  {
   "cell_type": "code",
   "execution_count": 18,
   "id": "marine-bosnia",
   "metadata": {},
   "outputs": [],
   "source": [
    "hypervolumemin = [0,0,0]\n",
    "hypervolumemax = outcomes_df[outcomekeys[2:]].max(axis=0).values.tolist()"
   ]
  },
  {
   "cell_type": "code",
   "execution_count": 19,
   "id": "future-cable",
   "metadata": {},
   "outputs": [],
   "source": [
    "hypervolumemax[2] = 1.15e9"
   ]
  },
  {
   "cell_type": "code",
   "execution_count": null,
   "id": "latter-yukon",
   "metadata": {},
   "outputs": [
    {
     "name": "stderr",
     "output_type": "stream",
     "text": [
      "[MainProcess/INFO] pool started\n",
      "[MainProcess/INFO] generation 0: 0/4000 nfe\n",
      "[MainProcess/INFO] generation 5: 497/4000 nfe\n",
      "[MainProcess/INFO] generation 10: 996/4000 nfe\n",
      "[MainProcess/INFO] generation 15: 1492/4000 nfe\n",
      "[MainProcess/INFO] generation 20: 1992/4000 nfe\n",
      "[MainProcess/INFO] generation 25: 2491/4000 nfe\n",
      "[MainProcess/INFO] generation 30: 2990/4000 nfe\n",
      "[MainProcess/INFO] generation 35: 3487/4000 nfe\n",
      "[MainProcess/INFO] generation 40: 3983/4000 nfe\n",
      "[MainProcess/INFO] optimization completed, found 1 solutions\n",
      "[MainProcess/INFO] terminating pool\n",
      "[MainProcess/INFO] pool started\n",
      "[MainProcess/INFO] generation 0: 0/4000 nfe\n",
      "[MainProcess/INFO] generation 5: 497/4000 nfe\n",
      "[MainProcess/INFO] generation 10: 996/4000 nfe\n",
      "[MainProcess/INFO] generation 15: 1494/4000 nfe\n",
      "[MainProcess/INFO] generation 20: 1987/4000 nfe\n",
      "[MainProcess/INFO] generation 25: 2486/4000 nfe\n",
      "[MainProcess/INFO] generation 30: 2983/4000 nfe\n",
      "[MainProcess/INFO] generation 35: 3480/4000 nfe\n",
      "[MainProcess/INFO] generation 40: 3979/4000 nfe\n",
      "[MainProcess/INFO] optimization completed, found 1 solutions\n",
      "[MainProcess/INFO] terminating pool\n",
      "[MainProcess/INFO] pool started\n",
      "[MainProcess/INFO] generation 0: 0/4000 nfe\n",
      "[MainProcess/INFO] generation 5: 498/4000 nfe\n",
      "[MainProcess/INFO] generation 10: 994/4000 nfe\n",
      "[MainProcess/INFO] generation 15: 1492/4000 nfe\n",
      "[MainProcess/INFO] generation 20: 1992/4000 nfe\n",
      "[MainProcess/INFO] generation 25: 2490/4000 nfe\n",
      "[MainProcess/INFO] generation 30: 2986/4000 nfe\n",
      "[MainProcess/INFO] generation 35: 3483/4000 nfe\n"
     ]
    }
   ],
   "source": [
    "ema_logging.log_to_stderr(ema_logging.INFO)\n",
    "\n",
    "nfe = 3000 + 1000\n",
    "\n",
    "def optimize(scenario, nfe, model, converge_metrics, epsilons):\n",
    "\n",
    "\n",
    "    with MultiprocessingEvaluator(model) as evaluator:\n",
    "        results, convergence = evaluator.optimize(nfe=nfe, searchover='levers',\n",
    "                                     convergence=convergence_metrics,\n",
    "                                     epsilons=epsilons,\n",
    "                                     reference=scenario, convergence_freq=200)\n",
    "    return results, convergence\n",
    "\n",
    "\n",
    "results = []\n",
    "for scenario in scenarios:\n",
    "    convergence_metrics = [HyperVolume(minimum=hypervolumemin, maximum=hypervolumemax),\n",
    "                           EpsilonProgress()]\n",
    "    epsilons = [1e3] * len(outcomekeys[2:])\n",
    "    \n",
    "    \n",
    "    \n",
    "    results.append(optimize(scenario, nfe, dike_model, convergence_metrics, epsilons))\n"
   ]
  },
  {
   "cell_type": "code",
   "execution_count": null,
   "id": "instructional-assumption",
   "metadata": {
    "scrolled": true
   },
   "outputs": [],
   "source": [
    "fig, (ax1, ax2) = plt.subplots(ncols=2,sharex=True)\n",
    "for i, (_, convergence) in enumerate(results):\n",
    "    ax1.plot(convergence.nfe, convergence.hypervolume, label=f'scenario {i}')\n",
    "    ax2.plot(convergence.nfe, convergence.epsilon_progress, label=f'scenario {i}')\n",
    "\n",
    "ax1.set_ylabel('hypervolume')\n",
    "ax1.set_xlabel('nfe')\n",
    "ax2.set_ylabel('$\\epsilon$ progress')\n",
    "ax2.set_xlabel('nfe')\n",
    "fig.legend()\n",
    "plt.show()"
   ]
  },
  {
   "cell_type": "markdown",
   "id": "italic-boulder",
   "metadata": {},
   "source": [
    "# Saving"
   ]
  },
  {
   "cell_type": "code",
   "execution_count": 20,
   "id": "intense-equivalent",
   "metadata": {},
   "outputs": [],
   "source": [
    "for i, (result, convergence) in enumerate(results):\n",
    "    result.to_csv(\"data/optimisation/\" + ACTORNAME + \"/results_\" + cases[i] +\".csv\", index=False)\n",
    "    convergence.to_csv(\"data/optimisation/\" + ACTORNAME + \"/convergence_\" + cases[i] +\".csv\", index=False)"
   ]
  },
  {
   "cell_type": "code",
   "execution_count": 21,
   "id": "agreed-formula",
   "metadata": {},
   "outputs": [],
   "source": [
    "selected.to_csv(\"data/optimisation/\" + ACTORNAME + \"/selected.csv\", index=False)"
   ]
  },
  {
   "cell_type": "markdown",
   "id": "tender-crystal",
   "metadata": {},
   "source": [
    "# Re-evaluate under deep uncertainty"
   ]
  },
  {
   "cell_type": "code",
   "execution_count": 28,
   "id": "turkish-ethnic",
   "metadata": {},
   "outputs": [],
   "source": [
    "n_scenarios = 10000"
   ]
  },
  {
   "cell_type": "code",
   "execution_count": 39,
   "id": "comic-booth",
   "metadata": {},
   "outputs": [],
   "source": [
    "levers = [lever.name for lever in dike_model.levers]"
   ]
  },
  {
   "cell_type": "code",
   "execution_count": 40,
   "id": "prostate-prescription",
   "metadata": {},
   "outputs": [],
   "source": [
    "policies = []\n",
    "for i, (result, _) in enumerate(results):\n",
    "    result = result.loc[:, levers]\n",
    "    for j, row in result.iterrows():\n",
    "        policy = Policy(f'scenario {cases[i]} option {j}', **row.to_dict())\n",
    "        policies.append(policy)"
   ]
  },
  {
   "cell_type": "code",
   "execution_count": 41,
   "id": "simple-denmark",
   "metadata": {},
   "outputs": [
    {
     "name": "stderr",
     "output_type": "stream",
     "text": [
      "[MainProcess/INFO] pool started\n",
      "[MainProcess/INFO] performing 1000 scenarios * 16 policies * 1 model(s) = 16000 experiments\n",
      "[MainProcess/INFO] 1600 cases completed\n",
      "[MainProcess/INFO] 3200 cases completed\n",
      "[MainProcess/INFO] 4800 cases completed\n",
      "[MainProcess/INFO] 6400 cases completed\n",
      "[MainProcess/INFO] 8000 cases completed\n",
      "[MainProcess/INFO] 9600 cases completed\n",
      "[MainProcess/INFO] 11200 cases completed\n",
      "[MainProcess/INFO] 12800 cases completed\n",
      "[MainProcess/INFO] 14400 cases completed\n",
      "[MainProcess/INFO] 16000 cases completed\n",
      "[MainProcess/INFO] experiments finished\n",
      "[MainProcess/INFO] terminating pool\n"
     ]
    }
   ],
   "source": [
    "with MultiprocessingEvaluator(dike_model) as evaluator:\n",
    "    reevaluation_results = evaluator.perform_experiments(n_scenarios, policies=policies)"
   ]
  },
  {
   "cell_type": "markdown",
   "id": "junior-phase",
   "metadata": {},
   "source": [
    "# Saving"
   ]
  },
  {
   "cell_type": "code",
   "execution_count": null,
   "id": "appointed-establishment",
   "metadata": {},
   "outputs": [],
   "source": [
    "save_results(reevaluation_results, \"data/optimisation/du_scen_\" + n_scenarios + \"_\" + ACTORNAME + \".tar.gz\")"
   ]
  }
 ],
 "metadata": {
  "kernelspec": {
   "display_name": "Python 3",
   "language": "python",
   "name": "python3"
  },
  "language_info": {
   "codemirror_mode": {
    "name": "ipython",
    "version": 3
   },
   "file_extension": ".py",
   "mimetype": "text/x-python",
   "name": "python",
   "nbconvert_exporter": "python",
   "pygments_lexer": "ipython3",
   "version": "3.7.9"
  }
 },
 "nbformat": 4,
 "nbformat_minor": 5
}
