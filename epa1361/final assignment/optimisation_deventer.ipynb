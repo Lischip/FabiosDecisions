{
 "cells": [
  {
   "cell_type": "code",
   "execution_count": 1,
   "id": "cosmetic-intranet",
   "metadata": {},
   "outputs": [],
   "source": [
    "from ema_workbench import Scenario, Policy, MultiprocessingEvaluator, ema_logging, load_results, save_results\n",
    "from ema_workbench.analysis import prim\n",
    "from problem_formulation import get_model_for_problem_formulation\n",
    "from ema_workbench.em_framework.evaluators import BaseEvaluator\n",
    "\n",
    "from ema_workbench.em_framework.optimization import (HyperVolume,\n",
    "                                                     EpsilonProgress)\n",
    "import matplotlib.pyplot as plt\n",
    "import pandas as pd\n",
    "import numpy as np\n",
    "from ema_workbench.analysis import parcoords\n",
    "import seaborn as sns\n",
    "import random\n",
    "from sklearn import preprocessing"
   ]
  },
  {
   "cell_type": "code",
   "execution_count": 2,
   "id": "spare-fantasy",
   "metadata": {},
   "outputs": [],
   "source": [
    "ACTORNAME = \"Deventer\"\n",
    "dike_model, planning_steps = get_model_for_problem_formulation(ACTORNAME)\n",
    "outcomekeys = [outcome.name for outcome in dike_model.outcomes]"
   ]
  },
  {
   "cell_type": "markdown",
   "id": "statutory-matter",
   "metadata": {},
   "source": [
    "# Scenario selection"
   ]
  },
  {
   "cell_type": "code",
   "execution_count": 3,
   "id": "usual-section",
   "metadata": {},
   "outputs": [],
   "source": [
    "ACTOR = \"genscen_Deventer_50000_12-06-2021-02-25-33.tar.gz\"\n",
    "experiments, outcomes = load_results(\"simulation/generated/\" + ACTOR)\n",
    "outcomes_df = pd.DataFrame(outcomes)"
   ]
  },
  {
   "cell_type": "code",
   "execution_count": 4,
   "id": "rapid-possibility",
   "metadata": {},
   "outputs": [
    {
     "data": {
      "text/plain": [
       "['Deventer Expected Annual Damage',\n",
       " 'Deventer Expected Number of Deaths',\n",
       " 'Deventer Total Costs']"
      ]
     },
     "execution_count": 4,
     "metadata": {},
     "output_type": "execute_result"
    }
   ],
   "source": [
    "outcomes_df.columns.values.tolist()"
   ]
  },
  {
   "cell_type": "code",
   "execution_count": 5,
   "id": "unlikely-gauge",
   "metadata": {},
   "outputs": [],
   "source": [
    "DAMAGE = outcomes_df.columns[0]\n",
    "DEATHS = outcomes_df.columns[1]\n",
    "COSTS = outcomes_df.columns[2]"
   ]
  },
  {
   "cell_type": "markdown",
   "id": "suited-apache",
   "metadata": {},
   "source": [
    "We are interested in the correlation between Deaths and Damage"
   ]
  },
  {
   "cell_type": "code",
   "execution_count": 6,
   "id": "sonic-variety",
   "metadata": {},
   "outputs": [
    {
     "data": {
      "text/plain": [
       "0.9838756259821946"
      ]
     },
     "execution_count": 6,
     "metadata": {},
     "output_type": "execute_result"
    }
   ],
   "source": [
    "outcomes_df[DAMAGE].corr(outcomes_df[DEATHS])"
   ]
  },
  {
   "cell_type": "markdown",
   "id": "universal-tension",
   "metadata": {},
   "source": [
    "So the correlation is INSANE"
   ]
  },
  {
   "cell_type": "code",
   "execution_count": 7,
   "id": "civil-commander",
   "metadata": {},
   "outputs": [],
   "source": [
    "results = pd.concat([experiments, outcomes_df], axis=1)"
   ]
  },
  {
   "cell_type": "code",
   "execution_count": 8,
   "id": "dutch-binding",
   "metadata": {},
   "outputs": [],
   "source": [
    "uncertainties =list(dike_model.uncertainties._data.keys())"
   ]
  },
  {
   "cell_type": "code",
   "execution_count": 9,
   "id": "behind-forge",
   "metadata": {},
   "outputs": [
    {
     "name": "stdout",
     "output_type": "stream",
     "text": [
      "Deventer Expected Annual Damage       18398\n",
      "Deventer Expected Number of Deaths    16362\n",
      "Deventer Total Costs                      0\n",
      "dtype: int64\n",
      "Deventer Expected Annual Damage       0\n",
      "Deventer Expected Number of Deaths    0\n",
      "Deventer Total Costs                  0\n",
      "dtype: int64\n"
     ]
    }
   ],
   "source": [
    "print(outcomes_df.idxmax())\n",
    "print(outcomes_df.idxmin())"
   ]
  },
  {
   "cell_type": "code",
   "execution_count": 10,
   "id": "western-trainer",
   "metadata": {},
   "outputs": [],
   "source": [
    "middle_damage_df = results.loc[(results[DAMAGE] > np.percentile(a=outcomes[DAMAGE], q=15)) & (results[DAMAGE] <= np.percentile(a=outcomes[DAMAGE], q=35))]\n",
    "middle_deaths_df = results.loc[(results[DEATHS] > np.percentile(a=outcomes[DEATHS], q=15)) & (results[DEATHS] <= np.percentile(a=outcomes[DEATHS], q=35))]\n",
    "twentyfive = random.choice(list(set(middle_damage_df[\"scenario\"].tolist()) & set(middle_deaths_df[\"scenario\"].tolist())))"
   ]
  },
  {
   "cell_type": "markdown",
   "id": "unable-album",
   "metadata": {},
   "source": [
    "Apparently, at the lower end of the spectrum ($20>n\\leq 30$), there is not a large overlap in deaths and damages"
   ]
  },
  {
   "cell_type": "code",
   "execution_count": 11,
   "id": "european-carpet",
   "metadata": {},
   "outputs": [],
   "source": [
    "middle_damage_df = results.loc[(results[DAMAGE] > np.percentile(a=outcomes[DAMAGE], q=48)) & (results[DAMAGE] <= np.percentile(a=outcomes[DAMAGE], q=52))]\n",
    "middle_deaths_df = results.loc[(results[DEATHS] > np.percentile(a=outcomes[DEATHS], q=48)) & (results[DEATHS] <= np.percentile(a=outcomes[DEATHS], q=52))]\n",
    "fifty = random.choice(list(set(middle_damage_df[\"scenario\"].tolist()) & set(middle_deaths_df[\"scenario\"].tolist())))"
   ]
  },
  {
   "cell_type": "code",
   "execution_count": 12,
   "id": "outer-mambo",
   "metadata": {},
   "outputs": [],
   "source": [
    "middle_damage_df = results.loc[(results[DAMAGE] > np.percentile(a=outcomes[DAMAGE], q=73)) & (results[DAMAGE] <= np.percentile(a=outcomes[DAMAGE], q=77))]\n",
    "middle_deaths_df = results.loc[(results[DEATHS] > np.percentile(a=outcomes[DEATHS], q=73)) & (results[DEATHS] <= np.percentile(a=outcomes[DEATHS], q=77))]\n",
    "seventyfive = random.choice(list(set(middle_damage_df[\"scenario\"].tolist()) & set(middle_deaths_df[\"scenario\"].tolist())))"
   ]
  },
  {
   "cell_type": "code",
   "execution_count": 13,
   "id": "comic-front",
   "metadata": {},
   "outputs": [
    {
     "data": {
      "text/html": [
       "<div>\n",
       "<style scoped>\n",
       "    .dataframe tbody tr th:only-of-type {\n",
       "        vertical-align: middle;\n",
       "    }\n",
       "\n",
       "    .dataframe tbody tr th {\n",
       "        vertical-align: top;\n",
       "    }\n",
       "\n",
       "    .dataframe thead th {\n",
       "        text-align: right;\n",
       "    }\n",
       "</style>\n",
       "<table border=\"1\" class=\"dataframe\">\n",
       "  <thead>\n",
       "    <tr style=\"text-align: right;\">\n",
       "      <th></th>\n",
       "      <th>Deventer Expected Annual Damage</th>\n",
       "      <th>Deventer Expected Number of Deaths</th>\n",
       "      <th>Deventer Total Costs</th>\n",
       "    </tr>\n",
       "  </thead>\n",
       "  <tbody>\n",
       "    <tr>\n",
       "      <th>18398</th>\n",
       "      <td>1.640767e+09</td>\n",
       "      <td>1.056804</td>\n",
       "      <td>0.0</td>\n",
       "    </tr>\n",
       "  </tbody>\n",
       "</table>\n",
       "</div>"
      ],
      "text/plain": [
       "       Deventer Expected Annual Damage  Deventer Expected Number of Deaths  \\\n",
       "18398                     1.640767e+09                            1.056804   \n",
       "\n",
       "       Deventer Total Costs  \n",
       "18398                   0.0  "
      ]
     },
     "execution_count": 13,
     "metadata": {},
     "output_type": "execute_result"
    }
   ],
   "source": [
    "outcomes_df.loc[outcomes_df[DAMAGE] == outcomes_df.max()[0]]"
   ]
  },
  {
   "cell_type": "code",
   "execution_count": 14,
   "id": "mounted-pearl",
   "metadata": {},
   "outputs": [],
   "source": [
    "min_max_scaler = preprocessing.MinMaxScaler()\n",
    "damage_scaled = min_max_scaler.fit_transform(pd.DataFrame(outcomes[DAMAGE]).values)\n",
    "deaths_scaled = min_max_scaler.fit_transform(pd.DataFrame(outcomes[DEATHS]).values)\n",
    "scaled = (damage_scaled + deaths_scaled)/2"
   ]
  },
  {
   "cell_type": "code",
   "execution_count": 15,
   "id": "electric-manitoba",
   "metadata": {},
   "outputs": [],
   "source": [
    "outcomes_df[\"Scaled\"] = scaled\n",
    "SCALED = 'Scaled'"
   ]
  },
  {
   "cell_type": "code",
   "execution_count": 16,
   "id": "negative-steal",
   "metadata": {},
   "outputs": [
    {
     "data": {
      "text/plain": [
       "16362"
      ]
     },
     "execution_count": 16,
     "metadata": {},
     "output_type": "execute_result"
    }
   ],
   "source": [
    "outcomes_df.sort_values(by=\"Scaled\", ascending=False).head(1).index[0]"
   ]
  },
  {
   "cell_type": "markdown",
   "id": "round-coach",
   "metadata": {},
   "source": [
    "Observation: The absolute worst scenario is the same as the scenario in which most people die. This is the opposite of Gorssel!\n",
    "\n",
    "explanation: This is probably because Deventer is more populated"
   ]
  },
  {
   "cell_type": "code",
   "execution_count": 17,
   "id": "higher-citation",
   "metadata": {},
   "outputs": [],
   "source": [
    "idx = [outcomes_df.idxmin()[DAMAGE], twentyfive, fifty, seventyfive, outcomes_df.idxmax()[DEATHS], outcomes_df.idxmax()[DAMAGE]]"
   ]
  },
  {
   "cell_type": "code",
   "execution_count": 18,
   "id": "curious-engine",
   "metadata": {},
   "outputs": [
    {
     "data": {
      "text/plain": [
       "[0, 13764, 32273, 27089, 16362, 18398]"
      ]
     },
     "execution_count": 18,
     "metadata": {},
     "output_type": "execute_result"
    }
   ],
   "source": [
    "idx"
   ]
  },
  {
   "cell_type": "code",
   "execution_count": 19,
   "id": "chemical-enemy",
   "metadata": {},
   "outputs": [],
   "source": [
    "cases = {0: \"best\", 1: \"low\", 2: \"middle\", 3: \"high\", 4: \"absolute worst\", 5: \"worst damage\"}"
   ]
  },
  {
   "cell_type": "code",
   "execution_count": 20,
   "id": "returning-headline",
   "metadata": {},
   "outputs": [],
   "source": [
    "selected = results.iloc[idx]"
   ]
  },
  {
   "cell_type": "code",
   "execution_count": 21,
   "id": "annual-investigator",
   "metadata": {},
   "outputs": [],
   "source": [
    "selected = selected.loc[:,  uncertainties]"
   ]
  },
  {
   "cell_type": "code",
   "execution_count": 22,
   "id": "convenient-basis",
   "metadata": {},
   "outputs": [],
   "source": [
    "scenarios = [Scenario(f\"{index}\", **row) for index, row in selected.iterrows()]"
   ]
  },
  {
   "cell_type": "code",
   "execution_count": 23,
   "id": "offensive-shakespeare",
   "metadata": {},
   "outputs": [
    {
     "data": {
      "text/html": [
       "<div>\n",
       "<style scoped>\n",
       "    .dataframe tbody tr th:only-of-type {\n",
       "        vertical-align: middle;\n",
       "    }\n",
       "\n",
       "    .dataframe tbody tr th {\n",
       "        vertical-align: top;\n",
       "    }\n",
       "\n",
       "    .dataframe thead th {\n",
       "        text-align: right;\n",
       "    }\n",
       "</style>\n",
       "<table border=\"1\" class=\"dataframe\">\n",
       "  <thead>\n",
       "    <tr style=\"text-align: right;\">\n",
       "      <th></th>\n",
       "      <th>Deventer Expected Annual Damage</th>\n",
       "      <th>Deventer Expected Number of Deaths</th>\n",
       "      <th>Deventer Total Costs</th>\n",
       "      <th>Scaled</th>\n",
       "    </tr>\n",
       "  </thead>\n",
       "  <tbody>\n",
       "    <tr>\n",
       "      <th>count</th>\n",
       "      <td>5.000000e+04</td>\n",
       "      <td>50000.000000</td>\n",
       "      <td>50000.0</td>\n",
       "      <td>50000.000000</td>\n",
       "    </tr>\n",
       "    <tr>\n",
       "      <th>mean</th>\n",
       "      <td>1.811865e+08</td>\n",
       "      <td>0.165814</td>\n",
       "      <td>0.0</td>\n",
       "      <td>0.130268</td>\n",
       "    </tr>\n",
       "    <tr>\n",
       "      <th>std</th>\n",
       "      <td>2.724127e+08</td>\n",
       "      <td>0.241198</td>\n",
       "      <td>0.0</td>\n",
       "      <td>0.191427</td>\n",
       "    </tr>\n",
       "    <tr>\n",
       "      <th>min</th>\n",
       "      <td>0.000000e+00</td>\n",
       "      <td>0.000000</td>\n",
       "      <td>0.0</td>\n",
       "      <td>0.000000</td>\n",
       "    </tr>\n",
       "    <tr>\n",
       "      <th>25%</th>\n",
       "      <td>0.000000e+00</td>\n",
       "      <td>0.000000</td>\n",
       "      <td>0.0</td>\n",
       "      <td>0.000000</td>\n",
       "    </tr>\n",
       "    <tr>\n",
       "      <th>50%</th>\n",
       "      <td>5.698603e+07</td>\n",
       "      <td>0.055319</td>\n",
       "      <td>0.0</td>\n",
       "      <td>0.042527</td>\n",
       "    </tr>\n",
       "    <tr>\n",
       "      <th>75%</th>\n",
       "      <td>2.341050e+08</td>\n",
       "      <td>0.218497</td>\n",
       "      <td>0.0</td>\n",
       "      <td>0.169648</td>\n",
       "    </tr>\n",
       "    <tr>\n",
       "      <th>max</th>\n",
       "      <td>1.640767e+09</td>\n",
       "      <td>1.104637</td>\n",
       "      <td>0.0</td>\n",
       "      <td>0.980246</td>\n",
       "    </tr>\n",
       "  </tbody>\n",
       "</table>\n",
       "</div>"
      ],
      "text/plain": [
       "       Deventer Expected Annual Damage  Deventer Expected Number of Deaths  \\\n",
       "count                     5.000000e+04                        50000.000000   \n",
       "mean                      1.811865e+08                            0.165814   \n",
       "std                       2.724127e+08                            0.241198   \n",
       "min                       0.000000e+00                            0.000000   \n",
       "25%                       0.000000e+00                            0.000000   \n",
       "50%                       5.698603e+07                            0.055319   \n",
       "75%                       2.341050e+08                            0.218497   \n",
       "max                       1.640767e+09                            1.104637   \n",
       "\n",
       "       Deventer Total Costs        Scaled  \n",
       "count               50000.0  50000.000000  \n",
       "mean                    0.0      0.130268  \n",
       "std                     0.0      0.191427  \n",
       "min                     0.0      0.000000  \n",
       "25%                     0.0      0.000000  \n",
       "50%                     0.0      0.042527  \n",
       "75%                     0.0      0.169648  \n",
       "max                     0.0      0.980246  "
      ]
     },
     "execution_count": 23,
     "metadata": {},
     "output_type": "execute_result"
    }
   ],
   "source": [
    "outcomes_df.describe()"
   ]
  },
  {
   "cell_type": "markdown",
   "id": "vulnerable-sculpture",
   "metadata": {},
   "source": [
    "# Optimisation"
   ]
  },
  {
   "cell_type": "code",
   "execution_count": 24,
   "id": "necessary-afghanistan",
   "metadata": {},
   "outputs": [],
   "source": [
    "hypervolumemin = [0,0,0]\n",
    "hypervolumemax = outcomes_df[outcomekeys].max(axis=0).values.tolist()"
   ]
  },
  {
   "cell_type": "code",
   "execution_count": 25,
   "id": "declared-dispatch",
   "metadata": {},
   "outputs": [],
   "source": [
    "hypervolumemax[2] = 1.15e9"
   ]
  },
  {
   "cell_type": "code",
   "execution_count": 26,
   "id": "leading-austria",
   "metadata": {},
   "outputs": [
    {
     "name": "stderr",
     "output_type": "stream",
     "text": [
      "[MainProcess/INFO] pool started\n",
      "[MainProcess/INFO] generation 0: 0/2000 nfe\n",
      "[MainProcess/INFO] generation 5: 494/2000 nfe\n",
      "[MainProcess/INFO] generation 10: 987/2000 nfe\n",
      "[MainProcess/INFO] generation 15: 1468/2000 nfe\n",
      "[MainProcess/INFO] generation 20: 1945/2000 nfe\n",
      "[MainProcess/INFO] optimization completed, found 1 solutions\n",
      "[MainProcess/INFO] terminating pool\n",
      "[MainProcess/INFO] pool started\n",
      "[MainProcess/INFO] generation 0: 0/2000 nfe\n",
      "[MainProcess/INFO] generation 5: 496/2000 nfe\n",
      "[MainProcess/INFO] generation 10: 988/2000 nfe\n",
      "[MainProcess/INFO] generation 15: 1484/2000 nfe\n",
      "[MainProcess/INFO] generation 20: 1981/2000 nfe\n",
      "[MainProcess/INFO] optimization completed, found 1 solutions\n",
      "[MainProcess/INFO] terminating pool\n",
      "[MainProcess/INFO] pool started\n",
      "[MainProcess/INFO] generation 0: 0/2000 nfe\n",
      "[MainProcess/INFO] generation 5: 494/2000 nfe\n",
      "[MainProcess/INFO] generation 10: 984/2000 nfe\n",
      "[MainProcess/INFO] generation 15: 1476/2000 nfe\n",
      "[MainProcess/INFO] generation 20: 1964/2000 nfe\n",
      "[MainProcess/INFO] optimization completed, found 1 solutions\n",
      "[MainProcess/INFO] terminating pool\n",
      "[MainProcess/INFO] pool started\n",
      "[MainProcess/INFO] generation 0: 0/2000 nfe\n",
      "[MainProcess/INFO] generation 5: 499/2000 nfe\n",
      "[MainProcess/INFO] generation 10: 991/2000 nfe\n",
      "[MainProcess/INFO] generation 15: 1483/2000 nfe\n",
      "[MainProcess/INFO] generation 20: 1975/2000 nfe\n",
      "[MainProcess/INFO] optimization completed, found 2 solutions\n",
      "[MainProcess/INFO] terminating pool\n",
      "[MainProcess/INFO] pool started\n",
      "[MainProcess/INFO] generation 0: 0/2000 nfe\n",
      "[MainProcess/INFO] generation 5: 499/2000 nfe\n",
      "[MainProcess/INFO] generation 10: 992/2000 nfe\n",
      "[MainProcess/INFO] generation 15: 1485/2000 nfe\n",
      "[MainProcess/INFO] generation 20: 1977/2000 nfe\n",
      "[MainProcess/INFO] optimization completed, found 4 solutions\n",
      "[MainProcess/INFO] terminating pool\n",
      "[MainProcess/INFO] pool started\n",
      "[MainProcess/INFO] generation 0: 0/2000 nfe\n",
      "[MainProcess/INFO] generation 5: 497/2000 nfe\n",
      "[MainProcess/INFO] generation 10: 991/2000 nfe\n",
      "[MainProcess/INFO] generation 15: 1471/2000 nfe\n",
      "[MainProcess/INFO] generation 20: 1936/2000 nfe\n",
      "[MainProcess/INFO] optimization completed, found 4 solutions\n",
      "[MainProcess/INFO] terminating pool\n"
     ]
    }
   ],
   "source": [
    "ema_logging.log_to_stderr(ema_logging.INFO)\n",
    "\n",
    "nfe = 1000 + 1000\n",
    "\n",
    "def optimize(scenario, nfe, model, converge_metrics, epsilons):\n",
    "\n",
    "\n",
    "    with MultiprocessingEvaluator(model) as evaluator:\n",
    "        results, convergence = evaluator.optimize(nfe=nfe, searchover='levers',\n",
    "                                     convergence=convergence_metrics,\n",
    "                                     epsilons=epsilons,\n",
    "                                     reference=scenario, convergence_freq=200)\n",
    "    return results, convergence\n",
    "\n",
    "results = []\n",
    "for scenario in scenarios:\n",
    "    convergence_metrics = [HyperVolume(minimum=hypervolumemin, maximum=hypervolumemax),\n",
    "                           EpsilonProgress()]\n",
    "    epsilons = [1e4, 0.01, 1e3]\n",
    "    \n",
    "    \n",
    "    \n",
    "    results.append(optimize(scenario, nfe, dike_model, convergence_metrics, epsilons))\n"
   ]
  },
  {
   "cell_type": "code",
   "execution_count": 27,
   "id": "northern-duncan",
   "metadata": {
    "scrolled": true
   },
   "outputs": [
    {
     "data": {
      "image/png": "[encoded data removed]",
      "text/plain": [
       "<Figure size 432x288 with 2 Axes>"
      ]
     },
     "metadata": {
      "needs_background": "light"
     },
     "output_type": "display_data"
    }
   ],
   "source": [
    "fig, (ax1, ax2) = plt.subplots(ncols=2,sharex=True)\n",
    "for i, (_, convergence) in enumerate(results):\n",
    "    ax1.plot(convergence.nfe, convergence.hypervolume, label=f'scenario {i}')\n",
    "    ax2.plot(convergence.nfe, convergence.epsilon_progress, label=f'scenario {i}')\n",
    "\n",
    "ax1.set_ylabel('hypervolume')\n",
    "ax1.set_xlabel('nfe')\n",
    "ax2.set_ylabel('$\\epsilon$ progress')\n",
    "ax2.set_xlabel('nfe')\n",
    "fig.legend()\n",
    "plt.show()"
   ]
  },
  {
   "cell_type": "markdown",
   "id": "alternate-simpson",
   "metadata": {},
   "source": [
    "We have tried the optimisation above with multiple values for nfe, epsilon and hypervolume. Because Deventer only has limited levers available, and only their own RfR project increases their costs, the pareto front is relatively small, and there are very little policy suggestions. We found that changing the epsilon value for costs has the most impact on the amount of policy results (logically).\n",
    "\n",
    "The NFE is small, as there are very little levers, and only the RFR affects the costs, therefore it converges rather quickly."
   ]
  },
  {
   "cell_type": "markdown",
   "id": "searching-installation",
   "metadata": {},
   "source": [
    "The nfe value for scenario 5 seems to small as the scenario is not converging yet. To make this possible, only scen 5 can be reiterated over, with higher nfe values untill it converges."
   ]
  },
  {
   "cell_type": "code",
   "execution_count": null,
   "id": "revised-latitude",
   "metadata": {},
   "outputs": [],
   "source": [
    "temp_results = results\n",
    "temp_results.pop(5)"
   ]
  },
  {
   "cell_type": "code",
   "execution_count": 79,
   "id": "answering-dependence",
   "metadata": {},
   "outputs": [
    {
     "name": "stderr",
     "output_type": "stream",
     "text": [
      "[MainProcess/INFO] pool started\n",
      "[MainProcess/INFO] generation 0: 0/4000 nfe\n",
      "[MainProcess/INFO] generation 5: 498/4000 nfe\n",
      "[MainProcess/INFO] generation 10: 989/4000 nfe\n",
      "[MainProcess/INFO] generation 15: 1468/4000 nfe\n",
      "[MainProcess/INFO] generation 20: 1950/4000 nfe\n",
      "[MainProcess/INFO] generation 25: 2411/4000 nfe\n",
      "[MainProcess/INFO] generation 30: 2842/4000 nfe\n",
      "[MainProcess/INFO] generation 35: 3227/4000 nfe\n",
      "[MainProcess/INFO] generation 40: 3621/4000 nfe\n",
      "[MainProcess/INFO] optimization completed, found 4 solutions\n",
      "[MainProcess/INFO] terminating pool\n"
     ]
    }
   ],
   "source": [
    "nfe = 4000\n",
    "scenario = scenarios[5]\n",
    "temp_results.append(optimize(scenario, nfe, dike_model, convergence_metrics, epsilons))"
   ]
  },
  {
   "cell_type": "code",
   "execution_count": 80,
   "id": "taken-ancient",
   "metadata": {},
   "outputs": [],
   "source": [
    "results = temp_results"
   ]
  },
  {
   "cell_type": "code",
   "execution_count": 81,
   "id": "several-think",
   "metadata": {},
   "outputs": [
    {
     "data": {
      "image/png": "[encoded data removed]",
      "text/plain": [
       "<Figure size 432x288 with 2 Axes>"
      ]
     },
     "metadata": {
      "needs_background": "light"
     },
     "output_type": "display_data"
    }
   ],
   "source": [
    "fig, (ax1, ax2) = plt.subplots(ncols=2,sharex=True)\n",
    "for i, (_, convergence) in enumerate(results):\n",
    "    ax1.plot(convergence.nfe, convergence.hypervolume, label=f'scenario {i}')\n",
    "    ax2.plot(convergence.nfe, convergence.epsilon_progress, label=f'scenario {i}')\n",
    "\n",
    "ax1.set_ylabel('hypervolume')\n",
    "ax1.set_xlabel('nfe')\n",
    "ax2.set_ylabel('$\\epsilon$ progress')\n",
    "ax2.set_xlabel('nfe')\n",
    "fig.legend()\n",
    "plt.show()"
   ]
  },
  {
   "cell_type": "code",
   "execution_count": 89,
   "id": "opponent-central",
   "metadata": {},
   "outputs": [
    {
     "data": {
      "text/html": [
       "<div>\n",
       "<style scoped>\n",
       "    .dataframe tbody tr th:only-of-type {\n",
       "        vertical-align: middle;\n",
       "    }\n",
       "\n",
       "    .dataframe tbody tr th {\n",
       "        vertical-align: top;\n",
       "    }\n",
       "\n",
       "    .dataframe thead th {\n",
       "        text-align: right;\n",
       "    }\n",
       "</style>\n",
       "<table border=\"1\" class=\"dataframe\">\n",
       "  <thead>\n",
       "    <tr style=\"text-align: right;\">\n",
       "      <th></th>\n",
       "      <th>hypervolume</th>\n",
       "      <th>epsilon_progress</th>\n",
       "      <th>nfe</th>\n",
       "    </tr>\n",
       "  </thead>\n",
       "  <tbody>\n",
       "    <tr>\n",
       "      <th>0</th>\n",
       "      <td>0.000000</td>\n",
       "      <td>0</td>\n",
       "      <td>0</td>\n",
       "    </tr>\n",
       "    <tr>\n",
       "      <th>1</th>\n",
       "      <td>0.661586</td>\n",
       "      <td>3</td>\n",
       "      <td>100</td>\n",
       "    </tr>\n",
       "    <tr>\n",
       "      <th>2</th>\n",
       "      <td>0.661850</td>\n",
       "      <td>7</td>\n",
       "      <td>399</td>\n",
       "    </tr>\n",
       "    <tr>\n",
       "      <th>3</th>\n",
       "      <td>0.661850</td>\n",
       "      <td>10</td>\n",
       "      <td>696</td>\n",
       "    </tr>\n",
       "    <tr>\n",
       "      <th>4</th>\n",
       "      <td>0.661850</td>\n",
       "      <td>10</td>\n",
       "      <td>989</td>\n",
       "    </tr>\n",
       "    <tr>\n",
       "      <th>5</th>\n",
       "      <td>0.662108</td>\n",
       "      <td>13</td>\n",
       "      <td>1282</td>\n",
       "    </tr>\n",
       "    <tr>\n",
       "      <th>6</th>\n",
       "      <td>0.662342</td>\n",
       "      <td>15</td>\n",
       "      <td>1564</td>\n",
       "    </tr>\n",
       "    <tr>\n",
       "      <th>7</th>\n",
       "      <td>0.662342</td>\n",
       "      <td>16</td>\n",
       "      <td>1853</td>\n",
       "    </tr>\n",
       "    <tr>\n",
       "      <th>8</th>\n",
       "      <td>0.662366</td>\n",
       "      <td>18</td>\n",
       "      <td>2144</td>\n",
       "    </tr>\n",
       "    <tr>\n",
       "      <th>9</th>\n",
       "      <td>0.662366</td>\n",
       "      <td>18</td>\n",
       "      <td>2411</td>\n",
       "    </tr>\n",
       "    <tr>\n",
       "      <th>10</th>\n",
       "      <td>0.662366</td>\n",
       "      <td>18</td>\n",
       "      <td>2680</td>\n",
       "    </tr>\n",
       "    <tr>\n",
       "      <th>11</th>\n",
       "      <td>0.662366</td>\n",
       "      <td>18</td>\n",
       "      <td>2919</td>\n",
       "    </tr>\n",
       "    <tr>\n",
       "      <th>12</th>\n",
       "      <td>0.662366</td>\n",
       "      <td>18</td>\n",
       "      <td>3147</td>\n",
       "    </tr>\n",
       "    <tr>\n",
       "      <th>13</th>\n",
       "      <td>0.662366</td>\n",
       "      <td>18</td>\n",
       "      <td>3387</td>\n",
       "    </tr>\n",
       "    <tr>\n",
       "      <th>14</th>\n",
       "      <td>0.662366</td>\n",
       "      <td>18</td>\n",
       "      <td>3621</td>\n",
       "    </tr>\n",
       "    <tr>\n",
       "      <th>15</th>\n",
       "      <td>0.662366</td>\n",
       "      <td>18</td>\n",
       "      <td>3866</td>\n",
       "    </tr>\n",
       "  </tbody>\n",
       "</table>\n",
       "</div>"
      ],
      "text/plain": [
       "    hypervolume  epsilon_progress   nfe\n",
       "0      0.000000                 0     0\n",
       "1      0.661586                 3   100\n",
       "2      0.661850                 7   399\n",
       "3      0.661850                10   696\n",
       "4      0.661850                10   989\n",
       "5      0.662108                13  1282\n",
       "6      0.662342                15  1564\n",
       "7      0.662342                16  1853\n",
       "8      0.662366                18  2144\n",
       "9      0.662366                18  2411\n",
       "10     0.662366                18  2680\n",
       "11     0.662366                18  2919\n",
       "12     0.662366                18  3147\n",
       "13     0.662366                18  3387\n",
       "14     0.662366                18  3621\n",
       "15     0.662366                18  3866"
      ]
     },
     "execution_count": 89,
     "metadata": {},
     "output_type": "execute_result"
    }
   ],
   "source": [
    "results[5][1]"
   ]
  },
  {
   "cell_type": "code",
   "execution_count": null,
   "id": "respective-titanium",
   "metadata": {},
   "outputs": [],
   "source": []
  },
  {
   "cell_type": "markdown",
   "id": "essential-spanish",
   "metadata": {},
   "source": [
    "# Saving"
   ]
  },
  {
   "cell_type": "code",
   "execution_count": 82,
   "id": "adopted-dynamics",
   "metadata": {},
   "outputs": [],
   "source": [
    "for i, (result, convergence) in enumerate(results):\n",
    "    result.to_csv(\"simulation/optimisation/\" + ACTORNAME + \"/results_\" + cases[i] +\".csv\", index=False)\n",
    "    convergence.to_csv(\"simulation/optimisation/\" + ACTORNAME + \"/convergence_\" + cases[i] +\".csv\", index=False)"
   ]
  },
  {
   "cell_type": "code",
   "execution_count": 83,
   "id": "skilled-helena",
   "metadata": {},
   "outputs": [],
   "source": [
    "selected.to_csv(\"simulation/optimisation/\" + ACTORNAME + \"/selected.csv\", index=False)"
   ]
  },
  {
   "cell_type": "markdown",
   "id": "colored-filter",
   "metadata": {},
   "source": [
    "# Re-evaluate under deep uncertainty"
   ]
  },
  {
   "cell_type": "code",
   "execution_count": 84,
   "id": "aboriginal-telescope",
   "metadata": {},
   "outputs": [],
   "source": [
    "n_scenarios = 1000"
   ]
  },
  {
   "cell_type": "code",
   "execution_count": 85,
   "id": "valid-crowd",
   "metadata": {},
   "outputs": [],
   "source": [
    "levers = [lever.name for lever in dike_model.levers]"
   ]
  },
  {
   "cell_type": "code",
   "execution_count": 86,
   "id": "boolean-decline",
   "metadata": {},
   "outputs": [],
   "source": [
    "policies = []\n",
    "for i, (result, _) in enumerate(results):\n",
    "    result = result.loc[:, levers]\n",
    "    for j, row in result.iterrows():\n",
    "        policy = Policy(f'scenario {cases[i]} option {j}', **row.to_dict())\n",
    "        policies.append(policy)"
   ]
  },
  {
   "cell_type": "code",
   "execution_count": 87,
   "id": "italian-merit",
   "metadata": {},
   "outputs": [
    {
     "name": "stderr",
     "output_type": "stream",
     "text": [
      "[MainProcess/INFO] pool started\n",
      "[MainProcess/INFO] performing 1000 scenarios * 13 policies * 1 model(s) = 13000 experiments\n",
      "[MainProcess/INFO] 1300 cases completed\n",
      "[MainProcess/INFO] 2600 cases completed\n",
      "[MainProcess/INFO] 3900 cases completed\n",
      "[MainProcess/INFO] 5200 cases completed\n",
      "[MainProcess/INFO] 6500 cases completed\n",
      "[MainProcess/INFO] 7800 cases completed\n",
      "[MainProcess/INFO] 9100 cases completed\n",
      "[MainProcess/INFO] 10400 cases completed\n",
      "[MainProcess/INFO] 11700 cases completed\n",
      "[MainProcess/INFO] 13000 cases completed\n",
      "[MainProcess/INFO] experiments finished\n",
      "[MainProcess/INFO] terminating pool\n"
     ]
    }
   ],
   "source": [
    "with MultiprocessingEvaluator(dike_model) as evaluator:\n",
    "    reevaluation_results = evaluator.perform_experiments(n_scenarios, policies=policies)"
   ]
  },
  {
   "cell_type": "markdown",
   "id": "friendly-seminar",
   "metadata": {},
   "source": [
    "# Saving"
   ]
  },
  {
   "cell_type": "code",
   "execution_count": 88,
   "id": "developing-audience",
   "metadata": {},
   "outputs": [
    {
     "name": "stderr",
     "output_type": "stream",
     "text": [
      "[MainProcess/INFO] results saved successfully to E:\\Onedrive\\Documenten\\Universiteit\\Delft\\Q4-2020\\Model-based-Decision-making\\Assignments\\FabiosDecisions\\epa1361\\final assignment\\data\\optimisation\\du_scen_1000_Deventer.tar.gz\n"
     ]
    }
   ],
   "source": [
    "save_results(reevaluation_results, \"simulation/optimisation/du_scen_\" + str(n_scenarios) + \"_\" + ACTORNAME + \".tar.gz\")"
   ]
  },
  {
   "cell_type": "code",
   "execution_count": null,
   "id": "following-southwest",
   "metadata": {},
   "outputs": [],
   "source": []
  }
 ],
 "metadata": {
  "kernelspec": {
   "display_name": "Python 3",
   "language": "python",
   "name": "python3"
  },
  "language_info": {
   "codemirror_mode": {
    "name": "ipython",
    "version": 3
   },
   "file_extension": ".py",
   "mimetype": "text/x-python",
   "name": "python",
   "nbconvert_exporter": "python",
   "pygments_lexer": "ipython3",
   "version": "3.7.9"
  }
 },
 "nbformat": 4,
 "nbformat_minor": 5
}
