{
 "cells": [
  {
   "cell_type": "code",
   "execution_count": 1,
   "metadata": {},
   "outputs": [],
   "source": [
    "#Import necessary packages\n",
    "import numpy as np\n",
    "import scipy as sp\n",
    "import pandas as pd\n",
    "import matplotlib.pyplot as plt\n",
    "import seaborn as sns\n",
    "import networkx as nx\n",
    "import altair as alt"
   ]
  },
  {
   "cell_type": "code",
   "execution_count": 2,
   "metadata": {},
   "outputs": [],
   "source": [
    "#Import necessary packages, functions\n",
    "from ema_workbench import (Model, CategoricalParameter,\n",
    "                           ScalarOutcome, IntegerParameter, RealParameter, save_results, load_results)\n",
    "from dike_model_function import DikeNetwork  # @UnresolvedImport\n",
    "from ema_workbench import (Model, MultiprocessingEvaluator, Policy, Scenario)\n",
    "\n",
    "from ema_workbench.em_framework.evaluators import perform_experiments\n",
    "from ema_workbench.em_framework.evaluators import LHS, SOBOL, MORRIS\n",
    "from ema_workbench.em_framework.optimization import EpsilonProgress, HyperVolume\n",
    "from ema_workbench.em_framework.samplers import sample_uncertainties\n",
    "from ema_workbench.analysis import feature_scoring, prim, dimensional_stacking, pairs_plotting\n",
    "from ema_workbench.em_framework.salib_samplers import get_SALib_problem\n",
    "import ema_workbench.em_framework.samplers\n",
    "from SALib.analyze import sobol\n",
    "from SALib.sample import saltelli, morris, fast_sampler\n",
    "import SALib.util.results\n",
    "from ema_workbench.analysis import regional_sa\n",
    "from numpy.lib import recfunctions as rf\n",
    "\n",
    "from ema_workbench.util import ema_logging\n",
    "import time\n",
    "from problem_formulation import get_model_for_problem_formulation\n",
    "\n",
    "ema_logging.log_to_stderr(ema_logging.INFO)\n",
    "\n",
    "def sum_over(*args):\n",
    "    return sum(args)"
   ]
  },
  {
   "cell_type": "code",
   "execution_count": 3,
   "metadata": {},
   "outputs": [],
   "source": [
    "#Specify the model\n",
    "dike_model, planning_steps = get_model_for_problem_formulation(\"Gorssel\")"
   ]
  },
  {
   "cell_type": "code",
   "execution_count": null,
   "metadata": {},
   "outputs": [
    {
     "name": "stderr",
     "output_type": "stream",
     "text": [
      "[MainProcess/INFO] pool started\n",
      "[MainProcess/INFO] performing 7600 scenarios * 1 policies * 1 model(s) = 7600 experiments\n",
      "[MainProcess/INFO] 760 cases completed\n"
     ]
    }
   ],
   "source": [
    "#Define number of scenarios\n",
    "N_scen = 100\n",
    "\n",
    "with MultiprocessingEvaluator(dike_model) as evaluator:\n",
    "    sobol_results = evaluator.perform_experiments(N_scen, policies=1,\n",
    "                                                         uncertainty_sampling=SOBOL)"
   ]
  },
  {
   "cell_type": "code",
   "execution_count": null,
   "metadata": {},
   "outputs": [],
   "source": [
    "#Save the results\n",
    "save_results(sobol_results, './results/open_exploration_sobol_' + str(N_scen*76) + '_Gorssel'+'.tar.gz')     "
   ]
  }
 ],
 "metadata": {
  "kernelspec": {
   "display_name": "Python 3",
   "language": "python",
   "name": "python3"
  },
  "language_info": {
   "codemirror_mode": {
    "name": "ipython",
    "version": 3
   },
   "file_extension": ".py",
   "mimetype": "text/x-python",
   "name": "python",
   "nbconvert_exporter": "python",
   "pygments_lexer": "ipython3",
   "version": "3.7.8"
  }
 },
 "nbformat": 4,
 "nbformat_minor": 4
}
