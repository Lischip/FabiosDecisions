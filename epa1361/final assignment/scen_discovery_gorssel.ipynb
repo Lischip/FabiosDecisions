{
 "cells": [
  {
   "cell_type": "code",
   "execution_count": 1,
   "metadata": {},
   "outputs": [],
   "source": [
    "from ema_workbench.analysis import prim\n",
    "from ema_workbench import load_results\n",
    "from sklearn import preprocessing\n",
    "from problem_formulation import get_model_for_problem_formulation\n",
    "import matplotlib.pyplot as plt\n",
    "import pandas as pd\n",
    "import numpy as np\n",
    "from sklearn import preprocessing"
   ]
  },
  {
   "cell_type": "code",
   "execution_count": 2,
   "metadata": {},
   "outputs": [],
   "source": [
    "ACTOR = \"genscen_Gorssel_50000_12-06-2021-03-06-15.tar.gz\""
   ]
  },
  {
   "cell_type": "code",
   "execution_count": 3,
   "metadata": {},
   "outputs": [],
   "source": [
    "experiments, outcomes = load_results(\"data/generated/\" + ACTOR)\n",
    "dike_model, planning_steps = get_model_for_problem_formulation(\"Gorssel\")\n",
    "uncertainties = [uncertainty.name for uncertainty in dike_model.uncertainties]\n",
    "x = experiments[uncertainties]\n",
    "outcomes_df = pd.DataFrame(outcomes)"
   ]
  },
  {
   "cell_type": "code",
   "execution_count": 4,
   "metadata": {},
   "outputs": [
    {
     "data": {
      "text/plain": [
       "['Difference in Expected Annual Damage Gorssel-Deventer',\n",
       " 'Difference in Expected Number of Deaths Gorssel-Deventer',\n",
       " 'Gorssel Expected Annual Damage',\n",
       " 'Gorssel Expected Number of Deaths',\n",
       " 'Gorssel Budget Overrun ',\n",
       " 'Gorssel Total Costs ']"
      ]
     },
     "execution_count": 4,
     "metadata": {},
     "output_type": "execute_result"
    }
   ],
   "source": [
    "outcomes_df.columns.values.tolist()"
   ]
  },
  {
   "cell_type": "code",
   "execution_count": 5,
   "metadata": {},
   "outputs": [],
   "source": [
    "DIFDAMAGE = outcomes_df.columns[0]\n",
    "DIFDEATHS = outcomes_df.columns[1]\n",
    "DAMAGE = outcomes_df.columns[2]\n",
    "DEATHS = outcomes_df.columns[3]\n",
    "BUDGET = outcomes_df.columns[4]\n",
    "COSTS = outcomes_df.columns[5]"
   ]
  },
  {
   "cell_type": "code",
   "execution_count": 6,
   "metadata": {},
   "outputs": [],
   "source": [
    "min_max_scaler = preprocessing.MinMaxScaler()\n",
    "damage_scaled = min_max_scaler.fit_transform(pd.DataFrame(outcomes[DAMAGE]).values)\n",
    "deaths_scaled = min_max_scaler.fit_transform(pd.DataFrame(outcomes[DEATHS]).values)\n",
    "scaled = (damage_scaled + deaths_scaled)/2"
   ]
  },
  {
   "cell_type": "code",
   "execution_count": 7,
   "metadata": {},
   "outputs": [],
   "source": [
    "outcomes_df[\"Scaled\"] = scaled\n",
    "SCALED = 'Scaled'"
   ]
  },
  {
   "cell_type": "code",
   "execution_count": 8,
   "metadata": {},
   "outputs": [
    {
     "data": {
      "text/plain": [
       "'Gorssel Expected Annual Damage'"
      ]
     },
     "execution_count": 8,
     "metadata": {},
     "output_type": "execute_result"
    }
   ],
   "source": [
    "DAMAGE"
   ]
  },
  {
   "cell_type": "code",
   "execution_count": 9,
   "metadata": {},
   "outputs": [
    {
     "data": {
      "text/html": [
       "<div>\n",
       "<style scoped>\n",
       "    .dataframe tbody tr th:only-of-type {\n",
       "        vertical-align: middle;\n",
       "    }\n",
       "\n",
       "    .dataframe tbody tr th {\n",
       "        vertical-align: top;\n",
       "    }\n",
       "\n",
       "    .dataframe thead th {\n",
       "        text-align: right;\n",
       "    }\n",
       "</style>\n",
       "<table border=\"1\" class=\"dataframe\">\n",
       "  <thead>\n",
       "    <tr style=\"text-align: right;\">\n",
       "      <th></th>\n",
       "      <th>Difference in Expected Annual Damage Gorssel-Deventer</th>\n",
       "      <th>Difference in Expected Number of Deaths Gorssel-Deventer</th>\n",
       "      <th>Gorssel Expected Annual Damage</th>\n",
       "      <th>Gorssel Expected Number of Deaths</th>\n",
       "      <th>Gorssel Budget Overrun</th>\n",
       "      <th>Gorssel Total Costs</th>\n",
       "      <th>Scaled</th>\n",
       "    </tr>\n",
       "  </thead>\n",
       "  <tbody>\n",
       "  </tbody>\n",
       "</table>\n",
       "</div>"
      ],
      "text/plain": [
       "Empty DataFrame\n",
       "Columns: [Difference in Expected Annual Damage Gorssel-Deventer, Difference in Expected Number of Deaths Gorssel-Deventer, Gorssel Expected Annual Damage, Gorssel Expected Number of Deaths, Gorssel Budget Overrun , Gorssel Total Costs , Scaled]\n",
       "Index: []"
      ]
     },
     "execution_count": 9,
     "metadata": {},
     "output_type": "execute_result"
    }
   ],
   "source": [
    "outcomes_df.loc[outcomes_df[DIFDAMAGE] > 0]"
   ]
  },
  {
   "cell_type": "markdown",
   "metadata": {},
   "source": [
    "Looks like there is always more damage in Deventer than in Gorssel if there are not any policies in place"
   ]
  },
  {
   "cell_type": "code",
   "execution_count": 10,
   "metadata": {},
   "outputs": [
    {
     "data": {
      "text/plain": [
       "0"
      ]
     },
     "execution_count": 10,
     "metadata": {},
     "output_type": "execute_result"
    }
   ],
   "source": [
    "len(outcomes_df.loc[outcomes_df[DIFDAMAGE] > 0])"
   ]
  },
  {
   "cell_type": "code",
   "execution_count": 11,
   "metadata": {},
   "outputs": [
    {
     "data": {
      "text/html": [
       "<div>\n",
       "<style scoped>\n",
       "    .dataframe tbody tr th:only-of-type {\n",
       "        vertical-align: middle;\n",
       "    }\n",
       "\n",
       "    .dataframe tbody tr th {\n",
       "        vertical-align: top;\n",
       "    }\n",
       "\n",
       "    .dataframe thead th {\n",
       "        text-align: right;\n",
       "    }\n",
       "</style>\n",
       "<table border=\"1\" class=\"dataframe\">\n",
       "  <thead>\n",
       "    <tr style=\"text-align: right;\">\n",
       "      <th></th>\n",
       "      <th>Difference in Expected Annual Damage Gorssel-Deventer</th>\n",
       "      <th>Difference in Expected Number of Deaths Gorssel-Deventer</th>\n",
       "      <th>Gorssel Expected Annual Damage</th>\n",
       "      <th>Gorssel Expected Number of Deaths</th>\n",
       "      <th>Gorssel Budget Overrun</th>\n",
       "      <th>Gorssel Total Costs</th>\n",
       "      <th>Scaled</th>\n",
       "    </tr>\n",
       "  </thead>\n",
       "  <tbody>\n",
       "    <tr>\n",
       "      <th>count</th>\n",
       "      <td>50000.000000</td>\n",
       "      <td>5.000000e+04</td>\n",
       "      <td>5.000000e+04</td>\n",
       "      <td>50000.000000</td>\n",
       "      <td>50000.0</td>\n",
       "      <td>50000.0</td>\n",
       "      <td>50000.000000</td>\n",
       "    </tr>\n",
       "    <tr>\n",
       "      <th>mean</th>\n",
       "      <td>-2195.842747</td>\n",
       "      <td>-1.820303e-06</td>\n",
       "      <td>4.394637e+07</td>\n",
       "      <td>0.021209</td>\n",
       "      <td>0.0</td>\n",
       "      <td>0.0</td>\n",
       "      <td>0.236309</td>\n",
       "    </tr>\n",
       "    <tr>\n",
       "      <th>std</th>\n",
       "      <td>2558.744855</td>\n",
       "      <td>2.280280e-06</td>\n",
       "      <td>4.660492e+07</td>\n",
       "      <td>0.020512</td>\n",
       "      <td>0.0</td>\n",
       "      <td>0.0</td>\n",
       "      <td>0.236181</td>\n",
       "    </tr>\n",
       "    <tr>\n",
       "      <th>min</th>\n",
       "      <td>-16316.748534</td>\n",
       "      <td>-1.057313e-05</td>\n",
       "      <td>0.000000e+00</td>\n",
       "      <td>0.000000</td>\n",
       "      <td>0.0</td>\n",
       "      <td>0.0</td>\n",
       "      <td>0.000000</td>\n",
       "    </tr>\n",
       "    <tr>\n",
       "      <th>0%</th>\n",
       "      <td>-16316.748534</td>\n",
       "      <td>-1.057313e-05</td>\n",
       "      <td>0.000000e+00</td>\n",
       "      <td>0.000000</td>\n",
       "      <td>0.0</td>\n",
       "      <td>0.0</td>\n",
       "      <td>0.000000</td>\n",
       "    </tr>\n",
       "    <tr>\n",
       "      <th>10%</th>\n",
       "      <td>-5852.691383</td>\n",
       "      <td>-5.174198e-06</td>\n",
       "      <td>2.804631e+06</td>\n",
       "      <td>0.001676</td>\n",
       "      <td>0.0</td>\n",
       "      <td>0.0</td>\n",
       "      <td>0.017638</td>\n",
       "    </tr>\n",
       "    <tr>\n",
       "      <th>20%</th>\n",
       "      <td>-3362.048957</td>\n",
       "      <td>-3.213099e-06</td>\n",
       "      <td>6.498399e+06</td>\n",
       "      <td>0.004197</td>\n",
       "      <td>0.0</td>\n",
       "      <td>0.0</td>\n",
       "      <td>0.042752</td>\n",
       "    </tr>\n",
       "    <tr>\n",
       "      <th>30%</th>\n",
       "      <td>-2033.402478</td>\n",
       "      <td>-1.871860e-06</td>\n",
       "      <td>8.958514e+06</td>\n",
       "      <td>0.004837</td>\n",
       "      <td>0.0</td>\n",
       "      <td>0.0</td>\n",
       "      <td>0.051459</td>\n",
       "    </tr>\n",
       "    <tr>\n",
       "      <th>40%</th>\n",
       "      <td>-1514.690034</td>\n",
       "      <td>-1.173131e-06</td>\n",
       "      <td>1.394666e+07</td>\n",
       "      <td>0.008550</td>\n",
       "      <td>0.0</td>\n",
       "      <td>0.0</td>\n",
       "      <td>0.087856</td>\n",
       "    </tr>\n",
       "    <tr>\n",
       "      <th>50%</th>\n",
       "      <td>-1213.798597</td>\n",
       "      <td>-7.219704e-07</td>\n",
       "      <td>1.998865e+07</td>\n",
       "      <td>0.010051</td>\n",
       "      <td>0.0</td>\n",
       "      <td>0.0</td>\n",
       "      <td>0.109276</td>\n",
       "    </tr>\n",
       "    <tr>\n",
       "      <th>60%</th>\n",
       "      <td>-953.867982</td>\n",
       "      <td>-5.878444e-07</td>\n",
       "      <td>4.288003e+07</td>\n",
       "      <td>0.021379</td>\n",
       "      <td>0.0</td>\n",
       "      <td>0.0</td>\n",
       "      <td>0.241587</td>\n",
       "    </tr>\n",
       "    <tr>\n",
       "      <th>70%</th>\n",
       "      <td>-714.844971</td>\n",
       "      <td>-4.414927e-07</td>\n",
       "      <td>5.867112e+07</td>\n",
       "      <td>0.027932</td>\n",
       "      <td>0.0</td>\n",
       "      <td>0.0</td>\n",
       "      <td>0.314298</td>\n",
       "    </tr>\n",
       "    <tr>\n",
       "      <th>80%</th>\n",
       "      <td>-537.798878</td>\n",
       "      <td>-3.119646e-07</td>\n",
       "      <td>8.172802e+07</td>\n",
       "      <td>0.039442</td>\n",
       "      <td>0.0</td>\n",
       "      <td>0.0</td>\n",
       "      <td>0.441383</td>\n",
       "    </tr>\n",
       "    <tr>\n",
       "      <th>90%</th>\n",
       "      <td>-319.137819</td>\n",
       "      <td>-2.045424e-07</td>\n",
       "      <td>1.187810e+08</td>\n",
       "      <td>0.054693</td>\n",
       "      <td>0.0</td>\n",
       "      <td>0.0</td>\n",
       "      <td>0.628754</td>\n",
       "    </tr>\n",
       "    <tr>\n",
       "      <th>max</th>\n",
       "      <td>0.000000</td>\n",
       "      <td>0.000000e+00</td>\n",
       "      <td>2.294422e+08</td>\n",
       "      <td>0.075454</td>\n",
       "      <td>0.0</td>\n",
       "      <td>0.0</td>\n",
       "      <td>0.996574</td>\n",
       "    </tr>\n",
       "  </tbody>\n",
       "</table>\n",
       "</div>"
      ],
      "text/plain": [
       "       Difference in Expected Annual Damage Gorssel-Deventer  \\\n",
       "count                                       50000.000000       \n",
       "mean                                        -2195.842747       \n",
       "std                                          2558.744855       \n",
       "min                                        -16316.748534       \n",
       "0%                                         -16316.748534       \n",
       "10%                                         -5852.691383       \n",
       "20%                                         -3362.048957       \n",
       "30%                                         -2033.402478       \n",
       "40%                                         -1514.690034       \n",
       "50%                                         -1213.798597       \n",
       "60%                                          -953.867982       \n",
       "70%                                          -714.844971       \n",
       "80%                                          -537.798878       \n",
       "90%                                          -319.137819       \n",
       "max                                             0.000000       \n",
       "\n",
       "       Difference in Expected Number of Deaths Gorssel-Deventer  \\\n",
       "count                                       5.000000e+04          \n",
       "mean                                       -1.820303e-06          \n",
       "std                                         2.280280e-06          \n",
       "min                                        -1.057313e-05          \n",
       "0%                                         -1.057313e-05          \n",
       "10%                                        -5.174198e-06          \n",
       "20%                                        -3.213099e-06          \n",
       "30%                                        -1.871860e-06          \n",
       "40%                                        -1.173131e-06          \n",
       "50%                                        -7.219704e-07          \n",
       "60%                                        -5.878444e-07          \n",
       "70%                                        -4.414927e-07          \n",
       "80%                                        -3.119646e-07          \n",
       "90%                                        -2.045424e-07          \n",
       "max                                         0.000000e+00          \n",
       "\n",
       "       Gorssel Expected Annual Damage  Gorssel Expected Number of Deaths  \\\n",
       "count                    5.000000e+04                       50000.000000   \n",
       "mean                     4.394637e+07                           0.021209   \n",
       "std                      4.660492e+07                           0.020512   \n",
       "min                      0.000000e+00                           0.000000   \n",
       "0%                       0.000000e+00                           0.000000   \n",
       "10%                      2.804631e+06                           0.001676   \n",
       "20%                      6.498399e+06                           0.004197   \n",
       "30%                      8.958514e+06                           0.004837   \n",
       "40%                      1.394666e+07                           0.008550   \n",
       "50%                      1.998865e+07                           0.010051   \n",
       "60%                      4.288003e+07                           0.021379   \n",
       "70%                      5.867112e+07                           0.027932   \n",
       "80%                      8.172802e+07                           0.039442   \n",
       "90%                      1.187810e+08                           0.054693   \n",
       "max                      2.294422e+08                           0.075454   \n",
       "\n",
       "       Gorssel Budget Overrun   Gorssel Total Costs         Scaled  \n",
       "count                  50000.0               50000.0  50000.000000  \n",
       "mean                       0.0                   0.0      0.236309  \n",
       "std                        0.0                   0.0      0.236181  \n",
       "min                        0.0                   0.0      0.000000  \n",
       "0%                         0.0                   0.0      0.000000  \n",
       "10%                        0.0                   0.0      0.017638  \n",
       "20%                        0.0                   0.0      0.042752  \n",
       "30%                        0.0                   0.0      0.051459  \n",
       "40%                        0.0                   0.0      0.087856  \n",
       "50%                        0.0                   0.0      0.109276  \n",
       "60%                        0.0                   0.0      0.241587  \n",
       "70%                        0.0                   0.0      0.314298  \n",
       "80%                        0.0                   0.0      0.441383  \n",
       "90%                        0.0                   0.0      0.628754  \n",
       "max                        0.0                   0.0      0.996574  "
      ]
     },
     "execution_count": 11,
     "metadata": {},
     "output_type": "execute_result"
    }
   ],
   "source": [
    "outcomes_df.describe(percentiles=np.arange(0, 1, 0.1))"
   ]
  },
  {
   "cell_type": "markdown",
   "metadata": {},
   "source": [
    "Obviously, without any policies inplace, there also aren't any costs for Gorssel."
   ]
  },
  {
   "cell_type": "code",
   "execution_count": 12,
   "metadata": {},
   "outputs": [],
   "source": [
    "prim_algs = {}\n",
    "for outcome in [DAMAGE, DEATHS, SCALED]:\n",
    "    #code block below performs a rotation of data\n",
    "#     x_numeric = x.select_dtypes(exclude=pd.CategoricalDtype)\n",
    "#     x_categorical = x.select_dtypes(include=pd.CategoricalDtype)\n",
    "#     rotated_experiments, rotation_matrix = prim.pca_preprocess(x_numeric, conditional(outcome))\n",
    "#     rotated_x = pd.concat([rotated_experiments, x_categorical], axis=1)\n",
    "#     rotated_x.columns = x_numeric.columns.tolist() + x_categorical.columns.tolist()\n",
    "#     x = rotated_x\n",
    "    \n",
    "    prim_algs[outcome] = prim.Prim(x,  outcomes_df[outcome] > np.percentile(a=outcomes_df[outcome], q=90), threshold=0.8)"
   ]
  },
  {
   "cell_type": "code",
   "execution_count": 13,
   "metadata": {},
   "outputs": [
    {
     "name": "stdout",
     "output_type": "stream",
     "text": [
      "Gorssel Expected Annual Damage\n",
      "Gorssel Expected Number of Deaths\n",
      "Scaled\n"
     ]
    }
   ],
   "source": [
    "boxes = {}\n",
    "for key in [DAMAGE, DEATHS, SCALED]:\n",
    "    print(key)\n",
    "    boxes[key] = prim_algs[key].find_box()"
   ]
  },
  {
   "cell_type": "code",
   "execution_count": 26,
   "metadata": {},
   "outputs": [
    {
     "name": "stdout",
     "output_type": "stream",
     "text": [
      "Gorssel Expected Annual Damage\n"
     ]
    },
    {
     "data": {
      "image/png": "[encoded data removed]",
      "text/plain": [
       "<Figure size 432x288 with 2 Axes>"
      ]
     },
     "metadata": {
      "needs_background": "light"
     },
     "output_type": "display_data"
    },
    {
     "name": "stdout",
     "output_type": "stream",
     "text": [
      "Gorssel Expected Number of Deaths\n"
     ]
    },
    {
     "data": {
      "image/png": "[encoded data removed]",
      "text/plain": [
       "<Figure size 432x288 with 2 Axes>"
      ]
     },
     "metadata": {
      "needs_background": "light"
     },
     "output_type": "display_data"
    },
    {
     "name": "stdout",
     "output_type": "stream",
     "text": [
      "Scaled\n"
     ]
    },
    {
     "data": {
      "image/png": "[encoded data removed]",
      "text/plain": [
       "<Figure size 432x288 with 2 Axes>"
      ]
     },
     "metadata": {
      "needs_background": "light"
     },
     "output_type": "display_data"
    }
   ],
   "source": [
    "for key, box in boxes.items():\n",
    "    print(key)\n",
    "    box.show_tradeoff()\n",
    "    plt.show()"
   ]
  },
  {
   "cell_type": "markdown",
   "metadata": {},
   "source": [
    "# Trying around to find the right box\n",
    "\n",
    "## Damage"
   ]
  },
  {
   "cell_type": "code",
   "execution_count": 72,
   "metadata": {},
   "outputs": [],
   "source": [
    "box_id=45\n",
    "BOX = DAMAGE"
   ]
  },
  {
   "cell_type": "code",
   "execution_count": 73,
   "metadata": {},
   "outputs": [
    {
     "name": "stdout",
     "output_type": "stream",
     "text": [
      "coverage      0.7944\n",
      "density     0.800322\n",
      "id                45\n",
      "mass         0.09926\n",
      "mean        0.800322\n",
      "res_dim            1\n",
      "Name: 45, dtype: object\n",
      "\n",
      "             box 45                       \n",
      "                min       max    qp values\n",
      "A.4_pfail  0.000014  0.099266  [-1.0, 0.0]\n",
      "\n"
     ]
    },
    {
     "data": {
      "image/png": "[encoded data removed]",
      "text/plain": [
       "<Figure size 432x288 with 1 Axes>"
      ]
     },
     "metadata": {
      "needs_background": "light"
     },
     "output_type": "display_data"
    }
   ],
   "source": [
    "boxes[BOX].inspect(box_id)\n",
    "boxes[BOX].inspect(box_id, style='graph')\n",
    "plt.show()"
   ]
  },
  {
   "cell_type": "code",
   "execution_count": 74,
   "metadata": {},
   "outputs": [
    {
     "data": {
      "image/png": "[encoded data removed]",
      "text/plain": [
       "<Figure size 193.875x180 with 2 Axes>"
      ]
     },
     "metadata": {
      "needs_background": "light"
     },
     "output_type": "display_data"
    }
   ],
   "source": [
    "boxes[BOX].select(box_id)\n",
    "boxes[BOX].show_pairs_scatter()\n",
    "plt.show()"
   ]
  },
  {
   "cell_type": "code",
   "execution_count": 75,
   "metadata": {},
   "outputs": [],
   "source": [
    "lims = boxes[BOX].box_lims[box_id]"
   ]
  },
  {
   "cell_type": "code",
   "execution_count": 76,
   "metadata": {},
   "outputs": [],
   "source": [
    "limits = pd.DataFrame(data={\"outcome\": [\"damage\"], \"min\": [lims[\"A.4_pfail\"][0]], \"max\" :  [lims[\"A.4_pfail\"][1]]})"
   ]
  },
  {
   "cell_type": "code",
   "execution_count": 77,
   "metadata": {},
   "outputs": [
    {
     "data": {
      "text/html": [
       "<div>\n",
       "<style scoped>\n",
       "    .dataframe tbody tr th:only-of-type {\n",
       "        vertical-align: middle;\n",
       "    }\n",
       "\n",
       "    .dataframe tbody tr th {\n",
       "        vertical-align: top;\n",
       "    }\n",
       "\n",
       "    .dataframe thead th {\n",
       "        text-align: right;\n",
       "    }\n",
       "</style>\n",
       "<table border=\"1\" class=\"dataframe\">\n",
       "  <thead>\n",
       "    <tr style=\"text-align: right;\">\n",
       "      <th></th>\n",
       "      <th>outcome</th>\n",
       "      <th>min</th>\n",
       "      <th>max</th>\n",
       "    </tr>\n",
       "  </thead>\n",
       "  <tbody>\n",
       "    <tr>\n",
       "      <th>0</th>\n",
       "      <td>damage</td>\n",
       "      <td>0.000014</td>\n",
       "      <td>0.099266</td>\n",
       "    </tr>\n",
       "  </tbody>\n",
       "</table>\n",
       "</div>"
      ],
      "text/plain": [
       "  outcome       min       max\n",
       "0  damage  0.000014  0.099266"
      ]
     },
     "execution_count": 77,
     "metadata": {},
     "output_type": "execute_result"
    }
   ],
   "source": [
    "limits"
   ]
  },
  {
   "cell_type": "markdown",
   "metadata": {},
   "source": [
    "## Deaths"
   ]
  },
  {
   "cell_type": "code",
   "execution_count": 78,
   "metadata": {},
   "outputs": [],
   "source": [
    "box_id=42\n",
    "BOX = DEATHS"
   ]
  },
  {
   "cell_type": "code",
   "execution_count": 79,
   "metadata": {},
   "outputs": [
    {
     "name": "stdout",
     "output_type": "stream",
     "text": [
      "coverage    0.954746\n",
      "density     0.823347\n",
      "id                42\n",
      "mass         0.11582\n",
      "mean        0.823347\n",
      "res_dim            1\n",
      "Name: 42, dtype: object\n",
      "\n",
      "             box 42                       \n",
      "                min       max    qp values\n",
      "A.4_pfail  0.000014  0.115819  [-1.0, 0.0]\n",
      "\n"
     ]
    },
    {
     "data": {
      "image/png": "[encoded data removed]",
      "text/plain": [
       "<Figure size 432x288 with 1 Axes>"
      ]
     },
     "metadata": {
      "needs_background": "light"
     },
     "output_type": "display_data"
    }
   ],
   "source": [
    "boxes[BOX].inspect(box_id)\n",
    "boxes[BOX].inspect(box_id, style='graph')\n",
    "plt.show()"
   ]
  },
  {
   "cell_type": "code",
   "execution_count": 80,
   "metadata": {},
   "outputs": [
    {
     "data": {
      "image/png": "[encoded data removed]",
      "text/plain": [
       "<Figure size 193.875x180 with 2 Axes>"
      ]
     },
     "metadata": {
      "needs_background": "light"
     },
     "output_type": "display_data"
    }
   ],
   "source": [
    "boxes[BOX].select(box_id)\n",
    "boxes[BOX].show_pairs_scatter()\n",
    "plt.show()"
   ]
  },
  {
   "cell_type": "code",
   "execution_count": 81,
   "metadata": {},
   "outputs": [],
   "source": [
    "lims2 = boxes[BOX].box_lims[box_id]"
   ]
  },
  {
   "cell_type": "code",
   "execution_count": 82,
   "metadata": {},
   "outputs": [],
   "source": [
    "limits = pd.concat([limits, pd.DataFrame(data={\"outcome\": [\"deaths\"], \"min\": [lims2[\"A.4_pfail\"][0]], \"max\" :  [lims2[\"A.4_pfail\"][1]]})], axis=0)"
   ]
  },
  {
   "cell_type": "markdown",
   "metadata": {},
   "source": [
    "## Scaled"
   ]
  },
  {
   "cell_type": "code",
   "execution_count": 84,
   "metadata": {},
   "outputs": [],
   "source": [
    "box_id=43\n",
    "BOX = SCALED"
   ]
  },
  {
   "cell_type": "code",
   "execution_count": 85,
   "metadata": {},
   "outputs": [
    {
     "name": "stdout",
     "output_type": "stream",
     "text": [
      "coverage      0.9032\n",
      "density     0.820942\n",
      "id                43\n",
      "mass         0.11002\n",
      "mean        0.820942\n",
      "res_dim            1\n",
      "Name: 43, dtype: object\n",
      "\n",
      "             box 43                       \n",
      "                min       max    qp values\n",
      "A.4_pfail  0.000014  0.110023  [-1.0, 0.0]\n",
      "\n"
     ]
    },
    {
     "data": {
      "image/png": "[encoded data removed]",
      "text/plain": [
       "<Figure size 432x288 with 1 Axes>"
      ]
     },
     "metadata": {
      "needs_background": "light"
     },
     "output_type": "display_data"
    }
   ],
   "source": [
    "boxes[BOX].inspect(box_id)\n",
    "boxes[BOX].inspect(box_id, style='graph')\n",
    "plt.show()"
   ]
  },
  {
   "cell_type": "code",
   "execution_count": 86,
   "metadata": {},
   "outputs": [
    {
     "data": {
      "image/png": "[encoded data removed]",
      "text/plain": [
       "<Figure size 193.875x180 with 2 Axes>"
      ]
     },
     "metadata": {
      "needs_background": "light"
     },
     "output_type": "display_data"
    }
   ],
   "source": [
    "boxes[BOX].select(box_id)\n",
    "boxes[BOX].show_pairs_scatter()\n",
    "plt.show()"
   ]
  },
  {
   "cell_type": "code",
   "execution_count": 87,
   "metadata": {},
   "outputs": [],
   "source": [
    "lims = boxes[BOX].box_lims[box_id]"
   ]
  },
  {
   "cell_type": "code",
   "execution_count": 88,
   "metadata": {},
   "outputs": [],
   "source": [
    "limits = pd.concat([limits, pd.DataFrame(data={\"outcome\": [\"scaled\"], \"min\": [lims[\"A.4_pfail\"][0]], \"max\" :  [lims[\"A.4_pfail\"][1]]})], axis=0)"
   ]
  },
  {
   "cell_type": "code",
   "execution_count": 92,
   "metadata": {},
   "outputs": [],
   "source": [
    "limits =limits.reset_index(drop=True)"
   ]
  },
  {
   "cell_type": "markdown",
   "metadata": {},
   "source": [
    "# Visualisation"
   ]
  },
  {
   "cell_type": "code",
   "execution_count": 95,
   "metadata": {},
   "outputs": [
    {
     "data": {
      "text/html": [
       "<div>\n",
       "<style scoped>\n",
       "    .dataframe tbody tr th:only-of-type {\n",
       "        vertical-align: middle;\n",
       "    }\n",
       "\n",
       "    .dataframe tbody tr th {\n",
       "        vertical-align: top;\n",
       "    }\n",
       "\n",
       "    .dataframe thead th {\n",
       "        text-align: right;\n",
       "    }\n",
       "</style>\n",
       "<table border=\"1\" class=\"dataframe\">\n",
       "  <thead>\n",
       "    <tr style=\"text-align: right;\">\n",
       "      <th></th>\n",
       "      <th>outcome</th>\n",
       "      <th>min</th>\n",
       "      <th>max</th>\n",
       "    </tr>\n",
       "  </thead>\n",
       "  <tbody>\n",
       "    <tr>\n",
       "      <th>0</th>\n",
       "      <td>damage</td>\n",
       "      <td>0.000014</td>\n",
       "      <td>0.099266</td>\n",
       "    </tr>\n",
       "    <tr>\n",
       "      <th>1</th>\n",
       "      <td>deaths</td>\n",
       "      <td>0.000014</td>\n",
       "      <td>0.115819</td>\n",
       "    </tr>\n",
       "    <tr>\n",
       "      <th>2</th>\n",
       "      <td>scaled</td>\n",
       "      <td>0.000014</td>\n",
       "      <td>0.110023</td>\n",
       "    </tr>\n",
       "  </tbody>\n",
       "</table>\n",
       "</div>"
      ],
      "text/plain": [
       "  outcome       min       max\n",
       "0  damage  0.000014  0.099266\n",
       "1  deaths  0.000014  0.115819\n",
       "2  scaled  0.000014  0.110023"
      ]
     },
     "execution_count": 95,
     "metadata": {},
     "output_type": "execute_result"
    }
   ],
   "source": [
    "limits"
   ]
  },
  {
   "cell_type": "code",
   "execution_count": 110,
   "metadata": {},
   "outputs": [
    {
     "data": {
      "image/png": "[encoded data removed]",
      "text/plain": [
       "<Figure size 504x360 with 1 Axes>"
      ]
     },
     "metadata": {
      "needs_background": "light"
     },
     "output_type": "display_data"
    }
   ],
   "source": [
    "fig = plt.figure(figsize=[7,5])\n",
    "ax = fig.add_subplot(111)\n",
    "for index in limits.index:\n",
    "    plt.plot([limits.loc[index][\"min\"],limits.loc[index][\"max\"]], [index,index])\n",
    "    ax.annotate('{:.3f}'.format(limits.loc[index][\"min\"]),xy=(limits.loc[index][\"min\"],index +0.03))\n",
    "    ax.annotate('{:.3f}'.format(limits.loc[index][\"max\"]),xy=(limits.loc[index][\"max\"]-0.01,index +0.03))\n",
    "ax.grid(False)\n",
    "ax.set_ylim([-1,3])\n",
    "plt.legend(limits[\"outcome\"].values)    \n",
    "plt.yticks([0, 1,2], [\"A.4_pfail\"]*3)\n",
    "plt.title(\"Gorssel uncertainties for worst 10th percentile\")\n",
    "plt.show()"
   ]
  },
  {
   "cell_type": "code",
   "execution_count": null,
   "metadata": {},
   "outputs": [],
   "source": []
  }
 ],
 "metadata": {
  "kernelspec": {
   "display_name": "Python 3",
   "language": "python",
   "name": "python3"
  },
  "language_info": {
   "codemirror_mode": {
    "name": "ipython",
    "version": 3
   },
   "file_extension": ".py",
   "mimetype": "text/x-python",
   "name": "python",
   "nbconvert_exporter": "python",
   "pygments_lexer": "ipython3",
   "version": "3.8.5"
  }
 },
 "nbformat": 4,
 "nbformat_minor": 5
}
