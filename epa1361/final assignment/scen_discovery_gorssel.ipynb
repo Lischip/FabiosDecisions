{
 "cells": [
  {
   "cell_type": "code",
   "execution_count": 1,
   "id": "eligible-customs",
   "metadata": {},
   "outputs": [],
   "source": [
    "from ema_workbench.analysis import prim\n",
    "from ema_workbench import load_results\n",
    "from sklearn import preprocessing\n",
    "from problem_formulation import get_model_for_problem_formulation\n",
    "import matplotlib.pyplot as plt\n",
    "import pandas as pd\n",
    "import numpy as np"
   ]
  },
  {
   "cell_type": "code",
   "execution_count": 2,
   "id": "modern-paintball",
   "metadata": {},
   "outputs": [],
   "source": [
    "ACTOR = \"genscen_Gorssel_50000_12-06-2021-03-06-15.tar.gz\""
   ]
  },
  {
   "cell_type": "code",
   "execution_count": 3,
   "id": "impossible-gentleman",
   "metadata": {},
   "outputs": [],
   "source": [
    "experiments, outcomes = load_results(\"data/generated/\" + ACTOR)\n",
    "dike_model, planning_steps = get_model_for_problem_formulation(\"Gorssel\")\n",
    "uncertainties = [uncertainty.name for uncertainty in dike_model.uncertainties]\n",
    "x = experiments[uncertainties]\n",
    "outcomes_df = pd.DataFrame(outcomes)"
   ]
  },
  {
   "cell_type": "code",
   "execution_count": 4,
   "id": "illegal-antenna",
   "metadata": {},
   "outputs": [
    {
     "data": {
      "text/plain": [
       "['Difference in Expected Annual Damage Gorssel-Deventer',\n",
       " 'Difference in Expected Number of Deaths Gorssel-Deventer',\n",
       " 'Gorssel Expected Annual Damage',\n",
       " 'Gorssel Expected Number of Deaths',\n",
       " 'Gorssel Budget Overrun ',\n",
       " 'Gorssel Total Costs ']"
      ]
     },
     "execution_count": 4,
     "metadata": {},
     "output_type": "execute_result"
    }
   ],
   "source": [
    "outcomes_df.columns.values.tolist()"
   ]
  },
  {
   "cell_type": "code",
   "execution_count": 6,
   "id": "serial-livestock",
   "metadata": {},
   "outputs": [],
   "source": [
    "DIFDAMAGE = outcomes_df.columns[0]\n",
    "DIFDEATHS = outcomes_df.columns[1]\n",
    "DAMAGE = outcomes_df.columns[2]\n",
    "DEATHS = outcomes_df.columns[3]\n",
    "BUDGET = outcomes_df.columns[4]\n",
    "COSTS = outcomes_df.columns[5]"
   ]
  },
  {
   "cell_type": "code",
   "execution_count": 9,
   "id": "extraordinary-special",
   "metadata": {},
   "outputs": [
    {
     "data": {
      "text/html": [
       "<div>\n",
       "<style scoped>\n",
       "    .dataframe tbody tr th:only-of-type {\n",
       "        vertical-align: middle;\n",
       "    }\n",
       "\n",
       "    .dataframe tbody tr th {\n",
       "        vertical-align: top;\n",
       "    }\n",
       "\n",
       "    .dataframe thead th {\n",
       "        text-align: right;\n",
       "    }\n",
       "</style>\n",
       "<table border=\"1\" class=\"dataframe\">\n",
       "  <thead>\n",
       "    <tr style=\"text-align: right;\">\n",
       "      <th></th>\n",
       "      <th>Difference in Expected Annual Damage Gorssel-Deventer</th>\n",
       "      <th>Difference in Expected Number of Deaths Gorssel-Deventer</th>\n",
       "      <th>Gorssel Expected Annual Damage</th>\n",
       "      <th>Gorssel Expected Number of Deaths</th>\n",
       "      <th>Gorssel Budget Overrun</th>\n",
       "      <th>Gorssel Total Costs</th>\n",
       "    </tr>\n",
       "  </thead>\n",
       "  <tbody>\n",
       "  </tbody>\n",
       "</table>\n",
       "</div>"
      ],
      "text/plain": [
       "Empty DataFrame\n",
       "Columns: [Difference in Expected Annual Damage Gorssel-Deventer, Difference in Expected Number of Deaths Gorssel-Deventer, Gorssel Expected Annual Damage, Gorssel Expected Number of Deaths, Gorssel Budget Overrun , Gorssel Total Costs ]\n",
       "Index: []"
      ]
     },
     "execution_count": 9,
     "metadata": {},
     "output_type": "execute_result"
    }
   ],
   "source": [
    "outcomes_df.loc[outcomes_df[DIFDAMAGE] > 0]"
   ]
  },
  {
   "cell_type": "markdown",
   "id": "apart-fleet",
   "metadata": {},
   "source": [
    "Looks like there is always more damage in Deventer than in Gorssel if there are not any policies in place"
   ]
  },
  {
   "cell_type": "code",
   "execution_count": 10,
   "id": "actual-centre",
   "metadata": {},
   "outputs": [
    {
     "data": {
      "text/plain": [
       "0"
      ]
     },
     "execution_count": 10,
     "metadata": {},
     "output_type": "execute_result"
    }
   ],
   "source": [
    "len(outcomes_df.loc[outcomes_df[DIFDAMAGE] > 0])"
   ]
  },
  {
   "cell_type": "code",
   "execution_count": 11,
   "id": "seasonal-indian",
   "metadata": {},
   "outputs": [
    {
     "data": {
      "text/html": [
       "<div>\n",
       "<style scoped>\n",
       "    .dataframe tbody tr th:only-of-type {\n",
       "        vertical-align: middle;\n",
       "    }\n",
       "\n",
       "    .dataframe tbody tr th {\n",
       "        vertical-align: top;\n",
       "    }\n",
       "\n",
       "    .dataframe thead th {\n",
       "        text-align: right;\n",
       "    }\n",
       "</style>\n",
       "<table border=\"1\" class=\"dataframe\">\n",
       "  <thead>\n",
       "    <tr style=\"text-align: right;\">\n",
       "      <th></th>\n",
       "      <th>Difference in Expected Annual Damage Gorssel-Deventer</th>\n",
       "      <th>Difference in Expected Number of Deaths Gorssel-Deventer</th>\n",
       "      <th>Gorssel Expected Annual Damage</th>\n",
       "      <th>Gorssel Expected Number of Deaths</th>\n",
       "      <th>Gorssel Budget Overrun</th>\n",
       "      <th>Gorssel Total Costs</th>\n",
       "    </tr>\n",
       "  </thead>\n",
       "  <tbody>\n",
       "    <tr>\n",
       "      <th>count</th>\n",
       "      <td>50000.000000</td>\n",
       "      <td>5.000000e+04</td>\n",
       "      <td>5.000000e+04</td>\n",
       "      <td>50000.000000</td>\n",
       "      <td>50000.0</td>\n",
       "      <td>50000.0</td>\n",
       "    </tr>\n",
       "    <tr>\n",
       "      <th>mean</th>\n",
       "      <td>-2195.842747</td>\n",
       "      <td>-1.820303e-06</td>\n",
       "      <td>4.394637e+07</td>\n",
       "      <td>0.021209</td>\n",
       "      <td>0.0</td>\n",
       "      <td>0.0</td>\n",
       "    </tr>\n",
       "    <tr>\n",
       "      <th>std</th>\n",
       "      <td>2558.744855</td>\n",
       "      <td>2.280280e-06</td>\n",
       "      <td>4.660492e+07</td>\n",
       "      <td>0.020512</td>\n",
       "      <td>0.0</td>\n",
       "      <td>0.0</td>\n",
       "    </tr>\n",
       "    <tr>\n",
       "      <th>min</th>\n",
       "      <td>-16316.748534</td>\n",
       "      <td>-1.057313e-05</td>\n",
       "      <td>0.000000e+00</td>\n",
       "      <td>0.000000</td>\n",
       "      <td>0.0</td>\n",
       "      <td>0.0</td>\n",
       "    </tr>\n",
       "    <tr>\n",
       "      <th>0%</th>\n",
       "      <td>-16316.748534</td>\n",
       "      <td>-1.057313e-05</td>\n",
       "      <td>0.000000e+00</td>\n",
       "      <td>0.000000</td>\n",
       "      <td>0.0</td>\n",
       "      <td>0.0</td>\n",
       "    </tr>\n",
       "    <tr>\n",
       "      <th>10%</th>\n",
       "      <td>-5852.691383</td>\n",
       "      <td>-5.174198e-06</td>\n",
       "      <td>2.804631e+06</td>\n",
       "      <td>0.001676</td>\n",
       "      <td>0.0</td>\n",
       "      <td>0.0</td>\n",
       "    </tr>\n",
       "    <tr>\n",
       "      <th>20%</th>\n",
       "      <td>-3362.048957</td>\n",
       "      <td>-3.213099e-06</td>\n",
       "      <td>6.498399e+06</td>\n",
       "      <td>0.004197</td>\n",
       "      <td>0.0</td>\n",
       "      <td>0.0</td>\n",
       "    </tr>\n",
       "    <tr>\n",
       "      <th>30%</th>\n",
       "      <td>-2033.402478</td>\n",
       "      <td>-1.871860e-06</td>\n",
       "      <td>8.958514e+06</td>\n",
       "      <td>0.004837</td>\n",
       "      <td>0.0</td>\n",
       "      <td>0.0</td>\n",
       "    </tr>\n",
       "    <tr>\n",
       "      <th>40%</th>\n",
       "      <td>-1514.690034</td>\n",
       "      <td>-1.173131e-06</td>\n",
       "      <td>1.394666e+07</td>\n",
       "      <td>0.008550</td>\n",
       "      <td>0.0</td>\n",
       "      <td>0.0</td>\n",
       "    </tr>\n",
       "    <tr>\n",
       "      <th>50%</th>\n",
       "      <td>-1213.798597</td>\n",
       "      <td>-7.219704e-07</td>\n",
       "      <td>1.998865e+07</td>\n",
       "      <td>0.010051</td>\n",
       "      <td>0.0</td>\n",
       "      <td>0.0</td>\n",
       "    </tr>\n",
       "    <tr>\n",
       "      <th>60%</th>\n",
       "      <td>-953.867982</td>\n",
       "      <td>-5.878444e-07</td>\n",
       "      <td>4.288003e+07</td>\n",
       "      <td>0.021379</td>\n",
       "      <td>0.0</td>\n",
       "      <td>0.0</td>\n",
       "    </tr>\n",
       "    <tr>\n",
       "      <th>70%</th>\n",
       "      <td>-714.844971</td>\n",
       "      <td>-4.414927e-07</td>\n",
       "      <td>5.867112e+07</td>\n",
       "      <td>0.027932</td>\n",
       "      <td>0.0</td>\n",
       "      <td>0.0</td>\n",
       "    </tr>\n",
       "    <tr>\n",
       "      <th>80%</th>\n",
       "      <td>-537.798878</td>\n",
       "      <td>-3.119646e-07</td>\n",
       "      <td>8.172802e+07</td>\n",
       "      <td>0.039442</td>\n",
       "      <td>0.0</td>\n",
       "      <td>0.0</td>\n",
       "    </tr>\n",
       "    <tr>\n",
       "      <th>90%</th>\n",
       "      <td>-319.137819</td>\n",
       "      <td>-2.045424e-07</td>\n",
       "      <td>1.187810e+08</td>\n",
       "      <td>0.054693</td>\n",
       "      <td>0.0</td>\n",
       "      <td>0.0</td>\n",
       "    </tr>\n",
       "    <tr>\n",
       "      <th>max</th>\n",
       "      <td>0.000000</td>\n",
       "      <td>0.000000e+00</td>\n",
       "      <td>2.294422e+08</td>\n",
       "      <td>0.075454</td>\n",
       "      <td>0.0</td>\n",
       "      <td>0.0</td>\n",
       "    </tr>\n",
       "  </tbody>\n",
       "</table>\n",
       "</div>"
      ],
      "text/plain": [
       "       Difference in Expected Annual Damage Gorssel-Deventer  \\\n",
       "count                                       50000.000000       \n",
       "mean                                        -2195.842747       \n",
       "std                                          2558.744855       \n",
       "min                                        -16316.748534       \n",
       "0%                                         -16316.748534       \n",
       "10%                                         -5852.691383       \n",
       "20%                                         -3362.048957       \n",
       "30%                                         -2033.402478       \n",
       "40%                                         -1514.690034       \n",
       "50%                                         -1213.798597       \n",
       "60%                                          -953.867982       \n",
       "70%                                          -714.844971       \n",
       "80%                                          -537.798878       \n",
       "90%                                          -319.137819       \n",
       "max                                             0.000000       \n",
       "\n",
       "       Difference in Expected Number of Deaths Gorssel-Deventer  \\\n",
       "count                                       5.000000e+04          \n",
       "mean                                       -1.820303e-06          \n",
       "std                                         2.280280e-06          \n",
       "min                                        -1.057313e-05          \n",
       "0%                                         -1.057313e-05          \n",
       "10%                                        -5.174198e-06          \n",
       "20%                                        -3.213099e-06          \n",
       "30%                                        -1.871860e-06          \n",
       "40%                                        -1.173131e-06          \n",
       "50%                                        -7.219704e-07          \n",
       "60%                                        -5.878444e-07          \n",
       "70%                                        -4.414927e-07          \n",
       "80%                                        -3.119646e-07          \n",
       "90%                                        -2.045424e-07          \n",
       "max                                         0.000000e+00          \n",
       "\n",
       "       Gorssel Expected Annual Damage  Gorssel Expected Number of Deaths  \\\n",
       "count                    5.000000e+04                       50000.000000   \n",
       "mean                     4.394637e+07                           0.021209   \n",
       "std                      4.660492e+07                           0.020512   \n",
       "min                      0.000000e+00                           0.000000   \n",
       "0%                       0.000000e+00                           0.000000   \n",
       "10%                      2.804631e+06                           0.001676   \n",
       "20%                      6.498399e+06                           0.004197   \n",
       "30%                      8.958514e+06                           0.004837   \n",
       "40%                      1.394666e+07                           0.008550   \n",
       "50%                      1.998865e+07                           0.010051   \n",
       "60%                      4.288003e+07                           0.021379   \n",
       "70%                      5.867112e+07                           0.027932   \n",
       "80%                      8.172802e+07                           0.039442   \n",
       "90%                      1.187810e+08                           0.054693   \n",
       "max                      2.294422e+08                           0.075454   \n",
       "\n",
       "       Gorssel Budget Overrun   Gorssel Total Costs   \n",
       "count                  50000.0               50000.0  \n",
       "mean                       0.0                   0.0  \n",
       "std                        0.0                   0.0  \n",
       "min                        0.0                   0.0  \n",
       "0%                         0.0                   0.0  \n",
       "10%                        0.0                   0.0  \n",
       "20%                        0.0                   0.0  \n",
       "30%                        0.0                   0.0  \n",
       "40%                        0.0                   0.0  \n",
       "50%                        0.0                   0.0  \n",
       "60%                        0.0                   0.0  \n",
       "70%                        0.0                   0.0  \n",
       "80%                        0.0                   0.0  \n",
       "90%                        0.0                   0.0  \n",
       "max                        0.0                   0.0  "
      ]
     },
     "execution_count": 11,
     "metadata": {},
     "output_type": "execute_result"
    }
   ],
   "source": [
    "outcomes_df.describe(percentiles=np.arange(0, 1, 0.1))"
   ]
  },
  {
   "cell_type": "markdown",
   "id": "determined-chambers",
   "metadata": {},
   "source": [
    "Obviously, without any policies inplace, there also aren't any costs for Gorssel."
   ]
  },
  {
   "cell_type": "code",
   "execution_count": 125,
   "id": "unlike-subsection",
   "metadata": {},
   "outputs": [],
   "source": [
    "# LEGACY\n",
    "def conditional(y):\n",
    "    '''\n",
    "    Define the conditionals for each outcome\n",
    "    '''\n",
    "    # Difference in Expected Annual Damage Gorssel-Deventer\n",
    "    # We do not accept any difference\n",
    "    if y == DIFDAMAGE:\n",
    "        return outcomes_df[y] > np.percentile(a=outcomes[DIFDAMAGE], q=90)\n",
    "    # Expected Annual Damage Gorssel\n",
    "    #\n",
    "    elif y == DAMAGE:\n",
    "        return outcomes_df[y] > np.percentile(a=outcomes[DAMAGE], q=90)\n",
    "    # Difference in Expected Number of Deaths Gorssel-Deventer\n",
    "    # We do not accept any difference\n",
    "    elif y == DIFDEATHS:\n",
    "        return outcomes_df[y] > np.percentile(a=outcomes[DIFDEATHS], q=90)\n",
    "    else:\n",
    "        exit()"
   ]
  },
  {
   "cell_type": "code",
   "execution_count": 12,
   "id": "level-worship",
   "metadata": {},
   "outputs": [],
   "source": [
    "prim_algs = {}\n",
    "for outcome in [DAMAGE, DEATHS]:\n",
    "    #code block below performs a rotation of data\n",
    "#     x_numeric = x.select_dtypes(exclude=pd.CategoricalDtype)\n",
    "#     x_categorical = x.select_dtypes(include=pd.CategoricalDtype)\n",
    "#     rotated_experiments, rotation_matrix = prim.pca_preprocess(x_numeric, conditional(outcome))\n",
    "#     rotated_x = pd.concat([rotated_experiments, x_categorical], axis=1)\n",
    "#     rotated_x.columns = x_numeric.columns.tolist() + x_categorical.columns.tolist()\n",
    "#     x = rotated_x\n",
    "    \n",
    "    prim_algs[outcome] = prim.Prim(x,  outcomes_df[outcome] > np.percentile(a=outcomes[outcome], q=90), threshold=0.8)"
   ]
  },
  {
   "cell_type": "code",
   "execution_count": 15,
   "id": "executed-distance",
   "metadata": {},
   "outputs": [
    {
     "name": "stdout",
     "output_type": "stream",
     "text": [
      "Gorssel Expected Annual Damage\n",
      "Gorssel Expected Number of Deaths\n"
     ]
    }
   ],
   "source": [
    "boxes = {}\n",
    "for key in [DAMAGE, DEATHS]:\n",
    "    print(key)\n",
    "    boxes[key] = prim_algs[key].find_box()"
   ]
  },
  {
   "cell_type": "code",
   "execution_count": 164,
   "id": "specified-anthropology",
   "metadata": {},
   "outputs": [
    {
     "name": "stdout",
     "output_type": "stream",
     "text": [
      "Gorssel Expected Annual Damage\n"
     ]
    },
    {
     "data": {
      "image/png": "[encoded data removed]",
      "text/plain": [
       "<Figure size 432x288 with 2 Axes>"
      ]
     },
     "metadata": {},
     "output_type": "display_data"
    },
    {
     "name": "stdout",
     "output_type": "stream",
     "text": [
      "Gorssel Expected Number of Deaths\n"
     ]
    },
    {
     "data": {
      "image/png": "[encoded data removed]",
      "text/plain": [
       "<Figure size 432x288 with 2 Axes>"
      ]
     },
     "metadata": {},
     "output_type": "display_data"
    }
   ],
   "source": [
    "for key, box in boxes.items():\n",
    "    print(key)\n",
    "    box.show_tradeoff()\n",
    "    plt.show()"
   ]
  },
  {
   "cell_type": "markdown",
   "id": "dependent-madonna",
   "metadata": {},
   "source": [
    "# Trying around to find the right box\n",
    "\n",
    "## Damage"
   ]
  },
  {
   "cell_type": "code",
   "execution_count": 165,
   "id": "awful-placement",
   "metadata": {},
   "outputs": [],
   "source": [
    "box_id=45\n",
    "BOX = DAMAGE"
   ]
  },
  {
   "cell_type": "code",
   "execution_count": 166,
   "id": "supreme-south",
   "metadata": {},
   "outputs": [
    {
     "name": "stdout",
     "output_type": "stream",
     "text": [
      "coverage      0.7944\n",
      "density     0.800322\n",
      "id                45\n",
      "mass         0.09926\n",
      "mean        0.800322\n",
      "res_dim            1\n",
      "Name: 45, dtype: object\n",
      "\n",
      "             box 45                       \n",
      "                min       max    qp values\n",
      "A.4_pfail  0.000014  0.099266  [-1.0, 0.0]\n",
      "\n"
     ]
    },
    {
     "data": {
      "image/png": "[encoded data removed]",
      "text/plain": [
       "<Figure size 432x288 with 1 Axes>"
      ]
     },
     "metadata": {},
     "output_type": "display_data"
    }
   ],
   "source": [
    "boxes[BOX].inspect(box_id)\n",
    "boxes[BOX].inspect(box_id, style='graph')\n",
    "plt.show()"
   ]
  },
  {
   "cell_type": "code",
   "execution_count": 167,
   "id": "federal-resistance",
   "metadata": {},
   "outputs": [
    {
     "ename": "KeyError",
     "evalue": "\"None of [Index([('discount rate 0', 'discount rate 1', 'discount rate 2', 'A.0_ID flood wave shape', 'A.1_Bmax', 'A.1_pfail', 'A.1_Brate', 'A.2_Bmax', 'A.2_pfail', 'A.2_Brate', 'A.3_Bmax', 'A.3_pfail', 'A.3_Brate', 'A.4_Bmax', 'A.4_pfail', 'A.4_Brate', 'A.5_Bmax', 'A.5_pfail', 'A.5_Brate', '0_RfR 0', '0_RfR 1', '0_RfR 2', '1_RfR 0', '1_RfR 1', '1_RfR 2', '2_RfR 0', '2_RfR 1', '2_RfR 2', 'A.1_DikeIncrease 0', 'A.1_DikeIncrease 1', 'A.1_DikeIncrease 2', 'A.2_DikeIncrease 0', 'A.2_DikeIncrease 1', 'A.2_DikeIncrease 2', 'A.3_DikeIncrease 0', 'A.3_DikeIncrease 1', 'A.3_DikeIncrease 2')], dtype='object')] are in the [columns]\"",
     "output_type": "error",
     "traceback": [
      "\u001b[1;31m---------------------------------------------------------------------------\u001b[0m",
      "\u001b[1;31mKeyError\u001b[0m                                  Traceback (most recent call last)",
      "\u001b[1;32m<ipython-input-167-fe92e6de0e35>\u001b[0m in \u001b[0;36m<module>\u001b[1;34m\u001b[0m\n\u001b[1;32m----> 1\u001b[1;33m \u001b[0mboxes\u001b[0m\u001b[1;33m[\u001b[0m\u001b[0mBOX\u001b[0m\u001b[1;33m]\u001b[0m\u001b[1;33m.\u001b[0m\u001b[0mselect\u001b[0m\u001b[1;33m(\u001b[0m\u001b[0mbox_id\u001b[0m\u001b[1;33m)\u001b[0m\u001b[1;33m\u001b[0m\u001b[1;33m\u001b[0m\u001b[0m\n\u001b[0m\u001b[0;32m      2\u001b[0m \u001b[0mboxes\u001b[0m\u001b[1;33m[\u001b[0m\u001b[0mBOX\u001b[0m\u001b[1;33m]\u001b[0m\u001b[1;33m.\u001b[0m\u001b[0mshow_pairs_scatter\u001b[0m\u001b[1;33m(\u001b[0m\u001b[1;33m)\u001b[0m\u001b[1;33m\u001b[0m\u001b[1;33m\u001b[0m\u001b[0m\n\u001b[0;32m      3\u001b[0m \u001b[0mplt\u001b[0m\u001b[1;33m.\u001b[0m\u001b[0mshow\u001b[0m\u001b[1;33m(\u001b[0m\u001b[1;33m)\u001b[0m\u001b[1;33m\u001b[0m\u001b[1;33m\u001b[0m\u001b[0m\n",
      "\u001b[1;32m~\\anaconda3\\envs\\adsim\\lib\\site-packages\\ema_workbench\\analysis\\prim.py\u001b[0m in \u001b[0;36mselect\u001b[1;34m(self, i)\u001b[0m\n\u001b[0;32m    680\u001b[0m \u001b[1;33m\u001b[0m\u001b[0m\n\u001b[0;32m    681\u001b[0m         indices = sdutil._in_box(self.prim.x.loc[self.prim.yi_remaining,\n\u001b[1;32m--> 682\u001b[1;33m                                                  res_dim],\n\u001b[0m\u001b[0;32m    683\u001b[0m                                  self.box_lims[i][res_dim])\n\u001b[0;32m    684\u001b[0m         \u001b[0mself\u001b[0m\u001b[1;33m.\u001b[0m\u001b[0myi\u001b[0m \u001b[1;33m=\u001b[0m \u001b[0mself\u001b[0m\u001b[1;33m.\u001b[0m\u001b[0mprim\u001b[0m\u001b[1;33m.\u001b[0m\u001b[0myi_remaining\u001b[0m\u001b[1;33m[\u001b[0m\u001b[0mindices\u001b[0m\u001b[1;33m]\u001b[0m\u001b[1;33m\u001b[0m\u001b[1;33m\u001b[0m\u001b[0m\n",
      "\u001b[1;32m~\\anaconda3\\envs\\adsim\\lib\\site-packages\\pandas\\core\\indexing.py\u001b[0m in \u001b[0;36m__getitem__\u001b[1;34m(self, key)\u001b[0m\n\u001b[0;32m    887\u001b[0m                     \u001b[1;31m# AttributeError for IntervalTree get_value\u001b[0m\u001b[1;33m\u001b[0m\u001b[1;33m\u001b[0m\u001b[1;33m\u001b[0m\u001b[0m\n\u001b[0;32m    888\u001b[0m                     \u001b[1;32mreturn\u001b[0m \u001b[0mself\u001b[0m\u001b[1;33m.\u001b[0m\u001b[0mobj\u001b[0m\u001b[1;33m.\u001b[0m\u001b[0m_get_value\u001b[0m\u001b[1;33m(\u001b[0m\u001b[1;33m*\u001b[0m\u001b[0mkey\u001b[0m\u001b[1;33m,\u001b[0m \u001b[0mtakeable\u001b[0m\u001b[1;33m=\u001b[0m\u001b[0mself\u001b[0m\u001b[1;33m.\u001b[0m\u001b[0m_takeable\u001b[0m\u001b[1;33m)\u001b[0m\u001b[1;33m\u001b[0m\u001b[1;33m\u001b[0m\u001b[0m\n\u001b[1;32m--> 889\u001b[1;33m             \u001b[1;32mreturn\u001b[0m \u001b[0mself\u001b[0m\u001b[1;33m.\u001b[0m\u001b[0m_getitem_tuple\u001b[0m\u001b[1;33m(\u001b[0m\u001b[0mkey\u001b[0m\u001b[1;33m)\u001b[0m\u001b[1;33m\u001b[0m\u001b[1;33m\u001b[0m\u001b[0m\n\u001b[0m\u001b[0;32m    890\u001b[0m         \u001b[1;32melse\u001b[0m\u001b[1;33m:\u001b[0m\u001b[1;33m\u001b[0m\u001b[1;33m\u001b[0m\u001b[0m\n\u001b[0;32m    891\u001b[0m             \u001b[1;31m# we by definition only have the 0th axis\u001b[0m\u001b[1;33m\u001b[0m\u001b[1;33m\u001b[0m\u001b[1;33m\u001b[0m\u001b[0m\n",
      "\u001b[1;32m~\\anaconda3\\envs\\adsim\\lib\\site-packages\\pandas\\core\\indexing.py\u001b[0m in \u001b[0;36m_getitem_tuple\u001b[1;34m(self, tup)\u001b[0m\n\u001b[0;32m   1065\u001b[0m         \u001b[1;31m# ugly hack for GH #836\u001b[0m\u001b[1;33m\u001b[0m\u001b[1;33m\u001b[0m\u001b[1;33m\u001b[0m\u001b[0m\n\u001b[0;32m   1066\u001b[0m         \u001b[1;32mif\u001b[0m \u001b[0mself\u001b[0m\u001b[1;33m.\u001b[0m\u001b[0m_multi_take_opportunity\u001b[0m\u001b[1;33m(\u001b[0m\u001b[0mtup\u001b[0m\u001b[1;33m)\u001b[0m\u001b[1;33m:\u001b[0m\u001b[1;33m\u001b[0m\u001b[1;33m\u001b[0m\u001b[0m\n\u001b[1;32m-> 1067\u001b[1;33m             \u001b[1;32mreturn\u001b[0m \u001b[0mself\u001b[0m\u001b[1;33m.\u001b[0m\u001b[0m_multi_take\u001b[0m\u001b[1;33m(\u001b[0m\u001b[0mtup\u001b[0m\u001b[1;33m)\u001b[0m\u001b[1;33m\u001b[0m\u001b[1;33m\u001b[0m\u001b[0m\n\u001b[0m\u001b[0;32m   1068\u001b[0m \u001b[1;33m\u001b[0m\u001b[0m\n\u001b[0;32m   1069\u001b[0m         \u001b[1;32mreturn\u001b[0m \u001b[0mself\u001b[0m\u001b[1;33m.\u001b[0m\u001b[0m_getitem_tuple_same_dim\u001b[0m\u001b[1;33m(\u001b[0m\u001b[0mtup\u001b[0m\u001b[1;33m)\u001b[0m\u001b[1;33m\u001b[0m\u001b[1;33m\u001b[0m\u001b[0m\n",
      "\u001b[1;32m~\\anaconda3\\envs\\adsim\\lib\\site-packages\\pandas\\core\\indexing.py\u001b[0m in \u001b[0;36m_multi_take\u001b[1;34m(self, tup)\u001b[0m\n\u001b[0;32m   1019\u001b[0m         d = {\n\u001b[0;32m   1020\u001b[0m             \u001b[0maxis\u001b[0m\u001b[1;33m:\u001b[0m \u001b[0mself\u001b[0m\u001b[1;33m.\u001b[0m\u001b[0m_get_listlike_indexer\u001b[0m\u001b[1;33m(\u001b[0m\u001b[0mkey\u001b[0m\u001b[1;33m,\u001b[0m \u001b[0maxis\u001b[0m\u001b[1;33m)\u001b[0m\u001b[1;33m\u001b[0m\u001b[1;33m\u001b[0m\u001b[0m\n\u001b[1;32m-> 1021\u001b[1;33m             \u001b[1;32mfor\u001b[0m \u001b[1;33m(\u001b[0m\u001b[0mkey\u001b[0m\u001b[1;33m,\u001b[0m \u001b[0maxis\u001b[0m\u001b[1;33m)\u001b[0m \u001b[1;32min\u001b[0m \u001b[0mzip\u001b[0m\u001b[1;33m(\u001b[0m\u001b[0mtup\u001b[0m\u001b[1;33m,\u001b[0m \u001b[0mself\u001b[0m\u001b[1;33m.\u001b[0m\u001b[0mobj\u001b[0m\u001b[1;33m.\u001b[0m\u001b[0m_AXIS_ORDERS\u001b[0m\u001b[1;33m)\u001b[0m\u001b[1;33m\u001b[0m\u001b[1;33m\u001b[0m\u001b[0m\n\u001b[0m\u001b[0;32m   1022\u001b[0m         }\n\u001b[0;32m   1023\u001b[0m         \u001b[1;32mreturn\u001b[0m \u001b[0mself\u001b[0m\u001b[1;33m.\u001b[0m\u001b[0mobj\u001b[0m\u001b[1;33m.\u001b[0m\u001b[0m_reindex_with_indexers\u001b[0m\u001b[1;33m(\u001b[0m\u001b[0md\u001b[0m\u001b[1;33m,\u001b[0m \u001b[0mcopy\u001b[0m\u001b[1;33m=\u001b[0m\u001b[1;32mTrue\u001b[0m\u001b[1;33m,\u001b[0m \u001b[0mallow_dups\u001b[0m\u001b[1;33m=\u001b[0m\u001b[1;32mTrue\u001b[0m\u001b[1;33m)\u001b[0m\u001b[1;33m\u001b[0m\u001b[1;33m\u001b[0m\u001b[0m\n",
      "\u001b[1;32m~\\anaconda3\\envs\\adsim\\lib\\site-packages\\pandas\\core\\indexing.py\u001b[0m in \u001b[0;36m<dictcomp>\u001b[1;34m(.0)\u001b[0m\n\u001b[0;32m   1019\u001b[0m         d = {\n\u001b[0;32m   1020\u001b[0m             \u001b[0maxis\u001b[0m\u001b[1;33m:\u001b[0m \u001b[0mself\u001b[0m\u001b[1;33m.\u001b[0m\u001b[0m_get_listlike_indexer\u001b[0m\u001b[1;33m(\u001b[0m\u001b[0mkey\u001b[0m\u001b[1;33m,\u001b[0m \u001b[0maxis\u001b[0m\u001b[1;33m)\u001b[0m\u001b[1;33m\u001b[0m\u001b[1;33m\u001b[0m\u001b[0m\n\u001b[1;32m-> 1021\u001b[1;33m             \u001b[1;32mfor\u001b[0m \u001b[1;33m(\u001b[0m\u001b[0mkey\u001b[0m\u001b[1;33m,\u001b[0m \u001b[0maxis\u001b[0m\u001b[1;33m)\u001b[0m \u001b[1;32min\u001b[0m \u001b[0mzip\u001b[0m\u001b[1;33m(\u001b[0m\u001b[0mtup\u001b[0m\u001b[1;33m,\u001b[0m \u001b[0mself\u001b[0m\u001b[1;33m.\u001b[0m\u001b[0mobj\u001b[0m\u001b[1;33m.\u001b[0m\u001b[0m_AXIS_ORDERS\u001b[0m\u001b[1;33m)\u001b[0m\u001b[1;33m\u001b[0m\u001b[1;33m\u001b[0m\u001b[0m\n\u001b[0m\u001b[0;32m   1022\u001b[0m         }\n\u001b[0;32m   1023\u001b[0m         \u001b[1;32mreturn\u001b[0m \u001b[0mself\u001b[0m\u001b[1;33m.\u001b[0m\u001b[0mobj\u001b[0m\u001b[1;33m.\u001b[0m\u001b[0m_reindex_with_indexers\u001b[0m\u001b[1;33m(\u001b[0m\u001b[0md\u001b[0m\u001b[1;33m,\u001b[0m \u001b[0mcopy\u001b[0m\u001b[1;33m=\u001b[0m\u001b[1;32mTrue\u001b[0m\u001b[1;33m,\u001b[0m \u001b[0mallow_dups\u001b[0m\u001b[1;33m=\u001b[0m\u001b[1;32mTrue\u001b[0m\u001b[1;33m)\u001b[0m\u001b[1;33m\u001b[0m\u001b[1;33m\u001b[0m\u001b[0m\n",
      "\u001b[1;32m~\\anaconda3\\envs\\adsim\\lib\\site-packages\\pandas\\core\\indexing.py\u001b[0m in \u001b[0;36m_get_listlike_indexer\u001b[1;34m(self, key, axis, raise_missing)\u001b[0m\n\u001b[0;32m   1264\u001b[0m             \u001b[0mkeyarr\u001b[0m\u001b[1;33m,\u001b[0m \u001b[0mindexer\u001b[0m\u001b[1;33m,\u001b[0m \u001b[0mnew_indexer\u001b[0m \u001b[1;33m=\u001b[0m \u001b[0max\u001b[0m\u001b[1;33m.\u001b[0m\u001b[0m_reindex_non_unique\u001b[0m\u001b[1;33m(\u001b[0m\u001b[0mkeyarr\u001b[0m\u001b[1;33m)\u001b[0m\u001b[1;33m\u001b[0m\u001b[1;33m\u001b[0m\u001b[0m\n\u001b[0;32m   1265\u001b[0m \u001b[1;33m\u001b[0m\u001b[0m\n\u001b[1;32m-> 1266\u001b[1;33m         \u001b[0mself\u001b[0m\u001b[1;33m.\u001b[0m\u001b[0m_validate_read_indexer\u001b[0m\u001b[1;33m(\u001b[0m\u001b[0mkeyarr\u001b[0m\u001b[1;33m,\u001b[0m \u001b[0mindexer\u001b[0m\u001b[1;33m,\u001b[0m \u001b[0maxis\u001b[0m\u001b[1;33m,\u001b[0m \u001b[0mraise_missing\u001b[0m\u001b[1;33m=\u001b[0m\u001b[0mraise_missing\u001b[0m\u001b[1;33m)\u001b[0m\u001b[1;33m\u001b[0m\u001b[1;33m\u001b[0m\u001b[0m\n\u001b[0m\u001b[0;32m   1267\u001b[0m         \u001b[1;32mreturn\u001b[0m \u001b[0mkeyarr\u001b[0m\u001b[1;33m,\u001b[0m \u001b[0mindexer\u001b[0m\u001b[1;33m\u001b[0m\u001b[1;33m\u001b[0m\u001b[0m\n\u001b[0;32m   1268\u001b[0m \u001b[1;33m\u001b[0m\u001b[0m\n",
      "\u001b[1;32m~\\anaconda3\\envs\\adsim\\lib\\site-packages\\pandas\\core\\indexing.py\u001b[0m in \u001b[0;36m_validate_read_indexer\u001b[1;34m(self, key, indexer, axis, raise_missing)\u001b[0m\n\u001b[0;32m   1306\u001b[0m             \u001b[1;32mif\u001b[0m \u001b[0mmissing\u001b[0m \u001b[1;33m==\u001b[0m \u001b[0mlen\u001b[0m\u001b[1;33m(\u001b[0m\u001b[0mindexer\u001b[0m\u001b[1;33m)\u001b[0m\u001b[1;33m:\u001b[0m\u001b[1;33m\u001b[0m\u001b[1;33m\u001b[0m\u001b[0m\n\u001b[0;32m   1307\u001b[0m                 \u001b[0maxis_name\u001b[0m \u001b[1;33m=\u001b[0m \u001b[0mself\u001b[0m\u001b[1;33m.\u001b[0m\u001b[0mobj\u001b[0m\u001b[1;33m.\u001b[0m\u001b[0m_get_axis_name\u001b[0m\u001b[1;33m(\u001b[0m\u001b[0maxis\u001b[0m\u001b[1;33m)\u001b[0m\u001b[1;33m\u001b[0m\u001b[1;33m\u001b[0m\u001b[0m\n\u001b[1;32m-> 1308\u001b[1;33m                 \u001b[1;32mraise\u001b[0m \u001b[0mKeyError\u001b[0m\u001b[1;33m(\u001b[0m\u001b[1;34mf\"None of [{key}] are in the [{axis_name}]\"\u001b[0m\u001b[1;33m)\u001b[0m\u001b[1;33m\u001b[0m\u001b[1;33m\u001b[0m\u001b[0m\n\u001b[0m\u001b[0;32m   1309\u001b[0m \u001b[1;33m\u001b[0m\u001b[0m\n\u001b[0;32m   1310\u001b[0m             \u001b[0max\u001b[0m \u001b[1;33m=\u001b[0m \u001b[0mself\u001b[0m\u001b[1;33m.\u001b[0m\u001b[0mobj\u001b[0m\u001b[1;33m.\u001b[0m\u001b[0m_get_axis\u001b[0m\u001b[1;33m(\u001b[0m\u001b[0maxis\u001b[0m\u001b[1;33m)\u001b[0m\u001b[1;33m\u001b[0m\u001b[1;33m\u001b[0m\u001b[0m\n",
      "\u001b[1;31mKeyError\u001b[0m: \"None of [Index([('discount rate 0', 'discount rate 1', 'discount rate 2', 'A.0_ID flood wave shape', 'A.1_Bmax', 'A.1_pfail', 'A.1_Brate', 'A.2_Bmax', 'A.2_pfail', 'A.2_Brate', 'A.3_Bmax', 'A.3_pfail', 'A.3_Brate', 'A.4_Bmax', 'A.4_pfail', 'A.4_Brate', 'A.5_Bmax', 'A.5_pfail', 'A.5_Brate', '0_RfR 0', '0_RfR 1', '0_RfR 2', '1_RfR 0', '1_RfR 1', '1_RfR 2', '2_RfR 0', '2_RfR 1', '2_RfR 2', 'A.1_DikeIncrease 0', 'A.1_DikeIncrease 1', 'A.1_DikeIncrease 2', 'A.2_DikeIncrease 0', 'A.2_DikeIncrease 1', 'A.2_DikeIncrease 2', 'A.3_DikeIncrease 0', 'A.3_DikeIncrease 1', 'A.3_DikeIncrease 2')], dtype='object')] are in the [columns]\""
     ]
    }
   ],
   "source": [
    "boxes[BOX].select(box_id)\n",
    "boxes[BOX].show_pairs_scatter()\n",
    "plt.show()"
   ]
  },
  {
   "cell_type": "code",
   "execution_count": 168,
   "id": "failing-perfume",
   "metadata": {},
   "outputs": [],
   "source": [
    "lims = boxes[BOX].box_lims[box_id]"
   ]
  },
  {
   "cell_type": "code",
   "execution_count": 169,
   "id": "hybrid-privacy",
   "metadata": {},
   "outputs": [],
   "source": [
    "limits = pd.DataFrame(data={\"outcome\": [\"damage\"], \"min\": [lims[\"A.4_pfail\"][0]], \"max\" :  [lims[\"A.4_pfail\"][1]]})"
   ]
  },
  {
   "cell_type": "code",
   "execution_count": 170,
   "id": "headed-dryer",
   "metadata": {},
   "outputs": [
    {
     "data": {
      "text/html": [
       "<div>\n",
       "<style scoped>\n",
       "    .dataframe tbody tr th:only-of-type {\n",
       "        vertical-align: middle;\n",
       "    }\n",
       "\n",
       "    .dataframe tbody tr th {\n",
       "        vertical-align: top;\n",
       "    }\n",
       "\n",
       "    .dataframe thead th {\n",
       "        text-align: right;\n",
       "    }\n",
       "</style>\n",
       "<table border=\"1\" class=\"dataframe\">\n",
       "  <thead>\n",
       "    <tr style=\"text-align: right;\">\n",
       "      <th></th>\n",
       "      <th>outcome</th>\n",
       "      <th>min</th>\n",
       "      <th>max</th>\n",
       "    </tr>\n",
       "  </thead>\n",
       "  <tbody>\n",
       "    <tr>\n",
       "      <th>0</th>\n",
       "      <td>damage</td>\n",
       "      <td>0.000014</td>\n",
       "      <td>0.099266</td>\n",
       "    </tr>\n",
       "  </tbody>\n",
       "</table>\n",
       "</div>"
      ],
      "text/plain": [
       "  outcome       min       max\n",
       "0  damage  0.000014  0.099266"
      ]
     },
     "execution_count": 170,
     "metadata": {},
     "output_type": "execute_result"
    }
   ],
   "source": [
    "limits"
   ]
  },
  {
   "cell_type": "markdown",
   "id": "knowing-vintage",
   "metadata": {},
   "source": [
    "## Deaths"
   ]
  },
  {
   "cell_type": "code",
   "execution_count": 171,
   "id": "activated-evaluation",
   "metadata": {},
   "outputs": [],
   "source": [
    "box_id=42\n",
    "BOX = DEATHS"
   ]
  },
  {
   "cell_type": "code",
   "execution_count": 172,
   "id": "fleet-excuse",
   "metadata": {},
   "outputs": [
    {
     "name": "stdout",
     "output_type": "stream",
     "text": [
      "coverage    0.954746\n",
      "density     0.823347\n",
      "id                42\n",
      "mass         0.11582\n",
      "mean        0.823347\n",
      "res_dim            1\n",
      "Name: 42, dtype: object\n",
      "\n",
      "             box 42                       \n",
      "                min       max    qp values\n",
      "A.4_pfail  0.000014  0.115819  [-1.0, 0.0]\n",
      "\n"
     ]
    },
    {
     "data": {
      "image/png": "[encoded data removed]",
      "text/plain": [
       "<Figure size 432x288 with 1 Axes>"
      ]
     },
     "metadata": {},
     "output_type": "display_data"
    }
   ],
   "source": [
    "boxes[BOX].inspect(box_id)\n",
    "boxes[BOX].inspect(box_id, style='graph')\n",
    "plt.show()"
   ]
  },
  {
   "cell_type": "code",
   "execution_count": 173,
   "id": "unauthorized-demographic",
   "metadata": {},
   "outputs": [
    {
     "data": {
      "image/png": "[encoded data removed]",
      "text/plain": [
       "<Figure size 194.8x180 with 2 Axes>"
      ]
     },
     "metadata": {},
     "output_type": "display_data"
    }
   ],
   "source": [
    "boxes[BOX].select(box_id)\n",
    "boxes[BOX].show_pairs_scatter()\n",
    "plt.show()"
   ]
  },
  {
   "cell_type": "code",
   "execution_count": 174,
   "id": "completed-unknown",
   "metadata": {},
   "outputs": [],
   "source": [
    "lims2 = boxes[BOX].box_lims[box_id]"
   ]
  },
  {
   "cell_type": "code",
   "execution_count": 175,
   "id": "premier-editing",
   "metadata": {},
   "outputs": [],
   "source": [
    "limits = pd.concat([limits, pd.DataFrame(data={\"outcome\": [\"deaths\"], \"min\": [lims2[\"A.4_pfail\"][0]], \"max\" :  [lims2[\"A.4_pfail\"][1]]})], axis=0)"
   ]
  },
  {
   "cell_type": "code",
   "execution_count": 176,
   "id": "alike-albania",
   "metadata": {},
   "outputs": [],
   "source": [
    "limits =limits.reset_index(drop=True)"
   ]
  },
  {
   "cell_type": "code",
   "execution_count": 229,
   "id": "molecular-qatar",
   "metadata": {},
   "outputs": [
    {
     "data": {
      "text/html": [
       "<div>\n",
       "<style scoped>\n",
       "    .dataframe tbody tr th:only-of-type {\n",
       "        vertical-align: middle;\n",
       "    }\n",
       "\n",
       "    .dataframe tbody tr th {\n",
       "        vertical-align: top;\n",
       "    }\n",
       "\n",
       "    .dataframe thead th {\n",
       "        text-align: right;\n",
       "    }\n",
       "</style>\n",
       "<table border=\"1\" class=\"dataframe\">\n",
       "  <thead>\n",
       "    <tr style=\"text-align: right;\">\n",
       "      <th></th>\n",
       "      <th>outcome</th>\n",
       "      <th>min</th>\n",
       "      <th>max</th>\n",
       "    </tr>\n",
       "  </thead>\n",
       "  <tbody>\n",
       "    <tr>\n",
       "      <th>0</th>\n",
       "      <td>damage</td>\n",
       "      <td>0.000014</td>\n",
       "      <td>0.099266</td>\n",
       "    </tr>\n",
       "    <tr>\n",
       "      <th>1</th>\n",
       "      <td>deaths</td>\n",
       "      <td>0.000014</td>\n",
       "      <td>0.115819</td>\n",
       "    </tr>\n",
       "  </tbody>\n",
       "</table>\n",
       "</div>"
      ],
      "text/plain": [
       "  outcome       min       max\n",
       "0  damage  0.000014  0.099266\n",
       "1  deaths  0.000014  0.115819"
      ]
     },
     "execution_count": 229,
     "metadata": {},
     "output_type": "execute_result"
    }
   ],
   "source": [
    "limits"
   ]
  },
  {
   "cell_type": "code",
   "execution_count": 249,
   "id": "connected-congo",
   "metadata": {},
   "outputs": [
    {
     "data": {
      "image/png": "[encoded data removed]",
      "text/plain": [
       "<Figure size 504x360 with 1 Axes>"
      ]
     },
     "metadata": {},
     "output_type": "display_data"
    }
   ],
   "source": [
    "fig = plt.figure(figsize=[7,5])\n",
    "ax = fig.add_subplot(111)\n",
    "for index in limits.index:\n",
    "    plt.plot([limits.loc[index][\"min\"],limits.loc[index][\"max\"]], [index,index])\n",
    "    ax.annotate('{:.3f}'.format(limits.loc[index][\"min\"]),xy=(limits.loc[index][\"min\"],index +0.01))\n",
    "    ax.annotate('{:.3f}'.format(limits.loc[index][\"max\"]),xy=(limits.loc[index][\"max\"]-0.01,index +0.01))\n",
    "ax.grid(False)\n",
    "ax.set_ylim([-1,2])\n",
    "plt.legend(limits[\"outcome\"].values)    \n",
    "plt.yticks([0, 1], [\"A.4_pfail\"]*2)\n",
    "plt.grid(False)\n",
    "plt.title(\"Gorssel uncertainties for worst 10th percentile\")\n",
    "plt.show()"
   ]
  },
  {
   "cell_type": "code",
   "execution_count": null,
   "id": "subsequent-industry",
   "metadata": {},
   "outputs": [],
   "source": []
  }
 ],
 "metadata": {
  "kernelspec": {
   "display_name": "Python 3",
   "language": "python",
   "name": "python3"
  },
  "language_info": {
   "codemirror_mode": {
    "name": "ipython",
    "version": 3
   },
   "file_extension": ".py",
   "mimetype": "text/x-python",
   "name": "python",
   "nbconvert_exporter": "python",
   "pygments_lexer": "ipython3",
   "version": "3.7.9"
  }
 },
 "nbformat": 4,
 "nbformat_minor": 5
}
