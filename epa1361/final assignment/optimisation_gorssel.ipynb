{
 "cells": [
  {
   "cell_type": "code",
   "execution_count": 1,
   "id": "768cf3ee",
   "metadata": {},
   "outputs": [],
   "source": [
    "from ema_workbench import Scenario, Policy, MultiprocessingEvaluator, ema_logging, load_results, save_results\n",
    "from ema_workbench.analysis import prim\n",
    "from problem_formulation import get_model_for_problem_formulation\n",
    "from ema_workbench.em_framework.evaluators import BaseEvaluator\n",
    "\n",
    "from ema_workbench.em_framework.optimization import (HyperVolume,\n",
    "                                                     EpsilonProgress)\n",
    "import matplotlib.pyplot as plt\n",
    "import pandas as pd\n",
    "import numpy as np\n",
    "from ema_workbench.analysis import parcoords\n",
    "import seaborn as sns\n",
    "import random\n",
    "from sklearn import preprocessing"
   ]
  },
  {
   "cell_type": "code",
   "execution_count": 2,
   "id": "66ed9117",
   "metadata": {},
   "outputs": [],
   "source": [
    "ACTORNAME = \"Gorssel\"\n",
    "dike_model, planning_steps = get_model_for_problem_formulation(ACTORNAME)\n",
    "outcomekeys = [outcome.name for outcome in dike_model.outcomes]"
   ]
  },
  {
   "cell_type": "markdown",
   "id": "71f390e7",
   "metadata": {},
   "source": [
    "# Scenario selection"
   ]
  },
  {
   "cell_type": "code",
   "execution_count": 3,
   "id": "eb12dbe6",
   "metadata": {},
   "outputs": [],
   "source": [
    "ACTOR = \"genscen_Gorssel_50000_12-06-2021-03-06-15.tar.gz\"\n",
    "experiments, outcomes = load_results(\"simulation/generated/\" + ACTOR)\n",
    "outcomes_df = pd.DataFrame(outcomes)"
   ]
  },
  {
   "cell_type": "code",
   "execution_count": 4,
   "id": "64a42526",
   "metadata": {},
   "outputs": [
    {
     "data": {
      "text/plain": [
       "['Difference in Expected Annual Damage Gorssel-Deventer',\n",
       " 'Difference in Expected Number of Deaths Gorssel-Deventer',\n",
       " 'Gorssel Expected Annual Damage',\n",
       " 'Gorssel Expected Number of Deaths',\n",
       " 'Gorssel Total Costs']"
      ]
     },
     "execution_count": 4,
     "metadata": {},
     "output_type": "execute_result"
    }
   ],
   "source": [
    "outcomes_df.columns.values.tolist()"
   ]
  },
  {
   "cell_type": "code",
   "execution_count": 5,
   "id": "4ab058fa",
   "metadata": {},
   "outputs": [
    {
     "data": {
      "text/html": [
       "<div>\n",
       "<style scoped>\n",
       "    .dataframe tbody tr th:only-of-type {\n",
       "        vertical-align: middle;\n",
       "    }\n",
       "\n",
       "    .dataframe tbody tr th {\n",
       "        vertical-align: top;\n",
       "    }\n",
       "\n",
       "    .dataframe thead th {\n",
       "        text-align: right;\n",
       "    }\n",
       "</style>\n",
       "<table border=\"1\" class=\"dataframe\">\n",
       "  <thead>\n",
       "    <tr style=\"text-align: right;\">\n",
       "      <th></th>\n",
       "      <th>Difference in Expected Annual Damage Gorssel-Deventer</th>\n",
       "      <th>Difference in Expected Number of Deaths Gorssel-Deventer</th>\n",
       "      <th>Gorssel Expected Annual Damage</th>\n",
       "      <th>Gorssel Expected Number of Deaths</th>\n",
       "      <th>Gorssel Total Costs</th>\n",
       "    </tr>\n",
       "  </thead>\n",
       "  <tbody>\n",
       "    <tr>\n",
       "      <th>0</th>\n",
       "      <td>-1219.596387</td>\n",
       "      <td>-9.711846e-07</td>\n",
       "      <td>9.488213e+06</td>\n",
       "      <td>0.004926</td>\n",
       "      <td>0.0</td>\n",
       "    </tr>\n",
       "    <tr>\n",
       "      <th>1</th>\n",
       "      <td>-393.024418</td>\n",
       "      <td>-2.241158e-07</td>\n",
       "      <td>3.958503e+07</td>\n",
       "      <td>0.022573</td>\n",
       "      <td>0.0</td>\n",
       "    </tr>\n",
       "    <tr>\n",
       "      <th>2</th>\n",
       "      <td>-1511.088849</td>\n",
       "      <td>-6.855404e-07</td>\n",
       "      <td>1.521954e+08</td>\n",
       "      <td>0.069047</td>\n",
       "      <td>0.0</td>\n",
       "    </tr>\n",
       "    <tr>\n",
       "      <th>3</th>\n",
       "      <td>-149.944611</td>\n",
       "      <td>-9.245500e-08</td>\n",
       "      <td>1.510227e+07</td>\n",
       "      <td>0.009312</td>\n",
       "      <td>0.0</td>\n",
       "    </tr>\n",
       "    <tr>\n",
       "      <th>4</th>\n",
       "      <td>-536.744525</td>\n",
       "      <td>-3.516669e-07</td>\n",
       "      <td>5.406037e+07</td>\n",
       "      <td>0.035420</td>\n",
       "      <td>0.0</td>\n",
       "    </tr>\n",
       "    <tr>\n",
       "      <th>...</th>\n",
       "      <td>...</td>\n",
       "      <td>...</td>\n",
       "      <td>...</td>\n",
       "      <td>...</td>\n",
       "      <td>...</td>\n",
       "    </tr>\n",
       "    <tr>\n",
       "      <th>49995</th>\n",
       "      <td>-695.221991</td>\n",
       "      <td>-3.872856e-07</td>\n",
       "      <td>7.002206e+07</td>\n",
       "      <td>0.039007</td>\n",
       "      <td>0.0</td>\n",
       "    </tr>\n",
       "    <tr>\n",
       "      <th>49996</th>\n",
       "      <td>-3266.659209</td>\n",
       "      <td>-2.565056e-06</td>\n",
       "      <td>7.221858e+07</td>\n",
       "      <td>0.034183</td>\n",
       "      <td>0.0</td>\n",
       "    </tr>\n",
       "    <tr>\n",
       "      <th>49997</th>\n",
       "      <td>-300.839149</td>\n",
       "      <td>-1.813858e-07</td>\n",
       "      <td>1.075421e+07</td>\n",
       "      <td>0.004638</td>\n",
       "      <td>0.0</td>\n",
       "    </tr>\n",
       "    <tr>\n",
       "      <th>49998</th>\n",
       "      <td>-6792.876649</td>\n",
       "      <td>-5.842054e-06</td>\n",
       "      <td>1.203924e+07</td>\n",
       "      <td>0.005334</td>\n",
       "      <td>0.0</td>\n",
       "    </tr>\n",
       "    <tr>\n",
       "      <th>49999</th>\n",
       "      <td>-1081.757564</td>\n",
       "      <td>-4.979500e-07</td>\n",
       "      <td>9.712141e+07</td>\n",
       "      <td>0.040641</td>\n",
       "      <td>0.0</td>\n",
       "    </tr>\n",
       "  </tbody>\n",
       "</table>\n",
       "<p>50000 rows × 5 columns</p>\n",
       "</div>"
      ],
      "text/plain": [
       "       Difference in Expected Annual Damage Gorssel-Deventer  \\\n",
       "0                                           -1219.596387       \n",
       "1                                            -393.024418       \n",
       "2                                           -1511.088849       \n",
       "3                                            -149.944611       \n",
       "4                                            -536.744525       \n",
       "...                                                  ...       \n",
       "49995                                        -695.221991       \n",
       "49996                                       -3266.659209       \n",
       "49997                                        -300.839149       \n",
       "49998                                       -6792.876649       \n",
       "49999                                       -1081.757564       \n",
       "\n",
       "       Difference in Expected Number of Deaths Gorssel-Deventer  \\\n",
       "0                                          -9.711846e-07          \n",
       "1                                          -2.241158e-07          \n",
       "2                                          -6.855404e-07          \n",
       "3                                          -9.245500e-08          \n",
       "4                                          -3.516669e-07          \n",
       "...                                                  ...          \n",
       "49995                                      -3.872856e-07          \n",
       "49996                                      -2.565056e-06          \n",
       "49997                                      -1.813858e-07          \n",
       "49998                                      -5.842054e-06          \n",
       "49999                                      -4.979500e-07          \n",
       "\n",
       "       Gorssel Expected Annual Damage  Gorssel Expected Number of Deaths  \\\n",
       "0                        9.488213e+06                           0.004926   \n",
       "1                        3.958503e+07                           0.022573   \n",
       "2                        1.521954e+08                           0.069047   \n",
       "3                        1.510227e+07                           0.009312   \n",
       "4                        5.406037e+07                           0.035420   \n",
       "...                               ...                                ...   \n",
       "49995                    7.002206e+07                           0.039007   \n",
       "49996                    7.221858e+07                           0.034183   \n",
       "49997                    1.075421e+07                           0.004638   \n",
       "49998                    1.203924e+07                           0.005334   \n",
       "49999                    9.712141e+07                           0.040641   \n",
       "\n",
       "       Gorssel Total Costs  \n",
       "0                      0.0  \n",
       "1                      0.0  \n",
       "2                      0.0  \n",
       "3                      0.0  \n",
       "4                      0.0  \n",
       "...                    ...  \n",
       "49995                  0.0  \n",
       "49996                  0.0  \n",
       "49997                  0.0  \n",
       "49998                  0.0  \n",
       "49999                  0.0  \n",
       "\n",
       "[50000 rows x 5 columns]"
      ]
     },
     "execution_count": 5,
     "metadata": {},
     "output_type": "execute_result"
    }
   ],
   "source": [
    "outcomes_df"
   ]
  },
  {
   "cell_type": "code",
   "execution_count": 6,
   "id": "ba2818d6",
   "metadata": {},
   "outputs": [],
   "source": [
    "DAMAGE = outcomes_df.columns[2]\n",
    "DEATHS = outcomes_df.columns[3]\n",
    "COSTS = outcomes_df.columns[4]"
   ]
  },
  {
   "cell_type": "markdown",
   "id": "222d303d",
   "metadata": {},
   "source": [
    "We are interested in the correlation between Deaths and Damage"
   ]
  },
  {
   "cell_type": "code",
   "execution_count": 7,
   "id": "29690b83",
   "metadata": {},
   "outputs": [
    {
     "data": {
      "text/plain": [
       "0.9776021595504575"
      ]
     },
     "execution_count": 7,
     "metadata": {},
     "output_type": "execute_result"
    }
   ],
   "source": [
    "outcomes_df[DAMAGE].corr(outcomes_df[DEATHS])"
   ]
  },
  {
   "cell_type": "markdown",
   "id": "44e1e7f8",
   "metadata": {},
   "source": [
    "So the correlation is INSANE"
   ]
  },
  {
   "cell_type": "code",
   "execution_count": 8,
   "id": "762ab381",
   "metadata": {},
   "outputs": [],
   "source": [
    "results = pd.concat([experiments, outcomes_df], axis=1)"
   ]
  },
  {
   "cell_type": "code",
   "execution_count": 9,
   "id": "7d9535c4",
   "metadata": {},
   "outputs": [],
   "source": [
    "uncertainties =list(dike_model.uncertainties._data.keys())"
   ]
  },
  {
   "cell_type": "code",
   "execution_count": 10,
   "id": "2da8fb3d",
   "metadata": {},
   "outputs": [
    {
     "name": "stdout",
     "output_type": "stream",
     "text": [
      "Difference in Expected Annual Damage Gorssel-Deventer        138\n",
      "Difference in Expected Number of Deaths Gorssel-Deventer     138\n",
      "Gorssel Expected Annual Damage                              6013\n",
      "Gorssel Expected Number of Deaths                            631\n",
      "Gorssel Total Costs                                            0\n",
      "dtype: int64\n",
      "Difference in Expected Annual Damage Gorssel-Deventer       47744\n",
      "Difference in Expected Number of Deaths Gorssel-Deventer    22031\n",
      "Gorssel Expected Annual Damage                                  7\n",
      "Gorssel Expected Number of Deaths                               7\n",
      "Gorssel Total Costs                                             0\n",
      "dtype: int64\n"
     ]
    }
   ],
   "source": [
    "print(outcomes_df.idxmax())\n",
    "print(outcomes_df.idxmin())"
   ]
  },
  {
   "cell_type": "code",
   "execution_count": 11,
   "id": "5d8e8603",
   "metadata": {},
   "outputs": [],
   "source": [
    "middle_damage_df = results.loc[(results[DAMAGE] > np.percentile(a=outcomes[DAMAGE], q=23)) & (results[DAMAGE] <= np.percentile(a=outcomes[DAMAGE], q=27))]\n",
    "middle_deaths_df = results.loc[(results[DEATHS] > np.percentile(a=outcomes[DEATHS], q=23)) & (results[DEATHS] <= np.percentile(a=outcomes[DEATHS], q=27))]\n",
    "twentyfive = random.choice(list(set(middle_damage_df[\"scenario\"].tolist()) & set(middle_deaths_df[\"scenario\"].tolist())))"
   ]
  },
  {
   "cell_type": "code",
   "execution_count": 12,
   "id": "3a1e30b9",
   "metadata": {},
   "outputs": [],
   "source": [
    "middle_damage_df = results.loc[(results[DAMAGE] > np.percentile(a=outcomes[DAMAGE], q=48)) & (results[DAMAGE] <= np.percentile(a=outcomes[DAMAGE], q=52))]\n",
    "middle_deaths_df = results.loc[(results[DEATHS] > np.percentile(a=outcomes[DEATHS], q=48)) & (results[DEATHS] <= np.percentile(a=outcomes[DEATHS], q=52))]\n",
    "fifty = random.choice(list(set(middle_damage_df[\"scenario\"].tolist()) & set(middle_deaths_df[\"scenario\"].tolist())))"
   ]
  },
  {
   "cell_type": "code",
   "execution_count": 13,
   "id": "845d95e8",
   "metadata": {},
   "outputs": [],
   "source": [
    "middle_damage_df = results.loc[(results[DAMAGE] > np.percentile(a=outcomes[DAMAGE], q=73)) & (results[DAMAGE] <= np.percentile(a=outcomes[DAMAGE], q=77))]\n",
    "middle_deaths_df = results.loc[(results[DEATHS] > np.percentile(a=outcomes[DEATHS], q=73)) & (results[DEATHS] <= np.percentile(a=outcomes[DEATHS], q=77))]\n",
    "seventyfive = random.choice(list(set(middle_damage_df[\"scenario\"].tolist()) & set(middle_deaths_df[\"scenario\"].tolist())))"
   ]
  },
  {
   "cell_type": "code",
   "execution_count": 14,
   "id": "b39d8d63",
   "metadata": {},
   "outputs": [],
   "source": [
    "min_max_scaler = preprocessing.MinMaxScaler()\n",
    "damage_scaled = min_max_scaler.fit_transform(pd.DataFrame(outcomes[DAMAGE]).values)\n",
    "deaths_scaled = min_max_scaler.fit_transform(pd.DataFrame(outcomes[DEATHS]).values)\n",
    "scaled = (damage_scaled + deaths_scaled)/2"
   ]
  },
  {
   "cell_type": "code",
   "execution_count": 15,
   "id": "32522e48",
   "metadata": {},
   "outputs": [],
   "source": [
    "outcomes_df[\"Scaled\"] = scaled\n",
    "SCALED = 'Scaled'"
   ]
  },
  {
   "cell_type": "code",
   "execution_count": 16,
   "id": "9d8e9570",
   "metadata": {},
   "outputs": [
    {
     "data": {
      "text/plain": [
       "6013"
      ]
     },
     "execution_count": 16,
     "metadata": {},
     "output_type": "execute_result"
    }
   ],
   "source": [
    "outcomes_df.sort_values(by=\"Scaled\", ascending=False).head(1).index[0]"
   ]
  },
  {
   "cell_type": "code",
   "execution_count": 17,
   "id": "228e9734",
   "metadata": {},
   "outputs": [
    {
     "data": {
      "text/plain": [
       "[7, 22301, 31243, 14140, 631, 6013]"
      ]
     },
     "execution_count": 17,
     "metadata": {},
     "output_type": "execute_result"
    }
   ],
   "source": [
    "idx = [outcomes_df.idxmin()[DAMAGE], twentyfive, fifty, seventyfive, outcomes_df.idxmax()[DEATHS], outcomes_df.idxmax()[DAMAGE]]\n",
    "idx"
   ]
  },
  {
   "cell_type": "markdown",
   "id": "2e899d44",
   "metadata": {},
   "source": [
    "Wow, worst damage is the same as absolute worst. wowowowowo"
   ]
  },
  {
   "cell_type": "code",
   "execution_count": 18,
   "id": "595a36db",
   "metadata": {},
   "outputs": [],
   "source": [
    "cases = {0: \"best\", 1: \"low\", 2: \"middle\", 3: \"high\", 4: \"worst deaths\", 5: \"absolute worst\"}"
   ]
  },
  {
   "cell_type": "code",
   "execution_count": 19,
   "id": "163167d9",
   "metadata": {},
   "outputs": [],
   "source": [
    "selected = results.iloc[idx]"
   ]
  },
  {
   "cell_type": "code",
   "execution_count": 20,
   "id": "22906ca4",
   "metadata": {},
   "outputs": [],
   "source": [
    "selected = selected.loc[:,  uncertainties]"
   ]
  },
  {
   "cell_type": "code",
   "execution_count": 21,
   "id": "60d95b47",
   "metadata": {},
   "outputs": [],
   "source": [
    "scenarios = [Scenario(f\"{index}\", **row) for index, row in selected.iterrows()]"
   ]
  },
  {
   "cell_type": "code",
   "execution_count": 22,
   "id": "1631b02f",
   "metadata": {},
   "outputs": [
    {
     "data": {
      "text/html": [
       "<div>\n",
       "<style scoped>\n",
       "    .dataframe tbody tr th:only-of-type {\n",
       "        vertical-align: middle;\n",
       "    }\n",
       "\n",
       "    .dataframe tbody tr th {\n",
       "        vertical-align: top;\n",
       "    }\n",
       "\n",
       "    .dataframe thead th {\n",
       "        text-align: right;\n",
       "    }\n",
       "</style>\n",
       "<table border=\"1\" class=\"dataframe\">\n",
       "  <thead>\n",
       "    <tr style=\"text-align: right;\">\n",
       "      <th></th>\n",
       "      <th>Difference in Expected Annual Damage Gorssel-Deventer</th>\n",
       "      <th>Difference in Expected Number of Deaths Gorssel-Deventer</th>\n",
       "      <th>Gorssel Expected Annual Damage</th>\n",
       "      <th>Gorssel Expected Number of Deaths</th>\n",
       "      <th>Gorssel Total Costs</th>\n",
       "      <th>Scaled</th>\n",
       "    </tr>\n",
       "  </thead>\n",
       "  <tbody>\n",
       "    <tr>\n",
       "      <th>count</th>\n",
       "      <td>50000.000000</td>\n",
       "      <td>5.000000e+04</td>\n",
       "      <td>5.000000e+04</td>\n",
       "      <td>50000.000000</td>\n",
       "      <td>50000.0</td>\n",
       "      <td>50000.000000</td>\n",
       "    </tr>\n",
       "    <tr>\n",
       "      <th>mean</th>\n",
       "      <td>-2195.842747</td>\n",
       "      <td>-1.820303e-06</td>\n",
       "      <td>4.394637e+07</td>\n",
       "      <td>0.021209</td>\n",
       "      <td>0.0</td>\n",
       "      <td>0.236309</td>\n",
       "    </tr>\n",
       "    <tr>\n",
       "      <th>std</th>\n",
       "      <td>2558.744855</td>\n",
       "      <td>2.280280e-06</td>\n",
       "      <td>4.660492e+07</td>\n",
       "      <td>0.020512</td>\n",
       "      <td>0.0</td>\n",
       "      <td>0.236181</td>\n",
       "    </tr>\n",
       "    <tr>\n",
       "      <th>min</th>\n",
       "      <td>-16316.748534</td>\n",
       "      <td>-1.057313e-05</td>\n",
       "      <td>0.000000e+00</td>\n",
       "      <td>0.000000</td>\n",
       "      <td>0.0</td>\n",
       "      <td>0.000000</td>\n",
       "    </tr>\n",
       "    <tr>\n",
       "      <th>25%</th>\n",
       "      <td>-2541.739195</td>\n",
       "      <td>-2.238291e-06</td>\n",
       "      <td>7.665181e+06</td>\n",
       "      <td>0.004574</td>\n",
       "      <td>0.0</td>\n",
       "      <td>0.046843</td>\n",
       "    </tr>\n",
       "    <tr>\n",
       "      <th>50%</th>\n",
       "      <td>-1213.798597</td>\n",
       "      <td>-7.219704e-07</td>\n",
       "      <td>1.998865e+07</td>\n",
       "      <td>0.010051</td>\n",
       "      <td>0.0</td>\n",
       "      <td>0.109276</td>\n",
       "    </tr>\n",
       "    <tr>\n",
       "      <th>75%</th>\n",
       "      <td>-622.485415</td>\n",
       "      <td>-3.796526e-07</td>\n",
       "      <td>6.780248e+07</td>\n",
       "      <td>0.033520</td>\n",
       "      <td>0.0</td>\n",
       "      <td>0.370520</td>\n",
       "    </tr>\n",
       "    <tr>\n",
       "      <th>max</th>\n",
       "      <td>0.000000</td>\n",
       "      <td>0.000000e+00</td>\n",
       "      <td>2.294422e+08</td>\n",
       "      <td>0.075454</td>\n",
       "      <td>0.0</td>\n",
       "      <td>0.996574</td>\n",
       "    </tr>\n",
       "  </tbody>\n",
       "</table>\n",
       "</div>"
      ],
      "text/plain": [
       "       Difference in Expected Annual Damage Gorssel-Deventer  \\\n",
       "count                                       50000.000000       \n",
       "mean                                        -2195.842747       \n",
       "std                                          2558.744855       \n",
       "min                                        -16316.748534       \n",
       "25%                                         -2541.739195       \n",
       "50%                                         -1213.798597       \n",
       "75%                                          -622.485415       \n",
       "max                                             0.000000       \n",
       "\n",
       "       Difference in Expected Number of Deaths Gorssel-Deventer  \\\n",
       "count                                       5.000000e+04          \n",
       "mean                                       -1.820303e-06          \n",
       "std                                         2.280280e-06          \n",
       "min                                        -1.057313e-05          \n",
       "25%                                        -2.238291e-06          \n",
       "50%                                        -7.219704e-07          \n",
       "75%                                        -3.796526e-07          \n",
       "max                                         0.000000e+00          \n",
       "\n",
       "       Gorssel Expected Annual Damage  Gorssel Expected Number of Deaths  \\\n",
       "count                    5.000000e+04                       50000.000000   \n",
       "mean                     4.394637e+07                           0.021209   \n",
       "std                      4.660492e+07                           0.020512   \n",
       "min                      0.000000e+00                           0.000000   \n",
       "25%                      7.665181e+06                           0.004574   \n",
       "50%                      1.998865e+07                           0.010051   \n",
       "75%                      6.780248e+07                           0.033520   \n",
       "max                      2.294422e+08                           0.075454   \n",
       "\n",
       "       Gorssel Total Costs        Scaled  \n",
       "count              50000.0  50000.000000  \n",
       "mean                   0.0      0.236309  \n",
       "std                    0.0      0.236181  \n",
       "min                    0.0      0.000000  \n",
       "25%                    0.0      0.046843  \n",
       "50%                    0.0      0.109276  \n",
       "75%                    0.0      0.370520  \n",
       "max                    0.0      0.996574  "
      ]
     },
     "execution_count": 22,
     "metadata": {},
     "output_type": "execute_result"
    }
   ],
   "source": [
    "outcomes_df.describe()"
   ]
  },
  {
   "cell_type": "markdown",
   "id": "4a6775a3",
   "metadata": {},
   "source": [
    "# Optimisation"
   ]
  },
  {
   "cell_type": "code",
   "execution_count": 23,
   "id": "d90351e2",
   "metadata": {},
   "outputs": [],
   "source": [
    "hypervolumemin = [0,0,0]\n",
    "hypervolumemax = outcomes_df[outcomekeys[2:]].max(axis=0).values.tolist()"
   ]
  },
  {
   "cell_type": "code",
   "execution_count": 24,
   "id": "e8657a0d",
   "metadata": {},
   "outputs": [],
   "source": [
    "hypervolumemax[2] = 1.15e9"
   ]
  },
  {
   "cell_type": "code",
   "execution_count": 25,
   "id": "359fa078",
   "metadata": {},
   "outputs": [
    {
     "name": "stderr",
     "output_type": "stream",
     "text": [
      "[MainProcess/INFO] pool started\n",
      "[MainProcess/INFO] generation 0: 0/3000 nfe\n",
      "[MainProcess/INFO] generation 5: 499/3000 nfe\n",
      "[MainProcess/INFO] generation 10: 990/3000 nfe\n",
      "[MainProcess/INFO] generation 15: 1480/3000 nfe\n",
      "[MainProcess/INFO] generation 20: 1973/3000 nfe\n",
      "[MainProcess/INFO] generation 25: 2462/3000 nfe\n",
      "[MainProcess/INFO] generation 30: 2955/3000 nfe\n",
      "[MainProcess/INFO] optimization completed, found 1 solutions\n",
      "[MainProcess/INFO] terminating pool\n",
      "[MainProcess/INFO] pool started\n",
      "[MainProcess/INFO] generation 0: 0/3000 nfe\n",
      "[MainProcess/INFO] generation 5: 499/3000 nfe\n",
      "[MainProcess/INFO] generation 10: 998/3000 nfe\n",
      "[MainProcess/INFO] generation 15: 1496/3000 nfe\n",
      "[MainProcess/INFO] generation 20: 1987/3000 nfe\n",
      "[MainProcess/INFO] generation 25: 2478/3000 nfe\n",
      "[MainProcess/INFO] generation 30: 2968/3000 nfe\n",
      "[MainProcess/INFO] optimization completed, found 2 solutions\n",
      "[MainProcess/INFO] terminating pool\n",
      "[MainProcess/INFO] pool started\n",
      "[MainProcess/INFO] generation 0: 0/3000 nfe\n",
      "[MainProcess/INFO] generation 5: 495/3000 nfe\n",
      "[MainProcess/INFO] generation 10: 989/3000 nfe\n",
      "[MainProcess/INFO] generation 15: 1484/3000 nfe\n",
      "[MainProcess/INFO] generation 20: 1973/3000 nfe\n",
      "[MainProcess/INFO] generation 25: 2458/3000 nfe\n",
      "[MainProcess/INFO] generation 30: 2951/3000 nfe\n",
      "[MainProcess/INFO] optimization completed, found 2 solutions\n",
      "[MainProcess/INFO] terminating pool\n",
      "[MainProcess/INFO] pool started\n",
      "[MainProcess/INFO] generation 0: 0/3000 nfe\n",
      "[MainProcess/INFO] generation 5: 499/3000 nfe\n",
      "[MainProcess/INFO] generation 10: 992/3000 nfe\n",
      "[MainProcess/INFO] generation 15: 1485/3000 nfe\n",
      "[MainProcess/INFO] generation 20: 1975/3000 nfe\n",
      "[MainProcess/INFO] generation 25: 2465/3000 nfe\n",
      "[MainProcess/INFO] generation 30: 2963/3000 nfe\n",
      "[MainProcess/INFO] optimization completed, found 4 solutions\n",
      "[MainProcess/INFO] terminating pool\n",
      "[MainProcess/INFO] pool started\n",
      "[MainProcess/INFO] generation 0: 0/3000 nfe\n",
      "[MainProcess/INFO] generation 5: 500/3000 nfe\n",
      "[MainProcess/INFO] generation 10: 997/3000 nfe\n",
      "[MainProcess/INFO] generation 15: 1491/3000 nfe\n",
      "[MainProcess/INFO] generation 20: 1990/3000 nfe\n",
      "[MainProcess/INFO] generation 25: 2483/3000 nfe\n",
      "[MainProcess/INFO] generation 30: 2980/3000 nfe\n",
      "[MainProcess/INFO] optimization completed, found 9 solutions\n",
      "[MainProcess/INFO] terminating pool\n",
      "[MainProcess/INFO] pool started\n",
      "[MainProcess/INFO] generation 0: 0/3000 nfe\n",
      "[MainProcess/INFO] generation 5: 498/3000 nfe\n",
      "[MainProcess/INFO] generation 10: 996/3000 nfe\n",
      "[MainProcess/INFO] generation 15: 1490/3000 nfe\n",
      "[MainProcess/INFO] generation 20: 1981/3000 nfe\n",
      "[MainProcess/INFO] generation 25: 2475/3000 nfe\n",
      "[MainProcess/INFO] generation 30: 2966/3000 nfe\n",
      "[MainProcess/INFO] optimization completed, found 9 solutions\n",
      "[MainProcess/INFO] terminating pool\n"
     ]
    }
   ],
   "source": [
    "ema_logging.log_to_stderr(ema_logging.INFO)\n",
    "\n",
    "nfe = 2000 + 1000\n",
    "\n",
    "def optimize(scenario, nfe, model, converge_metrics, epsilons):\n",
    "\n",
    "\n",
    "    with MultiprocessingEvaluator(model) as evaluator:\n",
    "        results, convergence = evaluator.optimize(nfe=nfe, searchover='levers',\n",
    "                                     convergence=convergence_metrics,\n",
    "                                     epsilons=epsilons,\n",
    "                                     reference=scenario, convergence_freq=200)\n",
    "    return results, convergence\n",
    "\n",
    "results = []\n",
    "for scenario in scenarios:\n",
    "    convergence_metrics = [HyperVolume(minimum=hypervolumemin, maximum=hypervolumemax),\n",
    "                           EpsilonProgress()]\n",
    "    epsilons = [1e4, 0.001, 1e5]\n",
    "    \n",
    "    \n",
    "    \n",
    "    results.append(optimize(scenario, nfe, dike_model, convergence_metrics, epsilons))\n"
   ]
  },
  {
   "cell_type": "code",
   "execution_count": 26,
   "id": "9cb98668",
   "metadata": {
    "scrolled": true
   },
   "outputs": [
    {
     "data": {
      "image/png": "[encoded data removed]",
      "text/plain": [
       "<Figure size 432x288 with 2 Axes>"
      ]
     },
     "metadata": {
      "needs_background": "light"
     },
     "output_type": "display_data"
    }
   ],
   "source": [
    "fig, (ax1, ax2) = plt.subplots(ncols=2,sharex=True)\n",
    "for i, (_, convergence) in enumerate(results):\n",
    "    ax1.plot(convergence.nfe, convergence.hypervolume, label=f'scenario {i}')\n",
    "    ax2.plot(convergence.nfe, convergence.epsilon_progress, label=f'scenario {i}')\n",
    "\n",
    "ax1.set_ylabel('hypervolume')\n",
    "ax1.set_xlabel('nfe')\n",
    "ax2.set_ylabel('$\\epsilon$ progress')\n",
    "ax2.set_xlabel('nfe')\n",
    "fig.legend()\n",
    "plt.show()"
   ]
  },
  {
   "cell_type": "markdown",
   "id": "df5ebf06",
   "metadata": {},
   "source": [
    "# Saving"
   ]
  },
  {
   "cell_type": "code",
   "execution_count": 27,
   "id": "7c894f7d",
   "metadata": {},
   "outputs": [],
   "source": [
    "for i, (result, convergence) in enumerate(results):\n",
    "    result.to_csv(\"simulation/optimisation/\" + ACTORNAME + \"/results_\" + cases[i] +\".csv\", index=False)\n",
    "    convergence.to_csv(\"simulation/optimisation/\" + ACTORNAME + \"/convergence_\" + cases[i] +\".csv\", index=False)"
   ]
  },
  {
   "cell_type": "code",
   "execution_count": 28,
   "id": "cd0564e6",
   "metadata": {},
   "outputs": [],
   "source": [
    "selected.to_csv(\"simulation/optimisation/\" + ACTORNAME + \"/selected.csv\", index=False)"
   ]
  },
  {
   "cell_type": "markdown",
   "id": "8befe1ca",
   "metadata": {},
   "source": [
    "# Re-evaluate under deep uncertainty"
   ]
  },
  {
   "cell_type": "code",
   "execution_count": 29,
   "id": "00946626",
   "metadata": {},
   "outputs": [],
   "source": [
    "n_scenarios = 1000"
   ]
  },
  {
   "cell_type": "code",
   "execution_count": 30,
   "id": "376e8be5",
   "metadata": {},
   "outputs": [],
   "source": [
    "levers = [lever.name for lever in dike_model.levers]"
   ]
  },
  {
   "cell_type": "code",
   "execution_count": 31,
   "id": "d21ffc0b",
   "metadata": {},
   "outputs": [],
   "source": [
    "policies = []\n",
    "for i, (result, _) in enumerate(results):\n",
    "    result = result.loc[:, levers]\n",
    "    for j, row in result.iterrows():\n",
    "        policy = Policy(f'scenario {cases[i]} option {j}', **row.to_dict())\n",
    "        policies.append(policy)"
   ]
  },
  {
   "cell_type": "code",
   "execution_count": 32,
   "id": "f78cecfc",
   "metadata": {},
   "outputs": [
    {
     "name": "stderr",
     "output_type": "stream",
     "text": [
      "[MainProcess/INFO] pool started\n",
      "[MainProcess/INFO] performing 1000 scenarios * 27 policies * 1 model(s) = 27000 experiments\n",
      "[MainProcess/INFO] 2700 cases completed\n",
      "[MainProcess/INFO] 5400 cases completed\n",
      "[MainProcess/INFO] 8100 cases completed\n",
      "[MainProcess/INFO] 10800 cases completed\n",
      "[MainProcess/INFO] 13500 cases completed\n",
      "[MainProcess/INFO] 16200 cases completed\n",
      "[MainProcess/INFO] 18900 cases completed\n",
      "[MainProcess/INFO] 21600 cases completed\n",
      "[MainProcess/INFO] 24300 cases completed\n",
      "[MainProcess/INFO] 27000 cases completed\n",
      "[MainProcess/INFO] experiments finished\n",
      "[MainProcess/INFO] terminating pool\n"
     ]
    }
   ],
   "source": [
    "with MultiprocessingEvaluator(dike_model) as evaluator:\n",
    "    reevaluation_results = evaluator.perform_experiments(n_scenarios, policies=policies)"
   ]
  },
  {
   "cell_type": "markdown",
   "id": "f7703b8a",
   "metadata": {},
   "source": [
    "# Saving"
   ]
  },
  {
   "cell_type": "code",
   "execution_count": 33,
   "id": "0acfe2dd",
   "metadata": {},
   "outputs": [
    {
     "name": "stderr",
     "output_type": "stream",
     "text": [
      "[MainProcess/INFO] results saved successfully to /Users/emilyryan/Dropbox/EPA/EPA1361/FabiosDecisions/epa1361/final assignment/data/optimisation/du_scen_1000_Gorssel.tar.gz\n"
     ]
    }
   ],
   "source": [
    "save_results(reevaluation_results, \"simulation/optimisation/du_scen_\" + str(n_scenarios) + \"_\" + ACTORNAME + \".tar.gz\")"
   ]
  },
  {
   "cell_type": "code",
   "execution_count": null,
   "id": "46907f32",
   "metadata": {},
   "outputs": [],
   "source": []
  }
 ],
 "metadata": {
  "kernelspec": {
   "display_name": "Python 3",
   "language": "python",
   "name": "python3"
  },
  "language_info": {
   "codemirror_mode": {
    "name": "ipython",
    "version": 3
   },
   "file_extension": ".py",
   "mimetype": "text/x-python",
   "name": "python",
   "nbconvert_exporter": "python",
   "pygments_lexer": "ipython3",
   "version": "3.8.8"
  }
 },
 "nbformat": 4,
 "nbformat_minor": 5
}
