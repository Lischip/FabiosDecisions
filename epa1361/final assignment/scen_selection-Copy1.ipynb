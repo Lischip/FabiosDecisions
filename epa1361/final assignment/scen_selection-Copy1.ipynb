{
 "cells": [
  {
   "cell_type": "code",
   "execution_count": 1,
   "id": "obvious-allocation",
   "metadata": {},
   "outputs": [],
   "source": [
    "from ema_workbench.analysis import prim\n",
    "from ema_workbench import load_results\n",
    "from sklearn.decomposition import PCA\n",
    "from sklearn import preprocessing\n",
    "from problem_formulation import get_model_for_problem_formulation\n",
    "import matplotlib.pyplot as plt\n",
    "import pandas as pd"
   ]
  },
  {
   "cell_type": "code",
   "execution_count": 2,
   "id": "norwegian-airport",
   "metadata": {},
   "outputs": [],
   "source": [
    "experiments, outcomes = load_results(\"data/generated/genscen_Gorssel_50000_07-06-2021-05-33-45.tar.gz\")\n",
    "dike_model, planning_steps = get_model_for_problem_formulation(\"Overijssel\")\n",
    "uncertainties = [uncertainty.name for uncertainty in dike_model.uncertainties]\n",
    "x = experiments[uncertainties]"
   ]
  },
  {
   "cell_type": "code",
   "execution_count": 3,
   "id": "alike-sucking",
   "metadata": {},
   "outputs": [],
   "source": [
    "# Prim takes a couple of minutes for 50 thousand, so lets opt for 30 thousand."
   ]
  },
  {
   "cell_type": "code",
   "execution_count": 4,
   "id": "graphic-study",
   "metadata": {},
   "outputs": [],
   "source": [
    "outcomes_df = pd.DataFrame(outcomes)"
   ]
  },
  {
   "cell_type": "code",
   "execution_count": 5,
   "id": "recreational-meaning",
   "metadata": {},
   "outputs": [
    {
     "name": "stdout",
     "output_type": "stream",
     "text": [
      "Difference in Expected Annual Damage Gorssel-Deventer\n",
      "Expected Annual Damage Gorssel\n",
      "Difference in Expected Number of Deaths Gorssel-Deventer\n"
     ]
    }
   ],
   "source": [
    "prim_algs = {}\n",
    "for outcome in outcomes_df.columns:\n",
    "    prim_algs[outcome] = prim.Prim(x, outcomes[outcome] > 0, threshold=0.9)\n",
    "    print(outcome)"
   ]
  },
  {
   "cell_type": "code",
   "execution_count": null,
   "id": "initial-offering",
   "metadata": {},
   "outputs": [],
   "source": [
    "boxes = {}\n",
    "for key in outcomes_df.columns:\n",
    "    boxes[key] = prim_algs[key].find_box()"
   ]
  },
  {
   "cell_type": "code",
   "execution_count": null,
   "id": "collaborative-likelihood",
   "metadata": {},
   "outputs": [],
   "source": [
    "for key, box in boxes.items():\n",
    "    print(key)\n",
    "    box.show_tradeoff()\n",
    "    plt.show()"
   ]
  },
  {
   "cell_type": "code",
   "execution_count": null,
   "id": "vital-amber",
   "metadata": {},
   "outputs": [],
   "source": [
    "box_id=20"
   ]
  },
  {
   "cell_type": "code",
   "execution_count": null,
   "id": "expanded-shirt",
   "metadata": {},
   "outputs": [],
   "source": [
    "boxes[\"Expected Annual Damage Gorssel\"].inspect(box_id)\n",
    "boxes[\"Expected Annual Damage Gorssel\"].inspect(box_id, style='graph')\n",
    "plt.show()"
   ]
  },
  {
   "cell_type": "code",
   "execution_count": null,
   "id": "stuck-jurisdiction",
   "metadata": {},
   "outputs": [],
   "source": [
    "boxes[\"Expected Annual Damage Gorssel\"].select(box_id)\n",
    "boxes[\"Expected Annual Damage Gorssel\"].show_pairs_scatter()"
   ]
  },
  {
   "cell_type": "code",
   "execution_count": null,
   "id": "ordered-fourth",
   "metadata": {},
   "outputs": [],
   "source": [
    "lims = boxes[\"Expected Annual Damage Gorssel\"].box_lims[box_id]"
   ]
  },
  {
   "cell_type": "code",
   "execution_count": null,
   "id": "continuous-blank",
   "metadata": {},
   "outputs": [],
   "source": [
    "# so now we just need to get scenarios that meet these ranges"
   ]
  },
  {
   "cell_type": "code",
   "execution_count": null,
   "id": "trained-guatemala",
   "metadata": {},
   "outputs": [],
   "source": [
    "conditions = []\n",
    "\n",
    "for column in lims.columns:\n",
    "    if isinstance(lims[column][0], set):\n",
    "        conditions.append(experiments[column].isin(lims[column][0]))\n",
    "    else:\n",
    "        conditions.append(experiments[column] >= lims[column][0])\n",
    "        conditions.append(experiments[column] <= lims[column][1])\n",
    "\n",
    "df = pd.DataFrame(conditions).T"
   ]
  },
  {
   "cell_type": "code",
   "execution_count": null,
   "id": "animal-display",
   "metadata": {},
   "outputs": [],
   "source": [
    "experiments.iloc[df[(df== False).any(axis=1)].index]"
   ]
  },
  {
   "cell_type": "code",
   "execution_count": null,
   "id": "prostate-privilege",
   "metadata": {},
   "outputs": [],
   "source": []
  }
 ],
 "metadata": {
  "kernelspec": {
   "display_name": "Python 3",
   "language": "python",
   "name": "python3"
  },
  "language_info": {
   "codemirror_mode": {
    "name": "ipython",
    "version": 3
   },
   "file_extension": ".py",
   "mimetype": "text/x-python",
   "name": "python",
   "nbconvert_exporter": "python",
   "pygments_lexer": "ipython3",
   "version": "3.7.9"
  }
 },
 "nbformat": 4,
 "nbformat_minor": 5
}
