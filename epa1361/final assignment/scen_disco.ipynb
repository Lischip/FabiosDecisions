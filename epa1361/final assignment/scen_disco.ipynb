{
 "cells": [
  {
   "cell_type": "code",
   "execution_count": 13,
   "id": "occupied-glenn",
   "metadata": {},
   "outputs": [],
   "source": [
    "from ema_workbench.analysis import prim\n",
    "from ema_workbench import load_results\n",
    "from sklearn import preprocessing\n",
    "from problem_formulation import get_model_for_problem_formulation\n",
    "import matplotlib.pyplot as plt\n",
    "import pandas as pd\n",
    "import numpy as np\n",
    "from sklearn import preprocessing\n",
    "import seaborn as sns\n",
    "from funs_project import get_cases"
   ]
  },
  {
   "cell_type": "code",
   "execution_count": 14,
   "id": "relevant-ranking",
   "metadata": {},
   "outputs": [],
   "source": [
    "ACTOR = \"genscen_Gorssel_50000_12-06-2021-03-06-15.tar.gz\""
   ]
  },
  {
   "cell_type": "code",
   "execution_count": 63,
   "id": "loaded-scenario",
   "metadata": {},
   "outputs": [],
   "source": [
    "files= {\"Gorssel\": \"simulation/generated/genscen_Gorssel_50000_12-06-2021-03-06-15.tar.gz\",\n",
    "       \"Overijssel\": \"simulation/generated/genscen_Overijssel_50000_12-06-2021-02-18-42.tar.gz\",\n",
    "       \"Deventer\": \"simulation/generated/genscen_Deventer_50000_12-06-2021-02-25-33.tar.gz\"}\n",
    "\n",
    "experiments = {}\n",
    "outcomes = {}\n",
    "model = {}\n",
    "uncertainties = {}\n",
    "x = {}\n",
    "for k, v in files.items():\n",
    "    experiments[k], outcomes[k] = load_results(v)\n",
    "    model, _ = get_model_for_problem_formulation(k)\n",
    "    uncertainties[k] = [uncertainty.name for uncertainty in model.uncertainties]\n",
    "    x[k] = experiments[k][uncertainties[k]]\n",
    "    outcomes[k] = pd.DataFrame(outcomes[k])\n",
    "    \n",
    "# gexperiments, goutcomes = load_results(\"simulation/generated/genscen_Gorssel_50000_12-06-2021-03-06-15.tar.gz\")\n",
    "# oexperiments, ooutcomes = load_results(\"simulation/generated/genscen_Overijssel_50000_12-06-2021-02-18-42.tar.gz\")\n",
    "# dexperiments, doutcomes = load_results(\"simulation/generated/genscen_Deventer_50000_07-06-2021-18-18-21.tar.gz\")\n",
    "# g_model, _ = get_model_for_problem_formulation(\"Gorssel\")\n",
    "# o_model, _ = get_model_for_problem_formulation(\"Overijssel\")\n",
    "# d_model, _ = get_model_for_problem_formulation(\"Deventer\")\n",
    "# ouncertainties = [uncertainty.name for uncertainty in o_model.uncertainties]\n",
    "# x = experiments[uncertainties]\n",
    "# outcomes_df = pd.DataFrame(outcomes)"
   ]
  },
  {
   "cell_type": "code",
   "execution_count": 25,
   "id": "amazing-niger",
   "metadata": {},
   "outputs": [
    {
     "data": {
      "text/plain": [
       "['Difference in Expected Annual Damage Gorssel-Deventer',\n",
       " 'Difference in Expected Number of Deaths Gorssel-Deventer',\n",
       " 'Gorssel Expected Annual Damage',\n",
       " 'Gorssel Expected Number of Deaths',\n",
       " 'Gorssel Total Costs']"
      ]
     },
     "execution_count": 25,
     "metadata": {},
     "output_type": "execute_result"
    }
   ],
   "source": [
    "outcomes[\"Gorssel\"].columns.values.tolist()"
   ]
  },
  {
   "cell_type": "code",
   "execution_count": 5,
   "id": "important-contrast",
   "metadata": {},
   "outputs": [],
   "source": [
    "DAMAGE = outcomes_df.columns[2]\n",
    "DEATHS = outcomes_df.columns[3]"
   ]
  },
  {
   "cell_type": "code",
   "execution_count": 26,
   "id": "metropolitan-accommodation",
   "metadata": {},
   "outputs": [
    {
     "data": {
      "text/plain": [
       "['Deventer Expected Annual Damage',\n",
       " 'Deventer Expected Number of Deaths',\n",
       " 'Deventer Total Costs']"
      ]
     },
     "execution_count": 26,
     "metadata": {},
     "output_type": "execute_result"
    }
   ],
   "source": [
    "outcomes[\"Deventer\"].columns.values.tolist()"
   ]
  },
  {
   "cell_type": "code",
   "execution_count": 27,
   "id": "injured-explorer",
   "metadata": {},
   "outputs": [
    {
     "data": {
      "text/plain": [
       "['Gorssel and Deventer Expected Annual Damage',\n",
       " 'Gorssel and Deventer Expected Number of Deaths',\n",
       " 'Gorssel and Deventer Total Costs']"
      ]
     },
     "execution_count": 27,
     "metadata": {},
     "output_type": "execute_result"
    }
   ],
   "source": [
    "outcomes[\"Overijssel\"].columns.values.tolist()"
   ]
  },
  {
   "cell_type": "markdown",
   "id": "important-priority",
   "metadata": {},
   "source": [
    "Obviously, without any policies inplace, there also aren't any costs for Gorssel."
   ]
  },
  {
   "cell_type": "code",
   "execution_count": 69,
   "id": "preceding-salem",
   "metadata": {},
   "outputs": [
    {
     "name": "stdout",
     "output_type": "stream",
     "text": [
      "Overijssel Gorssel and Deventer Expected Annual Damage\n",
      "Deventer Deventer Expected Annual Damage\n",
      "Gorssel Gorssel Expected Annual Damage\n"
     ]
    }
   ],
   "source": [
    "prim_algs = {}\n",
    "percentiles = [20, 90]\n",
    "\n",
    "def conditional(outcome, q):\n",
    "    global percentiles\n",
    "    if q == percentiles[0]:\n",
    "        return outcome < np.percentile(a=outcome, q=q)\n",
    "    elif q == percentiles[1]:\n",
    "        return outcome > np.percentile(a=outcome, q=q)  \n",
    "    else:\n",
    "        print(\"g\")\n",
    "            \n",
    "for actor in [\"Overijssel\", \"Deventer\", \"Gorssel\"]:\n",
    "    prim_algs[actor] = {}\n",
    "    if actor==\"Overijssel\":\n",
    "        DAMAGE = \"Gorssel and Deventer Expected Annual Damage\"\n",
    "    elif actor==\"Deventer\":\n",
    "        DAMAGE = \"Deventer Expected Annual Damage\"\n",
    "    elif actor==\"Gorssel\":\n",
    "        DAMAGE = \"Gorssel Expected Annual Damage\"\n",
    "    print(actor, DAMAGE)\n",
    "    \n",
    "    for q in percentiles:\n",
    "        prim_algs[actor][q] = prim.Prim(x[actor], outcomes[actor][DAMAGE] > np.percentile(a=outcomes[actor][DAMAGE], q=q), threshold=0.8)\n",
    "    \n",
    "        #code block below performs a rotation of data\n",
    "    #     x_numeric = x.select_dtypes(exclude=pd.CategoricalDtype)\n",
    "    #     x_categorical = x.select_dtypes(include=pd.CategoricalDtype)\n",
    "    #     rotated_experiments, rotation_matrix = prim.pca_preprocess(x_numeric, outcomes_df[outcome] > np.percentile(a=outcomes_df[outcome], q=90))\n",
    "    #     rotated_x = pd.concat([rotated_experiments, x_categorical], axis=1)\n",
    "    #     rotated_x.columns = x_numeric.columns.tolist() + x_categorical.columns.tolist()\n",
    "    #     x = rotated_x"
   ]
  },
  {
   "cell_type": "code",
   "execution_count": 71,
   "id": "monthly-territory",
   "metadata": {},
   "outputs": [],
   "source": [
    "boxes = {}\n",
    "for actor in [\"Overijssel\", \"Deventer\", \"Gorssel\"]:\n",
    "    boxes[actor] = {}\n",
    "    for q in percentiles:\n",
    "        boxes[actor][q] = prim_algs[actor][q].find_box()"
   ]
  },
  {
   "cell_type": "code",
   "execution_count": 72,
   "id": "packed-perfume",
   "metadata": {},
   "outputs": [
    {
     "name": "stdout",
     "output_type": "stream",
     "text": [
      "Overijssel\n"
     ]
    },
    {
     "data": {
      "image/png": "[encoded data removed]",
      "text/plain": [
       "<Figure size 432x288 with 2 Axes>"
      ]
     },
     "metadata": {
      "needs_background": "light"
     },
     "output_type": "display_data"
    },
    {
     "data": {
      "image/png": "[encoded data removed]",
      "text/plain": [
       "<Figure size 432x288 with 2 Axes>"
      ]
     },
     "metadata": {
      "needs_background": "light"
     },
     "output_type": "display_data"
    },
    {
     "name": "stdout",
     "output_type": "stream",
     "text": [
      "Deventer\n"
     ]
    },
    {
     "data": {
      "image/png": "[encoded data removed]",
      "text/plain": [
       "<Figure size 432x288 with 2 Axes>"
      ]
     },
     "metadata": {
      "needs_background": "light"
     },
     "output_type": "display_data"
    },
    {
     "data": {
      "image/png": "[encoded data removed]",
      "text/plain": [
       "<Figure size 432x288 with 2 Axes>"
      ]
     },
     "metadata": {
      "needs_background": "light"
     },
     "output_type": "display_data"
    },
    {
     "name": "stdout",
     "output_type": "stream",
     "text": [
      "Gorssel\n"
     ]
    },
    {
     "data": {
      "image/png": "[encoded data removed]",
      "text/plain": [
       "<Figure size 432x288 with 2 Axes>"
      ]
     },
     "metadata": {
      "needs_background": "light"
     },
     "output_type": "display_data"
    },
    {
     "data": {
      "image/png": "[encoded data removed]",
      "text/plain": [
       "<Figure size 432x288 with 2 Axes>"
      ]
     },
     "metadata": {
      "needs_background": "light"
     },
     "output_type": "display_data"
    }
   ],
   "source": [
    "for actor, q in boxes.items():\n",
    "    print(actor)\n",
    "    for key, box in q.items():\n",
    "        box.show_tradeoff()\n",
    "        plt.show()"
   ]
  },
  {
   "cell_type": "markdown",
   "id": "functional-cookbook",
   "metadata": {},
   "source": [
    "# Trying around to find the right box\n",
    "\n",
    "## Overijssel"
   ]
  },
  {
   "cell_type": "code",
   "execution_count": 92,
   "id": "macro-drinking",
   "metadata": {},
   "outputs": [
    {
     "name": "stdout",
     "output_type": "stream",
     "text": [
      "coverage    0.978625\n",
      "density     0.824105\n",
      "id                 1\n",
      "mass            0.95\n",
      "mean        0.824105\n",
      "res_dim            1\n",
      "Name: 1, dtype: object\n",
      "\n",
      "              box 1                                         \n",
      "                min       max                      qp values\n",
      "A.5_pfail  0.000019  0.950001  [-1.0, 7.046661593993924e-41]\n",
      "\n"
     ]
    },
    {
     "data": {
      "image/png": "[encoded data removed]",
      "text/plain": [
       "<Figure size 432x288 with 1 Axes>"
      ]
     },
     "metadata": {
      "needs_background": "light"
     },
     "output_type": "display_data"
    }
   ],
   "source": [
    "box_id=1\n",
    "BOX = percentiles[0]\n",
    "boxes[\"Overijssel\"][BOX].inspect(box_id)\n",
    "boxes[\"Overijssel\"][BOX].inspect(box_id, style='graph')\n",
    "plt.show()"
   ]
  },
  {
   "cell_type": "code",
   "execution_count": 93,
   "id": "spectacular-waterproof",
   "metadata": {},
   "outputs": [],
   "source": [
    "lims = boxes[\"Overijssel\"][BOX].box_lims[box_id]\n",
    "limits = pd.DataFrame(data={\"outcome\": [\"Overijssel A.5_pfail\" + str(BOX)], \"y\": [0], \"min\": [lims[\"A.4_pfail\"][0]], \"max\" :  [lims[\"A.4_pfail\"][1]]})"
   ]
  },
  {
   "cell_type": "code",
   "execution_count": 94,
   "id": "cooked-arbor",
   "metadata": {},
   "outputs": [
    {
     "name": "stdout",
     "output_type": "stream",
     "text": [
      "coverage      0.8512\n",
      "density     0.814545\n",
      "id                44\n",
      "mass          0.1045\n",
      "mean        0.814545\n",
      "res_dim            2\n",
      "Name: 44, dtype: object\n",
      "\n",
      "             box 44                                          \n",
      "                min       max                       qp values\n",
      "A.5_pfail  0.000019  0.115677                     [-1.0, 0.0]\n",
      "A.4_pfail  0.098869  0.999986  [1.5503341633259234e-19, -1.0]\n",
      "\n"
     ]
    },
    {
     "data": {
      "image/png": "[encoded data removed]",
      "text/plain": [
       "<Figure size 432x288 with 1 Axes>"
      ]
     },
     "metadata": {
      "needs_background": "light"
     },
     "output_type": "display_data"
    }
   ],
   "source": [
    "box_id=44\n",
    "BOX = percentiles[1]\n",
    "boxes[\"Overijssel\"][BOX].inspect(box_id)\n",
    "boxes[\"Overijssel\"][BOX].inspect(box_id, style='graph')\n",
    "plt.show()"
   ]
  },
  {
   "cell_type": "code",
   "execution_count": 95,
   "id": "ideal-twelve",
   "metadata": {},
   "outputs": [],
   "source": [
    "lims = boxes[\"Overijssel\"][BOX].box_lims[box_id]\n",
    "limits = pd.concat([limits, pd.DataFrame(data={\"outcome\": [\"Overijssel A.4_pfail\" + str(BOX)], \"y\": [0], \"min\": [lims[\"A.4_pfail\"][0]], \"max\" :  [lims[\"A.4_pfail\"][1]]})], axis=0)\n",
    "limits = pd.concat([limits, pd.DataFrame(data={\"outcome\": [\"Overijssel A.5_pfail\" + str(BOX)], \"y\": [0], \"min\": [lims[\"A.5_pfail\"][0]], \"max\" :  [lims[\"A.5_pfail\"][1]]})], axis=0)"
   ]
  },
  {
   "cell_type": "code",
   "execution_count": 96,
   "id": "employed-rhythm",
   "metadata": {},
   "outputs": [
    {
     "data": {
      "text/html": [
       "<div>\n",
       "<style scoped>\n",
       "    .dataframe tbody tr th:only-of-type {\n",
       "        vertical-align: middle;\n",
       "    }\n",
       "\n",
       "    .dataframe tbody tr th {\n",
       "        vertical-align: top;\n",
       "    }\n",
       "\n",
       "    .dataframe thead th {\n",
       "        text-align: right;\n",
       "    }\n",
       "</style>\n",
       "<table border=\"1\" class=\"dataframe\">\n",
       "  <thead>\n",
       "    <tr style=\"text-align: right;\">\n",
       "      <th></th>\n",
       "      <th>outcome</th>\n",
       "      <th>y</th>\n",
       "      <th>min</th>\n",
       "      <th>max</th>\n",
       "    </tr>\n",
       "  </thead>\n",
       "  <tbody>\n",
       "    <tr>\n",
       "      <th>0</th>\n",
       "      <td>Overijssel A.5_pfail20</td>\n",
       "      <td>0</td>\n",
       "      <td>0.000002</td>\n",
       "      <td>0.999986</td>\n",
       "    </tr>\n",
       "    <tr>\n",
       "      <th>0</th>\n",
       "      <td>Overijssel A.4_pfail90</td>\n",
       "      <td>0</td>\n",
       "      <td>0.098869</td>\n",
       "      <td>0.999986</td>\n",
       "    </tr>\n",
       "    <tr>\n",
       "      <th>0</th>\n",
       "      <td>Overijssel A.5_pfail90</td>\n",
       "      <td>0</td>\n",
       "      <td>0.000019</td>\n",
       "      <td>0.115677</td>\n",
       "    </tr>\n",
       "  </tbody>\n",
       "</table>\n",
       "</div>"
      ],
      "text/plain": [
       "                  outcome  y       min       max\n",
       "0  Overijssel A.5_pfail20  0  0.000002  0.999986\n",
       "0  Overijssel A.4_pfail90  0  0.098869  0.999986\n",
       "0  Overijssel A.5_pfail90  0  0.000019  0.115677"
      ]
     },
     "execution_count": 96,
     "metadata": {},
     "output_type": "execute_result"
    }
   ],
   "source": [
    "limits"
   ]
  },
  {
   "cell_type": "markdown",
   "id": "rural-purchase",
   "metadata": {},
   "source": [
    "# Now just do above for all other actors"
   ]
  },
  {
   "cell_type": "markdown",
   "id": "precise-lighting",
   "metadata": {},
   "source": [
    "## Deaths"
   ]
  },
  {
   "cell_type": "code",
   "execution_count": 77,
   "id": "approved-substance",
   "metadata": {},
   "outputs": [],
   "source": [
    "box_id=1\n",
    "BOX = DEATHS"
   ]
  },
  {
   "cell_type": "code",
   "execution_count": 78,
   "id": "finite-collective",
   "metadata": {},
   "outputs": [
    {
     "name": "stdout",
     "output_type": "stream",
     "text": [
      "coverage         1.0\n",
      "density     0.841874\n",
      "id                 1\n",
      "mass            0.95\n",
      "mean        0.841874\n",
      "res_dim            1\n",
      "Name: 1, dtype: object\n",
      "\n",
      "              box 1                                          \n",
      "                min       max                       qp values\n",
      "A.4_pfail  0.000014  0.950001  [-1.0, 2.476817542206021e-123]\n",
      "\n"
     ]
    },
    {
     "data": {
      "image/png": "[encoded data removed]",
      "text/plain": [
       "<Figure size 432x288 with 1 Axes>"
      ]
     },
     "metadata": {},
     "output_type": "display_data"
    }
   ],
   "source": [
    "boxes[percentiles[0]][BOX].inspect(box_id)\n",
    "boxes[percentiles[0]][BOX].inspect(box_id, style='graph')\n",
    "plt.show()"
   ]
  },
  {
   "cell_type": "code",
   "execution_count": 79,
   "id": "peripheral-finnish",
   "metadata": {},
   "outputs": [],
   "source": [
    "lims = boxes[percentiles[0]][BOX].box_lims[box_id]"
   ]
  },
  {
   "cell_type": "code",
   "execution_count": 80,
   "id": "valuable-contrast",
   "metadata": {},
   "outputs": [],
   "source": [
    "limits = pd.concat([limits, pd.DataFrame(data={\"outcome\": [\"deaths 90\"], \"y\": [1], \"min\": [lims[\"A.4_pfail\"][0]], \"max\" :  [lims[\"A.4_pfail\"][1]]})], axis=0)"
   ]
  },
  {
   "cell_type": "code",
   "execution_count": 81,
   "id": "endless-supplier",
   "metadata": {},
   "outputs": [],
   "source": [
    "box_id=41\n",
    "BOX = DEATHS"
   ]
  },
  {
   "cell_type": "code",
   "execution_count": 82,
   "id": "sunset-failing",
   "metadata": {},
   "outputs": [
    {
     "name": "stdout",
     "output_type": "stream",
     "text": [
      "coverage    0.972367\n",
      "density     0.796588\n",
      "id                41\n",
      "mass         0.12192\n",
      "mean        0.796588\n",
      "res_dim            1\n",
      "Name: 41, dtype: object\n",
      "\n",
      "             box 41                       \n",
      "                min       max    qp values\n",
      "A.4_pfail  0.000014  0.121914  [-1.0, 0.0]\n",
      "\n"
     ]
    },
    {
     "data": {
      "image/png": "[encoded data removed]",
      "text/plain": [
       "<Figure size 432x288 with 1 Axes>"
      ]
     },
     "metadata": {},
     "output_type": "display_data"
    }
   ],
   "source": [
    "boxes[percentiles[1]][BOX].inspect(box_id)\n",
    "boxes[percentiles[1]][BOX].inspect(box_id, style='graph')\n",
    "plt.show()"
   ]
  },
  {
   "cell_type": "code",
   "execution_count": 85,
   "id": "thrown-moral",
   "metadata": {},
   "outputs": [],
   "source": [
    "lims = boxes[percentiles[1]][BOX].box_lims[box_id]"
   ]
  },
  {
   "cell_type": "code",
   "execution_count": 86,
   "id": "excellent-uzbekistan",
   "metadata": {},
   "outputs": [],
   "source": [
    "limits = pd.concat([limits, pd.DataFrame(data={\"outcome\": [\"deaths 90\"], \"y\":[1], \"min\": [lims[\"A.4_pfail\"][0]], \"max\" :  [lims[\"A.4_pfail\"][1]]})], axis=0)"
   ]
  },
  {
   "cell_type": "markdown",
   "id": "listed-allocation",
   "metadata": {},
   "source": [
    "# Visualisation"
   ]
  },
  {
   "cell_type": "code",
   "execution_count": 87,
   "id": "younger-album",
   "metadata": {},
   "outputs": [],
   "source": [
    "limits =limits.reset_index(drop=True)"
   ]
  },
  {
   "cell_type": "code",
   "execution_count": 88,
   "id": "enclosed-profit",
   "metadata": {},
   "outputs": [
    {
     "data": {
      "text/html": [
       "<div>\n",
       "<style scoped>\n",
       "    .dataframe tbody tr th:only-of-type {\n",
       "        vertical-align: middle;\n",
       "    }\n",
       "\n",
       "    .dataframe tbody tr th {\n",
       "        vertical-align: top;\n",
       "    }\n",
       "\n",
       "    .dataframe thead th {\n",
       "        text-align: right;\n",
       "    }\n",
       "</style>\n",
       "<table border=\"1\" class=\"dataframe\">\n",
       "  <thead>\n",
       "    <tr style=\"text-align: right;\">\n",
       "      <th></th>\n",
       "      <th>outcome</th>\n",
       "      <th>y</th>\n",
       "      <th>min</th>\n",
       "      <th>max</th>\n",
       "    </tr>\n",
       "  </thead>\n",
       "  <tbody>\n",
       "    <tr>\n",
       "      <th>0</th>\n",
       "      <td>damage 90</td>\n",
       "      <td>0</td>\n",
       "      <td>0.000014</td>\n",
       "      <td>0.950001</td>\n",
       "    </tr>\n",
       "    <tr>\n",
       "      <th>1</th>\n",
       "      <td>damage 10</td>\n",
       "      <td>0</td>\n",
       "      <td>0.000014</td>\n",
       "      <td>0.099266</td>\n",
       "    </tr>\n",
       "    <tr>\n",
       "      <th>2</th>\n",
       "      <td>deaths 90</td>\n",
       "      <td>1</td>\n",
       "      <td>0.000014</td>\n",
       "      <td>0.950001</td>\n",
       "    </tr>\n",
       "    <tr>\n",
       "      <th>3</th>\n",
       "      <td>deaths 90</td>\n",
       "      <td>1</td>\n",
       "      <td>0.000014</td>\n",
       "      <td>0.121914</td>\n",
       "    </tr>\n",
       "  </tbody>\n",
       "</table>\n",
       "</div>"
      ],
      "text/plain": [
       "     outcome  y       min       max\n",
       "0  damage 90  0  0.000014  0.950001\n",
       "1  damage 10  0  0.000014  0.099266\n",
       "2  deaths 90  1  0.000014  0.950001\n",
       "3  deaths 90  1  0.000014  0.121914"
      ]
     },
     "execution_count": 88,
     "metadata": {},
     "output_type": "execute_result"
    }
   ],
   "source": [
    "limits"
   ]
  },
  {
   "cell_type": "code",
   "execution_count": 89,
   "id": "august-camel",
   "metadata": {},
   "outputs": [
    {
     "data": {
      "image/png": "[encoded data removed]",
      "text/plain": [
       "<Figure size 504x360 with 1 Axes>"
      ]
     },
     "metadata": {},
     "output_type": "display_data"
    }
   ],
   "source": [
    "fig = plt.figure(figsize=[7,5])\n",
    "ax = fig.add_subplot(111)\n",
    "for index in limits.index:\n",
    "    plt.plot([limits.loc[index][\"min\"],limits.loc[index][\"max\"]], [index,index])\n",
    "    ax.annotate('{:.3f}'.format(limits.loc[index][\"min\"]),xy=(limits.loc[index][\"min\"],index +0.03))\n",
    "    ax.annotate('{:.3f}'.format(limits.loc[index][\"max\"]),xy=(limits.loc[index][\"max\"]-0.01,index +0.03))\n",
    "ax.grid(False)\n",
    "ax.set_ylim([-1,4])\n",
    "plt.legend(limits[\"outcome\"].values)    \n",
    "plt.yticks([0, 1,2], [\"A.4_pfail\"]*3)\n",
    "plt.title(\"Gorssel uncertainties for worst 10th percentile\")\n",
    "plt.show()"
   ]
  },
  {
   "cell_type": "code",
   "execution_count": 35,
   "id": "apparent-content",
   "metadata": {},
   "outputs": [],
   "source": [
    "gorssel_scen = pd.read_csv(\"simulation/optimisation/Gorssel/selected.csv\")"
   ]
  },
  {
   "cell_type": "code",
   "execution_count": 39,
   "id": "hourly-ethnic",
   "metadata": {},
   "outputs": [],
   "source": [
    "A4_pfail = gorssel_scen[\"A.4_pfail\"]"
   ]
  },
  {
   "cell_type": "code",
   "execution_count": 36,
   "id": "minute-victim",
   "metadata": {},
   "outputs": [
    {
     "data": {
      "text/plain": [
       "{0: 'best',\n",
       " 1: 'low',\n",
       " 2: 'middle',\n",
       " 3: 'high',\n",
       " 4: 'worst deaths',\n",
       " 5: 'absolute worst'}"
      ]
     },
     "execution_count": 36,
     "metadata": {},
     "output_type": "execute_result"
    }
   ],
   "source": [
    "cases = get_cases(ACTORNAME)"
   ]
  },
  {
   "cell_type": "code",
   "execution_count": 50,
   "id": "scenic-state",
   "metadata": {},
   "outputs": [
    {
     "name": "stdout",
     "output_type": "stream",
     "text": [
      "0.8704588494473585\n",
      "0.7499832047699677\n",
      "0.4782696450522153\n",
      "0.2860451612585706\n",
      "0.0342204558160026\n",
      "0.0352572124797946\n"
     ]
    },
    {
     "data": {
      "image/png": "[encoded data removed]",
      "text/plain": [
       "<Figure size 504x360 with 1 Axes>"
      ]
     },
     "metadata": {},
     "output_type": "display_data"
    }
   ],
   "source": [
    "fig = plt.figure(figsize=[7,5])\n",
    "ax = fig.add_subplot(111)\n",
    "for index in limits.index:\n",
    "    plt.plot([limits.loc[index][\"min\"],limits.loc[index][\"max\"]], [index,index])\n",
    "    ax.annotate('{:.3f}'.format(limits.loc[index][\"min\"]),xy=(limits.loc[index][\"min\"],index +0.03))\n",
    "    ax.annotate('{:.3f}'.format(limits.loc[index][\"max\"]),xy=(limits.loc[index][\"max\"]-0.01,index +0.03))\n",
    "\n",
    "for pfail in A4_pfail:\n",
    "    plt.plot(pfail, 0, markersize=5,  marker='o')\n",
    "    print(pfail)\n",
    "    \n",
    "ax.grid(False)\n",
    "ax.set_ylim([-1,3])\n",
    "plt.legend(limits[\"outcome\"].values)    \n",
    "plt.yticks([0, 1,2], [\"A.4_pfail\"]*3)\n",
    "plt.title(\"Gorssel uncertainties for worst 10th percentile\")\n",
    "plt.show()\n",
    "\n",
    "#Gorssel probability of dike success"
   ]
  },
  {
   "cell_type": "code",
   "execution_count": null,
   "id": "continent-investigator",
   "metadata": {},
   "outputs": [],
   "source": []
  }
 ],
 "metadata": {
  "kernelspec": {
   "display_name": "Python 3",
   "language": "python",
   "name": "python3"
  },
  "language_info": {
   "codemirror_mode": {
    "name": "ipython",
    "version": 3
   },
   "file_extension": ".py",
   "mimetype": "text/x-python",
   "name": "python",
   "nbconvert_exporter": "python",
   "pygments_lexer": "ipython3",
   "version": "3.7.9"
  }
 },
 "nbformat": 4,
 "nbformat_minor": 5
}
