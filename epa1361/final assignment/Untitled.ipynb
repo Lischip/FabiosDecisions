{
 "cells": [
  {
   "cell_type": "code",
   "execution_count": 17,
   "id": "exact-assist",
   "metadata": {},
   "outputs": [
    {
     "data": {
      "text/plain": [
       "(0.7295655517108804, 0.12587466359092656, 0.2848135332564398, 1.0)"
      ]
     },
     "execution_count": 17,
     "metadata": {},
     "output_type": "execute_result"
    }
   ],
   "source": [
    "import seaborn as sns\n",
    "\n",
    "test = sns.color_palette('Spectral',11, as_cmap=True)\n",
    "test(13)"
   ]
  },
  {
   "cell_type": "code",
   "execution_count": null,
   "id": "sealed-waters",
   "metadata": {},
   "outputs": [],
   "source": []
  }
 ],
 "metadata": {
  "kernelspec": {
   "display_name": "Python 3",
   "language": "python",
   "name": "python3"
  },
  "language_info": {
   "codemirror_mode": {
    "name": "ipython",
    "version": 3
   },
   "file_extension": ".py",
   "mimetype": "text/x-python",
   "name": "python",
   "nbconvert_exporter": "python",
   "pygments_lexer": "ipython3",
   "version": "3.7.9"
  }
 },
 "nbformat": 4,
 "nbformat_minor": 5
}
