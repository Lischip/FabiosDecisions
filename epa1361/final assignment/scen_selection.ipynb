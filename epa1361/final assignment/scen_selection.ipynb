{
 "cells": [
  {
   "cell_type": "code",
   "execution_count": 128,
   "id": "ongoing-silicon",
   "metadata": {},
   "outputs": [],
   "source": [
    "from ema_workbench.analysis import prim\n",
    "from ema_workbench import load_results\n",
    "from sklearn.decomposition import PCA\n",
    "from problem_formulation import get_model_for_problem_formulation\n",
    "import matplotlib.pyplot as plt"
   ]
  },
  {
   "cell_type": "code",
   "execution_count": 114,
   "id": "ordinary-aside",
   "metadata": {},
   "outputs": [],
   "source": [
    "experiments, outcomes = load_results(\"data/generated/genscen_Gorssel_30_05-06-2021-17-18-16.tar.gz\")\n",
    "dike_model, planning_steps = get_model_for_problem_formulation(\"Gorssel\")"
   ]
  },
  {
   "cell_type": "code",
   "execution_count": 117,
   "id": "dirty-barrel",
   "metadata": {},
   "outputs": [
    {
     "data": {
      "text/plain": [
       "PCA(n_components=1)"
      ]
     },
     "execution_count": 117,
     "metadata": {},
     "output_type": "execute_result"
    }
   ],
   "source": [
    "pca = PCA(n_components=1)\n",
    "pca.fit(pd.DataFrame(outcomes).T)"
   ]
  },
  {
   "cell_type": "code",
   "execution_count": 118,
   "id": "incoming-escape",
   "metadata": {},
   "outputs": [],
   "source": []
  },
  {
   "cell_type": "code",
   "execution_count": 119,
   "id": "connected-plenty",
   "metadata": {},
   "outputs": [],
   "source": [
    "uncertainties = [uncertainty.name for uncertainty in dike_model.uncertainties]"
   ]
  },
  {
   "cell_type": "code",
   "execution_count": 113,
   "id": "aquatic-commercial",
   "metadata": {},
   "outputs": [],
   "source": [
    "y = pd.Series(pca.components_[0])\n",
    "x = experiments[uncertainties]"
   ]
  },
  {
   "cell_type": "code",
   "execution_count": 136,
   "id": "breathing-robert",
   "metadata": {},
   "outputs": [],
   "source": [
    "prim_alg = prim.Prim(x, y > 0.2, threshold=0.8)"
   ]
  },
  {
   "cell_type": "code",
   "execution_count": 137,
   "id": "fossil-reference",
   "metadata": {},
   "outputs": [],
   "source": [
    "box1 = prim_alg.find_box()"
   ]
  },
  {
   "cell_type": "code",
   "execution_count": 138,
   "id": "martial-frequency",
   "metadata": {},
   "outputs": [
    {
     "data": {
      "image/png": "[encoded data removed]",
      "text/plain": [
       "<Figure size 432x288 with 2 Axes>"
      ]
     },
     "metadata": {
      "needs_background": "light"
     },
     "output_type": "display_data"
    }
   ],
   "source": [
    "box1.show_tradeoff()\n",
    "plt.show()"
   ]
  },
  {
   "cell_type": "code",
   "execution_count": 140,
   "id": "brief-current",
   "metadata": {},
   "outputs": [
    {
     "name": "stdout",
     "output_type": "stream",
     "text": [
      "coverage         0.4\n",
      "density          1.0\n",
      "id                 3\n",
      "mass        0.066667\n",
      "mean             1.0\n",
      "res_dim            3\n",
      "Name: 3, dtype: object\n",
      "\n",
      "                 box 3                                          \n",
      "                   min          max                    qp values\n",
      "A.4_Brate  {1.5, 10.0}  {1.5, 10.0}               [0.0625, -1.0]\n",
      "A.5_Brate   {1.5, 1.0}   {1.5, 1.0}               [0.0625, -1.0]\n",
      "2_RfR 1            0.5          1.0  [0.17361111111111113, -1.0]\n",
      "\n"
     ]
    },
    {
     "data": {
      "image/png": "[encoded data removed]",
      "text/plain": [
       "<Figure size 432x288 with 1 Axes>"
      ]
     },
     "metadata": {
      "needs_background": "light"
     },
     "output_type": "display_data"
    }
   ],
   "source": [
    "box1.inspect(3)\n",
    "box1.inspect(3, style='graph')\n",
    "plt.show()"
   ]
  },
  {
   "cell_type": "code",
   "execution_count": null,
   "id": "italian-blowing",
   "metadata": {},
   "outputs": [],
   "source": []
  }
 ],
 "metadata": {
  "kernelspec": {
   "display_name": "Python 3",
   "language": "python",
   "name": "python3"
  },
  "language_info": {
   "codemirror_mode": {
    "name": "ipython",
    "version": 3
   },
   "file_extension": ".py",
   "mimetype": "text/x-python",
   "name": "python",
   "nbconvert_exporter": "python",
   "pygments_lexer": "ipython3",
   "version": "3.7.9"
  }
 },
 "nbformat": 4,
 "nbformat_minor": 5
}
