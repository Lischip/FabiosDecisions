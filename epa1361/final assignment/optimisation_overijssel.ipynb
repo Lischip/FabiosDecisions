{
 "cells": [
  {
   "cell_type": "code",
   "execution_count": 1,
   "id": "arbitrary-reporter",
   "metadata": {},
   "outputs": [],
   "source": [
    "from ema_workbench import Scenario, Policy, MultiprocessingEvaluator, ema_logging, load_results, save_results\n",
    "from ema_workbench.analysis import prim\n",
    "from problem_formulation import get_model_for_problem_formulation\n",
    "from ema_workbench.em_framework.evaluators import BaseEvaluator\n",
    "\n",
    "from ema_workbench.em_framework.optimization import (HyperVolume,\n",
    "                                                     EpsilonProgress)\n",
    "import matplotlib.pyplot as plt\n",
    "import pandas as pd\n",
    "import numpy as np\n",
    "from ema_workbench.analysis import parcoords\n",
    "import seaborn as sns\n",
    "import random\n",
    "from sklearn import preprocessing"
   ]
  },
  {
   "cell_type": "code",
   "execution_count": 2,
   "id": "desperate-fellow",
   "metadata": {},
   "outputs": [],
   "source": [
    "ACTORNAME = \"Overijssel\"\n",
    "dike_model, planning_steps = get_model_for_problem_formulation(ACTORNAME)\n",
    "outcomekeys = [outcome.name for outcome in dike_model.outcomes]"
   ]
  },
  {
   "cell_type": "markdown",
   "id": "unsigned-trade",
   "metadata": {},
   "source": [
    "# Scenario selection"
   ]
  },
  {
   "cell_type": "code",
   "execution_count": 3,
   "id": "honey-diving",
   "metadata": {},
   "outputs": [],
   "source": [
    "ACTOR = \"genscen_Overijssel_50000_12-06-2021-02-18-42.tar.gz\"\n",
    "experiments, outcomes = load_results(\"data/generated/\" + ACTOR)\n",
    "outcomes_df = pd.DataFrame(outcomes)"
   ]
  },
  {
   "cell_type": "code",
   "execution_count": 4,
   "id": "variable-mills",
   "metadata": {},
   "outputs": [
    {
     "data": {
      "text/plain": [
       "['Gorssel and Deventer Expected Annual Damage',\n",
       " 'Gorssel and Deventer Expected Number of Deaths',\n",
       " 'Gorssel and Deventer Total Costs']"
      ]
     },
     "execution_count": 4,
     "metadata": {},
     "output_type": "execute_result"
    }
   ],
   "source": [
    "outcomes_df.columns.values.tolist()"
   ]
  },
  {
   "cell_type": "code",
   "execution_count": 5,
   "id": "british-journey",
   "metadata": {},
   "outputs": [],
   "source": [
    "DAMAGE = outcomes_df.columns[0]\n",
    "DEATHS = outcomes_df.columns[1]\n",
    "COSTS = outcomes_df.columns[2]"
   ]
  },
  {
   "cell_type": "markdown",
   "id": "geographic-broadcasting",
   "metadata": {},
   "source": [
    "We are interested in the correlation between Deaths and Damage"
   ]
  },
  {
   "cell_type": "code",
   "execution_count": 6,
   "id": "mexican-monday",
   "metadata": {},
   "outputs": [
    {
     "data": {
      "text/plain": [
       "0.9757264909805828"
      ]
     },
     "execution_count": 6,
     "metadata": {},
     "output_type": "execute_result"
    }
   ],
   "source": [
    "outcomes_df[DAMAGE].corr(outcomes_df[DEATHS])"
   ]
  },
  {
   "cell_type": "markdown",
   "id": "remarkable-witch",
   "metadata": {},
   "source": [
    "So the correlation is INSANE"
   ]
  },
  {
   "cell_type": "code",
   "execution_count": 7,
   "id": "middle-affiliation",
   "metadata": {},
   "outputs": [],
   "source": [
    "results = pd.concat([experiments, outcomes_df], axis=1)"
   ]
  },
  {
   "cell_type": "code",
   "execution_count": 8,
   "id": "involved-opinion",
   "metadata": {},
   "outputs": [],
   "source": [
    "uncertainties =list(dike_model.uncertainties._data.keys())"
   ]
  },
  {
   "cell_type": "code",
   "execution_count": 9,
   "id": "republican-ordinance",
   "metadata": {},
   "outputs": [
    {
     "name": "stdout",
     "output_type": "stream",
     "text": [
      "Gorssel and Deventer Expected Annual Damage         959\n",
      "Gorssel and Deventer Expected Number of Deaths    35550\n",
      "Gorssel and Deventer Total Costs                      0\n",
      "dtype: int64\n",
      "Gorssel and Deventer Expected Annual Damage       780\n",
      "Gorssel and Deventer Expected Number of Deaths    780\n",
      "Gorssel and Deventer Total Costs                    0\n",
      "dtype: int64\n"
     ]
    }
   ],
   "source": [
    "print(outcomes_df.idxmax())\n",
    "print(outcomes_df.idxmin())"
   ]
  },
  {
   "cell_type": "code",
   "execution_count": 10,
   "id": "latter-cheese",
   "metadata": {},
   "outputs": [],
   "source": [
    "middle_damage_df = results.loc[(results[DAMAGE] > np.percentile(a=outcomes[DAMAGE], q=23)) & (results[DAMAGE] <= np.percentile(a=outcomes[DAMAGE], q=27))]\n",
    "middle_deaths_df = results.loc[(results[DEATHS] > np.percentile(a=outcomes[DEATHS], q=23)) & (results[DEATHS] <= np.percentile(a=outcomes[DEATHS], q=27))]\n",
    "twentyfive = random.choice(list(set(middle_damage_df[\"scenario\"].tolist()) & set(middle_deaths_df[\"scenario\"].tolist())))"
   ]
  },
  {
   "cell_type": "code",
   "execution_count": 11,
   "id": "blessed-paradise",
   "metadata": {},
   "outputs": [],
   "source": [
    "middle_damage_df = results.loc[(results[DAMAGE] > np.percentile(a=outcomes[DAMAGE], q=48)) & (results[DAMAGE] <= np.percentile(a=outcomes[DAMAGE], q=52))]\n",
    "middle_deaths_df = results.loc[(results[DEATHS] > np.percentile(a=outcomes[DEATHS], q=48)) & (results[DEATHS] <= np.percentile(a=outcomes[DEATHS], q=52))]\n",
    "fifty = random.choice(list(set(middle_damage_df[\"scenario\"].tolist()) & set(middle_deaths_df[\"scenario\"].tolist())))"
   ]
  },
  {
   "cell_type": "code",
   "execution_count": 12,
   "id": "frank-still",
   "metadata": {},
   "outputs": [],
   "source": [
    "middle_damage_df = results.loc[(results[DAMAGE] > np.percentile(a=outcomes[DAMAGE], q=73)) & (results[DAMAGE] <= np.percentile(a=outcomes[DAMAGE], q=77))]\n",
    "middle_deaths_df = results.loc[(results[DEATHS] > np.percentile(a=outcomes[DEATHS], q=73)) & (results[DEATHS] <= np.percentile(a=outcomes[DEATHS], q=77))]\n",
    "seventyfive = random.choice(list(set(middle_damage_df[\"scenario\"].tolist()) & set(middle_deaths_df[\"scenario\"].tolist())))"
   ]
  },
  {
   "cell_type": "code",
   "execution_count": 13,
   "id": "eligible-sullivan",
   "metadata": {},
   "outputs": [
    {
     "data": {
      "text/html": [
       "<div>\n",
       "<style scoped>\n",
       "    .dataframe tbody tr th:only-of-type {\n",
       "        vertical-align: middle;\n",
       "    }\n",
       "\n",
       "    .dataframe tbody tr th {\n",
       "        vertical-align: top;\n",
       "    }\n",
       "\n",
       "    .dataframe thead th {\n",
       "        text-align: right;\n",
       "    }\n",
       "</style>\n",
       "<table border=\"1\" class=\"dataframe\">\n",
       "  <thead>\n",
       "    <tr style=\"text-align: right;\">\n",
       "      <th></th>\n",
       "      <th>Gorssel and Deventer Expected Annual Damage</th>\n",
       "      <th>Gorssel and Deventer Expected Number of Deaths</th>\n",
       "      <th>Gorssel and Deventer Total Costs</th>\n",
       "    </tr>\n",
       "  </thead>\n",
       "  <tbody>\n",
       "    <tr>\n",
       "      <th>959</th>\n",
       "      <td>1.651202e+09</td>\n",
       "      <td>1.058792</td>\n",
       "      <td>0</td>\n",
       "    </tr>\n",
       "  </tbody>\n",
       "</table>\n",
       "</div>"
      ],
      "text/plain": [
       "     Gorssel and Deventer Expected Annual Damage  \\\n",
       "959                                 1.651202e+09   \n",
       "\n",
       "     Gorssel and Deventer Expected Number of Deaths  \\\n",
       "959                                        1.058792   \n",
       "\n",
       "     Gorssel and Deventer Total Costs  \n",
       "959                                 0  "
      ]
     },
     "execution_count": 13,
     "metadata": {},
     "output_type": "execute_result"
    }
   ],
   "source": [
    "outcomes_df.loc[outcomes_df[DAMAGE] == outcomes_df.max()[0]]"
   ]
  },
  {
   "cell_type": "code",
   "execution_count": 14,
   "id": "numerous-upset",
   "metadata": {},
   "outputs": [],
   "source": [
    "min_max_scaler = preprocessing.MinMaxScaler()\n",
    "damage_scaled = min_max_scaler.fit_transform(pd.DataFrame(outcomes[DAMAGE]).values)\n",
    "deaths_scaled = min_max_scaler.fit_transform(pd.DataFrame(outcomes[DEATHS]).values)\n",
    "scaled = (damage_scaled + deaths_scaled)/2"
   ]
  },
  {
   "cell_type": "code",
   "execution_count": 15,
   "id": "banned-serve",
   "metadata": {},
   "outputs": [],
   "source": [
    "outcomes_df[\"Scaled\"] = scaled\n",
    "SCALED = 'Scaled'"
   ]
  },
  {
   "cell_type": "code",
   "execution_count": 16,
   "id": "reserved-washington",
   "metadata": {},
   "outputs": [
    {
     "data": {
      "text/plain": [
       "959"
      ]
     },
     "execution_count": 16,
     "metadata": {},
     "output_type": "execute_result"
    }
   ],
   "source": [
    "outcomes_df.sort_values(by=\"Scaled\", ascending=False).head(1).index[0]"
   ]
  },
  {
   "cell_type": "markdown",
   "id": "proved-slovakia",
   "metadata": {},
   "source": [
    "Observation: Deventer more people die absolute worst\n",
    "explanation: more densely populated"
   ]
  },
  {
   "cell_type": "code",
   "execution_count": 17,
   "id": "spanish-collect",
   "metadata": {},
   "outputs": [],
   "source": [
    "idx = [outcomes_df.idxmin()[DAMAGE], twentyfive, fifty, seventyfive, outcomes_df.idxmax()[DEATHS], outcomes_df.idxmax()[DAMAGE]]"
   ]
  },
  {
   "cell_type": "code",
   "execution_count": 18,
   "id": "received-tobago",
   "metadata": {},
   "outputs": [
    {
     "data": {
      "text/plain": [
       "[780, 39145, 23114, 15320, 35550, 959]"
      ]
     },
     "execution_count": 18,
     "metadata": {},
     "output_type": "execute_result"
    }
   ],
   "source": [
    "idx"
   ]
  },
  {
   "cell_type": "code",
   "execution_count": 19,
   "id": "wooden-vaccine",
   "metadata": {},
   "outputs": [],
   "source": [
    "cases = {0: \"best\", 1: \"low\", 2: \"middle\", 3: \"high\", 4: \"worst deaths\", 5: \"absolute worst\"}"
   ]
  },
  {
   "cell_type": "code",
   "execution_count": 20,
   "id": "rapid-pasta",
   "metadata": {},
   "outputs": [],
   "source": [
    "selected = results.iloc[idx]"
   ]
  },
  {
   "cell_type": "code",
   "execution_count": 21,
   "id": "frank-glasgow",
   "metadata": {},
   "outputs": [],
   "source": [
    "selected = selected.loc[:,  uncertainties]"
   ]
  },
  {
   "cell_type": "code",
   "execution_count": 22,
   "id": "breathing-tourism",
   "metadata": {},
   "outputs": [],
   "source": [
    "scenarios = [Scenario(f\"{index}\", **row) for index, row in selected.iterrows()]"
   ]
  },
  {
   "cell_type": "code",
   "execution_count": 23,
   "id": "violent-might",
   "metadata": {},
   "outputs": [
    {
     "data": {
      "text/html": [
       "<div>\n",
       "<style scoped>\n",
       "    .dataframe tbody tr th:only-of-type {\n",
       "        vertical-align: middle;\n",
       "    }\n",
       "\n",
       "    .dataframe tbody tr th {\n",
       "        vertical-align: top;\n",
       "    }\n",
       "\n",
       "    .dataframe thead th {\n",
       "        text-align: right;\n",
       "    }\n",
       "</style>\n",
       "<table border=\"1\" class=\"dataframe\">\n",
       "  <thead>\n",
       "    <tr style=\"text-align: right;\">\n",
       "      <th></th>\n",
       "      <th>Gorssel and Deventer Expected Annual Damage</th>\n",
       "      <th>Gorssel and Deventer Expected Number of Deaths</th>\n",
       "      <th>Gorssel and Deventer Total Costs</th>\n",
       "      <th>Scaled</th>\n",
       "    </tr>\n",
       "  </thead>\n",
       "  <tbody>\n",
       "    <tr>\n",
       "      <th>count</th>\n",
       "      <td>5.000000e+04</td>\n",
       "      <td>50000.000000</td>\n",
       "      <td>50000.0</td>\n",
       "      <td>50000.000000</td>\n",
       "    </tr>\n",
       "    <tr>\n",
       "      <th>mean</th>\n",
       "      <td>2.238156e+08</td>\n",
       "      <td>0.185281</td>\n",
       "      <td>0.0</td>\n",
       "      <td>0.152460</td>\n",
       "    </tr>\n",
       "    <tr>\n",
       "      <th>std</th>\n",
       "      <td>2.662215e+08</td>\n",
       "      <td>0.236627</td>\n",
       "      <td>0.0</td>\n",
       "      <td>0.187645</td>\n",
       "    </tr>\n",
       "    <tr>\n",
       "      <th>min</th>\n",
       "      <td>0.000000e+00</td>\n",
       "      <td>0.000000</td>\n",
       "      <td>0.0</td>\n",
       "      <td>0.000000</td>\n",
       "    </tr>\n",
       "    <tr>\n",
       "      <th>25%</th>\n",
       "      <td>6.118422e+07</td>\n",
       "      <td>0.036801</td>\n",
       "      <td>0.0</td>\n",
       "      <td>0.036152</td>\n",
       "    </tr>\n",
       "    <tr>\n",
       "      <th>50%</th>\n",
       "      <td>1.228096e+08</td>\n",
       "      <td>0.073162</td>\n",
       "      <td>0.0</td>\n",
       "      <td>0.074426</td>\n",
       "    </tr>\n",
       "    <tr>\n",
       "      <th>75%</th>\n",
       "      <td>2.556901e+08</td>\n",
       "      <td>0.219267</td>\n",
       "      <td>0.0</td>\n",
       "      <td>0.178319</td>\n",
       "    </tr>\n",
       "    <tr>\n",
       "      <th>max</th>\n",
       "      <td>1.651202e+09</td>\n",
       "      <td>1.093926</td>\n",
       "      <td>0.0</td>\n",
       "      <td>0.983941</td>\n",
       "    </tr>\n",
       "  </tbody>\n",
       "</table>\n",
       "</div>"
      ],
      "text/plain": [
       "       Gorssel and Deventer Expected Annual Damage  \\\n",
       "count                                 5.000000e+04   \n",
       "mean                                  2.238156e+08   \n",
       "std                                   2.662215e+08   \n",
       "min                                   0.000000e+00   \n",
       "25%                                   6.118422e+07   \n",
       "50%                                   1.228096e+08   \n",
       "75%                                   2.556901e+08   \n",
       "max                                   1.651202e+09   \n",
       "\n",
       "       Gorssel and Deventer Expected Number of Deaths  \\\n",
       "count                                    50000.000000   \n",
       "mean                                         0.185281   \n",
       "std                                          0.236627   \n",
       "min                                          0.000000   \n",
       "25%                                          0.036801   \n",
       "50%                                          0.073162   \n",
       "75%                                          0.219267   \n",
       "max                                          1.093926   \n",
       "\n",
       "       Gorssel and Deventer Total Costs        Scaled  \n",
       "count                           50000.0  50000.000000  \n",
       "mean                                0.0      0.152460  \n",
       "std                                 0.0      0.187645  \n",
       "min                                 0.0      0.000000  \n",
       "25%                                 0.0      0.036152  \n",
       "50%                                 0.0      0.074426  \n",
       "75%                                 0.0      0.178319  \n",
       "max                                 0.0      0.983941  "
      ]
     },
     "execution_count": 23,
     "metadata": {},
     "output_type": "execute_result"
    }
   ],
   "source": [
    "outcomes_df.describe()"
   ]
  },
  {
   "cell_type": "markdown",
   "id": "round-confidence",
   "metadata": {},
   "source": [
    "# Optimisation"
   ]
  },
  {
   "cell_type": "markdown",
   "id": "stuffed-security",
   "metadata": {},
   "source": [
    "Based on the results in the above dataframe, epsilon values were chosen to be 1e+5 for Expected Damage, 0.01 for Expected Deaths, and 1e5 for Costs. This is to reflect the need for different levels of granularity for the three objectives. By choosing larger epsilon values where values are larger, it will lead to more meaningful solutions, and smaller epsilons where the values are smaller, we are able to trade off time for convergence with interesting and useful outcomes."
   ]
  },
  {
   "cell_type": "code",
   "execution_count": 24,
   "id": "trained-brooks",
   "metadata": {},
   "outputs": [],
   "source": [
    "hypervolumemin = [0,0,0]\n",
    "hypervolumemax = outcomes_df[outcomekeys].max(axis=0).values.tolist()"
   ]
  },
  {
   "cell_type": "code",
   "execution_count": 25,
   "id": "cellular-messenger",
   "metadata": {},
   "outputs": [],
   "source": [
    "hypervolumemax[2] = 1.15e9"
   ]
  },
  {
   "cell_type": "code",
   "execution_count": 26,
   "id": "bulgarian-bride",
   "metadata": {},
   "outputs": [
    {
     "name": "stderr",
     "output_type": "stream",
     "text": [
      "[MainProcess/INFO] pool started\n",
      "[MainProcess/INFO] generation 0: 0/2000 nfe\n",
      "[MainProcess/INFO] generation 5: 498/2000 nfe\n",
      "[MainProcess/INFO] generation 10: 992/2000 nfe\n",
      "[MainProcess/INFO] generation 15: 1481/2000 nfe\n",
      "[MainProcess/INFO] generation 20: 1939/2000 nfe\n",
      "[MainProcess/INFO] optimization completed, found 1 solutions\n",
      "[MainProcess/INFO] terminating pool\n",
      "[MainProcess/INFO] pool started\n",
      "[MainProcess/INFO] generation 0: 0/5000 nfe\n",
      "[MainProcess/INFO] generation 5: 497/5000 nfe\n",
      "[MainProcess/INFO] generation 10: 994/5000 nfe\n",
      "[MainProcess/INFO] generation 15: 1491/5000 nfe\n",
      "[MainProcess/INFO] generation 20: 1977/5000 nfe\n",
      "[MainProcess/INFO] generation 25: 2446/5000 nfe\n",
      "[MainProcess/INFO] generation 30: 2906/5000 nfe\n",
      "[MainProcess/INFO] generation 35: 3378/5000 nfe\n",
      "[MainProcess/INFO] generation 40: 3827/5000 nfe\n",
      "[MainProcess/INFO] generation 45: 4287/5000 nfe\n",
      "[MainProcess/INFO] generation 50: 4755/5000 nfe\n",
      "[MainProcess/INFO] optimization completed, found 8 solutions\n",
      "[MainProcess/INFO] terminating pool\n",
      "[MainProcess/INFO] pool started\n",
      "[MainProcess/INFO] generation 0: 0/6500 nfe\n",
      "[MainProcess/INFO] generation 5: 497/6500 nfe\n",
      "[MainProcess/INFO] generation 10: 997/6500 nfe\n",
      "[MainProcess/INFO] generation 15: 1493/6500 nfe\n",
      "[MainProcess/INFO] generation 20: 1977/6500 nfe\n",
      "[MainProcess/INFO] generation 25: 2450/6500 nfe\n",
      "[MainProcess/INFO] generation 30: 2915/6500 nfe\n",
      "[MainProcess/INFO] generation 35: 3382/6500 nfe\n",
      "[MainProcess/INFO] generation 40: 3847/6500 nfe\n",
      "[MainProcess/INFO] generation 45: 4312/6500 nfe\n",
      "[MainProcess/INFO] generation 50: 4789/6500 nfe\n",
      "[MainProcess/INFO] generation 55: 5258/6500 nfe\n",
      "[MainProcess/INFO] generation 60: 5711/6500 nfe\n",
      "[MainProcess/INFO] generation 65: 6171/6500 nfe\n",
      "[MainProcess/INFO] optimization completed, found 13 solutions\n",
      "[MainProcess/INFO] terminating pool\n",
      "[MainProcess/INFO] pool started\n",
      "[MainProcess/INFO] generation 0: 0/4250 nfe\n",
      "[MainProcess/INFO] generation 5: 499/4250 nfe\n",
      "[MainProcess/INFO] generation 10: 995/4250 nfe\n",
      "[MainProcess/INFO] generation 15: 1480/4250 nfe\n",
      "[MainProcess/INFO] generation 20: 1958/4250 nfe\n",
      "[MainProcess/INFO] generation 25: 2440/4250 nfe\n",
      "[MainProcess/INFO] generation 30: 2910/4250 nfe\n",
      "[MainProcess/INFO] generation 35: 3380/4250 nfe\n",
      "[MainProcess/INFO] generation 40: 3839/4250 nfe\n",
      "[MainProcess/INFO] optimization completed, found 9 solutions\n",
      "[MainProcess/INFO] terminating pool\n",
      "[MainProcess/INFO] pool started\n",
      "[MainProcess/INFO] generation 0: 0/7500 nfe\n",
      "[MainProcess/INFO] generation 5: 500/7500 nfe\n",
      "[MainProcess/INFO] generation 10: 999/7500 nfe\n",
      "[MainProcess/INFO] generation 15: 1495/7500 nfe\n",
      "[MainProcess/INFO] generation 20: 1989/7500 nfe\n",
      "[MainProcess/INFO] generation 25: 2459/7500 nfe\n",
      "[MainProcess/INFO] generation 30: 2926/7500 nfe\n",
      "[MainProcess/INFO] generation 35: 3373/7500 nfe\n",
      "[MainProcess/INFO] generation 40: 3838/7500 nfe\n",
      "[MainProcess/INFO] generation 45: 4296/7500 nfe\n",
      "[MainProcess/INFO] generation 50: 4758/7500 nfe\n",
      "[MainProcess/INFO] generation 55: 5235/7500 nfe\n",
      "[MainProcess/INFO] generation 60: 5687/7500 nfe\n",
      "[MainProcess/INFO] generation 65: 6160/7500 nfe\n",
      "[MainProcess/INFO] generation 70: 6631/7500 nfe\n",
      "[MainProcess/INFO] generation 75: 7106/7500 nfe\n",
      "[MainProcess/INFO] optimization completed, found 18 solutions\n",
      "[MainProcess/INFO] terminating pool\n",
      "[MainProcess/INFO] pool started\n",
      "[MainProcess/INFO] generation 0: 0/10000 nfe\n",
      "[MainProcess/INFO] generation 5: 494/10000 nfe\n",
      "[MainProcess/INFO] generation 10: 990/10000 nfe\n",
      "[MainProcess/INFO] generation 15: 1486/10000 nfe\n",
      "[MainProcess/INFO] generation 20: 1979/10000 nfe\n",
      "[MainProcess/INFO] generation 25: 2471/10000 nfe\n",
      "[MainProcess/INFO] generation 30: 2961/10000 nfe\n",
      "[MainProcess/INFO] generation 35: 3434/10000 nfe\n",
      "[MainProcess/INFO] generation 40: 3914/10000 nfe\n",
      "[MainProcess/INFO] generation 45: 4397/10000 nfe\n",
      "[MainProcess/INFO] generation 50: 4870/10000 nfe\n",
      "[MainProcess/INFO] generation 55: 5346/10000 nfe\n",
      "[MainProcess/INFO] generation 60: 5827/10000 nfe\n",
      "[MainProcess/INFO] generation 65: 6295/10000 nfe\n",
      "[MainProcess/INFO] generation 70: 6768/10000 nfe\n",
      "[MainProcess/INFO] generation 75: 7248/10000 nfe\n",
      "[MainProcess/INFO] generation 80: 7723/10000 nfe\n",
      "[MainProcess/INFO] generation 85: 8206/10000 nfe\n",
      "[MainProcess/INFO] generation 90: 8696/10000 nfe\n",
      "[MainProcess/INFO] generation 95: 9179/10000 nfe\n",
      "[MainProcess/INFO] generation 100: 9662/10000 nfe\n",
      "[MainProcess/INFO] generation 105: 9876/10000 nfe\n",
      "[MainProcess/INFO] optimization completed, found 11 solutions\n",
      "[MainProcess/INFO] terminating pool\n"
     ]
    }
   ],
   "source": [
    "ema_logging.log_to_stderr(ema_logging.INFO)\n",
    "\n",
    "nfe = [2000, 5000, 6500, 4250, 7500, 10000]\n",
    "epsilons=[[1e5, 0.01, 1e5]] * 5 + [[1e6, 0.01, 1e7]]\n",
    "\n",
    "\n",
    "def optimize(scenario, nfe, model, converge_metrics, epsilons):\n",
    "\n",
    "\n",
    "    with MultiprocessingEvaluator(model) as evaluator:\n",
    "        results, convergence = evaluator.optimize(nfe=nfe, searchover='levers',\n",
    "                                     convergence=convergence_metrics,\n",
    "                                     epsilons=epsilons,\n",
    "                                     reference=scenario, convergence_freq=200)\n",
    "    return results, convergence\n",
    "\n",
    "i = 0\n",
    "results = []\n",
    "for scenario in scenarios:\n",
    "    convergence_metrics = [HyperVolume(minimum=hypervolumemin, maximum=hypervolumemax),\n",
    "                           EpsilonProgress()]\n",
    "    \n",
    "    \n",
    "    \n",
    "    results.append(optimize(scenario, nfe[i], dike_model, convergence_metrics, epsilons[i]))\n",
    "    i += 1"
   ]
  },
  {
   "cell_type": "markdown",
   "id": "fallen-influence",
   "metadata": {},
   "source": [
    "epsilons for first 4 scenarios: 1e5, 0.1 and 1e5, for absolute worst: 1e6 0.1 and 1e7"
   ]
  },
  {
   "cell_type": "code",
   "execution_count": 27,
   "id": "aboriginal-knife",
   "metadata": {
    "scrolled": true
   },
   "outputs": [
    {
     "data": {
      "image/png": "[encoded data removed]",
      "text/plain": [
       "<Figure size 432x288 with 2 Axes>"
      ]
     },
     "metadata": {
      "needs_background": "light"
     },
     "output_type": "display_data"
    }
   ],
   "source": [
    "fig, (ax1, ax2) = plt.subplots(ncols=2,sharex=True)\n",
    "for i, (_, convergence) in enumerate(results):\n",
    "    ax1.plot(convergence.nfe, convergence.hypervolume, label=f'scenario {i}')\n",
    "    ax2.plot(convergence.nfe, convergence.epsilon_progress, label=f'scenario {i}')\n",
    "\n",
    "ax1.set_ylabel('hypervolume')\n",
    "ax1.set_xlabel('nfe')\n",
    "ax2.set_ylabel('$\\epsilon$ progress')\n",
    "ax2.set_xlabel('nfe')\n",
    "fig.legend()\n",
    "plt.show()"
   ]
  },
  {
   "cell_type": "markdown",
   "id": "according-rapid",
   "metadata": {},
   "source": [
    "# Saving"
   ]
  },
  {
   "cell_type": "code",
   "execution_count": 28,
   "id": "designed-incentive",
   "metadata": {},
   "outputs": [],
   "source": [
    "for i, (result, convergence) in enumerate(results):\n",
    "    result.to_csv(\"data/optimisation/\" + ACTORNAME + \"/results_\" + cases[i] +\".csv\", index=False)\n",
    "    convergence.to_csv(\"data/optimisation/\" + ACTORNAME + \"/convergence_\" + cases[i] +\".csv\", index=False)"
   ]
  },
  {
   "cell_type": "code",
   "execution_count": 29,
   "id": "statutory-uniform",
   "metadata": {},
   "outputs": [],
   "source": [
    "selected.to_csv(\"data/optimisation/\" + ACTORNAME + \"/selected.csv\", index=False)"
   ]
  },
  {
   "cell_type": "markdown",
   "id": "israeli-microwave",
   "metadata": {},
   "source": [
    "# Re-evaluate under deep uncertainty"
   ]
  },
  {
   "cell_type": "code",
   "execution_count": 30,
   "id": "subject-preview",
   "metadata": {},
   "outputs": [],
   "source": [
    "n_scenarios = 1000"
   ]
  },
  {
   "cell_type": "code",
   "execution_count": 31,
   "id": "advanced-death",
   "metadata": {},
   "outputs": [],
   "source": [
    "levers = [lever.name for lever in dike_model.levers]"
   ]
  },
  {
   "cell_type": "code",
   "execution_count": 32,
   "id": "illegal-cooling",
   "metadata": {},
   "outputs": [],
   "source": [
    "policies = []\n",
    "for i, (result, _) in enumerate(results):\n",
    "    result = result.loc[:, levers]\n",
    "    for j, row in result.iterrows():\n",
    "        policy = Policy(f'scenario {cases[i]} option {j}', **row.to_dict())\n",
    "        policies.append(policy)"
   ]
  },
  {
   "cell_type": "code",
   "execution_count": 33,
   "id": "damaged-begin",
   "metadata": {},
   "outputs": [
    {
     "data": {
      "text/plain": [
       "60"
      ]
     },
     "execution_count": 33,
     "metadata": {},
     "output_type": "execute_result"
    }
   ],
   "source": [
    "len(policies)"
   ]
  },
  {
   "cell_type": "code",
   "execution_count": 34,
   "id": "moved-norwegian",
   "metadata": {},
   "outputs": [
    {
     "name": "stderr",
     "output_type": "stream",
     "text": [
      "[MainProcess/INFO] pool started\n",
      "[MainProcess/INFO] performing 1000 scenarios * 60 policies * 1 model(s) = 60000 experiments\n",
      "[MainProcess/INFO] 6000 cases completed\n",
      "[MainProcess/INFO] 12000 cases completed\n",
      "[MainProcess/INFO] 18000 cases completed\n",
      "[MainProcess/INFO] 24000 cases completed\n",
      "[MainProcess/INFO] 30000 cases completed\n",
      "[MainProcess/INFO] 36000 cases completed\n",
      "[MainProcess/INFO] 42000 cases completed\n",
      "[MainProcess/INFO] 48000 cases completed\n",
      "[MainProcess/INFO] 54000 cases completed\n",
      "[MainProcess/INFO] 60000 cases completed\n",
      "[MainProcess/INFO] experiments finished\n",
      "[MainProcess/INFO] terminating pool\n"
     ]
    }
   ],
   "source": [
    "with MultiprocessingEvaluator(dike_model) as evaluator:\n",
    "    reevaluation_results = evaluator.perform_experiments(n_scenarios, policies=policies)"
   ]
  },
  {
   "cell_type": "markdown",
   "id": "completed-cuisine",
   "metadata": {},
   "source": [
    "# Saving"
   ]
  },
  {
   "cell_type": "code",
   "execution_count": 35,
   "id": "dimensional-tanzania",
   "metadata": {},
   "outputs": [
    {
     "name": "stderr",
     "output_type": "stream",
     "text": [
      "[MainProcess/INFO] results saved successfully to D:\\juju\\modelbaseddecisionmaking\\FabiosDecisions\\epa1361\\final assignment\\data\\optimisation\\du_scen_1000_Overijssel.tar.gz\n"
     ]
    }
   ],
   "source": [
    "save_results(reevaluation_results, \"data/optimisation/du_scen_\" + str(n_scenarios) + \"_\" + ACTORNAME + \".tar.gz\")"
   ]
  },
  {
   "cell_type": "code",
   "execution_count": null,
   "id": "future-membership",
   "metadata": {},
   "outputs": [],
   "source": []
  }
 ],
 "metadata": {
  "kernelspec": {
   "display_name": "Python 3",
   "language": "python",
   "name": "python3"
  },
  "language_info": {
   "codemirror_mode": {
    "name": "ipython",
    "version": 3
   },
   "file_extension": ".py",
   "mimetype": "text/x-python",
   "name": "python",
   "nbconvert_exporter": "python",
   "pygments_lexer": "ipython3",
   "version": "3.7.9"
  }
 },
 "nbformat": 4,
 "nbformat_minor": 5
}
