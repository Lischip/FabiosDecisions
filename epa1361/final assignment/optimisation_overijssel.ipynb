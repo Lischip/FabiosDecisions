{
 "cells": [
  {
   "cell_type": "code",
   "execution_count": 1,
   "id": "humanitarian-shelf",
   "metadata": {},
   "outputs": [],
   "source": [
    "from ema_workbench import Scenario, Policy, MultiprocessingEvaluator, ema_logging, load_results, save_results\n",
    "from ema_workbench.analysis import prim\n",
    "from problem_formulation import get_model_for_problem_formulation\n",
    "from ema_workbench.em_framework.evaluators import BaseEvaluator\n",
    "\n",
    "from ema_workbench.em_framework.optimization import (HyperVolume,\n",
    "                                                     EpsilonProgress)\n",
    "import matplotlib.pyplot as plt\n",
    "import pandas as pd\n",
    "import numpy as np\n",
    "from ema_workbench.analysis import parcoords\n",
    "import seaborn as sns\n",
    "import random\n",
    "from sklearn import preprocessing"
   ]
  },
  {
   "cell_type": "code",
   "execution_count": 2,
   "id": "adopted-norfolk",
   "metadata": {},
   "outputs": [],
   "source": [
    "ACTORNAME = \"Overijssel\"\n",
    "dike_model, planning_steps = get_model_for_problem_formulation(ACTORNAME)\n",
    "outcomekeys = [outcome.name for outcome in dike_model.outcomes]"
   ]
  },
  {
   "cell_type": "markdown",
   "id": "horizontal-mustang",
   "metadata": {},
   "source": [
    "# Scenario selection"
   ]
  },
  {
   "cell_type": "code",
   "execution_count": 3,
   "id": "hybrid-boston",
   "metadata": {},
   "outputs": [],
   "source": [
    "ACTOR = \"genscen_Overijssel_50000_12-06-2021-02-18-42.tar.gz\"\n",
    "experiments, outcomes = load_results(\"data/generated/\" + ACTOR)\n",
    "outcomes_df = pd.DataFrame(outcomes)"
   ]
  },
  {
   "cell_type": "code",
   "execution_count": 4,
   "id": "constant-space",
   "metadata": {},
   "outputs": [
    {
     "data": {
      "text/plain": [
       "['Gorssel and Deventer Expected Annual Damage',\n",
       " 'Gorssel and Deventer Expected Number of Deaths',\n",
       " 'Gorssel and Deventer Total Costs']"
      ]
     },
     "execution_count": 4,
     "metadata": {},
     "output_type": "execute_result"
    }
   ],
   "source": [
    "outcomes_df.columns.values.tolist()"
   ]
  },
  {
   "cell_type": "code",
   "execution_count": 5,
   "id": "final-alliance",
   "metadata": {},
   "outputs": [],
   "source": [
    "DAMAGE = outcomes_df.columns[0]\n",
    "DEATHS = outcomes_df.columns[1]\n",
    "COSTS = outcomes_df.columns[2]"
   ]
  },
  {
   "cell_type": "markdown",
   "id": "secret-stranger",
   "metadata": {},
   "source": [
    "We are interested in the correlation between Deaths and Damage"
   ]
  },
  {
   "cell_type": "code",
   "execution_count": 6,
   "id": "breeding-scroll",
   "metadata": {},
   "outputs": [
    {
     "data": {
      "text/plain": [
       "0.9757264909805828"
      ]
     },
     "execution_count": 6,
     "metadata": {},
     "output_type": "execute_result"
    }
   ],
   "source": [
    "outcomes_df[DAMAGE].corr(outcomes_df[DEATHS])"
   ]
  },
  {
   "cell_type": "markdown",
   "id": "typical-encoding",
   "metadata": {},
   "source": [
    "So the correlation is INSANE"
   ]
  },
  {
   "cell_type": "code",
   "execution_count": 7,
   "id": "adverse-halifax",
   "metadata": {},
   "outputs": [],
   "source": [
    "results = pd.concat([experiments, outcomes_df], axis=1)"
   ]
  },
  {
   "cell_type": "code",
   "execution_count": 10,
   "id": "impressed-ceramic",
   "metadata": {},
   "outputs": [],
   "source": [
    "uncertainties =list(dike_model.uncertainties._data.keys())"
   ]
  },
  {
   "cell_type": "code",
   "execution_count": 11,
   "id": "announced-animal",
   "metadata": {},
   "outputs": [
    {
     "name": "stdout",
     "output_type": "stream",
     "text": [
      "Gorssel and Deventer Expected Annual Damage         959\n",
      "Gorssel and Deventer Expected Number of Deaths    35550\n",
      "Gorssel and Deventer Total Costs                      0\n",
      "dtype: int64\n",
      "Gorssel and Deventer Expected Annual Damage       780\n",
      "Gorssel and Deventer Expected Number of Deaths    780\n",
      "Gorssel and Deventer Total Costs                    0\n",
      "dtype: int64\n"
     ]
    }
   ],
   "source": [
    "print(outcomes_df.idxmax())\n",
    "print(outcomes_df.idxmin())"
   ]
  },
  {
   "cell_type": "code",
   "execution_count": 16,
   "id": "amended-disorder",
   "metadata": {},
   "outputs": [],
   "source": [
    "middle_damage_df = results.loc[(results[DAMAGE] > np.percentile(a=outcomes[DAMAGE], q=23)) & (results[DAMAGE] <= np.percentile(a=outcomes[DAMAGE], q=27))]\n",
    "middle_deaths_df = results.loc[(results[DEATHS] > np.percentile(a=outcomes[DEATHS], q=23)) & (results[DEATHS] <= np.percentile(a=outcomes[DEATHS], q=27))]\n",
    "twentyfive = random.choice(list(set(middle_damage_df[\"scenario\"].tolist()) & set(middle_deaths_df[\"scenario\"].tolist())))"
   ]
  },
  {
   "cell_type": "code",
   "execution_count": 17,
   "id": "annual-patch",
   "metadata": {},
   "outputs": [],
   "source": [
    "middle_damage_df = results.loc[(results[DAMAGE] > np.percentile(a=outcomes[DAMAGE], q=48)) & (results[DAMAGE] <= np.percentile(a=outcomes[DAMAGE], q=52))]\n",
    "middle_deaths_df = results.loc[(results[DEATHS] > np.percentile(a=outcomes[DEATHS], q=48)) & (results[DEATHS] <= np.percentile(a=outcomes[DEATHS], q=52))]\n",
    "fifty = random.choice(list(set(middle_damage_df[\"scenario\"].tolist()) & set(middle_deaths_df[\"scenario\"].tolist())))"
   ]
  },
  {
   "cell_type": "code",
   "execution_count": 18,
   "id": "responsible-presentation",
   "metadata": {},
   "outputs": [],
   "source": [
    "middle_damage_df = results.loc[(results[DAMAGE] > np.percentile(a=outcomes[DAMAGE], q=73)) & (results[DAMAGE] <= np.percentile(a=outcomes[DAMAGE], q=77))]\n",
    "middle_deaths_df = results.loc[(results[DEATHS] > np.percentile(a=outcomes[DEATHS], q=73)) & (results[DEATHS] <= np.percentile(a=outcomes[DEATHS], q=77))]\n",
    "seventyfive = random.choice(list(set(middle_damage_df[\"scenario\"].tolist()) & set(middle_deaths_df[\"scenario\"].tolist())))"
   ]
  },
  {
   "cell_type": "code",
   "execution_count": 19,
   "id": "motivated-router",
   "metadata": {},
   "outputs": [
    {
     "data": {
      "text/html": [
       "<div>\n",
       "<style scoped>\n",
       "    .dataframe tbody tr th:only-of-type {\n",
       "        vertical-align: middle;\n",
       "    }\n",
       "\n",
       "    .dataframe tbody tr th {\n",
       "        vertical-align: top;\n",
       "    }\n",
       "\n",
       "    .dataframe thead th {\n",
       "        text-align: right;\n",
       "    }\n",
       "</style>\n",
       "<table border=\"1\" class=\"dataframe\">\n",
       "  <thead>\n",
       "    <tr style=\"text-align: right;\">\n",
       "      <th></th>\n",
       "      <th>Gorssel and Deventer Expected Annual Damage</th>\n",
       "      <th>Gorssel and Deventer Expected Number of Deaths</th>\n",
       "      <th>Gorssel and Deventer Total Costs</th>\n",
       "    </tr>\n",
       "  </thead>\n",
       "  <tbody>\n",
       "    <tr>\n",
       "      <th>959</th>\n",
       "      <td>1.651202e+09</td>\n",
       "      <td>1.058792</td>\n",
       "      <td>0</td>\n",
       "    </tr>\n",
       "  </tbody>\n",
       "</table>\n",
       "</div>"
      ],
      "text/plain": [
       "     Gorssel and Deventer Expected Annual Damage  \\\n",
       "959                                 1.651202e+09   \n",
       "\n",
       "     Gorssel and Deventer Expected Number of Deaths  \\\n",
       "959                                        1.058792   \n",
       "\n",
       "     Gorssel and Deventer Total Costs  \n",
       "959                                 0  "
      ]
     },
     "execution_count": 19,
     "metadata": {},
     "output_type": "execute_result"
    }
   ],
   "source": [
    "outcomes_df.loc[outcomes_df[DAMAGE] == outcomes_df.max()[0]]"
   ]
  },
  {
   "cell_type": "code",
   "execution_count": 20,
   "id": "pretty-enclosure",
   "metadata": {},
   "outputs": [],
   "source": [
    "min_max_scaler = preprocessing.MinMaxScaler()\n",
    "damage_scaled = min_max_scaler.fit_transform(pd.DataFrame(outcomes[DAMAGE]).values)\n",
    "deaths_scaled = min_max_scaler.fit_transform(pd.DataFrame(outcomes[DEATHS]).values)\n",
    "scaled = (damage_scaled + deaths_scaled)/2"
   ]
  },
  {
   "cell_type": "code",
   "execution_count": 21,
   "id": "powered-valley",
   "metadata": {},
   "outputs": [],
   "source": [
    "outcomes_df[\"Scaled\"] = scaled\n",
    "SCALED = 'Scaled'"
   ]
  },
  {
   "cell_type": "code",
   "execution_count": 22,
   "id": "cardiac-communication",
   "metadata": {},
   "outputs": [
    {
     "data": {
      "text/plain": [
       "959"
      ]
     },
     "execution_count": 22,
     "metadata": {},
     "output_type": "execute_result"
    }
   ],
   "source": [
    "outcomes_df.sort_values(by=\"Scaled\", ascending=False).head(1).index[0]"
   ]
  },
  {
   "cell_type": "markdown",
   "id": "literary-bedroom",
   "metadata": {},
   "source": [
    "Observation: Deventer more people die absolute worst\n",
    "explanation: more densely populated"
   ]
  },
  {
   "cell_type": "code",
   "execution_count": 23,
   "id": "superior-coordinate",
   "metadata": {},
   "outputs": [],
   "source": [
    "idx = [outcomes_df.idxmin()[DAMAGE], twentyfive, fifty, seventyfive, outcomes_df.idxmax()[DEATHS], outcomes_df.idxmax()[DAMAGE]]"
   ]
  },
  {
   "cell_type": "code",
   "execution_count": 24,
   "id": "behind-herald",
   "metadata": {},
   "outputs": [
    {
     "data": {
      "text/plain": [
       "[780, 26410, 10135, 425, 35550, 959]"
      ]
     },
     "execution_count": 24,
     "metadata": {},
     "output_type": "execute_result"
    }
   ],
   "source": [
    "idx"
   ]
  },
  {
   "cell_type": "code",
   "execution_count": 25,
   "id": "declared-hypothetical",
   "metadata": {},
   "outputs": [],
   "source": [
    "cases = {0: \"best\", 1: \"low\", 2: \"middle\", 3: \"high\", 4: \"worst deaths\", 5: \"absolute worst\"}"
   ]
  },
  {
   "cell_type": "code",
   "execution_count": 26,
   "id": "seeing-evening",
   "metadata": {},
   "outputs": [],
   "source": [
    "selected = results.iloc[idx]"
   ]
  },
  {
   "cell_type": "code",
   "execution_count": 27,
   "id": "sufficient-copyright",
   "metadata": {},
   "outputs": [],
   "source": [
    "selected = selected.loc[:,  uncertainties]"
   ]
  },
  {
   "cell_type": "code",
   "execution_count": 28,
   "id": "voluntary-actress",
   "metadata": {},
   "outputs": [],
   "source": [
    "scenarios = [Scenario(f\"{index}\", **row) for index, row in selected.iterrows()]"
   ]
  },
  {
   "cell_type": "code",
   "execution_count": 29,
   "id": "collected-fiction",
   "metadata": {},
   "outputs": [
    {
     "data": {
      "text/html": [
       "<div>\n",
       "<style scoped>\n",
       "    .dataframe tbody tr th:only-of-type {\n",
       "        vertical-align: middle;\n",
       "    }\n",
       "\n",
       "    .dataframe tbody tr th {\n",
       "        vertical-align: top;\n",
       "    }\n",
       "\n",
       "    .dataframe thead th {\n",
       "        text-align: right;\n",
       "    }\n",
       "</style>\n",
       "<table border=\"1\" class=\"dataframe\">\n",
       "  <thead>\n",
       "    <tr style=\"text-align: right;\">\n",
       "      <th></th>\n",
       "      <th>Gorssel and Deventer Expected Annual Damage</th>\n",
       "      <th>Gorssel and Deventer Expected Number of Deaths</th>\n",
       "      <th>Gorssel and Deventer Total Costs</th>\n",
       "      <th>Scaled</th>\n",
       "    </tr>\n",
       "  </thead>\n",
       "  <tbody>\n",
       "    <tr>\n",
       "      <th>count</th>\n",
       "      <td>5.000000e+04</td>\n",
       "      <td>50000.000000</td>\n",
       "      <td>50000.0</td>\n",
       "      <td>50000.000000</td>\n",
       "    </tr>\n",
       "    <tr>\n",
       "      <th>mean</th>\n",
       "      <td>2.238156e+08</td>\n",
       "      <td>0.185281</td>\n",
       "      <td>0.0</td>\n",
       "      <td>0.152460</td>\n",
       "    </tr>\n",
       "    <tr>\n",
       "      <th>std</th>\n",
       "      <td>2.662215e+08</td>\n",
       "      <td>0.236627</td>\n",
       "      <td>0.0</td>\n",
       "      <td>0.187645</td>\n",
       "    </tr>\n",
       "    <tr>\n",
       "      <th>min</th>\n",
       "      <td>0.000000e+00</td>\n",
       "      <td>0.000000</td>\n",
       "      <td>0.0</td>\n",
       "      <td>0.000000</td>\n",
       "    </tr>\n",
       "    <tr>\n",
       "      <th>25%</th>\n",
       "      <td>6.118422e+07</td>\n",
       "      <td>0.036801</td>\n",
       "      <td>0.0</td>\n",
       "      <td>0.036152</td>\n",
       "    </tr>\n",
       "    <tr>\n",
       "      <th>50%</th>\n",
       "      <td>1.228096e+08</td>\n",
       "      <td>0.073162</td>\n",
       "      <td>0.0</td>\n",
       "      <td>0.074426</td>\n",
       "    </tr>\n",
       "    <tr>\n",
       "      <th>75%</th>\n",
       "      <td>2.556901e+08</td>\n",
       "      <td>0.219267</td>\n",
       "      <td>0.0</td>\n",
       "      <td>0.178319</td>\n",
       "    </tr>\n",
       "    <tr>\n",
       "      <th>max</th>\n",
       "      <td>1.651202e+09</td>\n",
       "      <td>1.093926</td>\n",
       "      <td>0.0</td>\n",
       "      <td>0.983941</td>\n",
       "    </tr>\n",
       "  </tbody>\n",
       "</table>\n",
       "</div>"
      ],
      "text/plain": [
       "       Gorssel and Deventer Expected Annual Damage  \\\n",
       "count                                 5.000000e+04   \n",
       "mean                                  2.238156e+08   \n",
       "std                                   2.662215e+08   \n",
       "min                                   0.000000e+00   \n",
       "25%                                   6.118422e+07   \n",
       "50%                                   1.228096e+08   \n",
       "75%                                   2.556901e+08   \n",
       "max                                   1.651202e+09   \n",
       "\n",
       "       Gorssel and Deventer Expected Number of Deaths  \\\n",
       "count                                    50000.000000   \n",
       "mean                                         0.185281   \n",
       "std                                          0.236627   \n",
       "min                                          0.000000   \n",
       "25%                                          0.036801   \n",
       "50%                                          0.073162   \n",
       "75%                                          0.219267   \n",
       "max                                          1.093926   \n",
       "\n",
       "       Gorssel and Deventer Total Costs        Scaled  \n",
       "count                           50000.0  50000.000000  \n",
       "mean                                0.0      0.152460  \n",
       "std                                 0.0      0.187645  \n",
       "min                                 0.0      0.000000  \n",
       "25%                                 0.0      0.036152  \n",
       "50%                                 0.0      0.074426  \n",
       "75%                                 0.0      0.178319  \n",
       "max                                 0.0      0.983941  "
      ]
     },
     "execution_count": 29,
     "metadata": {},
     "output_type": "execute_result"
    }
   ],
   "source": [
    "outcomes_df.describe()"
   ]
  },
  {
   "cell_type": "markdown",
   "id": "breathing-seating",
   "metadata": {},
   "source": [
    "# Optimisation"
   ]
  },
  {
   "cell_type": "code",
   "execution_count": 30,
   "id": "maritime-stevens",
   "metadata": {},
   "outputs": [],
   "source": [
    "hypervolumemin = [0,0,0]\n",
    "hypervolumemax = outcomes_df[outcomekeys].max(axis=0).values.tolist()"
   ]
  },
  {
   "cell_type": "code",
   "execution_count": 31,
   "id": "owned-acoustic",
   "metadata": {},
   "outputs": [],
   "source": [
    "hypervolumemax[2] = 1.15e9"
   ]
  },
  {
   "cell_type": "code",
   "execution_count": null,
   "id": "interior-pennsylvania",
   "metadata": {},
   "outputs": [],
   "source": [
    "ema_logging.log_to_stderr(ema_logging.INFO)\n",
    "\n",
    "nfe = 3000 + 1000\n",
    "\n",
    "def optimize(scenario, nfe, model, converge_metrics, epsilons):\n",
    "\n",
    "\n",
    "    with MultiprocessingEvaluator(model) as evaluator:\n",
    "        results, convergence = evaluator.optimize(nfe=nfe, searchover='levers',\n",
    "                                     convergence=convergence_metrics,\n",
    "                                     epsilons=epsilons,\n",
    "                                     reference=scenario, convergence_freq=200)\n",
    "    return results, convergence\n",
    "\n",
    "scenario = scenarios[5]\n",
    "results = []\n",
    "convergence_metrics = [HyperVolume(minimum=hypervolumemin, maximum=hypervolumemax),\n",
    "                       EpsilonProgress()]\n",
    "epsilons = [1e5, 0.01, 1e5]\n",
    "\n",
    "\n",
    "\n",
    "results.append(optimize(scenario, nfe, dike_model, convergence_metrics, epsilons))\n",
    "\n",
    "\n",
    "\n",
    "# results = []\n",
    "# for scenario in scenarios:\n",
    "#     convergence_metrics = [HyperVolume(minimum=hypervolumemin, maximum=hypervolumemax),\n",
    "#                            EpsilonProgress()]\n",
    "#     epsilons = [1e3, 0.001, 1e5]\n",
    "    \n",
    "    \n",
    "    \n",
    "#     results.append(optimize(scenario, nfe, dike_model, convergence_metrics, epsilons))\n"
   ]
  },
  {
   "cell_type": "code",
   "execution_count": 37,
   "id": "uniform-focus",
   "metadata": {
    "scrolled": true
   },
   "outputs": [
    {
     "data": {
      "image/png": "[encoded data removed]",
      "text/plain": [
       "<Figure size 432x288 with 2 Axes>"
      ]
     },
     "metadata": {
      "needs_background": "light"
     },
     "output_type": "display_data"
    }
   ],
   "source": [
    "fig, (ax1, ax2) = plt.subplots(ncols=2,sharex=True)\n",
    "for i, (_, convergence) in enumerate(results):\n",
    "    ax1.plot(convergence.nfe, convergence.hypervolume, label=f'scenario {i}')\n",
    "    ax2.plot(convergence.nfe, convergence.epsilon_progress, label=f'scenario {i}')\n",
    "\n",
    "ax1.set_ylabel('hypervolume')\n",
    "ax1.set_xlabel('nfe')\n",
    "ax2.set_ylabel('$\\epsilon$ progress')\n",
    "ax2.set_xlabel('nfe')\n",
    "fig.legend()\n",
    "plt.show()"
   ]
  },
  {
   "cell_type": "markdown",
   "id": "capable-shelter",
   "metadata": {},
   "source": [
    "# Saving"
   ]
  },
  {
   "cell_type": "code",
   "execution_count": 38,
   "id": "assisted-weather",
   "metadata": {},
   "outputs": [],
   "source": [
    "for i, (result, convergence) in enumerate(results):\n",
    "    result.to_csv(\"data/optimisation/\" + ACTORNAME + \"/results_\" + cases[i] +\".csv\", index=False)\n",
    "    convergence.to_csv(\"data/optimisation/\" + ACTORNAME + \"/convergence_\" + cases[i] +\".csv\", index=False)"
   ]
  },
  {
   "cell_type": "code",
   "execution_count": 39,
   "id": "downtown-activity",
   "metadata": {},
   "outputs": [],
   "source": [
    "selected.to_csv(\"data/optimisation/\" + ACTORNAME + \"/selected.csv\", index=False)"
   ]
  },
  {
   "cell_type": "markdown",
   "id": "specific-establishment",
   "metadata": {},
   "source": [
    "# Re-evaluate under deep uncertainty"
   ]
  },
  {
   "cell_type": "code",
   "execution_count": 40,
   "id": "employed-irrigation",
   "metadata": {},
   "outputs": [],
   "source": [
    "n_scenarios = 1000"
   ]
  },
  {
   "cell_type": "code",
   "execution_count": 41,
   "id": "homeless-delta",
   "metadata": {},
   "outputs": [],
   "source": [
    "levers = [lever.name for lever in dike_model.levers]"
   ]
  },
  {
   "cell_type": "code",
   "execution_count": 42,
   "id": "engaged-mortality",
   "metadata": {},
   "outputs": [],
   "source": [
    "policies = []\n",
    "for i, (result, _) in enumerate(results):\n",
    "    result = result.loc[:, levers]\n",
    "    for j, row in result.iterrows():\n",
    "        policy = Policy(f'scenario {cases[i]} option {j}', **row.to_dict())\n",
    "        policies.append(policy)"
   ]
  },
  {
   "cell_type": "code",
   "execution_count": 43,
   "id": "piano-alberta",
   "metadata": {},
   "outputs": [
    {
     "name": "stderr",
     "output_type": "stream",
     "text": [
      "[MainProcess/INFO] pool started\n",
      "[MainProcess/INFO] performing 1000 scenarios * 14 policies * 1 model(s) = 14000 experiments\n",
      "[MainProcess/INFO] 1400 cases completed\n",
      "[MainProcess/INFO] 2800 cases completed\n",
      "[MainProcess/INFO] 4200 cases completed\n",
      "[MainProcess/INFO] 5600 cases completed\n",
      "[MainProcess/INFO] 7000 cases completed\n",
      "[MainProcess/INFO] 8400 cases completed\n",
      "[MainProcess/INFO] 9800 cases completed\n",
      "[MainProcess/INFO] 11200 cases completed\n",
      "[MainProcess/INFO] 12600 cases completed\n",
      "[MainProcess/INFO] 14000 cases completed\n",
      "[MainProcess/INFO] experiments finished\n",
      "[MainProcess/INFO] terminating pool\n"
     ]
    }
   ],
   "source": [
    "with MultiprocessingEvaluator(dike_model) as evaluator:\n",
    "    reevaluation_results = evaluator.perform_experiments(n_scenarios, policies=policies)"
   ]
  },
  {
   "cell_type": "markdown",
   "id": "improved-gospel",
   "metadata": {},
   "source": [
    "# Saving"
   ]
  },
  {
   "cell_type": "code",
   "execution_count": 45,
   "id": "stretch-blocking",
   "metadata": {},
   "outputs": [
    {
     "name": "stderr",
     "output_type": "stream",
     "text": [
      "[MainProcess/INFO] results saved successfully to /Users/emilyryan/Dropbox/EPA/EPA1361/FabiosDecisions/epa1361/final assignment/data/optimisation/du_scen_1000_Gorssel.tar.gz\n"
     ]
    }
   ],
   "source": [
    "save_results(reevaluation_results, \"data/optimisation/du_scen_\" + str(n_scenarios) + \"_\" + ACTORNAME + \".tar.gz\")"
   ]
  },
  {
   "cell_type": "code",
   "execution_count": null,
   "id": "earlier-delay",
   "metadata": {},
   "outputs": [],
   "source": []
  }
 ],
 "metadata": {
  "kernelspec": {
   "display_name": "Python 3",
   "language": "python",
   "name": "python3"
  },
  "language_info": {
   "codemirror_mode": {
    "name": "ipython",
    "version": 3
   },
   "file_extension": ".py",
   "mimetype": "text/x-python",
   "name": "python",
   "nbconvert_exporter": "python",
   "pygments_lexer": "ipython3",
   "version": "3.7.9"
  }
 },
 "nbformat": 4,
 "nbformat_minor": 5
}
