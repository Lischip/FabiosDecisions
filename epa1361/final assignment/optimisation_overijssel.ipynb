{
 "cells": [
  {
   "cell_type": "code",
   "execution_count": 1,
   "id": "experienced-pocket",
   "metadata": {},
   "outputs": [],
   "source": [
    "from ema_workbench import Scenario, Policy, MultiprocessingEvaluator, ema_logging, load_results, save_results\n",
    "from ema_workbench.analysis import prim\n",
    "from problem_formulation import get_model_for_problem_formulation\n",
    "from ema_workbench.em_framework.evaluators import BaseEvaluator\n",
    "\n",
    "from ema_workbench.em_framework.optimization import (HyperVolume,\n",
    "                                                     EpsilonProgress)\n",
    "import matplotlib.pyplot as plt\n",
    "import pandas as pd\n",
    "import numpy as np\n",
    "from ema_workbench.analysis import parcoords\n",
    "import seaborn as sns\n",
    "import random\n",
    "from sklearn import preprocessing"
   ]
  },
  {
   "cell_type": "code",
   "execution_count": 2,
   "id": "enabling-ordering",
   "metadata": {},
   "outputs": [],
   "source": [
    "ACTORNAME = \"Overijssel\"\n",
    "dike_model, planning_steps = get_model_for_problem_formulation(ACTORNAME)\n",
    "outcomekeys = [outcome.name for outcome in dike_model.outcomes]"
   ]
  },
  {
   "cell_type": "markdown",
   "id": "comparative-cover",
   "metadata": {},
   "source": [
    "# Scenario selection"
   ]
  },
  {
   "cell_type": "code",
   "execution_count": 3,
   "id": "thousand-mexican",
   "metadata": {},
   "outputs": [],
   "source": [
    "ACTOR = \"genscen_Overijssel_50000_12-06-2021-02-18-42.tar.gz\"\n",
    "experiments, outcomes = load_results(\"data/generated/\" + ACTOR)\n",
    "outcomes_df = pd.DataFrame(outcomes)"
   ]
  },
  {
   "cell_type": "code",
   "execution_count": 4,
   "id": "norwegian-milan",
   "metadata": {},
   "outputs": [
    {
     "data": {
      "text/plain": [
       "['Gorssel and Deventer Expected Annual Damage',\n",
       " 'Gorssel and Deventer Expected Number of Deaths',\n",
       " 'Gorssel and Deventer Total Costs']"
      ]
     },
     "execution_count": 4,
     "metadata": {},
     "output_type": "execute_result"
    }
   ],
   "source": [
    "outcomes_df.columns.values.tolist()"
   ]
  },
  {
   "cell_type": "code",
   "execution_count": 5,
   "id": "missing-spencer",
   "metadata": {},
   "outputs": [],
   "source": [
    "DAMAGE = outcomes_df.columns[0]\n",
    "DEATHS = outcomes_df.columns[1]\n",
    "COSTS = outcomes_df.columns[2]"
   ]
  },
  {
   "cell_type": "markdown",
   "id": "suitable-lingerie",
   "metadata": {},
   "source": [
    "We are interested in the correlation between Deaths and Damage"
   ]
  },
  {
   "cell_type": "code",
   "execution_count": 6,
   "id": "social-cigarette",
   "metadata": {},
   "outputs": [
    {
     "data": {
      "text/plain": [
       "0.9757264909805828"
      ]
     },
     "execution_count": 6,
     "metadata": {},
     "output_type": "execute_result"
    }
   ],
   "source": [
    "outcomes_df[DAMAGE].corr(outcomes_df[DEATHS])"
   ]
  },
  {
   "cell_type": "markdown",
   "id": "parliamentary-audio",
   "metadata": {},
   "source": [
    "So the correlation is INSANE"
   ]
  },
  {
   "cell_type": "code",
   "execution_count": 7,
   "id": "innocent-monster",
   "metadata": {},
   "outputs": [],
   "source": [
    "results = pd.concat([experiments, outcomes_df], axis=1)"
   ]
  },
  {
   "cell_type": "code",
   "execution_count": 8,
   "id": "terminal-reform",
   "metadata": {},
   "outputs": [],
   "source": [
    "uncertainties =list(dike_model.uncertainties._data.keys())"
   ]
  },
  {
   "cell_type": "code",
   "execution_count": 9,
   "id": "surgical-library",
   "metadata": {},
   "outputs": [
    {
     "name": "stdout",
     "output_type": "stream",
     "text": [
      "Gorssel and Deventer Expected Annual Damage         959\n",
      "Gorssel and Deventer Expected Number of Deaths    35550\n",
      "Gorssel and Deventer Total Costs                      0\n",
      "dtype: int64\n",
      "Gorssel and Deventer Expected Annual Damage       780\n",
      "Gorssel and Deventer Expected Number of Deaths    780\n",
      "Gorssel and Deventer Total Costs                    0\n",
      "dtype: int64\n"
     ]
    }
   ],
   "source": [
    "print(outcomes_df.idxmax())\n",
    "print(outcomes_df.idxmin())"
   ]
  },
  {
   "cell_type": "code",
   "execution_count": 10,
   "id": "decent-integer",
   "metadata": {},
   "outputs": [],
   "source": [
    "middle_damage_df = results.loc[(results[DAMAGE] > np.percentile(a=outcomes[DAMAGE], q=23)) & (results[DAMAGE] <= np.percentile(a=outcomes[DAMAGE], q=27))]\n",
    "middle_deaths_df = results.loc[(results[DEATHS] > np.percentile(a=outcomes[DEATHS], q=23)) & (results[DEATHS] <= np.percentile(a=outcomes[DEATHS], q=27))]\n",
    "twentyfive = random.choice(list(set(middle_damage_df[\"scenario\"].tolist()) & set(middle_deaths_df[\"scenario\"].tolist())))"
   ]
  },
  {
   "cell_type": "code",
   "execution_count": 11,
   "id": "annoying-million",
   "metadata": {},
   "outputs": [],
   "source": [
    "middle_damage_df = results.loc[(results[DAMAGE] > np.percentile(a=outcomes[DAMAGE], q=48)) & (results[DAMAGE] <= np.percentile(a=outcomes[DAMAGE], q=52))]\n",
    "middle_deaths_df = results.loc[(results[DEATHS] > np.percentile(a=outcomes[DEATHS], q=48)) & (results[DEATHS] <= np.percentile(a=outcomes[DEATHS], q=52))]\n",
    "fifty = random.choice(list(set(middle_damage_df[\"scenario\"].tolist()) & set(middle_deaths_df[\"scenario\"].tolist())))"
   ]
  },
  {
   "cell_type": "code",
   "execution_count": 12,
   "id": "varied-photograph",
   "metadata": {},
   "outputs": [],
   "source": [
    "middle_damage_df = results.loc[(results[DAMAGE] > np.percentile(a=outcomes[DAMAGE], q=73)) & (results[DAMAGE] <= np.percentile(a=outcomes[DAMAGE], q=77))]\n",
    "middle_deaths_df = results.loc[(results[DEATHS] > np.percentile(a=outcomes[DEATHS], q=73)) & (results[DEATHS] <= np.percentile(a=outcomes[DEATHS], q=77))]\n",
    "seventyfive = random.choice(list(set(middle_damage_df[\"scenario\"].tolist()) & set(middle_deaths_df[\"scenario\"].tolist())))"
   ]
  },
  {
   "cell_type": "code",
   "execution_count": 13,
   "id": "ancient-fishing",
   "metadata": {},
   "outputs": [
    {
     "data": {
      "text/html": [
       "<div>\n",
       "<style scoped>\n",
       "    .dataframe tbody tr th:only-of-type {\n",
       "        vertical-align: middle;\n",
       "    }\n",
       "\n",
       "    .dataframe tbody tr th {\n",
       "        vertical-align: top;\n",
       "    }\n",
       "\n",
       "    .dataframe thead th {\n",
       "        text-align: right;\n",
       "    }\n",
       "</style>\n",
       "<table border=\"1\" class=\"dataframe\">\n",
       "  <thead>\n",
       "    <tr style=\"text-align: right;\">\n",
       "      <th></th>\n",
       "      <th>Gorssel and Deventer Expected Annual Damage</th>\n",
       "      <th>Gorssel and Deventer Expected Number of Deaths</th>\n",
       "      <th>Gorssel and Deventer Total Costs</th>\n",
       "    </tr>\n",
       "  </thead>\n",
       "  <tbody>\n",
       "    <tr>\n",
       "      <th>959</th>\n",
       "      <td>1.651202e+09</td>\n",
       "      <td>1.058792</td>\n",
       "      <td>0</td>\n",
       "    </tr>\n",
       "  </tbody>\n",
       "</table>\n",
       "</div>"
      ],
      "text/plain": [
       "     Gorssel and Deventer Expected Annual Damage  \\\n",
       "959                                 1.651202e+09   \n",
       "\n",
       "     Gorssel and Deventer Expected Number of Deaths  \\\n",
       "959                                        1.058792   \n",
       "\n",
       "     Gorssel and Deventer Total Costs  \n",
       "959                                 0  "
      ]
     },
     "execution_count": 13,
     "metadata": {},
     "output_type": "execute_result"
    }
   ],
   "source": [
    "outcomes_df.loc[outcomes_df[DAMAGE] == outcomes_df.max()[0]]"
   ]
  },
  {
   "cell_type": "code",
   "execution_count": 14,
   "id": "informed-telling",
   "metadata": {},
   "outputs": [],
   "source": [
    "min_max_scaler = preprocessing.MinMaxScaler()\n",
    "damage_scaled = min_max_scaler.fit_transform(pd.DataFrame(outcomes[DAMAGE]).values)\n",
    "deaths_scaled = min_max_scaler.fit_transform(pd.DataFrame(outcomes[DEATHS]).values)\n",
    "scaled = (damage_scaled + deaths_scaled)/2"
   ]
  },
  {
   "cell_type": "code",
   "execution_count": 15,
   "id": "subsequent-bouquet",
   "metadata": {},
   "outputs": [],
   "source": [
    "outcomes_df[\"Scaled\"] = scaled\n",
    "SCALED = 'Scaled'"
   ]
  },
  {
   "cell_type": "code",
   "execution_count": 16,
   "id": "oriented-handling",
   "metadata": {},
   "outputs": [
    {
     "data": {
      "text/plain": [
       "959"
      ]
     },
     "execution_count": 16,
     "metadata": {},
     "output_type": "execute_result"
    }
   ],
   "source": [
    "outcomes_df.sort_values(by=\"Scaled\", ascending=False).head(1).index[0]"
   ]
  },
  {
   "cell_type": "markdown",
   "id": "loving-algeria",
   "metadata": {},
   "source": [
    "Observation: Deventer more people die absolute worst\n",
    "explanation: more densely populated"
   ]
  },
  {
   "cell_type": "code",
   "execution_count": 17,
   "id": "piano-texture",
   "metadata": {},
   "outputs": [],
   "source": [
    "idx = [outcomes_df.idxmin()[DAMAGE], twentyfive, fifty, seventyfive, outcomes_df.idxmax()[DEATHS], outcomes_df.idxmax()[DAMAGE]]"
   ]
  },
  {
   "cell_type": "code",
   "execution_count": 18,
   "id": "unsigned-exercise",
   "metadata": {},
   "outputs": [
    {
     "data": {
      "text/plain": [
       "[780, 7306, 42180, 40712, 35550, 959]"
      ]
     },
     "execution_count": 18,
     "metadata": {},
     "output_type": "execute_result"
    }
   ],
   "source": [
    "idx"
   ]
  },
  {
   "cell_type": "code",
   "execution_count": 19,
   "id": "functioning-correction",
   "metadata": {},
   "outputs": [],
   "source": [
    "cases = {0: \"best\", 1: \"low\", 2: \"middle\", 3: \"high\", 4: \"worst deaths\", 5: \"absolute worst\"}"
   ]
  },
  {
   "cell_type": "code",
   "execution_count": 20,
   "id": "forward-allen",
   "metadata": {},
   "outputs": [],
   "source": [
    "selected = results.iloc[idx]"
   ]
  },
  {
   "cell_type": "code",
   "execution_count": 21,
   "id": "proud-session",
   "metadata": {},
   "outputs": [],
   "source": [
    "selected = selected.loc[:,  uncertainties]"
   ]
  },
  {
   "cell_type": "code",
   "execution_count": 22,
   "id": "becoming-security",
   "metadata": {},
   "outputs": [],
   "source": [
    "scenarios = [Scenario(f\"{index}\", **row) for index, row in selected.iterrows()]"
   ]
  },
  {
   "cell_type": "code",
   "execution_count": 23,
   "id": "characteristic-confusion",
   "metadata": {},
   "outputs": [
    {
     "data": {
      "text/html": [
       "<div>\n",
       "<style scoped>\n",
       "    .dataframe tbody tr th:only-of-type {\n",
       "        vertical-align: middle;\n",
       "    }\n",
       "\n",
       "    .dataframe tbody tr th {\n",
       "        vertical-align: top;\n",
       "    }\n",
       "\n",
       "    .dataframe thead th {\n",
       "        text-align: right;\n",
       "    }\n",
       "</style>\n",
       "<table border=\"1\" class=\"dataframe\">\n",
       "  <thead>\n",
       "    <tr style=\"text-align: right;\">\n",
       "      <th></th>\n",
       "      <th>Gorssel and Deventer Expected Annual Damage</th>\n",
       "      <th>Gorssel and Deventer Expected Number of Deaths</th>\n",
       "      <th>Gorssel and Deventer Total Costs</th>\n",
       "      <th>Scaled</th>\n",
       "    </tr>\n",
       "  </thead>\n",
       "  <tbody>\n",
       "    <tr>\n",
       "      <th>count</th>\n",
       "      <td>5.000000e+04</td>\n",
       "      <td>50000.000000</td>\n",
       "      <td>50000.0</td>\n",
       "      <td>50000.000000</td>\n",
       "    </tr>\n",
       "    <tr>\n",
       "      <th>mean</th>\n",
       "      <td>2.238156e+08</td>\n",
       "      <td>0.185281</td>\n",
       "      <td>0.0</td>\n",
       "      <td>0.152460</td>\n",
       "    </tr>\n",
       "    <tr>\n",
       "      <th>std</th>\n",
       "      <td>2.662215e+08</td>\n",
       "      <td>0.236627</td>\n",
       "      <td>0.0</td>\n",
       "      <td>0.187645</td>\n",
       "    </tr>\n",
       "    <tr>\n",
       "      <th>min</th>\n",
       "      <td>0.000000e+00</td>\n",
       "      <td>0.000000</td>\n",
       "      <td>0.0</td>\n",
       "      <td>0.000000</td>\n",
       "    </tr>\n",
       "    <tr>\n",
       "      <th>25%</th>\n",
       "      <td>6.118422e+07</td>\n",
       "      <td>0.036801</td>\n",
       "      <td>0.0</td>\n",
       "      <td>0.036152</td>\n",
       "    </tr>\n",
       "    <tr>\n",
       "      <th>50%</th>\n",
       "      <td>1.228096e+08</td>\n",
       "      <td>0.073162</td>\n",
       "      <td>0.0</td>\n",
       "      <td>0.074426</td>\n",
       "    </tr>\n",
       "    <tr>\n",
       "      <th>75%</th>\n",
       "      <td>2.556901e+08</td>\n",
       "      <td>0.219267</td>\n",
       "      <td>0.0</td>\n",
       "      <td>0.178319</td>\n",
       "    </tr>\n",
       "    <tr>\n",
       "      <th>max</th>\n",
       "      <td>1.651202e+09</td>\n",
       "      <td>1.093926</td>\n",
       "      <td>0.0</td>\n",
       "      <td>0.983941</td>\n",
       "    </tr>\n",
       "  </tbody>\n",
       "</table>\n",
       "</div>"
      ],
      "text/plain": [
       "       Gorssel and Deventer Expected Annual Damage  \\\n",
       "count                                 5.000000e+04   \n",
       "mean                                  2.238156e+08   \n",
       "std                                   2.662215e+08   \n",
       "min                                   0.000000e+00   \n",
       "25%                                   6.118422e+07   \n",
       "50%                                   1.228096e+08   \n",
       "75%                                   2.556901e+08   \n",
       "max                                   1.651202e+09   \n",
       "\n",
       "       Gorssel and Deventer Expected Number of Deaths  \\\n",
       "count                                    50000.000000   \n",
       "mean                                         0.185281   \n",
       "std                                          0.236627   \n",
       "min                                          0.000000   \n",
       "25%                                          0.036801   \n",
       "50%                                          0.073162   \n",
       "75%                                          0.219267   \n",
       "max                                          1.093926   \n",
       "\n",
       "       Gorssel and Deventer Total Costs        Scaled  \n",
       "count                           50000.0  50000.000000  \n",
       "mean                                0.0      0.152460  \n",
       "std                                 0.0      0.187645  \n",
       "min                                 0.0      0.000000  \n",
       "25%                                 0.0      0.036152  \n",
       "50%                                 0.0      0.074426  \n",
       "75%                                 0.0      0.178319  \n",
       "max                                 0.0      0.983941  "
      ]
     },
     "execution_count": 23,
     "metadata": {},
     "output_type": "execute_result"
    }
   ],
   "source": [
    "outcomes_df.describe()"
   ]
  },
  {
   "cell_type": "markdown",
   "id": "separated-slide",
   "metadata": {},
   "source": [
    "# Optimisation"
   ]
  },
  {
   "cell_type": "markdown",
   "id": "first-abortion",
   "metadata": {},
   "source": [
    "Based on the results in the above dataframe, epsilon values were chosen to be 1e+5 for Expected Damage, 0.01 for Expected Deaths, and 1e5 for Costs. This is to reflect the need for different levels of granularity for the three objectives. By choosing larger epsilon values where values are larger, it will lead to more meaningful solutions, and smaller epsilons where the values are smaller, we are able to trade off time for convergence with interesting and useful outcomes."
   ]
  },
  {
   "cell_type": "code",
   "execution_count": 24,
   "id": "violent-socket",
   "metadata": {},
   "outputs": [],
   "source": [
    "hypervolumemin = [0,0,0]\n",
    "hypervolumemax = outcomes_df[outcomekeys].max(axis=0).values.tolist()"
   ]
  },
  {
   "cell_type": "code",
   "execution_count": 25,
   "id": "specified-indiana",
   "metadata": {},
   "outputs": [],
   "source": [
    "hypervolumemax[2] = 1.15e9"
   ]
  },
  {
   "cell_type": "code",
   "execution_count": 26,
   "id": "invalid-timber",
   "metadata": {},
   "outputs": [
    {
     "name": "stderr",
     "output_type": "stream",
     "text": [
      "[MainProcess/INFO] pool started\n",
      "[MainProcess/INFO] generation 0: 0/6500 nfe\n",
      "[MainProcess/INFO] generation 5: 498/6500 nfe\n",
      "[MainProcess/INFO] generation 10: 993/6500 nfe\n",
      "[MainProcess/INFO] generation 15: 1483/6500 nfe\n",
      "[MainProcess/INFO] generation 20: 1939/6500 nfe\n",
      "[MainProcess/INFO] generation 25: 2318/6500 nfe\n",
      "[MainProcess/INFO] generation 30: 2680/6500 nfe\n",
      "[MainProcess/INFO] generation 35: 3041/6500 nfe\n",
      "[MainProcess/INFO] generation 40: 3428/6500 nfe\n",
      "[MainProcess/INFO] generation 45: 3827/6500 nfe\n",
      "[MainProcess/INFO] generation 50: 4225/6500 nfe\n",
      "[MainProcess/INFO] generation 55: 4600/6500 nfe\n",
      "[MainProcess/INFO] generation 60: 4992/6500 nfe\n",
      "[MainProcess/INFO] generation 65: 5376/6500 nfe\n",
      "[MainProcess/INFO] generation 70: 5769/6500 nfe\n",
      "[MainProcess/INFO] generation 75: 6157/6500 nfe\n",
      "[MainProcess/INFO] optimization completed, found 1 solutions\n",
      "[MainProcess/INFO] terminating pool\n",
      "[MainProcess/INFO] pool started\n",
      "[MainProcess/INFO] generation 0: 0/6500 nfe\n",
      "[MainProcess/INFO] generation 5: 500/6500 nfe\n",
      "[MainProcess/INFO] generation 10: 997/6500 nfe\n",
      "[MainProcess/INFO] generation 15: 1490/6500 nfe\n",
      "[MainProcess/INFO] generation 20: 1979/6500 nfe\n",
      "[MainProcess/INFO] generation 25: 2455/6500 nfe\n",
      "[MainProcess/INFO] generation 30: 2896/6500 nfe\n",
      "[MainProcess/INFO] generation 35: 3342/6500 nfe\n",
      "[MainProcess/INFO] generation 40: 3790/6500 nfe\n",
      "[MainProcess/INFO] generation 45: 4234/6500 nfe\n",
      "[MainProcess/INFO] generation 50: 4703/6500 nfe\n",
      "[MainProcess/INFO] generation 55: 5163/6500 nfe\n",
      "[MainProcess/INFO] generation 60: 5632/6500 nfe\n",
      "[MainProcess/INFO] generation 65: 6097/6500 nfe\n",
      "[MainProcess/INFO] optimization completed, found 9 solutions\n",
      "[MainProcess/INFO] terminating pool\n",
      "[MainProcess/INFO] pool started\n",
      "[MainProcess/INFO] generation 0: 0/6500 nfe\n",
      "[MainProcess/INFO] generation 5: 499/6500 nfe\n",
      "[MainProcess/INFO] generation 10: 997/6500 nfe\n",
      "[MainProcess/INFO] generation 15: 1494/6500 nfe\n",
      "[MainProcess/INFO] generation 20: 1985/6500 nfe\n",
      "[MainProcess/INFO] generation 25: 2476/6500 nfe\n",
      "[MainProcess/INFO] generation 30: 2965/6500 nfe\n",
      "[MainProcess/INFO] generation 35: 3428/6500 nfe\n",
      "[MainProcess/INFO] generation 40: 3891/6500 nfe\n",
      "[MainProcess/INFO] generation 45: 4336/6500 nfe\n",
      "[MainProcess/INFO] generation 50: 4794/6500 nfe\n",
      "[MainProcess/INFO] generation 55: 5248/6500 nfe\n",
      "[MainProcess/INFO] generation 60: 5705/6500 nfe\n",
      "[MainProcess/INFO] generation 65: 6161/6500 nfe\n",
      "[MainProcess/INFO] optimization completed, found 14 solutions\n",
      "[MainProcess/INFO] terminating pool\n",
      "[MainProcess/INFO] pool started\n",
      "[MainProcess/INFO] generation 0: 0/6500 nfe\n",
      "[MainProcess/INFO] generation 5: 499/6500 nfe\n",
      "[MainProcess/INFO] generation 10: 996/6500 nfe\n",
      "[MainProcess/INFO] generation 15: 1493/6500 nfe\n",
      "[MainProcess/INFO] generation 20: 1986/6500 nfe\n",
      "[MainProcess/INFO] generation 25: 2463/6500 nfe\n",
      "[MainProcess/INFO] generation 30: 2929/6500 nfe\n",
      "[MainProcess/INFO] generation 35: 3391/6500 nfe\n",
      "[MainProcess/INFO] generation 40: 3844/6500 nfe\n",
      "[MainProcess/INFO] generation 45: 4305/6500 nfe\n",
      "[MainProcess/INFO] generation 50: 4772/6500 nfe\n",
      "[MainProcess/INFO] generation 55: 5232/6500 nfe\n",
      "[MainProcess/INFO] generation 60: 5688/6500 nfe\n",
      "[MainProcess/INFO] generation 65: 6155/6500 nfe\n",
      "[MainProcess/INFO] optimization completed, found 10 solutions\n",
      "[MainProcess/INFO] terminating pool\n",
      "[MainProcess/INFO] pool started\n",
      "[MainProcess/INFO] generation 0: 0/6500 nfe\n",
      "[MainProcess/INFO] generation 5: 497/6500 nfe\n",
      "[MainProcess/INFO] generation 10: 997/6500 nfe\n",
      "[MainProcess/INFO] generation 15: 1496/6500 nfe\n",
      "[MainProcess/INFO] generation 20: 1989/6500 nfe\n",
      "[MainProcess/INFO] generation 25: 2482/6500 nfe\n",
      "[MainProcess/INFO] generation 30: 2970/6500 nfe\n",
      "[MainProcess/INFO] generation 35: 3417/6500 nfe\n",
      "[MainProcess/INFO] generation 40: 3887/6500 nfe\n",
      "[MainProcess/INFO] generation 45: 4358/6500 nfe\n",
      "[MainProcess/INFO] generation 50: 4828/6500 nfe\n",
      "[MainProcess/INFO] generation 55: 5287/6500 nfe\n",
      "[MainProcess/INFO] generation 60: 5758/6500 nfe\n",
      "[MainProcess/INFO] generation 65: 6227/6500 nfe\n",
      "[MainProcess/INFO] optimization completed, found 22 solutions\n",
      "[MainProcess/INFO] terminating pool\n",
      "[MainProcess/INFO] pool started\n",
      "[MainProcess/INFO] generation 0: 0/6500 nfe\n",
      "[MainProcess/INFO] generation 5: 499/6500 nfe\n",
      "[MainProcess/INFO] generation 10: 997/6500 nfe\n",
      "[MainProcess/INFO] generation 15: 1494/6500 nfe\n",
      "[MainProcess/INFO] generation 20: 1989/6500 nfe\n",
      "[MainProcess/INFO] generation 25: 2481/6500 nfe\n",
      "[MainProcess/INFO] generation 30: 2971/6500 nfe\n",
      "[MainProcess/INFO] generation 35: 3456/6500 nfe\n",
      "[MainProcess/INFO] generation 40: 3943/6500 nfe\n",
      "[MainProcess/INFO] generation 45: 4433/6500 nfe\n",
      "[MainProcess/INFO] generation 50: 4920/6500 nfe\n",
      "[MainProcess/INFO] generation 55: 5400/6500 nfe\n",
      "[MainProcess/INFO] generation 60: 5889/6500 nfe\n",
      "[MainProcess/INFO] generation 65: 6368/6500 nfe\n",
      "[MainProcess/INFO] optimization completed, found 28 solutions\n",
      "[MainProcess/INFO] terminating pool\n"
     ]
    }
   ],
   "source": [
    "ema_logging.log_to_stderr(ema_logging.INFO)\n",
    "\n",
    "nfe = 5500 + 1000\n",
    "\n",
    "def optimize(scenario, nfe, model, converge_metrics, epsilons):\n",
    "\n",
    "\n",
    "    with MultiprocessingEvaluator(model) as evaluator:\n",
    "        results, convergence = evaluator.optimize(nfe=nfe, searchover='levers',\n",
    "                                     convergence=convergence_metrics,\n",
    "                                     epsilons=epsilons,\n",
    "                                     reference=scenario, convergence_freq=200)\n",
    "    return results, convergence\n",
    "\n",
    "\n",
    "results = []\n",
    "for scenario in scenarios:\n",
    "    convergence_metrics = [HyperVolume(minimum=hypervolumemin, maximum=hypervolumemax),\n",
    "                           EpsilonProgress()]\n",
    "    epsilons = [1e5, 0.01, 1e5]\n",
    "    \n",
    "    \n",
    "    \n",
    "    results.append(optimize(scenario, nfe, dike_model, convergence_metrics, epsilons))\n"
   ]
  },
  {
   "cell_type": "code",
   "execution_count": 27,
   "id": "fantastic-married",
   "metadata": {},
   "outputs": [
    {
     "data": {
      "text/html": [
       "<div>\n",
       "<style scoped>\n",
       "    .dataframe tbody tr th:only-of-type {\n",
       "        vertical-align: middle;\n",
       "    }\n",
       "\n",
       "    .dataframe tbody tr th {\n",
       "        vertical-align: top;\n",
       "    }\n",
       "\n",
       "    .dataframe thead th {\n",
       "        text-align: right;\n",
       "    }\n",
       "</style>\n",
       "<table border=\"1\" class=\"dataframe\">\n",
       "  <thead>\n",
       "    <tr style=\"text-align: right;\">\n",
       "      <th></th>\n",
       "      <th>hypervolume</th>\n",
       "      <th>epsilon_progress</th>\n",
       "      <th>nfe</th>\n",
       "    </tr>\n",
       "  </thead>\n",
       "  <tbody>\n",
       "    <tr>\n",
       "      <th>0</th>\n",
       "      <td>0.000000</td>\n",
       "      <td>0</td>\n",
       "      <td>0</td>\n",
       "    </tr>\n",
       "    <tr>\n",
       "      <th>1</th>\n",
       "      <td>0.879935</td>\n",
       "      <td>4</td>\n",
       "      <td>100</td>\n",
       "    </tr>\n",
       "    <tr>\n",
       "      <th>2</th>\n",
       "      <td>0.950991</td>\n",
       "      <td>7</td>\n",
       "      <td>399</td>\n",
       "    </tr>\n",
       "    <tr>\n",
       "      <th>3</th>\n",
       "      <td>0.959437</td>\n",
       "      <td>8</td>\n",
       "      <td>698</td>\n",
       "    </tr>\n",
       "    <tr>\n",
       "      <th>4</th>\n",
       "      <td>0.991569</td>\n",
       "      <td>11</td>\n",
       "      <td>993</td>\n",
       "    </tr>\n",
       "    <tr>\n",
       "      <th>5</th>\n",
       "      <td>0.994504</td>\n",
       "      <td>12</td>\n",
       "      <td>1288</td>\n",
       "    </tr>\n",
       "    <tr>\n",
       "      <th>6</th>\n",
       "      <td>1.000000</td>\n",
       "      <td>13</td>\n",
       "      <td>1581</td>\n",
       "    </tr>\n",
       "    <tr>\n",
       "      <th>7</th>\n",
       "      <td>1.000000</td>\n",
       "      <td>13</td>\n",
       "      <td>1857</td>\n",
       "    </tr>\n",
       "    <tr>\n",
       "      <th>8</th>\n",
       "      <td>1.000000</td>\n",
       "      <td>13</td>\n",
       "      <td>2086</td>\n",
       "    </tr>\n",
       "    <tr>\n",
       "      <th>9</th>\n",
       "      <td>1.000000</td>\n",
       "      <td>13</td>\n",
       "      <td>2318</td>\n",
       "    </tr>\n",
       "    <tr>\n",
       "      <th>10</th>\n",
       "      <td>1.000000</td>\n",
       "      <td>13</td>\n",
       "      <td>2538</td>\n",
       "    </tr>\n",
       "    <tr>\n",
       "      <th>11</th>\n",
       "      <td>1.000000</td>\n",
       "      <td>13</td>\n",
       "      <td>2751</td>\n",
       "    </tr>\n",
       "    <tr>\n",
       "      <th>12</th>\n",
       "      <td>1.000000</td>\n",
       "      <td>13</td>\n",
       "      <td>2973</td>\n",
       "    </tr>\n",
       "    <tr>\n",
       "      <th>13</th>\n",
       "      <td>1.000000</td>\n",
       "      <td>13</td>\n",
       "      <td>3197</td>\n",
       "    </tr>\n",
       "    <tr>\n",
       "      <th>14</th>\n",
       "      <td>1.000000</td>\n",
       "      <td>13</td>\n",
       "      <td>3428</td>\n",
       "    </tr>\n",
       "    <tr>\n",
       "      <th>15</th>\n",
       "      <td>1.000000</td>\n",
       "      <td>13</td>\n",
       "      <td>3659</td>\n",
       "    </tr>\n",
       "    <tr>\n",
       "      <th>16</th>\n",
       "      <td>1.000000</td>\n",
       "      <td>13</td>\n",
       "      <td>3903</td>\n",
       "    </tr>\n",
       "    <tr>\n",
       "      <th>17</th>\n",
       "      <td>1.000000</td>\n",
       "      <td>13</td>\n",
       "      <td>4146</td>\n",
       "    </tr>\n",
       "    <tr>\n",
       "      <th>18</th>\n",
       "      <td>1.000000</td>\n",
       "      <td>13</td>\n",
       "      <td>4371</td>\n",
       "    </tr>\n",
       "    <tr>\n",
       "      <th>19</th>\n",
       "      <td>1.000000</td>\n",
       "      <td>13</td>\n",
       "      <td>4600</td>\n",
       "    </tr>\n",
       "    <tr>\n",
       "      <th>20</th>\n",
       "      <td>1.000000</td>\n",
       "      <td>13</td>\n",
       "      <td>4835</td>\n",
       "    </tr>\n",
       "    <tr>\n",
       "      <th>21</th>\n",
       "      <td>1.000000</td>\n",
       "      <td>13</td>\n",
       "      <td>5069</td>\n",
       "    </tr>\n",
       "    <tr>\n",
       "      <th>22</th>\n",
       "      <td>1.000000</td>\n",
       "      <td>13</td>\n",
       "      <td>5306</td>\n",
       "    </tr>\n",
       "    <tr>\n",
       "      <th>23</th>\n",
       "      <td>1.000000</td>\n",
       "      <td>13</td>\n",
       "      <td>5533</td>\n",
       "    </tr>\n",
       "    <tr>\n",
       "      <th>24</th>\n",
       "      <td>1.000000</td>\n",
       "      <td>13</td>\n",
       "      <td>5769</td>\n",
       "    </tr>\n",
       "    <tr>\n",
       "      <th>25</th>\n",
       "      <td>1.000000</td>\n",
       "      <td>13</td>\n",
       "      <td>5999</td>\n",
       "    </tr>\n",
       "    <tr>\n",
       "      <th>26</th>\n",
       "      <td>1.000000</td>\n",
       "      <td>13</td>\n",
       "      <td>6233</td>\n",
       "    </tr>\n",
       "    <tr>\n",
       "      <th>27</th>\n",
       "      <td>1.000000</td>\n",
       "      <td>13</td>\n",
       "      <td>6470</td>\n",
       "    </tr>\n",
       "  </tbody>\n",
       "</table>\n",
       "</div>"
      ],
      "text/plain": [
       "    hypervolume  epsilon_progress   nfe\n",
       "0      0.000000                 0     0\n",
       "1      0.879935                 4   100\n",
       "2      0.950991                 7   399\n",
       "3      0.959437                 8   698\n",
       "4      0.991569                11   993\n",
       "5      0.994504                12  1288\n",
       "6      1.000000                13  1581\n",
       "7      1.000000                13  1857\n",
       "8      1.000000                13  2086\n",
       "9      1.000000                13  2318\n",
       "10     1.000000                13  2538\n",
       "11     1.000000                13  2751\n",
       "12     1.000000                13  2973\n",
       "13     1.000000                13  3197\n",
       "14     1.000000                13  3428\n",
       "15     1.000000                13  3659\n",
       "16     1.000000                13  3903\n",
       "17     1.000000                13  4146\n",
       "18     1.000000                13  4371\n",
       "19     1.000000                13  4600\n",
       "20     1.000000                13  4835\n",
       "21     1.000000                13  5069\n",
       "22     1.000000                13  5306\n",
       "23     1.000000                13  5533\n",
       "24     1.000000                13  5769\n",
       "25     1.000000                13  5999\n",
       "26     1.000000                13  6233\n",
       "27     1.000000                13  6470"
      ]
     },
     "execution_count": 27,
     "metadata": {},
     "output_type": "execute_result"
    }
   ],
   "source": [
    "results[0][1]"
   ]
  },
  {
   "cell_type": "code",
   "execution_count": 28,
   "id": "plain-services",
   "metadata": {
    "scrolled": true
   },
   "outputs": [
    {
     "data": {
      "image/png": "[encoded data removed]",
      "text/plain": [
       "<Figure size 432x288 with 2 Axes>"
      ]
     },
     "metadata": {
      "needs_background": "light"
     },
     "output_type": "display_data"
    }
   ],
   "source": [
    "fig, (ax1, ax2) = plt.subplots(ncols=2,sharex=True)\n",
    "for i, (_, convergence) in enumerate(results):\n",
    "    ax1.plot(convergence.nfe, convergence.hypervolume, label=f'scenario {i}')\n",
    "    ax2.plot(convergence.nfe, convergence.epsilon_progress, label=f'scenario {i}')\n",
    "\n",
    "ax1.set_ylabel('hypervolume')\n",
    "ax1.set_xlabel('nfe')\n",
    "ax2.set_ylabel('$\\epsilon$ progress')\n",
    "ax2.set_xlabel('nfe')\n",
    "fig.legend()\n",
    "plt.show()"
   ]
  },
  {
   "cell_type": "markdown",
   "id": "living-discovery",
   "metadata": {},
   "source": [
    "# Saving"
   ]
  },
  {
   "cell_type": "code",
   "execution_count": 29,
   "id": "native-collins",
   "metadata": {},
   "outputs": [],
   "source": [
    "for i, (result, convergence) in enumerate(results):\n",
    "    result.to_csv(\"data/optimisation/\" + ACTORNAME + \"/results_\" + cases[i] +\".csv\", index=False)\n",
    "    convergence.to_csv(\"data/optimisation/\" + ACTORNAME + \"/convergence_\" + cases[i] +\".csv\", index=False)"
   ]
  },
  {
   "cell_type": "code",
   "execution_count": 30,
   "id": "sensitive-reaction",
   "metadata": {},
   "outputs": [],
   "source": [
    "selected.to_csv(\"data/optimisation/\" + ACTORNAME + \"/selected.csv\", index=False)"
   ]
  },
  {
   "cell_type": "markdown",
   "id": "better-speech",
   "metadata": {},
   "source": [
    "# Re-evaluate under deep uncertainty"
   ]
  },
  {
   "cell_type": "code",
   "execution_count": 31,
   "id": "analyzed-finland",
   "metadata": {},
   "outputs": [],
   "source": [
    "n_scenarios = 1000"
   ]
  },
  {
   "cell_type": "code",
   "execution_count": 32,
   "id": "fifty-nurse",
   "metadata": {},
   "outputs": [],
   "source": [
    "levers = [lever.name for lever in dike_model.levers]"
   ]
  },
  {
   "cell_type": "code",
   "execution_count": 33,
   "id": "precious-coupon",
   "metadata": {},
   "outputs": [],
   "source": [
    "policies = []\n",
    "for i, (result, _) in enumerate(results):\n",
    "    result = result.loc[:, levers]\n",
    "    for j, row in result.iterrows():\n",
    "        policy = Policy(f'scenario {cases[i]} option {j}', **row.to_dict())\n",
    "        policies.append(policy)"
   ]
  },
  {
   "cell_type": "code",
   "execution_count": 34,
   "id": "formed-mainstream",
   "metadata": {},
   "outputs": [
    {
     "name": "stderr",
     "output_type": "stream",
     "text": [
      "[MainProcess/INFO] pool started\n",
      "[MainProcess/INFO] performing 1000 scenarios * 84 policies * 1 model(s) = 84000 experiments\n",
      "[MainProcess/INFO] 8400 cases completed\n",
      "[MainProcess/INFO] 16800 cases completed\n",
      "[MainProcess/INFO] 25200 cases completed\n",
      "[MainProcess/INFO] 33600 cases completed\n",
      "[MainProcess/INFO] 42000 cases completed\n",
      "[MainProcess/INFO] 50400 cases completed\n",
      "[MainProcess/INFO] 58800 cases completed\n",
      "[MainProcess/INFO] 67200 cases completed\n",
      "[MainProcess/INFO] 75600 cases completed\n",
      "[MainProcess/INFO] 84000 cases completed\n",
      "[MainProcess/INFO] experiments finished\n",
      "[MainProcess/INFO] terminating pool\n"
     ]
    }
   ],
   "source": [
    "with MultiprocessingEvaluator(dike_model) as evaluator:\n",
    "    reevaluation_results = evaluator.perform_experiments(n_scenarios, policies=policies)"
   ]
  },
  {
   "cell_type": "markdown",
   "id": "transsexual-respondent",
   "metadata": {},
   "source": [
    "# Saving"
   ]
  },
  {
   "cell_type": "code",
   "execution_count": 35,
   "id": "impossible-agent",
   "metadata": {},
   "outputs": [
    {
     "name": "stderr",
     "output_type": "stream",
     "text": [
      "[MainProcess/INFO] results saved successfully to D:\\juju\\modelbaseddecisionmaking\\FabiosDecisions\\epa1361\\final assignment\\data\\optimisation\\du_scen_1000_Overijssel.tar.gz\n"
     ]
    }
   ],
   "source": [
    "save_results(reevaluation_results, \"data/optimisation/du_scen_\" + str(n_scenarios) + \"_\" + ACTORNAME + \".tar.gz\")"
   ]
  },
  {
   "cell_type": "code",
   "execution_count": null,
   "id": "beneficial-requirement",
   "metadata": {},
   "outputs": [],
   "source": []
  }
 ],
 "metadata": {
  "kernelspec": {
   "display_name": "Python 3",
   "language": "python",
   "name": "python3"
  },
  "language_info": {
   "codemirror_mode": {
    "name": "ipython",
    "version": 3
   },
   "file_extension": ".py",
   "mimetype": "text/x-python",
   "name": "python",
   "nbconvert_exporter": "python",
   "pygments_lexer": "ipython3",
   "version": "3.7.9"
  }
 },
 "nbformat": 4,
 "nbformat_minor": 5
}
