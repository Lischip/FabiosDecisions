{
 "cells": [
  {
   "cell_type": "code",
   "execution_count": 1,
   "metadata": {},
   "outputs": [],
   "source": [
    "from ema_workbench import Scenario, Policy, MultiprocessingEvaluator, ema_logging, load_results, save_results\n",
    "from ema_workbench.analysis import prim\n",
    "from problem_formulation import get_model_for_problem_formulation\n",
    "from ema_workbench.em_framework.evaluators import BaseEvaluator\n",
    "\n",
    "from ema_workbench.em_framework.optimization import (HyperVolume,\n",
    "                                                     EpsilonProgress)\n",
    "import matplotlib.pyplot as plt\n",
    "import pandas as pd\n",
    "import numpy as np\n",
    "from ema_workbench.analysis import parcoords\n",
    "import seaborn as sns\n",
    "import random\n",
    "from sklearn import preprocessing"
   ]
  },
  {
   "cell_type": "code",
   "execution_count": 2,
   "metadata": {},
   "outputs": [],
   "source": [
    "ACTORNAME = \"Overijssel\"\n",
    "dike_model, planning_steps = get_model_for_problem_formulation(ACTORNAME)\n",
    "outcomekeys = [outcome.name for outcome in dike_model.outcomes]"
   ]
  },
  {
   "cell_type": "markdown",
   "metadata": {},
   "source": [
    "# Scenario selection"
   ]
  },
  {
   "cell_type": "code",
   "execution_count": 3,
   "metadata": {},
   "outputs": [],
   "source": [
    "ACTOR = \"genscen_Overijssel_50000_12-06-2021-02-18-42.tar.gz\"\n",
    "experiments, outcomes = load_results(\"data/generated/\" + ACTOR)\n",
    "outcomes_df = pd.DataFrame(outcomes)"
   ]
  },
  {
   "cell_type": "code",
   "execution_count": 4,
   "metadata": {},
   "outputs": [
    {
     "data": {
      "text/plain": [
       "['Gorssel and Deventer Expected Annual Damage',\n",
       " 'Gorssel and Deventer Expected Number of Deaths',\n",
       " 'Gorssel and Deventer Total Costs']"
      ]
     },
     "execution_count": 4,
     "metadata": {},
     "output_type": "execute_result"
    }
   ],
   "source": [
    "outcomes_df.columns.values.tolist()"
   ]
  },
  {
   "cell_type": "code",
   "execution_count": 5,
   "metadata": {},
   "outputs": [],
   "source": [
    "DAMAGE = outcomes_df.columns[0]\n",
    "DEATHS = outcomes_df.columns[1]\n",
    "COSTS = outcomes_df.columns[2]"
   ]
  },
  {
   "cell_type": "markdown",
   "metadata": {},
   "source": [
    "We are interested in the correlation between Deaths and Damage"
   ]
  },
  {
   "cell_type": "code",
   "execution_count": 6,
   "metadata": {},
   "outputs": [
    {
     "data": {
      "text/plain": [
       "0.9757264909805844"
      ]
     },
     "execution_count": 6,
     "metadata": {},
     "output_type": "execute_result"
    }
   ],
   "source": [
    "outcomes_df[DAMAGE].corr(outcomes_df[DEATHS])"
   ]
  },
  {
   "cell_type": "markdown",
   "metadata": {},
   "source": [
    "So the correlation is INSANE"
   ]
  },
  {
   "cell_type": "code",
   "execution_count": 7,
   "metadata": {},
   "outputs": [],
   "source": [
    "results = pd.concat([experiments, outcomes_df], axis=1)"
   ]
  },
  {
   "cell_type": "code",
   "execution_count": 8,
   "metadata": {},
   "outputs": [],
   "source": [
    "uncertainties =list(dike_model.uncertainties._data.keys())"
   ]
  },
  {
   "cell_type": "code",
   "execution_count": 9,
   "metadata": {},
   "outputs": [
    {
     "name": "stdout",
     "output_type": "stream",
     "text": [
      "Gorssel and Deventer Expected Annual Damage         959\n",
      "Gorssel and Deventer Expected Number of Deaths    35550\n",
      "Gorssel and Deventer Total Costs                      0\n",
      "dtype: int64\n",
      "Gorssel and Deventer Expected Annual Damage       780\n",
      "Gorssel and Deventer Expected Number of Deaths    780\n",
      "Gorssel and Deventer Total Costs                    0\n",
      "dtype: int64\n"
     ]
    }
   ],
   "source": [
    "print(outcomes_df.idxmax())\n",
    "print(outcomes_df.idxmin())"
   ]
  },
  {
   "cell_type": "code",
   "execution_count": 10,
   "metadata": {},
   "outputs": [],
   "source": [
    "middle_damage_df = results.loc[(results[DAMAGE] > np.percentile(a=outcomes[DAMAGE], q=23)) & (results[DAMAGE] <= np.percentile(a=outcomes[DAMAGE], q=27))]\n",
    "middle_deaths_df = results.loc[(results[DEATHS] > np.percentile(a=outcomes[DEATHS], q=23)) & (results[DEATHS] <= np.percentile(a=outcomes[DEATHS], q=27))]\n",
    "twentyfive = random.choice(list(set(middle_damage_df[\"scenario\"].tolist()) & set(middle_deaths_df[\"scenario\"].tolist())))"
   ]
  },
  {
   "cell_type": "code",
   "execution_count": 12,
   "metadata": {},
   "outputs": [],
   "source": [
    "middle_damage_df = results.loc[(results[DAMAGE] > np.percentile(a=outcomes[DAMAGE], q=48)) & (results[DAMAGE] <= np.percentile(a=outcomes[DAMAGE], q=52))]\n",
    "middle_deaths_df = results.loc[(results[DEATHS] > np.percentile(a=outcomes[DEATHS], q=48)) & (results[DEATHS] <= np.percentile(a=outcomes[DEATHS], q=52))]\n",
    "fifty = random.choice(list(set(middle_damage_df[\"scenario\"].tolist()) & set(middle_deaths_df[\"scenario\"].tolist())))"
   ]
  },
  {
   "cell_type": "code",
   "execution_count": 13,
   "metadata": {},
   "outputs": [],
   "source": [
    "middle_damage_df = results.loc[(results[DAMAGE] > np.percentile(a=outcomes[DAMAGE], q=73)) & (results[DAMAGE] <= np.percentile(a=outcomes[DAMAGE], q=77))]\n",
    "middle_deaths_df = results.loc[(results[DEATHS] > np.percentile(a=outcomes[DEATHS], q=73)) & (results[DEATHS] <= np.percentile(a=outcomes[DEATHS], q=77))]\n",
    "seventyfive = random.choice(list(set(middle_damage_df[\"scenario\"].tolist()) & set(middle_deaths_df[\"scenario\"].tolist())))"
   ]
  },
  {
   "cell_type": "code",
   "execution_count": 14,
   "metadata": {},
   "outputs": [
    {
     "data": {
      "text/html": [
       "<div>\n",
       "<style scoped>\n",
       "    .dataframe tbody tr th:only-of-type {\n",
       "        vertical-align: middle;\n",
       "    }\n",
       "\n",
       "    .dataframe tbody tr th {\n",
       "        vertical-align: top;\n",
       "    }\n",
       "\n",
       "    .dataframe thead th {\n",
       "        text-align: right;\n",
       "    }\n",
       "</style>\n",
       "<table border=\"1\" class=\"dataframe\">\n",
       "  <thead>\n",
       "    <tr style=\"text-align: right;\">\n",
       "      <th></th>\n",
       "      <th>Gorssel and Deventer Expected Annual Damage</th>\n",
       "      <th>Gorssel and Deventer Expected Number of Deaths</th>\n",
       "      <th>Gorssel and Deventer Total Costs</th>\n",
       "    </tr>\n",
       "  </thead>\n",
       "  <tbody>\n",
       "    <tr>\n",
       "      <th>959</th>\n",
       "      <td>1.651202e+09</td>\n",
       "      <td>1.058792</td>\n",
       "      <td>0</td>\n",
       "    </tr>\n",
       "  </tbody>\n",
       "</table>\n",
       "</div>"
      ],
      "text/plain": [
       "     Gorssel and Deventer Expected Annual Damage  \\\n",
       "959                                 1.651202e+09   \n",
       "\n",
       "     Gorssel and Deventer Expected Number of Deaths  \\\n",
       "959                                        1.058792   \n",
       "\n",
       "     Gorssel and Deventer Total Costs  \n",
       "959                                 0  "
      ]
     },
     "execution_count": 14,
     "metadata": {},
     "output_type": "execute_result"
    }
   ],
   "source": [
    "outcomes_df.loc[outcomes_df[DAMAGE] == outcomes_df.max()[0]]"
   ]
  },
  {
   "cell_type": "code",
   "execution_count": 15,
   "metadata": {},
   "outputs": [],
   "source": [
    "min_max_scaler = preprocessing.MinMaxScaler()\n",
    "damage_scaled = min_max_scaler.fit_transform(pd.DataFrame(outcomes[DAMAGE]).values)\n",
    "deaths_scaled = min_max_scaler.fit_transform(pd.DataFrame(outcomes[DEATHS]).values)\n",
    "scaled = (damage_scaled + deaths_scaled)/2"
   ]
  },
  {
   "cell_type": "code",
   "execution_count": 16,
   "metadata": {},
   "outputs": [],
   "source": [
    "outcomes_df[\"Scaled\"] = scaled\n",
    "SCALED = 'Scaled'"
   ]
  },
  {
   "cell_type": "code",
   "execution_count": 17,
   "metadata": {},
   "outputs": [
    {
     "data": {
      "text/plain": [
       "959"
      ]
     },
     "execution_count": 17,
     "metadata": {},
     "output_type": "execute_result"
    }
   ],
   "source": [
    "outcomes_df.sort_values(by=\"Scaled\", ascending=False).head(1).index[0]"
   ]
  },
  {
   "cell_type": "markdown",
   "metadata": {},
   "source": [
    "Observation: Deventer more people die absolute worst\n",
    "explanation: more densely populated"
   ]
  },
  {
   "cell_type": "code",
   "execution_count": 18,
   "metadata": {},
   "outputs": [],
   "source": [
    "idx = [outcomes_df.idxmin()[DAMAGE], twentyfive, fifty, seventyfive, outcomes_df.idxmax()[DEATHS], outcomes_df.idxmax()[DAMAGE]]"
   ]
  },
  {
   "cell_type": "code",
   "execution_count": 19,
   "metadata": {},
   "outputs": [
    {
     "data": {
      "text/plain": [
       "[780, 24971, 23724, 37618, 35550, 959]"
      ]
     },
     "execution_count": 19,
     "metadata": {},
     "output_type": "execute_result"
    }
   ],
   "source": [
    "idx"
   ]
  },
  {
   "cell_type": "code",
   "execution_count": 20,
   "metadata": {},
   "outputs": [],
   "source": [
    "cases = {0: \"best\", 1: \"low\", 2: \"middle\", 3: \"high\", 4: \"worst deaths\", 5: \"absolute worst\"}"
   ]
  },
  {
   "cell_type": "code",
   "execution_count": 21,
   "metadata": {},
   "outputs": [],
   "source": [
    "selected = results.iloc[idx]"
   ]
  },
  {
   "cell_type": "code",
   "execution_count": 22,
   "metadata": {},
   "outputs": [],
   "source": [
    "selected = selected.loc[:,  uncertainties]"
   ]
  },
  {
   "cell_type": "code",
   "execution_count": 23,
   "metadata": {},
   "outputs": [],
   "source": [
    "scenarios = [Scenario(f\"{index}\", **row) for index, row in selected.iterrows()]"
   ]
  },
  {
   "cell_type": "code",
   "execution_count": 24,
   "metadata": {},
   "outputs": [
    {
     "data": {
      "text/html": [
       "<div>\n",
       "<style scoped>\n",
       "    .dataframe tbody tr th:only-of-type {\n",
       "        vertical-align: middle;\n",
       "    }\n",
       "\n",
       "    .dataframe tbody tr th {\n",
       "        vertical-align: top;\n",
       "    }\n",
       "\n",
       "    .dataframe thead th {\n",
       "        text-align: right;\n",
       "    }\n",
       "</style>\n",
       "<table border=\"1\" class=\"dataframe\">\n",
       "  <thead>\n",
       "    <tr style=\"text-align: right;\">\n",
       "      <th></th>\n",
       "      <th>Gorssel and Deventer Expected Annual Damage</th>\n",
       "      <th>Gorssel and Deventer Expected Number of Deaths</th>\n",
       "      <th>Gorssel and Deventer Total Costs</th>\n",
       "      <th>Scaled</th>\n",
       "    </tr>\n",
       "  </thead>\n",
       "  <tbody>\n",
       "    <tr>\n",
       "      <th>count</th>\n",
       "      <td>5.000000e+04</td>\n",
       "      <td>50000.000000</td>\n",
       "      <td>50000.0</td>\n",
       "      <td>50000.000000</td>\n",
       "    </tr>\n",
       "    <tr>\n",
       "      <th>mean</th>\n",
       "      <td>2.238156e+08</td>\n",
       "      <td>0.185281</td>\n",
       "      <td>0.0</td>\n",
       "      <td>0.152460</td>\n",
       "    </tr>\n",
       "    <tr>\n",
       "      <th>std</th>\n",
       "      <td>2.662215e+08</td>\n",
       "      <td>0.236627</td>\n",
       "      <td>0.0</td>\n",
       "      <td>0.187645</td>\n",
       "    </tr>\n",
       "    <tr>\n",
       "      <th>min</th>\n",
       "      <td>0.000000e+00</td>\n",
       "      <td>0.000000</td>\n",
       "      <td>0.0</td>\n",
       "      <td>0.000000</td>\n",
       "    </tr>\n",
       "    <tr>\n",
       "      <th>25%</th>\n",
       "      <td>6.118422e+07</td>\n",
       "      <td>0.036801</td>\n",
       "      <td>0.0</td>\n",
       "      <td>0.036152</td>\n",
       "    </tr>\n",
       "    <tr>\n",
       "      <th>50%</th>\n",
       "      <td>1.228096e+08</td>\n",
       "      <td>0.073162</td>\n",
       "      <td>0.0</td>\n",
       "      <td>0.074426</td>\n",
       "    </tr>\n",
       "    <tr>\n",
       "      <th>75%</th>\n",
       "      <td>2.556901e+08</td>\n",
       "      <td>0.219267</td>\n",
       "      <td>0.0</td>\n",
       "      <td>0.178319</td>\n",
       "    </tr>\n",
       "    <tr>\n",
       "      <th>max</th>\n",
       "      <td>1.651202e+09</td>\n",
       "      <td>1.093926</td>\n",
       "      <td>0.0</td>\n",
       "      <td>0.983941</td>\n",
       "    </tr>\n",
       "  </tbody>\n",
       "</table>\n",
       "</div>"
      ],
      "text/plain": [
       "       Gorssel and Deventer Expected Annual Damage  \\\n",
       "count                                 5.000000e+04   \n",
       "mean                                  2.238156e+08   \n",
       "std                                   2.662215e+08   \n",
       "min                                   0.000000e+00   \n",
       "25%                                   6.118422e+07   \n",
       "50%                                   1.228096e+08   \n",
       "75%                                   2.556901e+08   \n",
       "max                                   1.651202e+09   \n",
       "\n",
       "       Gorssel and Deventer Expected Number of Deaths  \\\n",
       "count                                    50000.000000   \n",
       "mean                                         0.185281   \n",
       "std                                          0.236627   \n",
       "min                                          0.000000   \n",
       "25%                                          0.036801   \n",
       "50%                                          0.073162   \n",
       "75%                                          0.219267   \n",
       "max                                          1.093926   \n",
       "\n",
       "       Gorssel and Deventer Total Costs        Scaled  \n",
       "count                           50000.0  50000.000000  \n",
       "mean                                0.0      0.152460  \n",
       "std                                 0.0      0.187645  \n",
       "min                                 0.0      0.000000  \n",
       "25%                                 0.0      0.036152  \n",
       "50%                                 0.0      0.074426  \n",
       "75%                                 0.0      0.178319  \n",
       "max                                 0.0      0.983941  "
      ]
     },
     "execution_count": 24,
     "metadata": {},
     "output_type": "execute_result"
    }
   ],
   "source": [
    "outcomes_df.describe()"
   ]
  },
  {
   "cell_type": "markdown",
   "metadata": {},
   "source": [
    "# Optimisation"
   ]
  },
  {
   "cell_type": "markdown",
   "metadata": {},
   "source": [
    "Based on the results in the above dataframe, epsilon values were chosen to be 1e+5 for Expected Damage, 0.01 for Expected Deaths, and 1e5 for Costs. This is to reflect the need for different levels of granularity for the three objectives. By choosing larger epsilon values where values are larger, it will lead to more meaningful solutions, and smaller epsilons where the values are smaller, we are able to trade off time for convergence with interesting and useful outcomes."
   ]
  },
  {
   "cell_type": "code",
   "execution_count": 25,
   "metadata": {},
   "outputs": [],
   "source": [
    "hypervolumemin = [0,0,0]\n",
    "hypervolumemax = outcomes_df[outcomekeys].max(axis=0).values.tolist()"
   ]
  },
  {
   "cell_type": "code",
   "execution_count": 26,
   "metadata": {},
   "outputs": [],
   "source": [
    "hypervolumemax[2] = 1.15e9"
   ]
  },
  {
   "cell_type": "code",
   "execution_count": 31,
   "metadata": {},
   "outputs": [
    {
     "name": "stderr",
     "output_type": "stream",
     "text": [
      "[MainProcess/INFO] pool started\n",
      "[MainProcess/INFO] generation 0: 0/6000 nfe\n",
      "[MainProcess/INFO] generation 5: 500/6000 nfe\n",
      "[MainProcess/INFO] generation 10: 998/6000 nfe\n",
      "[MainProcess/INFO] generation 15: 1497/6000 nfe\n",
      "[MainProcess/INFO] generation 20: 1991/6000 nfe\n",
      "[MainProcess/INFO] generation 25: 2483/6000 nfe\n",
      "[MainProcess/INFO] generation 30: 2976/6000 nfe\n",
      "[MainProcess/INFO] generation 35: 3455/6000 nfe\n",
      "[MainProcess/INFO] generation 40: 3931/6000 nfe\n",
      "[MainProcess/INFO] generation 45: 4406/6000 nfe\n",
      "[MainProcess/INFO] generation 50: 4888/6000 nfe\n",
      "[MainProcess/INFO] generation 55: 5371/6000 nfe\n",
      "[MainProcess/INFO] generation 60: 5847/6000 nfe\n",
      "[MainProcess/INFO] optimization completed, found 26 solutions\n",
      "[MainProcess/INFO] terminating pool\n"
     ]
    }
   ],
   "source": [
    "ema_logging.log_to_stderr(ema_logging.INFO)\n",
    "\n",
    "nfe = 5500 + 1000\n",
    "\n",
    "def optimize(scenario, nfe, model, converge_metrics, epsilons):\n",
    "\n",
    "\n",
    "    with MultiprocessingEvaluator(model) as evaluator:\n",
    "        results, convergence = evaluator.optimize(nfe=nfe, searchover='levers',\n",
    "                                     convergence=convergence_metrics,\n",
    "                                     epsilons=epsilons,\n",
    "                                     reference=scenario, convergence_freq=200)\n",
    "    return results, convergence\n",
    "\n",
    "\n",
    "results = []\n",
    "for scenario in scenarios:\n",
    "    convergence_metrics = [HyperVolume(minimum=hypervolumemin, maximum=hypervolumemax),\n",
    "                           EpsilonProgress()]\n",
    "    epsilons = [1e5, 0.01, 1e5]\n",
    "    \n",
    "    \n",
    "    \n",
    "    results.append(optimize(scenario, nfe, dike_model, convergence_metrics, epsilons))\n"
   ]
  },
  {
   "cell_type": "code",
   "execution_count": 33,
   "metadata": {},
   "outputs": [
    {
     "data": {
      "text/html": [
       "<div>\n",
       "<style scoped>\n",
       "    .dataframe tbody tr th:only-of-type {\n",
       "        vertical-align: middle;\n",
       "    }\n",
       "\n",
       "    .dataframe tbody tr th {\n",
       "        vertical-align: top;\n",
       "    }\n",
       "\n",
       "    .dataframe thead th {\n",
       "        text-align: right;\n",
       "    }\n",
       "</style>\n",
       "<table border=\"1\" class=\"dataframe\">\n",
       "  <thead>\n",
       "    <tr style=\"text-align: right;\">\n",
       "      <th></th>\n",
       "      <th>hypervolume</th>\n",
       "      <th>epsilon_progress</th>\n",
       "      <th>nfe</th>\n",
       "    </tr>\n",
       "  </thead>\n",
       "  <tbody>\n",
       "    <tr>\n",
       "      <th>0</th>\n",
       "      <td>0.000000</td>\n",
       "      <td>0</td>\n",
       "      <td>0</td>\n",
       "    </tr>\n",
       "    <tr>\n",
       "      <th>1</th>\n",
       "      <td>0.842634</td>\n",
       "      <td>16</td>\n",
       "      <td>100</td>\n",
       "    </tr>\n",
       "    <tr>\n",
       "      <th>2</th>\n",
       "      <td>0.895528</td>\n",
       "      <td>35</td>\n",
       "      <td>300</td>\n",
       "    </tr>\n",
       "    <tr>\n",
       "      <th>3</th>\n",
       "      <td>0.910496</td>\n",
       "      <td>52</td>\n",
       "      <td>500</td>\n",
       "    </tr>\n",
       "    <tr>\n",
       "      <th>4</th>\n",
       "      <td>0.925795</td>\n",
       "      <td>76</td>\n",
       "      <td>799</td>\n",
       "    </tr>\n",
       "    <tr>\n",
       "      <th>5</th>\n",
       "      <td>0.945622</td>\n",
       "      <td>95</td>\n",
       "      <td>1098</td>\n",
       "    </tr>\n",
       "    <tr>\n",
       "      <th>6</th>\n",
       "      <td>0.953665</td>\n",
       "      <td>109</td>\n",
       "      <td>1397</td>\n",
       "    </tr>\n",
       "    <tr>\n",
       "      <th>7</th>\n",
       "      <td>0.956534</td>\n",
       "      <td>122</td>\n",
       "      <td>1693</td>\n",
       "    </tr>\n",
       "    <tr>\n",
       "      <th>8</th>\n",
       "      <td>0.958548</td>\n",
       "      <td>136</td>\n",
       "      <td>1893</td>\n",
       "    </tr>\n",
       "    <tr>\n",
       "      <th>9</th>\n",
       "      <td>0.959656</td>\n",
       "      <td>143</td>\n",
       "      <td>2188</td>\n",
       "    </tr>\n",
       "    <tr>\n",
       "      <th>10</th>\n",
       "      <td>0.963062</td>\n",
       "      <td>157</td>\n",
       "      <td>2483</td>\n",
       "    </tr>\n",
       "    <tr>\n",
       "      <th>11</th>\n",
       "      <td>0.964660</td>\n",
       "      <td>163</td>\n",
       "      <td>2683</td>\n",
       "    </tr>\n",
       "    <tr>\n",
       "      <th>12</th>\n",
       "      <td>0.965514</td>\n",
       "      <td>174</td>\n",
       "      <td>2976</td>\n",
       "    </tr>\n",
       "    <tr>\n",
       "      <th>13</th>\n",
       "      <td>0.966004</td>\n",
       "      <td>181</td>\n",
       "      <td>3262</td>\n",
       "    </tr>\n",
       "    <tr>\n",
       "      <th>14</th>\n",
       "      <td>0.966394</td>\n",
       "      <td>188</td>\n",
       "      <td>3550</td>\n",
       "    </tr>\n",
       "    <tr>\n",
       "      <th>15</th>\n",
       "      <td>0.966244</td>\n",
       "      <td>193</td>\n",
       "      <td>3832</td>\n",
       "    </tr>\n",
       "    <tr>\n",
       "      <th>16</th>\n",
       "      <td>0.966229</td>\n",
       "      <td>194</td>\n",
       "      <td>4122</td>\n",
       "    </tr>\n",
       "    <tr>\n",
       "      <th>17</th>\n",
       "      <td>0.966247</td>\n",
       "      <td>200</td>\n",
       "      <td>4406</td>\n",
       "    </tr>\n",
       "    <tr>\n",
       "      <th>18</th>\n",
       "      <td>0.966244</td>\n",
       "      <td>202</td>\n",
       "      <td>4697</td>\n",
       "    </tr>\n",
       "    <tr>\n",
       "      <th>19</th>\n",
       "      <td>0.966216</td>\n",
       "      <td>203</td>\n",
       "      <td>4984</td>\n",
       "    </tr>\n",
       "    <tr>\n",
       "      <th>20</th>\n",
       "      <td>0.966217</td>\n",
       "      <td>204</td>\n",
       "      <td>5274</td>\n",
       "    </tr>\n",
       "    <tr>\n",
       "      <th>21</th>\n",
       "      <td>0.966217</td>\n",
       "      <td>204</td>\n",
       "      <td>5559</td>\n",
       "    </tr>\n",
       "    <tr>\n",
       "      <th>22</th>\n",
       "      <td>0.966217</td>\n",
       "      <td>204</td>\n",
       "      <td>5847</td>\n",
       "    </tr>\n",
       "  </tbody>\n",
       "</table>\n",
       "</div>"
      ],
      "text/plain": [
       "    hypervolume  epsilon_progress   nfe\n",
       "0      0.000000                 0     0\n",
       "1      0.842634                16   100\n",
       "2      0.895528                35   300\n",
       "3      0.910496                52   500\n",
       "4      0.925795                76   799\n",
       "5      0.945622                95  1098\n",
       "6      0.953665               109  1397\n",
       "7      0.956534               122  1693\n",
       "8      0.958548               136  1893\n",
       "9      0.959656               143  2188\n",
       "10     0.963062               157  2483\n",
       "11     0.964660               163  2683\n",
       "12     0.965514               174  2976\n",
       "13     0.966004               181  3262\n",
       "14     0.966394               188  3550\n",
       "15     0.966244               193  3832\n",
       "16     0.966229               194  4122\n",
       "17     0.966247               200  4406\n",
       "18     0.966244               202  4697\n",
       "19     0.966216               203  4984\n",
       "20     0.966217               204  5274\n",
       "21     0.966217               204  5559\n",
       "22     0.966217               204  5847"
      ]
     },
     "execution_count": 33,
     "metadata": {},
     "output_type": "execute_result"
    }
   ],
   "source": [
    "results[0][1]"
   ]
  },
  {
   "cell_type": "code",
   "execution_count": 32,
   "metadata": {
    "scrolled": true
   },
   "outputs": [
    {
     "data": {
      "image/png": "[encoded data removed]",
      "text/plain": [
       "<Figure size 432x288 with 2 Axes>"
      ]
     },
     "metadata": {
      "needs_background": "light"
     },
     "output_type": "display_data"
    }
   ],
   "source": [
    "fig, (ax1, ax2) = plt.subplots(ncols=2,sharex=True)\n",
    "for i, (_, convergence) in enumerate(results):\n",
    "    ax1.plot(convergence.nfe, convergence.hypervolume, label=f'scenario {i}')\n",
    "    ax2.plot(convergence.nfe, convergence.epsilon_progress, label=f'scenario {i}')\n",
    "\n",
    "ax1.set_ylabel('hypervolume')\n",
    "ax1.set_xlabel('nfe')\n",
    "ax2.set_ylabel('$\\epsilon$ progress')\n",
    "ax2.set_xlabel('nfe')\n",
    "fig.legend()\n",
    "plt.show()"
   ]
  },
  {
   "cell_type": "markdown",
   "metadata": {},
   "source": [
    "# Saving"
   ]
  },
  {
   "cell_type": "code",
   "execution_count": 38,
   "metadata": {},
   "outputs": [],
   "source": [
    "for i, (result, convergence) in enumerate(results):\n",
    "    result.to_csv(\"data/optimisation/\" + ACTORNAME + \"/results_\" + cases[i] +\".csv\", index=False)\n",
    "    convergence.to_csv(\"data/optimisation/\" + ACTORNAME + \"/convergence_\" + cases[i] +\".csv\", index=False)"
   ]
  },
  {
   "cell_type": "code",
   "execution_count": 39,
   "metadata": {},
   "outputs": [],
   "source": [
    "selected.to_csv(\"data/optimisation/\" + ACTORNAME + \"/selected.csv\", index=False)"
   ]
  },
  {
   "cell_type": "markdown",
   "metadata": {},
   "source": [
    "# Re-evaluate under deep uncertainty"
   ]
  },
  {
   "cell_type": "code",
   "execution_count": 40,
   "metadata": {},
   "outputs": [],
   "source": [
    "n_scenarios = 1000"
   ]
  },
  {
   "cell_type": "code",
   "execution_count": 41,
   "metadata": {},
   "outputs": [],
   "source": [
    "levers = [lever.name for lever in dike_model.levers]"
   ]
  },
  {
   "cell_type": "code",
   "execution_count": 42,
   "metadata": {},
   "outputs": [],
   "source": [
    "policies = []\n",
    "for i, (result, _) in enumerate(results):\n",
    "    result = result.loc[:, levers]\n",
    "    for j, row in result.iterrows():\n",
    "        policy = Policy(f'scenario {cases[i]} option {j}', **row.to_dict())\n",
    "        policies.append(policy)"
   ]
  },
  {
   "cell_type": "code",
   "execution_count": 43,
   "metadata": {},
   "outputs": [
    {
     "name": "stderr",
     "output_type": "stream",
     "text": [
      "[MainProcess/INFO] pool started\n",
      "[MainProcess/INFO] performing 1000 scenarios * 14 policies * 1 model(s) = 14000 experiments\n",
      "[MainProcess/INFO] 1400 cases completed\n",
      "[MainProcess/INFO] 2800 cases completed\n",
      "[MainProcess/INFO] 4200 cases completed\n",
      "[MainProcess/INFO] 5600 cases completed\n",
      "[MainProcess/INFO] 7000 cases completed\n",
      "[MainProcess/INFO] 8400 cases completed\n",
      "[MainProcess/INFO] 9800 cases completed\n",
      "[MainProcess/INFO] 11200 cases completed\n",
      "[MainProcess/INFO] 12600 cases completed\n",
      "[MainProcess/INFO] 14000 cases completed\n",
      "[MainProcess/INFO] experiments finished\n",
      "[MainProcess/INFO] terminating pool\n"
     ]
    }
   ],
   "source": [
    "with MultiprocessingEvaluator(dike_model) as evaluator:\n",
    "    reevaluation_results = evaluator.perform_experiments(n_scenarios, policies=policies)"
   ]
  },
  {
   "cell_type": "markdown",
   "metadata": {},
   "source": [
    "# Saving"
   ]
  },
  {
   "cell_type": "code",
   "execution_count": 45,
   "metadata": {},
   "outputs": [
    {
     "name": "stderr",
     "output_type": "stream",
     "text": [
      "[MainProcess/INFO] results saved successfully to /Users/emilyryan/Dropbox/EPA/EPA1361/FabiosDecisions/epa1361/final assignment/data/optimisation/du_scen_1000_Gorssel.tar.gz\n"
     ]
    }
   ],
   "source": [
    "save_results(reevaluation_results, \"data/optimisation/du_scen_\" + str(n_scenarios) + \"_\" + ACTORNAME + \".tar.gz\")"
   ]
  },
  {
   "cell_type": "code",
   "execution_count": null,
   "metadata": {},
   "outputs": [],
   "source": []
  }
 ],
 "metadata": {
  "kernelspec": {
   "display_name": "Python 3",
   "language": "python",
   "name": "python3"
  },
  "language_info": {
   "codemirror_mode": {
    "name": "ipython",
    "version": 3
   },
   "file_extension": ".py",
   "mimetype": "text/x-python",
   "name": "python",
   "nbconvert_exporter": "python",
   "pygments_lexer": "ipython3",
   "version": "3.8.5"
  }
 },
 "nbformat": 4,
 "nbformat_minor": 5
}
