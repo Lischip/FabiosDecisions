{
 "cells": [
  {
   "cell_type": "code",
   "execution_count": null,
   "id": "therapeutic-crowd",
   "metadata": {},
   "outputs": [],
   "source": [
    "#RUN IT SEPERATELY FOR EACH ACTOR\n",
    "#Should do this in python + change problem_formulation to our own file"
   ]
  },
  {
   "cell_type": "code",
   "execution_count": 2,
   "id": "diagnostic-victor",
   "metadata": {},
   "outputs": [],
   "source": [
    "actor=\"Overijssel\""
   ]
  },
  {
   "cell_type": "code",
   "execution_count": 3,
   "id": "intensive-account",
   "metadata": {},
   "outputs": [],
   "source": [
    "n=5000"
   ]
  },
  {
   "cell_type": "code",
   "execution_count": 14,
   "id": "enhanced-colorado",
   "metadata": {},
   "outputs": [],
   "source": [
    "from problem_formulation import get_model_for_problem_formulation\n",
    "from ema_workbench import MultiprocessingEvaluator, SequentialEvaluator, Policy\n",
    "from ema_workbench.em_framework.evaluators import LHS\n",
    "from datetime import datetime"
   ]
  },
  {
   "cell_type": "code",
   "execution_count": 5,
   "id": "bronze-anniversary",
   "metadata": {},
   "outputs": [],
   "source": [
    "dike_model, planning_steps = get_model_for_problem_formulation(actor)"
   ]
  },
  {
   "cell_type": "code",
   "execution_count": 15,
   "id": "incomplete-medicaid",
   "metadata": {},
   "outputs": [],
   "source": [
    "#0-policy\n",
    "\n",
    "zero_policy = {'DaysToThreat': 0}\n",
    "zero_policy.update({'DikeIncrease {}'.format(n): 0 for n in planning_steps})\n",
    "zero_policy.update({'RfR {}'.format(n): 0 for n in planning_steps})\n",
    "pol0 = {}\n",
    "\n",
    "for key in dike_model.levers:\n",
    "    s1, s2 = key.name.split('_')\n",
    "    pol0.update({key.name: zero_policy[s2]})\n",
    "\n",
    "policy0 = Policy('Policy 0', **pol0)"
   ]
  },
  {
   "cell_type": "code",
   "execution_count": 16,
   "id": "bored-detection",
   "metadata": {},
   "outputs": [],
   "source": [
    "with SequentialEvaluator(dike_model) as evaluator:\n",
    "     experiments, results = evaluator.perform_experiments(scenarios=n, policies=policy0, uncertainty_sampling=LHS)"
   ]
  },
  {
   "cell_type": "code",
   "execution_count": 17,
   "id": "distant-spanish",
   "metadata": {},
   "outputs": [],
   "source": [
    "for result in results:\n",
    "    experiments[result] = results[result] "
   ]
  },
  {
   "cell_type": "code",
   "execution_count": 34,
   "id": "hindu-reduction",
   "metadata": {},
   "outputs": [],
   "source": [
    "experiments.to_csv(\"data/generated/genscen_\"+actor+'_'+str(n)+'_'+str(datetime.now().strftime(\"%d-%m-%Y-%H-%M-%S\")), index=False)"
   ]
  },
  {
   "cell_type": "code",
   "execution_count": null,
   "id": "underlying-premium",
   "metadata": {},
   "outputs": [],
   "source": []
  }
 ],
 "metadata": {
  "kernelspec": {
   "display_name": "Python 3",
   "language": "python",
   "name": "python3"
  },
  "language_info": {
   "codemirror_mode": {
    "name": "ipython",
    "version": 3
   },
   "file_extension": ".py",
   "mimetype": "text/x-python",
   "name": "python",
   "nbconvert_exporter": "python",
   "pygments_lexer": "ipython3",
   "version": "3.7.9"
  }
 },
 "nbformat": 4,
 "nbformat_minor": 5
}
