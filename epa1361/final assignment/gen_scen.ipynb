{
 "cells": [
  {
   "cell_type": "code",
   "execution_count": 1,
   "id": "wound-accent",
   "metadata": {},
   "outputs": [],
   "source": [
    "#RUN IT SEPERATELY FOR EACH ACTOR\n",
    "#Should do this in python + change problem_formulation to our own file"
   ]
  },
  {
   "cell_type": "code",
   "execution_count": 28,
   "id": "completed-cruise",
   "metadata": {},
   "outputs": [],
   "source": [
    "actor=\"Gorssel\""
   ]
  },
  {
   "cell_type": "code",
   "execution_count": 29,
   "id": "commercial-dover",
   "metadata": {},
   "outputs": [],
   "source": [
    "n=5000 #look this up"
   ]
  },
  {
   "cell_type": "code",
   "execution_count": 23,
   "id": "unavailable-atmosphere",
   "metadata": {},
   "outputs": [],
   "source": [
    "from problem_formulation import get_model_for_problem_formulation\n",
    "from ema_workbench import MultiprocessingEvaluator, SequentialEvaluator\n",
    "from ema_workbench.em_framework.evaluators import LHS\n",
    "from datetime import datetime"
   ]
  },
  {
   "cell_type": "code",
   "execution_count": 4,
   "id": "legitimate-sailing",
   "metadata": {},
   "outputs": [],
   "source": [
    "dike_model, planning_steps = get_model_for_problem_formulation(actor)"
   ]
  },
  {
   "cell_type": "code",
   "execution_count": 6,
   "id": "alternate-citizen",
   "metadata": {},
   "outputs": [],
   "source": [
    "with MultiprocessingEvaluator(dike_model) as evaluator:\n",
    "     experiments, results = evaluator.perform_experiments(scenarios=n, uncertainty_sampling=LHS)"
   ]
  },
  {
   "cell_type": "code",
   "execution_count": 12,
   "id": "major-magnet",
   "metadata": {},
   "outputs": [],
   "source": [
    "for result in results:\n",
    "    experiments[result] = results[result] "
   ]
  },
  {
   "cell_type": "code",
   "execution_count": 34,
   "id": "broadband-intent",
   "metadata": {},
   "outputs": [],
   "source": [
    "experiments.to_csv(\"data/generated/genscen_\"+actor+'_'+str(n)+'_'+str(datetime.now().strftime(\"%d-%m-%Y-%H-%M-%S\")), index=False)"
   ]
  },
  {
   "cell_type": "code",
   "execution_count": null,
   "id": "quarterly-strike",
   "metadata": {},
   "outputs": [],
   "source": []
  }
 ],
 "metadata": {
  "kernelspec": {
   "display_name": "Python 3",
   "language": "python",
   "name": "python3"
  },
  "language_info": {
   "codemirror_mode": {
    "name": "ipython",
    "version": 3
   },
   "file_extension": ".py",
   "mimetype": "text/x-python",
   "name": "python",
   "nbconvert_exporter": "python",
   "pygments_lexer": "ipython3",
   "version": "3.7.9"
  }
 },
 "nbformat": 4,
 "nbformat_minor": 5
}
